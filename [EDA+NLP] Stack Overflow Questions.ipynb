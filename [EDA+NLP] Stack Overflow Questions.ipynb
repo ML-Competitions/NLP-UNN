{
 "cells": [
  {
   "cell_type": "code",
   "execution_count": 1,
   "metadata": {},
   "outputs": [
    {
     "name": "stderr",
     "output_type": "stream",
     "text": [
      "Intel(R) Extension for Scikit-learn* enabled (https://github.com/intel/scikit-learn-intelex)\n"
     ]
    }
   ],
   "source": [
    "import pandas as pd\n",
    "# from modin.config import Engine\n",
    "# Engine.put(\"ray\")\n",
    "# import modin.pandas as pd\n",
    "import matplotlib.pyplot as plt\n",
    "import seaborn as sns\n",
    "from datetime import datetime\n",
    "import matplotlib.ticker as mticker\n",
    "import matplotlib\n",
    "import matplotlib.dates as mdates\n",
    "import numpy as np\n",
    "import logging\n",
    "import re\n",
    "from joblib import Parallel, delayed\n",
    "import gensim\n",
    "import gensim.downloader\n",
    "import gc\n",
    "import collections\n",
    "import optuna\n",
    "\n",
    "optuna.logging.set_verbosity(optuna.logging.ERROR)\n",
    "logging.basicConfig(level=logging.ERROR)\n",
    "logger = logging.getLogger('nlp')\n",
    "logger.setLevel(logging.INFO)\n",
    "\n",
    "try:\n",
    "    from sklearnex import patch_sklearn\n",
    "    patch_sklearn()\n",
    "except:\n",
    "    logger.info('Intel(R) Extension for Scikit-learn* wasn\\'t patched.')\n",
    "\n",
    "from sklearn.ensemble import RandomForestClassifier\n",
    "from sklearn.svm import SVC\n",
    "from sklearn.neighbors import KNeighborsClassifier\n",
    "from sklearn.linear_model import LogisticRegression\n",
    "from sklearn.metrics import roc_auc_score, accuracy_score, log_loss, f1_score, confusion_matrix\n",
    "from sklearn.preprocessing import StandardScaler\n",
    "from sklearn.pipeline import make_pipeline\n",
    "from sklearn.feature_extraction.text import CountVectorizer\n",
    "from sklearn.feature_extraction.text import TfidfVectorizer\n",
    "\n",
    "import xgboost as xgb\n",
    "\n",
    "import torch\n",
    "from torch import nn\n",
    "import torch.optim as optim\n",
    "from torch.utils.data import BatchSampler, RandomSampler\n",
    "from torch.optim.lr_scheduler import ExponentialLR\n",
    "\n",
    "from torchmetrics import AUROC, Accuracy, F1Score, ConfusionMatrix\n",
    "\n",
    "sns.set(font_scale=1.4)\n",
    "sns.set_style('whitegrid')\n",
    "\n",
    "%matplotlib inline"
   ]
  },
  {
   "cell_type": "code",
   "execution_count": 2,
   "metadata": {},
   "outputs": [],
   "source": [
    "train_data = pd.read_csv('archive/train.csv')\n",
    "valid_data = pd.read_csv('archive/valid.csv')"
   ]
  },
  {
   "cell_type": "code",
   "execution_count": 3,
   "metadata": {},
   "outputs": [],
   "source": [
    "def date_to_datetime(arg):\n",
    "    return datetime.strptime(arg, '%Y-%m-%d %H:%M:%S')"
   ]
  },
  {
   "cell_type": "code",
   "execution_count": 4,
   "metadata": {},
   "outputs": [
    {
     "data": {
      "text/html": [
       "<div>\n",
       "<style scoped>\n",
       "    .dataframe tbody tr th:only-of-type {\n",
       "        vertical-align: middle;\n",
       "    }\n",
       "\n",
       "    .dataframe tbody tr th {\n",
       "        vertical-align: top;\n",
       "    }\n",
       "\n",
       "    .dataframe thead th {\n",
       "        text-align: right;\n",
       "    }\n",
       "</style>\n",
       "<table border=\"1\" class=\"dataframe\">\n",
       "  <thead>\n",
       "    <tr style=\"text-align: right;\">\n",
       "      <th></th>\n",
       "      <th>Id</th>\n",
       "      <th>Title</th>\n",
       "      <th>Body</th>\n",
       "      <th>Tags</th>\n",
       "      <th>CreationDate</th>\n",
       "      <th>Y</th>\n",
       "    </tr>\n",
       "  </thead>\n",
       "  <tbody>\n",
       "    <tr>\n",
       "      <th>22972</th>\n",
       "      <td>45310925</td>\n",
       "      <td>How to get a complete topic distribution for a...</td>\n",
       "      <td>&lt;p&gt;When I train my lda model as such&lt;/p&gt;\\n\\n&lt;p...</td>\n",
       "      <td>&lt;python&gt;&lt;gensim&gt;&lt;lda&gt;</td>\n",
       "      <td>2017-07-25 18:21:31</td>\n",
       "      <td>HQ</td>\n",
       "    </tr>\n",
       "    <tr>\n",
       "      <th>10972</th>\n",
       "      <td>39634954</td>\n",
       "      <td>nvm uninstall doesn't actually uninstall the n...</td>\n",
       "      <td>&lt;p&gt;So I'm trying to clear out older versions o...</td>\n",
       "      <td>&lt;node.js&gt;&lt;nvm&gt;</td>\n",
       "      <td>2016-09-22 09:16:33</td>\n",
       "      <td>HQ</td>\n",
       "    </tr>\n",
       "    <tr>\n",
       "      <th>10974</th>\n",
       "      <td>39635861</td>\n",
       "      <td>Unable to contact local DTServiceHub to bless ...</td>\n",
       "      <td>&lt;p&gt;When I run my basic Xcode project in simula...</td>\n",
       "      <td>&lt;ios&gt;&lt;xcode8&gt;</td>\n",
       "      <td>2016-09-22 09:54:23</td>\n",
       "      <td>HQ</td>\n",
       "    </tr>\n",
       "    <tr>\n",
       "      <th>10975</th>\n",
       "      <td>39637588</td>\n",
       "      <td>C# How to add a property setter in derived class?</td>\n",
       "      <td>&lt;p&gt;I have a requirement where I have a number ...</td>\n",
       "      <td>&lt;c#&gt;&lt;inheritance&gt;</td>\n",
       "      <td>2016-09-22 11:19:19</td>\n",
       "      <td>HQ</td>\n",
       "    </tr>\n",
       "    <tr>\n",
       "      <th>10976</th>\n",
       "      <td>39637675</td>\n",
       "      <td>What is the difference between @types.coroutin...</td>\n",
       "      <td>&lt;p&gt;Documentations say:&lt;/p&gt;\\n\\n&lt;blockquote&gt;\\n  ...</td>\n",
       "      <td>&lt;python&gt;&lt;asynchronous&gt;&lt;python-3.5&gt;</td>\n",
       "      <td>2016-09-22 11:23:13</td>\n",
       "      <td>HQ</td>\n",
       "    </tr>\n",
       "    <tr>\n",
       "      <th>...</th>\n",
       "      <td>...</td>\n",
       "      <td>...</td>\n",
       "      <td>...</td>\n",
       "      <td>...</td>\n",
       "      <td>...</td>\n",
       "      <td>...</td>\n",
       "    </tr>\n",
       "    <tr>\n",
       "      <th>31785</th>\n",
       "      <td>50165626</td>\n",
       "      <td>dice number showing with c# on unity 3d</td>\n",
       "      <td>I wrote a code to show the number of the dice ...</td>\n",
       "      <td>&lt;c#&gt;&lt;unity3d&gt;&lt;3d&gt;</td>\n",
       "      <td>2018-05-04 00:50:45</td>\n",
       "      <td>LQ_EDIT</td>\n",
       "    </tr>\n",
       "    <tr>\n",
       "      <th>31784</th>\n",
       "      <td>50163974</td>\n",
       "      <td>powershell generate word list from two csv fil...</td>\n",
       "      <td>I'm trying to use powershell to import two csv...</td>\n",
       "      <td>&lt;powershell&gt;&lt;csv&gt;</td>\n",
       "      <td>2018-05-03 21:16:52</td>\n",
       "      <td>LQ_EDIT</td>\n",
       "    </tr>\n",
       "    <tr>\n",
       "      <th>13573</th>\n",
       "      <td>40687487</td>\n",
       "      <td>Why this regex is not working?</td>\n",
       "      <td>Test URL:\\r\\n\\r\\n    www-test1.examples.com\\r\\...</td>\n",
       "      <td>&lt;java&gt;&lt;regex&gt;</td>\n",
       "      <td>2016-11-18 23:28:06</td>\n",
       "      <td>LQ_EDIT</td>\n",
       "    </tr>\n",
       "    <tr>\n",
       "      <th>31792</th>\n",
       "      <td>50172042</td>\n",
       "      <td>installing packag (gahgu95av2.db) in R</td>\n",
       "      <td>I have a problem with installing pack (gahgu95...</td>\n",
       "      <td>&lt;r&gt;</td>\n",
       "      <td>2018-05-04 09:48:05</td>\n",
       "      <td>LQ_EDIT</td>\n",
       "    </tr>\n",
       "    <tr>\n",
       "      <th>22499</th>\n",
       "      <td>45035215</td>\n",
       "      <td>Filtering and replacing from multiple coloumn</td>\n",
       "      <td>I have a file where i have to replace  pvalue ...</td>\n",
       "      <td>&lt;python&gt;&lt;r&gt;&lt;linux&gt;&lt;awk&gt;&lt;sed&gt;</td>\n",
       "      <td>2017-07-11 12:54:14</td>\n",
       "      <td>LQ_EDIT</td>\n",
       "    </tr>\n",
       "  </tbody>\n",
       "</table>\n",
       "<p>45000 rows × 6 columns</p>\n",
       "</div>"
      ],
      "text/plain": [
       "             Id                                              Title  \\\n",
       "22972  45310925  How to get a complete topic distribution for a...   \n",
       "10972  39634954  nvm uninstall doesn't actually uninstall the n...   \n",
       "10974  39635861  Unable to contact local DTServiceHub to bless ...   \n",
       "10975  39637588  C# How to add a property setter in derived class?   \n",
       "10976  39637675  What is the difference between @types.coroutin...   \n",
       "...         ...                                                ...   \n",
       "31785  50165626            dice number showing with c# on unity 3d   \n",
       "31784  50163974  powershell generate word list from two csv fil...   \n",
       "13573  40687487                     Why this regex is not working?   \n",
       "31792  50172042             installing packag (gahgu95av2.db) in R   \n",
       "22499  45035215      Filtering and replacing from multiple coloumn   \n",
       "\n",
       "                                                    Body  \\\n",
       "22972  <p>When I train my lda model as such</p>\\n\\n<p...   \n",
       "10972  <p>So I'm trying to clear out older versions o...   \n",
       "10974  <p>When I run my basic Xcode project in simula...   \n",
       "10975  <p>I have a requirement where I have a number ...   \n",
       "10976  <p>Documentations say:</p>\\n\\n<blockquote>\\n  ...   \n",
       "...                                                  ...   \n",
       "31785  I wrote a code to show the number of the dice ...   \n",
       "31784  I'm trying to use powershell to import two csv...   \n",
       "13573  Test URL:\\r\\n\\r\\n    www-test1.examples.com\\r\\...   \n",
       "31792  I have a problem with installing pack (gahgu95...   \n",
       "22499  I have a file where i have to replace  pvalue ...   \n",
       "\n",
       "                                     Tags        CreationDate        Y  \n",
       "22972               <python><gensim><lda> 2017-07-25 18:21:31       HQ  \n",
       "10972                      <node.js><nvm> 2016-09-22 09:16:33       HQ  \n",
       "10974                       <ios><xcode8> 2016-09-22 09:54:23       HQ  \n",
       "10975                   <c#><inheritance> 2016-09-22 11:19:19       HQ  \n",
       "10976  <python><asynchronous><python-3.5> 2016-09-22 11:23:13       HQ  \n",
       "...                                   ...                 ...      ...  \n",
       "31785                   <c#><unity3d><3d> 2018-05-04 00:50:45  LQ_EDIT  \n",
       "31784                   <powershell><csv> 2018-05-03 21:16:52  LQ_EDIT  \n",
       "13573                       <java><regex> 2016-11-18 23:28:06  LQ_EDIT  \n",
       "31792                                 <r> 2018-05-04 09:48:05  LQ_EDIT  \n",
       "22499        <python><r><linux><awk><sed> 2017-07-11 12:54:14  LQ_EDIT  \n",
       "\n",
       "[45000 rows x 6 columns]"
      ]
     },
     "execution_count": 4,
     "metadata": {},
     "output_type": "execute_result"
    }
   ],
   "source": [
    "train_data['CreationDate'] = train_data['CreationDate'].map(date_to_datetime)\n",
    "train_data.sort_values('Y', inplace=True)\n",
    "train_data"
   ]
  },
  {
   "cell_type": "code",
   "execution_count": 5,
   "metadata": {},
   "outputs": [
    {
     "data": {
      "text/html": [
       "<div>\n",
       "<style scoped>\n",
       "    .dataframe tbody tr th:only-of-type {\n",
       "        vertical-align: middle;\n",
       "    }\n",
       "\n",
       "    .dataframe tbody tr th {\n",
       "        vertical-align: top;\n",
       "    }\n",
       "\n",
       "    .dataframe thead th {\n",
       "        text-align: right;\n",
       "    }\n",
       "</style>\n",
       "<table border=\"1\" class=\"dataframe\">\n",
       "  <thead>\n",
       "    <tr style=\"text-align: right;\">\n",
       "      <th></th>\n",
       "      <th>Id</th>\n",
       "      <th>Title</th>\n",
       "      <th>Body</th>\n",
       "      <th>Tags</th>\n",
       "      <th>CreationDate</th>\n",
       "      <th>Y</th>\n",
       "    </tr>\n",
       "  </thead>\n",
       "  <tbody>\n",
       "    <tr>\n",
       "      <th>5708</th>\n",
       "      <td>42226798</td>\n",
       "      <td>Remove duplicate data from query results</td>\n",
       "      <td>&lt;p&gt;I have the following query:&lt;/p&gt;\\n\\n&lt;pre&gt;&lt;co...</td>\n",
       "      <td>&lt;sql-server&gt;&lt;tsql&gt;</td>\n",
       "      <td>2017-02-14 12:56:30</td>\n",
       "      <td>HQ</td>\n",
       "    </tr>\n",
       "    <tr>\n",
       "      <th>5841</th>\n",
       "      <td>42394999</td>\n",
       "      <td>Why should I use Validators.compose()?</td>\n",
       "      <td>&lt;p&gt;I have a field I want to validate with mult...</td>\n",
       "      <td>&lt;angular&gt;&lt;angular2-forms&gt;&lt;angular2-formbuilder&gt;</td>\n",
       "      <td>2017-02-22 14:59:19</td>\n",
       "      <td>HQ</td>\n",
       "    </tr>\n",
       "    <tr>\n",
       "      <th>5839</th>\n",
       "      <td>42393545</td>\n",
       "      <td>How to fix \"Missing Gradle project configurati...</td>\n",
       "      <td>&lt;p&gt;As an Eclipse user, I always liked the Grad...</td>\n",
       "      <td>&lt;eclipse&gt;&lt;gradle&gt;&lt;configuration&gt;&lt;buildship&gt;</td>\n",
       "      <td>2017-02-22 13:58:32</td>\n",
       "      <td>HQ</td>\n",
       "    </tr>\n",
       "    <tr>\n",
       "      <th>5838</th>\n",
       "      <td>42390860</td>\n",
       "      <td>Configure active profile in SpringBoot via Maven</td>\n",
       "      <td>&lt;p&gt;I'm trying to set an active profile in Spri...</td>\n",
       "      <td>&lt;java&gt;&lt;spring&gt;&lt;maven&gt;&lt;spring-boot&gt;</td>\n",
       "      <td>2017-02-22 12:01:00</td>\n",
       "      <td>HQ</td>\n",
       "    </tr>\n",
       "    <tr>\n",
       "      <th>5836</th>\n",
       "      <td>42389649</td>\n",
       "      <td>'openURL' was deprecated in iOS 10.0: Please u...</td>\n",
       "      <td>&lt;p&gt;I have working open webLink url codes in &lt;c...</td>\n",
       "      <td>&lt;ios&gt;&lt;uiwebview&gt;&lt;swift3&gt;</td>\n",
       "      <td>2017-02-22 11:12:41</td>\n",
       "      <td>HQ</td>\n",
       "    </tr>\n",
       "    <tr>\n",
       "      <th>...</th>\n",
       "      <td>...</td>\n",
       "      <td>...</td>\n",
       "      <td>...</td>\n",
       "      <td>...</td>\n",
       "      <td>...</td>\n",
       "      <td>...</td>\n",
       "    </tr>\n",
       "    <tr>\n",
       "      <th>8218</th>\n",
       "      <td>46154987</td>\n",
       "      <td>How avoid recurrent code in block with ruby ?</td>\n",
       "      <td>I try to convert a bash script in a ruby scrip...</td>\n",
       "      <td>&lt;ruby&gt;&lt;linux&gt;</td>\n",
       "      <td>2017-09-11 11:45:53</td>\n",
       "      <td>LQ_EDIT</td>\n",
       "    </tr>\n",
       "    <tr>\n",
       "      <th>8217</th>\n",
       "      <td>46150920</td>\n",
       "      <td>What is the best way (steps) to implement User...</td>\n",
       "      <td>Trying to use Apache Ignite as in-memory datab...</td>\n",
       "      <td>&lt;java&gt;&lt;ignite&gt;</td>\n",
       "      <td>2017-09-11 08:06:24</td>\n",
       "      <td>LQ_EDIT</td>\n",
       "    </tr>\n",
       "    <tr>\n",
       "      <th>8214</th>\n",
       "      <td>46147329</td>\n",
       "      <td>Converting lower case hex to uppercase in python</td>\n",
       "      <td>Can anyone please help me in converting a hex ...</td>\n",
       "      <td>&lt;python&gt;&lt;string&gt;&lt;mac-address&gt;</td>\n",
       "      <td>2017-09-11 02:13:22</td>\n",
       "      <td>LQ_EDIT</td>\n",
       "    </tr>\n",
       "    <tr>\n",
       "      <th>8252</th>\n",
       "      <td>46189292</td>\n",
       "      <td>I want to get $username variable from profile....</td>\n",
       "      <td>This is my ajax code:\\r\\n    \\r\\n\\r\\n\\r\\n\\r\\n ...</td>\n",
       "      <td>&lt;javascript&gt;&lt;php&gt;&lt;mysql&gt;&lt;ajax&gt;&lt;fetch&gt;</td>\n",
       "      <td>2017-09-13 05:10:39</td>\n",
       "      <td>LQ_EDIT</td>\n",
       "    </tr>\n",
       "    <tr>\n",
       "      <th>7499</th>\n",
       "      <td>45027099</td>\n",
       "      <td>I am not able to connect to my sql server data...</td>\n",
       "      <td>[enter image description here][1]\\r\\n\\r\\n\\r\\n ...</td>\n",
       "      <td>&lt;sql-server&gt;</td>\n",
       "      <td>2017-07-11 06:39:25</td>\n",
       "      <td>LQ_EDIT</td>\n",
       "    </tr>\n",
       "  </tbody>\n",
       "</table>\n",
       "<p>15000 rows × 6 columns</p>\n",
       "</div>"
      ],
      "text/plain": [
       "            Id                                              Title  \\\n",
       "5708  42226798           Remove duplicate data from query results   \n",
       "5841  42394999             Why should I use Validators.compose()?   \n",
       "5839  42393545  How to fix \"Missing Gradle project configurati...   \n",
       "5838  42390860   Configure active profile in SpringBoot via Maven   \n",
       "5836  42389649  'openURL' was deprecated in iOS 10.0: Please u...   \n",
       "...        ...                                                ...   \n",
       "8218  46154987      How avoid recurrent code in block with ruby ?   \n",
       "8217  46150920  What is the best way (steps) to implement User...   \n",
       "8214  46147329   Converting lower case hex to uppercase in python   \n",
       "8252  46189292  I want to get $username variable from profile....   \n",
       "7499  45027099  I am not able to connect to my sql server data...   \n",
       "\n",
       "                                                   Body  \\\n",
       "5708  <p>I have the following query:</p>\\n\\n<pre><co...   \n",
       "5841  <p>I have a field I want to validate with mult...   \n",
       "5839  <p>As an Eclipse user, I always liked the Grad...   \n",
       "5838  <p>I'm trying to set an active profile in Spri...   \n",
       "5836  <p>I have working open webLink url codes in <c...   \n",
       "...                                                 ...   \n",
       "8218  I try to convert a bash script in a ruby scrip...   \n",
       "8217  Trying to use Apache Ignite as in-memory datab...   \n",
       "8214  Can anyone please help me in converting a hex ...   \n",
       "8252  This is my ajax code:\\r\\n    \\r\\n\\r\\n\\r\\n\\r\\n ...   \n",
       "7499  [enter image description here][1]\\r\\n\\r\\n\\r\\n ...   \n",
       "\n",
       "                                                 Tags        CreationDate  \\\n",
       "5708                               <sql-server><tsql> 2017-02-14 12:56:30   \n",
       "5841  <angular><angular2-forms><angular2-formbuilder> 2017-02-22 14:59:19   \n",
       "5839      <eclipse><gradle><configuration><buildship> 2017-02-22 13:58:32   \n",
       "5838               <java><spring><maven><spring-boot> 2017-02-22 12:01:00   \n",
       "5836                         <ios><uiwebview><swift3> 2017-02-22 11:12:41   \n",
       "...                                               ...                 ...   \n",
       "8218                                    <ruby><linux> 2017-09-11 11:45:53   \n",
       "8217                                   <java><ignite> 2017-09-11 08:06:24   \n",
       "8214                    <python><string><mac-address> 2017-09-11 02:13:22   \n",
       "8252            <javascript><php><mysql><ajax><fetch> 2017-09-13 05:10:39   \n",
       "7499                                     <sql-server> 2017-07-11 06:39:25   \n",
       "\n",
       "            Y  \n",
       "5708       HQ  \n",
       "5841       HQ  \n",
       "5839       HQ  \n",
       "5838       HQ  \n",
       "5836       HQ  \n",
       "...       ...  \n",
       "8218  LQ_EDIT  \n",
       "8217  LQ_EDIT  \n",
       "8214  LQ_EDIT  \n",
       "8252  LQ_EDIT  \n",
       "7499  LQ_EDIT  \n",
       "\n",
       "[15000 rows x 6 columns]"
      ]
     },
     "execution_count": 5,
     "metadata": {},
     "output_type": "execute_result"
    }
   ],
   "source": [
    "valid_data['CreationDate'] = valid_data['CreationDate'].map(date_to_datetime)\n",
    "valid_data.sort_values('Y', inplace=True)\n",
    "valid_data"
   ]
  },
  {
   "cell_type": "markdown",
   "metadata": {},
   "source": [
    "# EDA\n",
    "\n",
    "## Labels distribution"
   ]
  },
  {
   "cell_type": "code",
   "execution_count": 6,
   "metadata": {},
   "outputs": [
    {
     "data": {
      "image/png": "[encoded data removed]",
      "text/plain": [
       "<Figure size 1008x432 with 2 Axes>"
      ]
     },
     "metadata": {
      "needs_background": "light"
     },
     "output_type": "display_data"
    }
   ],
   "source": [
    "train_Y_vc = train_data['Y'].value_counts()\n",
    "valid_Y_vc = valid_data['Y'].value_counts()\n",
    "\n",
    "\n",
    "fig, axes = plt.subplots(1, 2, figsize=(14, 6))\n",
    "sns.barplot(x=train_Y_vc.index, y=train_Y_vc.values, ax=axes[0])\n",
    "axes[0].set_title('Train labels distribution')\n",
    "sns.barplot(x=valid_Y_vc.index, y=valid_Y_vc.values, ax=axes[1])\n",
    "axes[1].set_title('Test labels distribution')\n",
    "plt.show()"
   ]
  },
  {
   "cell_type": "markdown",
   "metadata": {},
   "source": [
    "#### Summary\n",
    " - Counts of labels are equal each other for both train and test datasets\n",
    " - Train dataset 3x times larger than test"
   ]
  },
  {
   "cell_type": "code",
   "execution_count": 7,
   "metadata": {},
   "outputs": [],
   "source": [
    "datasets = [('Train', train_data), ('Test', valid_data)]"
   ]
  },
  {
   "cell_type": "markdown",
   "metadata": {},
   "source": [
    "## Dates distribution\n",
    "\n",
    "### Days distribution"
   ]
  },
  {
   "cell_type": "code",
   "execution_count": 8,
   "metadata": {},
   "outputs": [
    {
     "data": {
      "image/png": "[encoded data removed]",
      "text/plain": [
       "<Figure size 1008x432 with 2 Axes>"
      ]
     },
     "metadata": {
      "needs_background": "light"
     },
     "output_type": "display_data"
    }
   ],
   "source": [
    "fig, axes = plt.subplots(1, 2, figsize=(14, 6))\n",
    "for idx, (dataset_name, dataset) in enumerate(datasets):\n",
    "    CD_data = dataset['CreationDate'].sort_values()\n",
    "    def get_date(arg):\n",
    "        return arg.date()\n",
    "    CD_data_mapped = CD_data.map(get_date)\n",
    "    sns.histplot(x=mdates.date2num(CD_data_mapped), bins=50, kde=True, ax=axes[idx])\n",
    "    axes[idx].set_title(f'{dataset_name} dates distribution')\n",
    "    plt.setp(axes[idx].xaxis.get_ticklabels(), rotation=30)\n",
    "    myFmt = mdates.DateFormatter('%d-%m-%Y')\n",
    "    axes[idx].xaxis.set_major_formatter(myFmt)\n",
    "plt.show()"
   ]
  },
  {
   "cell_type": "code",
   "execution_count": 9,
   "metadata": {
    "scrolled": false
   },
   "outputs": [
    {
     "data": {
      "image/png": "[encoded data removed]",
      "text/plain": [
       "<Figure size 1008x1440 with 2 Axes>"
      ]
     },
     "metadata": {
      "needs_background": "light"
     },
     "output_type": "display_data"
    }
   ],
   "source": [
    "palette = {'HQ': 'C0', 'LQ_EDIT': 'C1', 'LQ_CLOSE': 'C2'}\n",
    "hue_order = ['HQ', 'LQ_EDIT', 'LQ_CLOSE']\n",
    "anomaly_timeframes = {}\n",
    "\n",
    "def search_anomaly_timeframe_bounds(CD_data):\n",
    "    max_length = 0\n",
    "    current_length = 0\n",
    "    is_in_sector = False\n",
    "    start_sector_idx = None\n",
    "    max_start_sector_idx = None\n",
    "    max_finish_sector_idx = None\n",
    "    CD_data = CD_data.copy()\n",
    "    for index, row in CD_data.iterrows():\n",
    "        if row['Y'] == 'LQ_EDIT':\n",
    "            if is_in_sector:\n",
    "                current_length += 1\n",
    "            else:\n",
    "                is_in_sector = True\n",
    "                current_length = 1\n",
    "                start_sector_idx = index\n",
    "        else:\n",
    "            if current_length > max_length:\n",
    "                max_length = current_length\n",
    "                max_start_sector_idx = start_sector_idx\n",
    "                max_finish_sector_idx = index\n",
    "            is_in_sector = False\n",
    "    return CD_data['CreationDate'][max_start_sector_idx], CD_data['CreationDate'][max_finish_sector_idx]\n",
    "    \n",
    "fig, axes = plt.subplots(2, 1, figsize=(14, 20))\n",
    "for idx, (dataset_name, dataset) in enumerate(datasets):\n",
    "    CD_data = dataset[['CreationDate', 'Y']].copy()\n",
    "    CD_data.sort_values(by=['CreationDate'], inplace=True)\n",
    "    anomaly_timeframes[dataset_name] = search_anomaly_timeframe_bounds(CD_data)\n",
    "    CD_data['CreationDate'] = mdates.date2num(CD_data['CreationDate'])\n",
    "    sns.histplot(data=CD_data, x='CreationDate', bins=50, multiple='stack', hue='Y', ax=axes[idx], \n",
    "                 palette=palette, hue_order=hue_order)\n",
    "    axes[idx].set_title(f'{dataset_name} dates distribution')\n",
    "    plt.setp(axes[idx].xaxis.get_ticklabels(), rotation=30)\n",
    "    myFmt = mdates.DateFormatter('%d-%m-%Y')\n",
    "    axes[idx].xaxis.set_major_formatter(myFmt)\n",
    "plt.show()"
   ]
  },
  {
   "cell_type": "code",
   "execution_count": 10,
   "metadata": {},
   "outputs": [
    {
     "name": "stdout",
     "output_type": "stream",
     "text": [
      "Timeframes with only LQ_EDIT samples:\n",
      "Train dataset : [2017-10-17 08:06:29, 2017-12-15 16:32:28]\n",
      "Test dataset : [2017-10-17 05:57:57, 2017-12-15 18:01:33]\n"
     ]
    }
   ],
   "source": [
    "print('Timeframes with only LQ_EDIT samples:')\n",
    "for key, value in anomaly_timeframes.items():\n",
    "    print(f'{key} dataset : [{value[0]}, {value[1]}]')"
   ]
  },
  {
   "cell_type": "markdown",
   "metadata": {},
   "source": [
    "#### Summary\n",
    " - The graphs show the decrease in the number of HQ labels over time\n",
    " - Timeframe with only LQ_EDIT exists in both train and test datasets"
   ]
  },
  {
   "cell_type": "markdown",
   "metadata": {},
   "source": [
    "### Daytimes distribution"
   ]
  },
  {
   "cell_type": "code",
   "execution_count": 11,
   "metadata": {},
   "outputs": [
    {
     "data": {
      "image/png": "[encoded data removed]",
      "text/plain": [
       "<Figure size 1008x432 with 2 Axes>"
      ]
     },
     "metadata": {
      "needs_background": "light"
     },
     "output_type": "display_data"
    }
   ],
   "source": [
    "fig, axes = plt.subplots(1, 2, figsize=(14, 6))\n",
    "for idx, (dataset_name, dataset) in enumerate(datasets):\n",
    "    CD_data = dataset['CreationDate']\n",
    "    def get_daytime(arg):\n",
    "        str_time = arg.replace(year=2020, day=1, month=1)\n",
    "        return str_time\n",
    "    CD_data_mapped = CD_data.map(get_daytime).sort_values()\n",
    "    sns.histplot(x=mdates.date2num(CD_data_mapped), bins=50, kde=True, ax=axes[idx])\n",
    "    axes[idx].set_title(f'{dataset_name} daytimes distribution')\n",
    "    plt.setp(axes[idx].xaxis.get_ticklabels(), rotation=30)\n",
    "    myFmt = mdates.DateFormatter('%H:%M:%S')\n",
    "    axes[idx].xaxis.set_major_formatter(myFmt)\n",
    "plt.show()"
   ]
  },
  {
   "cell_type": "code",
   "execution_count": 12,
   "metadata": {},
   "outputs": [
    {
     "data": {
      "image/png": "[encoded data removed]",
      "text/plain": [
       "<Figure size 1008x1440 with 2 Axes>"
      ]
     },
     "metadata": {
      "needs_background": "light"
     },
     "output_type": "display_data"
    }
   ],
   "source": [
    "palette = {'HQ': 'C0', 'LQ_EDIT': 'C1', 'LQ_CLOSE': 'C2'}\n",
    "hue_order = ['HQ', 'LQ_EDIT', 'LQ_CLOSE']\n",
    "\n",
    "fig, axes = plt.subplots(2, 1, figsize=(14, 20))\n",
    "for idx, (dataset_name, dataset) in enumerate(datasets):\n",
    "    CD_data = dataset[['CreationDate', 'Y']].copy()\n",
    "    def get_daytime(arg):\n",
    "        str_time = arg.replace(year=2020, day=1, month=1)\n",
    "        return str_time\n",
    "    CD_data['CreationDate'] = CD_data['CreationDate'].map(get_daytime)\n",
    "    CD_data.sort_values(by=['CreationDate'])\n",
    "    CD_data['CreationDate'] = mdates.date2num(CD_data['CreationDate'])\n",
    "    sns.histplot(data=CD_data, x='CreationDate', bins=50, multiple='stack', hue='Y', ax=axes[idx],\n",
    "                palette=palette, hue_order=hue_order)\n",
    "    axes[idx].set_title(f'{dataset_name} daytimes distribution')\n",
    "    plt.setp(axes[idx].xaxis.get_ticklabels(), rotation=30)\n",
    "    myFmt = mdates.DateFormatter('%H:%M:%S')\n",
    "    axes[idx].xaxis.set_major_formatter(myFmt)\n",
    "plt.show()"
   ]
  },
  {
   "cell_type": "markdown",
   "metadata": {},
   "source": [
    "#### Summary\n",
    " - No insights"
   ]
  },
  {
   "cell_type": "markdown",
   "metadata": {},
   "source": [
    "## Tags\n",
    "### Find intersection of train and test datasets"
   ]
  },
  {
   "cell_type": "code",
   "execution_count": 13,
   "metadata": {},
   "outputs": [
    {
     "name": "stdout",
     "output_type": "stream",
     "text": [
      "Top 5 tags (Train dataset): [('javascript', 5385), ('python', 5041), ('java', 4677), ('android', 3573), ('c#', 3137)]\n",
      "Tags count (Train dataset): 9336\n",
      "Top 5 tags (Test dataset): [('python', 1759), ('javascript', 1721), ('java', 1565), ('android', 1265), ('php', 1036)]\n",
      "Tags count (Test dataset): 5401\n",
      "Size of tags intersection on Train & Test datasets: 4034\n"
     ]
    }
   ],
   "source": [
    "def get_tags_counts(T_data):\n",
    "    tags_dict = {}\n",
    "    for item in T_data:\n",
    "        if item[0] != '<' or item[-1] != '>':\n",
    "            logger.error(f'Wrong format of tag: {item}')\n",
    "            sys.exit(1)\n",
    "        local_tags = item[1:-1].split('><')\n",
    "        local_tags_set = set()\n",
    "        for local_tag in local_tags:\n",
    "            if local_tag in local_tags_set:\n",
    "                continue\n",
    "            local_tags_set.add(local_tag)\n",
    "            if local_tag not in tags_dict.keys():\n",
    "                tags_dict[local_tag] = 0\n",
    "            tags_dict[local_tag] += 1\n",
    "    return dict(sorted(tags_dict.items(), key=lambda item: -item[1]))\n",
    "\n",
    "tags_dicts = {}\n",
    "overall_keys = None\n",
    "\n",
    "for idx, (dataset_name, dataset) in enumerate(datasets):\n",
    "    T_data = dataset['Tags'].copy()\n",
    "    tags_counts = get_tags_counts(T_data)\n",
    "    print(f'Top 5 tags ({dataset_name} dataset):', sorted(tags_counts.items(), key=lambda item: -item[1])[:5])\n",
    "    print(f'Tags count ({dataset_name} dataset):', len(tags_counts.keys()))\n",
    "    tags_dicts[dataset_name] = tags_counts\n",
    "    \n",
    "overall_keys = tags_dicts['Train'].keys() & tags_dicts['Test'].keys()\n",
    "print('Size of tags intersection on Train & Test datasets:', \n",
    "      len(overall_keys))"
   ]
  },
  {
   "cell_type": "markdown",
   "metadata": {},
   "source": [
    "### Get \"tag X class\" counts"
   ]
  },
  {
   "cell_type": "code",
   "execution_count": 14,
   "metadata": {},
   "outputs": [
    {
     "name": "stdout",
     "output_type": "stream",
     "text": [
      "Train tags:\n",
      "                        HQ  LQ_EDIT  LQ_CLOSE\n",
      "portability              1        1         0\n",
      "video-streaming          3        0         3\n",
      "ms-access-2010           0        4         1\n",
      "query-string             1        3         1\n",
      "nsdictionary             1        3         6\n",
      "...                     ..      ...       ...\n",
      "ps                       0        0         1\n",
      "azure-active-directory  12        1         2\n",
      "remote-debugging         7        1         0\n",
      "hiveql                   1        2         0\n",
      "chef-infra               0        7         1\n",
      "\n",
      "[4034 rows x 3 columns]\n",
      "Test tags:\n",
      "                        HQ  LQ_EDIT  LQ_CLOSE\n",
      "portability              1        0         1\n",
      "video-streaming          3        1         1\n",
      "ms-access-2010           0        1         1\n",
      "query-string             0        1         1\n",
      "nsdictionary             0        1         4\n",
      "...                     ..      ...       ...\n",
      "ps                       0        0         1\n",
      "azure-active-directory   2        1         0\n",
      "remote-debugging         2        0         0\n",
      "hiveql                   1        0         0\n",
      "chef-infra               0        2         0\n",
      "\n",
      "[4034 rows x 3 columns]\n"
     ]
    }
   ],
   "source": [
    "overall_tags = []\n",
    "overall_tags_df = {}\n",
    "\n",
    "def init_stage_overall_tags():\n",
    "    stage_overall_tags = {}\n",
    "    for key in overall_keys:\n",
    "        stage_overall_tags[key] = {}\n",
    "        stage_overall_tags[key]['HQ'] = 0\n",
    "        stage_overall_tags[key]['LQ_EDIT'] = 0\n",
    "        stage_overall_tags[key]['LQ_CLOSE'] = 0\n",
    "    return stage_overall_tags\n",
    "    \n",
    "for idx, (dataset_name, dataset) in enumerate(datasets):\n",
    "    overall_tags.append(init_stage_overall_tags())\n",
    "    stage_overall_tags = overall_tags[-1]\n",
    "    T_data = dataset[['Tags', 'Y']].copy()\n",
    "    for index, row in T_data.iterrows():\n",
    "        tags = set(row['Tags'][1:-1].split('><'))\n",
    "        for tag in tags:\n",
    "            if tag in overall_keys:\n",
    "                stage_overall_tags[tag][row['Y']] += 1\n",
    "    overall_tags_df[dataset_name] = pd.DataFrame.from_dict(stage_overall_tags, orient='index')\n",
    "    print(f'{dataset_name} tags:')\n",
    "    print(overall_tags_df[dataset_name])\n",
    "    "
   ]
  },
  {
   "cell_type": "markdown",
   "metadata": {},
   "source": [
    "### Get quantiles of tags counts distribution"
   ]
  },
  {
   "cell_type": "code",
   "execution_count": 15,
   "metadata": {},
   "outputs": [
    {
     "name": "stdout",
     "output_type": "stream",
     "text": [
      "                        HQ  LQ_EDIT  LQ_CLOSE  Sum\n",
      "portability              1        1         0    2\n",
      "video-streaming          3        0         3    6\n",
      "ms-access-2010           0        4         1    5\n",
      "query-string             1        3         1    5\n",
      "nsdictionary             1        3         6   10\n",
      "...                     ..      ...       ...  ...\n",
      "ps                       0        0         1    1\n",
      "azure-active-directory  12        1         2   15\n",
      "remote-debugging         7        1         0    8\n",
      "hiveql                   1        2         0    3\n",
      "chef-infra               0        7         1    8\n",
      "\n",
      "[4034 rows x 4 columns]\n",
      "Train quantiles\n",
      "0.9000      32.0000\n",
      "0.9125      37.0000\n",
      "0.9250      45.0000\n",
      "0.9375      55.9375\n",
      "0.9500      71.0000\n",
      "0.9625      95.7625\n",
      "0.9750     154.0000\n",
      "0.9875     282.7625\n",
      "1.0000    5385.0000\n",
      "dtype: float64\n",
      "                        HQ  LQ_EDIT  LQ_CLOSE  Sum\n",
      "portability              1        0         1    2\n",
      "video-streaming          3        1         1    5\n",
      "ms-access-2010           0        1         1    2\n",
      "query-string             0        1         1    2\n",
      "nsdictionary             0        1         4    5\n",
      "...                     ..      ...       ...  ...\n",
      "ps                       0        0         1    1\n",
      "azure-active-directory   2        1         0    3\n",
      "remote-debugging         2        0         0    2\n",
      "hiveql                   1        0         0    1\n",
      "chef-infra               0        2         0    2\n",
      "\n",
      "[4034 rows x 4 columns]\n",
      "Test quantiles\n",
      "0.9000      11.7000\n",
      "0.9125      13.0000\n",
      "0.9250      16.0000\n",
      "0.9375      19.0000\n",
      "0.9500      24.0000\n",
      "0.9625      32.0000\n",
      "0.9750      53.1750\n",
      "0.9875      96.5875\n",
      "1.0000    1759.0000\n",
      "dtype: float64\n"
     ]
    }
   ],
   "source": [
    "for idx, (dataset_name, dataset) in enumerate(datasets):\n",
    "    def sum_counts(row):\n",
    "        return sum(row.values[:3])\n",
    "    tags_counts = overall_tags_df[dataset_name].apply(sum_counts, axis=1)\n",
    "    overall_tags_df[dataset_name]['Sum'] = tags_counts\n",
    "    print(overall_tags_df[dataset_name])\n",
    "    q = tags_counts.quantile(np.linspace(0.9,1,9))\n",
    "    print(f'{dataset_name} quantiles')\n",
    "    print(q)"
   ]
  },
  {
   "cell_type": "markdown",
   "metadata": {},
   "source": [
    "### Summary\n",
    " - Most part of tags appear rare. Others appear very often."
   ]
  },
  {
   "cell_type": "markdown",
   "metadata": {},
   "source": [
    "### Get good & rare tags"
   ]
  },
  {
   "cell_type": "code",
   "execution_count": 16,
   "metadata": {},
   "outputs": [
    {
     "name": "stdout",
     "output_type": "stream",
     "text": [
      "Good tags\n",
      "                      HQ  LQ_EDIT  LQ_CLOSE   Sum\n",
      "amazon-web-services  245       33        31   309\n",
      "asp.net               99      137       115   351\n",
      "visual-studio        138       74        75   287\n",
      "visual-studio-code   208        8         9   225\n",
      "loops                 13      123       100   236\n",
      "...                  ...      ...       ...   ...\n",
      "angular              839      137       120  1096\n",
      "sql-server            59      622       111   792\n",
      "docker               437       18        12   467\n",
      "function              21      121       142   284\n",
      "ruby                  67      211        98   376\n",
      "\n",
      "[75 rows x 4 columns]\n",
      "Tags at all: 63413\n",
      "\n",
      "Rare tags\n",
      "                        HQ  LQ_EDIT  LQ_CLOSE  Sum\n",
      "portability              1        1         0    2\n",
      "video-streaming          3        0         3    6\n",
      "ms-access-2010           0        4         1    5\n",
      "query-string             1        3         1    5\n",
      "nsdictionary             1        3         6   10\n",
      "...                     ..      ...       ...  ...\n",
      "ps                       0        0         1    1\n",
      "azure-active-directory  12        1         2   15\n",
      "remote-debugging         7        1         0    8\n",
      "hiveql                   1        2         0    3\n",
      "chef-infra               0        7         1    8\n",
      "\n",
      "[3959 rows x 4 columns]\n",
      "Tags at all: 47542\n"
     ]
    }
   ],
   "source": [
    "# Drop extra tags for visualization. count_limit provide opportunity to drop rare tags.\n",
    "count_limit = 200\n",
    "\n",
    "local_train_data = overall_tags_df['Train']\n",
    "good_tags_index = local_train_data[local_train_data['Sum'] > count_limit]\n",
    "rare_tags_index = local_train_data[local_train_data['Sum'] <= count_limit]\n",
    "print('Good tags')\n",
    "print(good_tags_index)\n",
    "print('Tags at all:', sum(good_tags_index['Sum'].values))\n",
    "good_tags_index = good_tags_index.index\n",
    "print()\n",
    "print('Rare tags')\n",
    "print(rare_tags_index)\n",
    "print('Tags at all:', sum(rare_tags_index['Sum'].values))\n",
    "rare_tags_index = rare_tags_index.index"
   ]
  },
  {
   "cell_type": "code",
   "execution_count": 17,
   "metadata": {
    "scrolled": false
   },
   "outputs": [
    {
     "data": {
      "image/png": "[encoded data removed]",
      "text/plain": [
       "<Figure size 1008x432 with 2 Axes>"
      ]
     },
     "metadata": {
      "needs_background": "light"
     },
     "output_type": "display_data"
    }
   ],
   "source": [
    "fig, axes = plt.subplots(1, 2, figsize=(14, 6))\n",
    "for idx, (dataset_name, dataset) in enumerate(datasets):\n",
    "    local_tags = overall_tags_df[dataset_name].copy().drop(['Sum'], axis=1)\n",
    "    tags_x_class = local_tags.loc[good_tags_index]\n",
    "    tags_x_class.plot.hist(bins=15, stacked='True', title=f'{dataset_name} good tags distribution', ax=axes[idx])"
   ]
  },
  {
   "cell_type": "code",
   "execution_count": 18,
   "metadata": {},
   "outputs": [
    {
     "data": {
      "text/plain": [
       "Index(['amazon-web-services', 'asp.net', 'visual-studio', 'visual-studio-code',\n",
       "       'loops', 'java', 'asp.net-mvc', 'kotlin', 'angularjs', 'css', 'jquery',\n",
       "       'mysql', 'json', 'sorting', 'windows', 'oracle', 'c++', 'sql', 'linux',\n",
       "       'php', 'django', 'javascript', 'tensorflow', 'flutter', 'spring-boot',\n",
       "       'regex', 'bash', 'git', 'webpack', 'ios', 'date', 'wordpress',\n",
       "       'android-studio', 'html', 'for-loop', 'python-3.x', 'python', 'vue.js',\n",
       "       'algorithm', 'selenium', 'dictionary', 'spring', 'string', 'list',\n",
       "       'python-2.7', 'excel', 'pandas', 'node.js', 'reactjs', 'asp.net-core',\n",
       "       'swift', 'react-native', 'laravel', 'vba', 'firebase', 'objective-c',\n",
       "       'arrays', 'xcode', 'typescript', 'xml', 'c#', 'database', 'r', 'c',\n",
       "       'ajax', '.net', 'if-statement', 'android', 'ruby-on-rails', 'go',\n",
       "       'angular', 'sql-server', 'docker', 'function', 'ruby'],\n",
       "      dtype='object')"
      ]
     },
     "execution_count": 18,
     "metadata": {},
     "output_type": "execute_result"
    }
   ],
   "source": [
    "good_tags_index"
   ]
  },
  {
   "cell_type": "markdown",
   "metadata": {},
   "source": [
    "### Analyse rare tags with Gini coef\n",
    "https://en.wikipedia.org/wiki/Gini_coefficient"
   ]
  },
  {
   "cell_type": "code",
   "execution_count": 19,
   "metadata": {},
   "outputs": [],
   "source": [
    "def gini_coef(coefs):\n",
    "    s = sum(coefs)\n",
    "    arith_mean = s / len(coefs)\n",
    "    acc = 0\n",
    "    for i in coefs:\n",
    "        for j in coefs:\n",
    "            acc += abs(i - j)\n",
    "    acc /= (2 * len(coefs) ** 2 * arith_mean)\n",
    "    return acc"
   ]
  },
  {
   "cell_type": "code",
   "execution_count": 20,
   "metadata": {},
   "outputs": [
    {
     "data": {
      "image/png": "[encoded data removed]",
      "text/plain": [
       "<Figure size 1008x432 with 2 Axes>"
      ]
     },
     "metadata": {
      "needs_background": "light"
     },
     "output_type": "display_data"
    }
   ],
   "source": [
    "# To prevent overfitting on very-very rare tags we'll multiply Gini coef on sum of coefs\n",
    "def weighted_gini_coef(coefs):\n",
    "    return gini_coef(coefs) * sum(coefs)\n",
    "\n",
    "rare_tags = {}\n",
    "\n",
    "fig, axes = plt.subplots(1, 2, figsize=(14, 6))\n",
    "for idx, (dataset_name, dataset) in enumerate(datasets):\n",
    "    local_tags = overall_tags_df[dataset_name].copy().drop(['Sum'], axis=1)\n",
    "    tags_x_class = local_tags.loc[rare_tags_index]\n",
    "    rare_tags_scores = tags_x_class.apply(weighted_gini_coef, axis=1).sort_values(ascending=False)\n",
    "    sns.lineplot(data=rare_tags_scores.values, ax=axes[idx])\n",
    "    axes[idx].set_title(f'Weighted Gini coef for rare tags of {dataset_name} dataset')\n",
    "    rare_tags[dataset_name] = rare_tags_scores"
   ]
  },
  {
   "cell_type": "markdown",
   "metadata": {},
   "source": [
    "### Analyze Train over Test Gini coef relations"
   ]
  },
  {
   "cell_type": "code",
   "execution_count": 21,
   "metadata": {},
   "outputs": [],
   "source": [
    "def analyze_gini_relations(count_limit=1e9):\n",
    "    gini_relations = []\n",
    "    fig, ax = plt.subplots(figsize=(7, 6))\n",
    "    print('Actual train Gini coefs')\n",
    "    print(rare_tags['Train'])\n",
    "    limit_idx = 0\n",
    "    for tag in rare_tags['Train'].index:\n",
    "        if limit_idx >= count_limit:\n",
    "            break\n",
    "        limit_idx += 1\n",
    "        train_tag_scores = rare_tags['Train'].loc[tag]\n",
    "        test_tag_scores = rare_tags['Test'].loc[tag]\n",
    "        if (train_tag_scores != 0 and test_tag_scores != 0):\n",
    "            gini_relations.append(train_tag_scores / test_tag_scores)\n",
    "    sns.scatterplot(data=gini_relations, ax=ax, alpha=0.7)\n",
    "    print()\n",
    "    print('Quantiles')\n",
    "    print(pd.DataFrame(gini_relations).quantile([0.1, 0.25, 0.5, 0.75, 0.9, 1]))\n",
    "    return "
   ]
  },
  {
   "cell_type": "code",
   "execution_count": 22,
   "metadata": {},
   "outputs": [
    {
     "name": "stdout",
     "output_type": "stream",
     "text": [
      "Actual train Gini coefs\n",
      "dart                     120.666667\n",
      "npm                      102.666667\n",
      ".net-core                 91.333333\n",
      "kubernetes                88.666667\n",
      "vb.net                    87.333333\n",
      "                            ...    \n",
      "std-function               0.000000\n",
      "callkit                    0.000000\n",
      "matrix-multiplication      0.000000\n",
      "vagrant-windows            0.000000\n",
      "filestream                 0.000000\n",
      "Length: 3959, dtype: float64\n",
      "\n",
      "Quantiles\n",
      "             0\n",
      "0.10  2.393429\n",
      "0.25  2.651116\n",
      "0.50  3.161458\n",
      "0.75  3.684028\n",
      "0.90  4.107237\n",
      "1.00  6.833333\n"
     ]
    },
    {
     "data": {
      "image/png": "[encoded data removed]",
      "text/plain": [
       "<Figure size 504x432 with 1 Axes>"
      ]
     },
     "metadata": {
      "needs_background": "light"
     },
     "output_type": "display_data"
    }
   ],
   "source": [
    "analyze_gini_relations(50)"
   ]
  },
  {
   "cell_type": "markdown",
   "metadata": {},
   "source": [
    "### Summary\n",
    " - At least first 50 rare tags have non-uniform distribution on classes (for both train and test datasets)"
   ]
  },
  {
   "cell_type": "code",
   "execution_count": 23,
   "metadata": {},
   "outputs": [
    {
     "name": "stdout",
     "output_type": "stream",
     "text": [
      "Actual train Gini coefs\n",
      "dart                     120.666667\n",
      "npm                      102.666667\n",
      ".net-core                 91.333333\n",
      "kubernetes                88.666667\n",
      "vb.net                    87.333333\n",
      "                            ...    \n",
      "std-function               0.000000\n",
      "callkit                    0.000000\n",
      "matrix-multiplication      0.000000\n",
      "vagrant-windows            0.000000\n",
      "filestream                 0.000000\n",
      "Length: 3959, dtype: float64\n",
      "\n",
      "Quantiles\n",
      "              0\n",
      "0.10   2.191234\n",
      "0.25   2.587010\n",
      "0.50   3.177083\n",
      "0.75   3.866477\n",
      "0.90   4.516667\n",
      "1.00  15.333333\n"
     ]
    },
    {
     "data": {
      "image/png": "[encoded data removed]",
      "text/plain": [
       "<Figure size 504x432 with 1 Axes>"
      ]
     },
     "metadata": {
      "needs_background": "light"
     },
     "output_type": "display_data"
    }
   ],
   "source": [
    "analyze_gini_relations(100)"
   ]
  },
  {
   "cell_type": "code",
   "execution_count": 24,
   "metadata": {},
   "outputs": [
    {
     "name": "stdout",
     "output_type": "stream",
     "text": [
      "Actual train Gini coefs\n",
      "dart                     120.666667\n",
      "npm                      102.666667\n",
      ".net-core                 91.333333\n",
      "kubernetes                88.666667\n",
      "vb.net                    87.333333\n",
      "                            ...    \n",
      "std-function               0.000000\n",
      "callkit                    0.000000\n",
      "matrix-multiplication      0.000000\n",
      "vagrant-windows            0.000000\n",
      "filestream                 0.000000\n",
      "Length: 3959, dtype: float64\n",
      "\n",
      "Quantiles\n",
      "         0\n",
      "0.10   1.0\n",
      "0.25   1.0\n",
      "0.50   2.0\n",
      "0.75   3.0\n",
      "0.90   4.5\n",
      "1.00  26.0\n"
     ]
    },
    {
     "data": {
      "image/png": "[encoded data removed]",
      "text/plain": [
       "<Figure size 504x432 with 1 Axes>"
      ]
     },
     "metadata": {
      "needs_background": "light"
     },
     "output_type": "display_data"
    }
   ],
   "source": [
    "analyze_gini_relations()"
   ]
  },
  {
   "cell_type": "code",
   "execution_count": 25,
   "metadata": {},
   "outputs": [],
   "source": [
    "interesting_rare_indices = rare_tags['Train'].index[:50]"
   ]
  },
  {
   "cell_type": "code",
   "execution_count": 26,
   "metadata": {},
   "outputs": [
    {
     "data": {
      "text/plain": [
       "Index(['dart', 'npm', '.net-core', 'kubernetes', 'vb.net', 'gradle',\n",
       "       'ecmascript-6', 'macos', 'winforms', 'docker-compose', 'intellij-idea',\n",
       "       'unit-testing', 'redux', 'google-chrome', 'jenkins', 'tsql', 'pointers',\n",
       "       'perl', 'keras', 'vuejs2', 'math', 'postgresql', 'github', 'batch-file',\n",
       "       'visual-studio-2017', 'apache-spark', 'object', 'numpy', 'variables',\n",
       "       'swiftui', 'class', 'dockerfile', 'file', 'mysqli', 'rxjs', 'c++17',\n",
       "       'azure', 'arraylist', 'jupyter-notebook', 'csv', 'angular-cli', 'web',\n",
       "       'amazon-s3', 'matlab', 'sqlite', 'wpf', 'codeigniter', 'mongodb',\n",
       "       'swift3', 'random'],\n",
       "      dtype='object')"
      ]
     },
     "execution_count": 26,
     "metadata": {},
     "output_type": "execute_result"
    }
   ],
   "source": [
    "interesting_rare_indices"
   ]
  },
  {
   "cell_type": "markdown",
   "metadata": {},
   "source": [
    "## Text processing"
   ]
  },
  {
   "cell_type": "markdown",
   "metadata": {},
   "source": [
    "### Throw out extra symbols!"
   ]
  },
  {
   "cell_type": "code",
   "execution_count": 27,
   "metadata": {},
   "outputs": [],
   "source": [
    "def remove_html_tags(text):\n",
    "    html_detector = re.compile(r'<.*?>')\n",
    "    return html_detector.sub(r'', text)\n",
    "\n",
    "def remove_links(text):\n",
    "    links_remover = re.compile(r'https?://\\S+|www\\.\\S+')\n",
    "    return links_remover.sub(r'', text)\n",
    "\n",
    "#split_symbols = '\\n| |{|}|\\(|\\)|\\[|\\]|\\,|\\.|\\[^e]-[^0-9]|\\=|\\+|\\*|\\?'\n",
    "split_symbols = '[^A-Za-z]'\n",
    "\n",
    "def preprocess_body(body):\n",
    "    body = remove_html_tags(body)\n",
    "    body = remove_links(body)\n",
    "    body = body.replace('&gt;', '>').replace('&lt;', '<').replace('&le;', '<=').replace('&ge;', '>=')\n",
    "    splitted = re.split(split_symbols, body)\n",
    "    result = []\n",
    "    for part in splitted:\n",
    "        if len(part.strip()) > 0:\n",
    "            result.append(part)\n",
    "    return result\n",
    "\n",
    "def preprocess_title(title):\n",
    "    title = remove_links(title)\n",
    "    splitted = re.split(split_symbols, title)\n",
    "    result = []\n",
    "    for part in splitted:\n",
    "        if len(part.strip()) > 0:\n",
    "            result.append(part)\n",
    "    return result"
   ]
  },
  {
   "cell_type": "code",
   "execution_count": 28,
   "metadata": {},
   "outputs": [],
   "source": [
    "bodies = {}\n",
    "titles = {}\n",
    "label_map={'HQ': 0, 'LQ_EDIT': 1, 'LQ_CLOSE': 2}\n",
    "reverse_label_map={0: 'HQ', 1: 'LQ_EDIT', 2: 'LQ_CLOSE'}\n",
    "\n",
    "for idx, (dataset_name, dataset) in enumerate(datasets):\n",
    "    bodies[dataset_name] = {}\n",
    "    titles[dataset_name] = {}\n",
    "    for idx, row in dataset.iterrows():\n",
    "        processed_body = preprocess_body(row['Body'])\n",
    "        processed_title = preprocess_title(row['Title'])\n",
    "        if len(processed_body) == 0 or len(processed_title) == 0:\n",
    "            continue\n",
    "        bodies[dataset_name][idx] = (processed_body, label_map[row['Y']])\n",
    "        titles[dataset_name][idx] = (processed_title, label_map[row['Y']])\n",
    "            "
   ]
  },
  {
   "cell_type": "markdown",
   "metadata": {},
   "source": [
    "### Text lengths distribution"
   ]
  },
  {
   "cell_type": "code",
   "execution_count": 29,
   "metadata": {},
   "outputs": [],
   "source": [
    "palette = {'HQ': 'C0', 'LQ_EDIT': 'C1', 'LQ_CLOSE': 'C2'}\n",
    "hue_order = ['HQ', 'LQ_EDIT', 'LQ_CLOSE']"
   ]
  },
  {
   "cell_type": "code",
   "execution_count": 30,
   "metadata": {},
   "outputs": [
    {
     "name": "stdout",
     "output_type": "stream",
     "text": [
      "Quantiles Train\n",
      "      Lengths\n",
      "0.10     29.0\n",
      "0.25     46.0\n",
      "0.50     78.0\n",
      "0.75    133.0\n",
      "0.99    668.0\n",
      "1.00   3562.0\n",
      "Quantiles Test\n",
      "      Lengths\n",
      "0.10    30.00\n",
      "0.25    46.00\n",
      "0.50    79.00\n",
      "0.75   134.00\n",
      "0.99   688.02\n",
      "1.00  4826.00\n"
     ]
    },
    {
     "data": {
      "image/png": "[encoded data removed]",
      "text/plain": [
       "<Figure size 1008x432 with 2 Axes>"
      ]
     },
     "metadata": {
      "needs_background": "light"
     },
     "output_type": "display_data"
    }
   ],
   "source": [
    "fig, axes = plt.subplots(1, 2, figsize=(14, 6))\n",
    "target_dict = bodies\n",
    "\n",
    "for idx, (dataset_name, dataset) in enumerate(datasets):\n",
    "    lengths = []\n",
    "    labels = []\n",
    "    for key, value in target_dict[dataset_name].items():\n",
    "        lengths.append(len(value[0]))\n",
    "        labels.append(reverse_label_map[value[1]])\n",
    "    df = pd.DataFrame(data={'Lengths': lengths, 'labels': labels})\n",
    "    print(f'Quantiles {dataset_name}')\n",
    "    print(df.quantile([0.1, 0.25, 0.5, 0.75, 0.99, 1]))\n",
    "    df = df[df['Lengths'] < 800]\n",
    "    sns.histplot(data=df, x='Lengths', bins=50, multiple='stack', hue='labels', ax=axes[idx],\n",
    "                palette=palette, hue_order=hue_order)\n",
    "    axes[idx].set_title(f'{dataset_name} bodies lengths distribution')\n",
    "    plt.setp(axes[idx].xaxis.get_ticklabels(), rotation=30)"
   ]
  },
  {
   "cell_type": "code",
   "execution_count": 31,
   "metadata": {},
   "outputs": [
    {
     "name": "stdout",
     "output_type": "stream",
     "text": [
      "Quantiles\n",
      "      Lengths\n",
      "0.10      5.0\n",
      "0.25      6.0\n",
      "0.50      9.0\n",
      "0.75     11.0\n",
      "0.99     23.0\n",
      "1.00     35.0\n",
      "Quantiles\n",
      "      Lengths\n",
      "0.10      5.0\n",
      "0.25      6.0\n",
      "0.50      9.0\n",
      "0.75     11.0\n",
      "0.99     23.0\n",
      "1.00     32.0\n"
     ]
    },
    {
     "data": {
      "image/png": "[encoded data removed]",
      "text/plain": [
       "<Figure size 1008x432 with 2 Axes>"
      ]
     },
     "metadata": {
      "needs_background": "light"
     },
     "output_type": "display_data"
    }
   ],
   "source": [
    "fig, axes = plt.subplots(1, 2, figsize=(14, 6))\n",
    "target_dict = titles\n",
    "\n",
    "for idx, (dataset_name, dataset) in enumerate(datasets):\n",
    "    lengths = []\n",
    "    labels = []\n",
    "    for key, value in target_dict[dataset_name].items():\n",
    "        lengths.append(len(value[0]))\n",
    "        labels.append(reverse_label_map[value[1]])\n",
    "    df = pd.DataFrame(data={'Lengths': lengths, 'labels': labels})\n",
    "    print('Quantiles')\n",
    "    print(df.quantile([0.1, 0.25, 0.5, 0.75, 0.99, 1]))\n",
    "    df = df[df['Lengths'] < 40]\n",
    "    sns.histplot(data=df, x='Lengths', bins=50, multiple='stack', hue='labels', ax=axes[idx],\n",
    "                palette=palette, hue_order=hue_order)\n",
    "    axes[idx].set_title(f'{dataset_name} titles lengths distribution')\n",
    "    plt.setp(axes[idx].xaxis.get_ticklabels(), rotation=30)"
   ]
  },
  {
   "cell_type": "markdown",
   "metadata": {},
   "source": [
    "# Let's find answers"
   ]
  },
  {
   "cell_type": "markdown",
   "metadata": {},
   "source": [
    "**Through AI and classical NLP approaches**"
   ]
  },
  {
   "cell_type": "markdown",
   "metadata": {},
   "source": [
    "## Charts plotter"
   ]
  },
  {
   "cell_type": "markdown",
   "metadata": {},
   "source": [
    "**Common functionality to evaluate results of algorithm**"
   ]
  },
  {
   "cell_type": "code",
   "execution_count": 32,
   "metadata": {},
   "outputs": [],
   "source": [
    "def plot_metrics(metrics_list, titles, metric_to_compare, drop_last=False):\n",
    "    metrics_count = len(metrics_list)\n",
    "    fig, axes = plt.subplots(metrics_count, 1, figsize=(10, 6*metrics_count))\n",
    "    for idx, metrics in enumerate(metrics_list):\n",
    "        reduced_dict = {}\n",
    "        for stage_name, stage in metrics.items():\n",
    "            reduced_dict[stage_name] = stage[metric_to_compare]\n",
    "        metrics_df = pd.DataFrame.from_dict(reduced_dict)\n",
    "        if drop_last:\n",
    "            metrics_df.drop(df.tail(n).index,inplace=True)\n",
    "        sns.lineplot(data=metrics_df, ax=axes[idx])\n",
    "        axes[idx].set_title(titles[idx])"
   ]
  },
  {
   "cell_type": "markdown",
   "metadata": {},
   "source": [
    "# XGBoost/RandomForest/kNN with Bag-of-words/Tfidf"
   ]
  },
  {
   "cell_type": "code",
   "execution_count": 33,
   "metadata": {},
   "outputs": [],
   "source": [
    "def get_tags_dataframe(dataset, keys, tags_index, dtype):\n",
    "    tags_lines = []\n",
    "    tags_index_set = set(tags_index.values)\n",
    "    for idx in keys:\n",
    "        local_tags_str = dataset['Tags'].iloc[idx]\n",
    "        local_tags = set(local_tags_str[1:-1].split('><'))\n",
    "        tags_line = np.zeros(len(tags_index), dtype=dtype)\n",
    "        for tag_idx, tag in enumerate(tags_index.values):\n",
    "            tags_line[tag_idx] = 1. if tag in local_tags else 0.\n",
    "        tags_lines.append(tags_line)\n",
    "    return pd.DataFrame(data=tags_lines, columns=tags_index.values, dtype=dtype)\n",
    "    \n",
    "def get_time_column(dataset, keys, time_rough_mean, time_mean, time_std, dtype):\n",
    "    time_lines = []\n",
    "    for idx in keys:\n",
    "        item = dataset['CreationDate'].iloc[idx].value\n",
    "        item -= time_rough_mean\n",
    "        item -= time_mean\n",
    "        item /= time_std\n",
    "        time_lines.append([item])\n",
    "    return pd.DataFrame(time_lines, columns=['Time'], dtype=dtype)\n",
    "\n",
    "# TODO analyse correlations of rare words with labels\n",
    "# todo use insights from Time EDA\n",
    "def prepare_data_pandas(dataset, titles, bodies, good_tags_index, interesting_rare_indices, dtype, vectorizer, precomputed=None):\n",
    "    titles = collections.OrderedDict(sorted(titles.items()))\n",
    "    bodies = collections.OrderedDict(sorted(bodies.items()))\n",
    "    if not precomputed:\n",
    "        precomputed = {}\n",
    "        is_train = True\n",
    "    else:\n",
    "        is_train = False\n",
    "    if is_train:\n",
    "        time_values = []\n",
    "        for idx in bodies.keys():\n",
    "            item = dataset['CreationDate'].iloc[idx].value\n",
    "            time_values.append(item)\n",
    "        time_rough_mean = sum(time_values) // len(time_values)\n",
    "        precomputed['time_rough_mean'] = time_rough_mean\n",
    "        for idx in range(len(time_values)):\n",
    "            time_values[idx] -= time_rough_mean\n",
    "        numpy_time_values = np.array(time_values, dtype=dtype)\n",
    "        precomputed['time_mean'] = numpy_time_values.mean()\n",
    "        precomputed['time_std'] = np.std(numpy_time_values)\n",
    "        \n",
    "    time_rough_mean = precomputed['time_rough_mean']\n",
    "    time_mean = precomputed['time_mean']\n",
    "    time_std = precomputed['time_std']\n",
    "    if is_train:\n",
    "        vectorizer_titles = vectorizer(min_df=0.005)\n",
    "        titles_list = [' '.join(title_line[0]) for title_line in titles.values()]\n",
    "        X_titles = vectorizer_titles.fit_transform(titles_list)\n",
    "        title_columns = ['t_'+name for name in vectorizer_titles.get_feature_names_out()]\n",
    "        X_titles_df = pd.DataFrame(X_titles.toarray(), columns=title_columns, dtype=dtype)\n",
    "        vectorizer_bodies = vectorizer(min_df=0.005)\n",
    "        bodies_list = [' '.join(body_line[0]) for body_line in bodies.values()]\n",
    "        X_bodies = vectorizer_bodies.fit_transform(bodies_list)\n",
    "        body_columns = ['b_'+name for name in vectorizer_bodies.get_feature_names_out()]\n",
    "        X_bodies_df = pd.DataFrame(X_bodies.toarray(), columns=body_columns, dtype=dtype)\n",
    "        precomputed['vectorizer_titles'] = vectorizer_titles\n",
    "        precomputed['vectorizer_bodies'] = vectorizer_bodies\n",
    "    else:\n",
    "        vectorizer_titles = precomputed['vectorizer_titles']\n",
    "        titles_list = [' '.join(title_line[0]) for title_line in titles.values()]\n",
    "        X_titles = vectorizer_titles.transform(titles_list)\n",
    "        title_columns = ['t_'+name for name in vectorizer_titles.get_feature_names_out()]\n",
    "        X_titles_df = pd.DataFrame(X_titles.toarray(), columns=title_columns, dtype=dtype)\n",
    "        vectorizer_bodies = precomputed['vectorizer_bodies']\n",
    "        bodies_list = [' '.join(body_line[0]) for body_line in bodies.values()]\n",
    "        X_bodies = vectorizer_bodies.transform(bodies_list)\n",
    "        body_columns = ['b_'+name for name in vectorizer_bodies.get_feature_names_out()]\n",
    "        X_bodies_df = pd.DataFrame(X_bodies.toarray(), columns=body_columns, dtype=dtype)\n",
    "    good_tags_df = get_tags_dataframe(dataset, titles.keys(), good_tags_index, dtype)\n",
    "    rare_tags_df = get_tags_dataframe(dataset, titles.keys(), interesting_rare_indices, dtype)\n",
    "    time_df = get_time_column(dataset, titles.keys(), time_rough_mean, time_mean, time_std, dtype)\n",
    "    data = X_titles_df.join(X_bodies_df).join(good_tags_df).join(rare_tags_df).join(time_df)\n",
    "    \n",
    "    labels_lines = []\n",
    "    for idx, sample in titles.items():\n",
    "        item = sample[1]\n",
    "        labels_lines.append([item])\n",
    "    labels = pd.DataFrame(labels_lines, columns=['Label'], dtype=dtype)\n",
    "    gc.collect()\n",
    "    return data, labels, precomputed\n"
   ]
  },
  {
   "cell_type": "markdown",
   "metadata": {},
   "source": [
    "## Train ML with BOW/Tfidf"
   ]
  },
  {
   "cell_type": "code",
   "execution_count": 34,
   "metadata": {
    "scrolled": true
   },
   "outputs": [],
   "source": [
    "def train_ml_pandas(train_bow_data, train_bow_labels, test_bow_data, test_bow_labels, vectorizer):\n",
    "    def objective(trial, X, y, X_test, y_test):\n",
    "        classifier_str = trial.suggest_categorical('classifier', ['RandomForest', 'XGBoost', 'kNN', 'LogReg'])\n",
    "        if classifier_str == 'RandomForest':\n",
    "            n_estimators = trial.suggest_int('n_estimators', 16, 64)\n",
    "            max_depth = trial.suggest_int('max_depth', 2, 12)\n",
    "            alg = RandomForestClassifier(n_estimators=n_estimators, max_depth=max_depth)\n",
    "        elif classifier_str == 'kNN':\n",
    "            n_neighbors = trial.suggest_int('n_neighbors', 2, 128)\n",
    "            algorithm = 'brute'\n",
    "            alg = KNeighborsClassifier(n_neighbors=n_neighbors, algorithm=algorithm)\n",
    "        elif classifier_str == 'LogReg':\n",
    "            C = trial.suggest_float('C', 1e-4, 1e5, log=True)\n",
    "            alg = LogisticRegression(C=C)\n",
    "        elif classifier_str == 'SVC':\n",
    "            kernel = trial.suggest_categorical('kernel', ['rbf', 'poly'])\n",
    "            gamma = trial.suggest_categorical('gamma', ['scale', 'auto'])\n",
    "            C = trial.suggest_float('C', 1e-4, 1e5, log=True)\n",
    "            alg = SVC(kernel=kernel, gamma=gamma, C=C, probability=True)\n",
    "        elif classifier_str == 'XGBoost':\n",
    "            n_estimators = trial.suggest_int('n_estimators', 8, 64)\n",
    "            max_depth = trial.suggest_int('max_depth', 2, 12)\n",
    "            alg = xgb.XGBClassifier(objective='multi:softprob', learning_rate=0.1, \n",
    "                                    n_estimators=n_estimators, max_depth=max_depth, \n",
    "                                    n_jobs=-1, tree_method='gpu_hist', gpu_id=0)\n",
    "        else:\n",
    "            raise Exception('Optuna usage: Unknows classifier name.')\n",
    "        alg.fit(X, y['Label'].values)\n",
    "        test_probs = alg.predict_proba(X_test)\n",
    "        score = f1_score(y_test, np.argmax(test_probs, axis=1), average='macro')\n",
    "        gc.collect()\n",
    "        return score\n",
    "    study = optuna.create_study(direction='maximize')\n",
    "    study.optimize(lambda trial: objective(trial, train_bow_data, train_bow_labels, test_bow_data, test_bow_labels), n_trials=128, n_jobs=1)\n",
    "    logger.info(f'ML part fitting. Best score: {study.best_value}, best params: {study.best_params}')\n",
    "    classifier_classname = study.best_params['classifier']\n",
    "    if classifier_classname == 'RandomForest':\n",
    "        classifier_class = RandomForestClassifier\n",
    "    elif classifier_classname == 'kNN':\n",
    "        classifier_class = KNeighborsClassifier\n",
    "    elif classifier_classname == 'XGBoost':\n",
    "        classifier_class = xgb.XGBClassifier\n",
    "    elif classifier_classname == 'LogReg':\n",
    "        classifier_class = LogisticRegression\n",
    "    elif classifier_classname == 'SVC':\n",
    "        classifier_class = SVC\n",
    "    else:\n",
    "        raise Exception('fit_ml_head: Unknows classifier name.')\n",
    "    alg_params = study.best_params.copy()\n",
    "    del alg_params['classifier']\n",
    "    classifier = classifier_class(**alg_params)\n",
    "    classifier.fit(train_bow_data, train_bow_labels['Label'].values)\n",
    "    gc.collect()\n",
    "    return classifier, study\n",
    "\n"
   ]
  },
  {
   "cell_type": "markdown",
   "metadata": {},
   "source": [
    "## BOW with ML training"
   ]
  },
  {
   "cell_type": "code",
   "execution_count": 35,
   "metadata": {
    "scrolled": true
   },
   "outputs": [
    {
     "name": "stderr",
     "output_type": "stream",
     "text": [
      "/home/masdevas/.anaconda3/envs/nlp-unn/lib/python3.9/site-packages/daal4py/sklearn/linear_model/logistic_path.py:459: ConvergenceWarning: lbfgs failed to converge (status=1):\n",
      "STOP: TOTAL NO. of ITERATIONS REACHED LIMIT.\n",
      "\n",
      "Increase the number of iterations (max_iter) or scale the data as shown in:\n",
      "    https://scikit-learn.org/stable/modules/preprocessing.html\n",
      "Please also refer to the documentation for alternative solver options:\n",
      "    https://scikit-learn.org/stable/modules/linear_model.html#logistic-regression\n",
      "  n_iter_i = _check_optimize_result(\n",
      "/home/masdevas/.anaconda3/envs/nlp-unn/lib/python3.9/site-packages/sklearn/base.py:450: UserWarning: X does not have valid feature names, but LogisticRegression was fitted with feature names\n",
      "  warnings.warn(\n",
      "/home/masdevas/.anaconda3/envs/nlp-unn/lib/python3.9/site-packages/daal4py/sklearn/linear_model/logistic_path.py:459: ConvergenceWarning: lbfgs failed to converge (status=1):\n",
      "STOP: TOTAL NO. of ITERATIONS REACHED LIMIT.\n",
      "\n",
      "Increase the number of iterations (max_iter) or scale the data as shown in:\n",
      "    https://scikit-learn.org/stable/modules/preprocessing.html\n",
      "Please also refer to the documentation for alternative solver options:\n",
      "    https://scikit-learn.org/stable/modules/linear_model.html#logistic-regression\n",
      "  n_iter_i = _check_optimize_result(\n",
      "/home/masdevas/.anaconda3/envs/nlp-unn/lib/python3.9/site-packages/sklearn/base.py:450: UserWarning: X does not have valid feature names, but LogisticRegression was fitted with feature names\n",
      "  warnings.warn(\n",
      "/home/masdevas/.anaconda3/envs/nlp-unn/lib/python3.9/site-packages/daal4py/sklearn/linear_model/logistic_path.py:459: ConvergenceWarning: lbfgs failed to converge (status=1):\n",
      "STOP: TOTAL NO. of ITERATIONS REACHED LIMIT.\n",
      "\n",
      "Increase the number of iterations (max_iter) or scale the data as shown in:\n",
      "    https://scikit-learn.org/stable/modules/preprocessing.html\n",
      "Please also refer to the documentation for alternative solver options:\n",
      "    https://scikit-learn.org/stable/modules/linear_model.html#logistic-regression\n",
      "  n_iter_i = _check_optimize_result(\n",
      "/home/masdevas/.anaconda3/envs/nlp-unn/lib/python3.9/site-packages/sklearn/base.py:450: UserWarning: X does not have valid feature names, but LogisticRegression was fitted with feature names\n",
      "  warnings.warn(\n",
      "/home/masdevas/.anaconda3/envs/nlp-unn/lib/python3.9/site-packages/sklearn/base.py:450: UserWarning: X does not have valid feature names, but LogisticRegression was fitted with feature names\n",
      "  warnings.warn(\n",
      "/home/masdevas/.anaconda3/envs/nlp-unn/lib/python3.9/site-packages/daal4py/sklearn/linear_model/logistic_path.py:459: ConvergenceWarning: lbfgs failed to converge (status=1):\n",
      "STOP: TOTAL NO. of ITERATIONS REACHED LIMIT.\n",
      "\n",
      "Increase the number of iterations (max_iter) or scale the data as shown in:\n",
      "    https://scikit-learn.org/stable/modules/preprocessing.html\n",
      "Please also refer to the documentation for alternative solver options:\n",
      "    https://scikit-learn.org/stable/modules/linear_model.html#logistic-regression\n",
      "  n_iter_i = _check_optimize_result(\n",
      "/home/masdevas/.anaconda3/envs/nlp-unn/lib/python3.9/site-packages/sklearn/base.py:450: UserWarning: X does not have valid feature names, but LogisticRegression was fitted with feature names\n",
      "  warnings.warn(\n",
      "/home/masdevas/.anaconda3/envs/nlp-unn/lib/python3.9/site-packages/daal4py/sklearn/linear_model/logistic_path.py:459: ConvergenceWarning: lbfgs failed to converge (status=1):\n",
      "STOP: TOTAL NO. of ITERATIONS REACHED LIMIT.\n",
      "\n",
      "Increase the number of iterations (max_iter) or scale the data as shown in:\n",
      "    https://scikit-learn.org/stable/modules/preprocessing.html\n",
      "Please also refer to the documentation for alternative solver options:\n",
      "    https://scikit-learn.org/stable/modules/linear_model.html#logistic-regression\n",
      "  n_iter_i = _check_optimize_result(\n",
      "/home/masdevas/.anaconda3/envs/nlp-unn/lib/python3.9/site-packages/sklearn/base.py:450: UserWarning: X does not have valid feature names, but LogisticRegression was fitted with feature names\n",
      "  warnings.warn(\n",
      "/home/masdevas/.anaconda3/envs/nlp-unn/lib/python3.9/site-packages/daal4py/sklearn/linear_model/logistic_path.py:459: ConvergenceWarning: lbfgs failed to converge (status=1):\n",
      "STOP: TOTAL NO. of ITERATIONS REACHED LIMIT.\n",
      "\n",
      "Increase the number of iterations (max_iter) or scale the data as shown in:\n",
      "    https://scikit-learn.org/stable/modules/preprocessing.html\n",
      "Please also refer to the documentation for alternative solver options:\n",
      "    https://scikit-learn.org/stable/modules/linear_model.html#logistic-regression\n",
      "  n_iter_i = _check_optimize_result(\n",
      "/home/masdevas/.anaconda3/envs/nlp-unn/lib/python3.9/site-packages/sklearn/base.py:450: UserWarning: X does not have valid feature names, but LogisticRegression was fitted with feature names\n",
      "  warnings.warn(\n",
      "/home/masdevas/.anaconda3/envs/nlp-unn/lib/python3.9/site-packages/daal4py/sklearn/linear_model/logistic_path.py:459: ConvergenceWarning: lbfgs failed to converge (status=1):\n",
      "STOP: TOTAL NO. of ITERATIONS REACHED LIMIT.\n",
      "\n",
      "Increase the number of iterations (max_iter) or scale the data as shown in:\n",
      "    https://scikit-learn.org/stable/modules/preprocessing.html\n",
      "Please also refer to the documentation for alternative solver options:\n",
      "    https://scikit-learn.org/stable/modules/linear_model.html#logistic-regression\n",
      "  n_iter_i = _check_optimize_result(\n",
      "/home/masdevas/.anaconda3/envs/nlp-unn/lib/python3.9/site-packages/sklearn/base.py:450: UserWarning: X does not have valid feature names, but LogisticRegression was fitted with feature names\n",
      "  warnings.warn(\n",
      "/home/masdevas/.anaconda3/envs/nlp-unn/lib/python3.9/site-packages/daal4py/sklearn/linear_model/logistic_path.py:459: ConvergenceWarning: lbfgs failed to converge (status=1):\n",
      "STOP: TOTAL NO. of ITERATIONS REACHED LIMIT.\n",
      "\n",
      "Increase the number of iterations (max_iter) or scale the data as shown in:\n",
      "    https://scikit-learn.org/stable/modules/preprocessing.html\n",
      "Please also refer to the documentation for alternative solver options:\n",
      "    https://scikit-learn.org/stable/modules/linear_model.html#logistic-regression\n",
      "  n_iter_i = _check_optimize_result(\n",
      "/home/masdevas/.anaconda3/envs/nlp-unn/lib/python3.9/site-packages/sklearn/base.py:450: UserWarning: X does not have valid feature names, but LogisticRegression was fitted with feature names\n",
      "  warnings.warn(\n",
      "/home/masdevas/.anaconda3/envs/nlp-unn/lib/python3.9/site-packages/daal4py/sklearn/linear_model/logistic_path.py:459: ConvergenceWarning: lbfgs failed to converge (status=1):\n",
      "STOP: TOTAL NO. of ITERATIONS REACHED LIMIT.\n",
      "\n",
      "Increase the number of iterations (max_iter) or scale the data as shown in:\n",
      "    https://scikit-learn.org/stable/modules/preprocessing.html\n",
      "Please also refer to the documentation for alternative solver options:\n",
      "    https://scikit-learn.org/stable/modules/linear_model.html#logistic-regression\n",
      "  n_iter_i = _check_optimize_result(\n",
      "/home/masdevas/.anaconda3/envs/nlp-unn/lib/python3.9/site-packages/sklearn/base.py:450: UserWarning: X does not have valid feature names, but LogisticRegression was fitted with feature names\n",
      "  warnings.warn(\n",
      "/home/masdevas/.anaconda3/envs/nlp-unn/lib/python3.9/site-packages/daal4py/sklearn/linear_model/logistic_path.py:459: ConvergenceWarning: lbfgs failed to converge (status=1):\n",
      "STOP: TOTAL NO. of ITERATIONS REACHED LIMIT.\n",
      "\n",
      "Increase the number of iterations (max_iter) or scale the data as shown in:\n",
      "    https://scikit-learn.org/stable/modules/preprocessing.html\n",
      "Please also refer to the documentation for alternative solver options:\n",
      "    https://scikit-learn.org/stable/modules/linear_model.html#logistic-regression\n",
      "  n_iter_i = _check_optimize_result(\n",
      "/home/masdevas/.anaconda3/envs/nlp-unn/lib/python3.9/site-packages/sklearn/base.py:450: UserWarning: X does not have valid feature names, but LogisticRegression was fitted with feature names\n",
      "  warnings.warn(\n",
      "/home/masdevas/.anaconda3/envs/nlp-unn/lib/python3.9/site-packages/daal4py/sklearn/linear_model/logistic_path.py:459: ConvergenceWarning: lbfgs failed to converge (status=1):\n",
      "STOP: TOTAL NO. of ITERATIONS REACHED LIMIT.\n",
      "\n",
      "Increase the number of iterations (max_iter) or scale the data as shown in:\n",
      "    https://scikit-learn.org/stable/modules/preprocessing.html\n",
      "Please also refer to the documentation for alternative solver options:\n",
      "    https://scikit-learn.org/stable/modules/linear_model.html#logistic-regression\n",
      "  n_iter_i = _check_optimize_result(\n",
      "/home/masdevas/.anaconda3/envs/nlp-unn/lib/python3.9/site-packages/sklearn/base.py:450: UserWarning: X does not have valid feature names, but LogisticRegression was fitted with feature names\n",
      "  warnings.warn(\n"
     ]
    },
    {
     "name": "stderr",
     "output_type": "stream",
     "text": [
      "/home/masdevas/.anaconda3/envs/nlp-unn/lib/python3.9/site-packages/daal4py/sklearn/linear_model/logistic_path.py:459: ConvergenceWarning: lbfgs failed to converge (status=1):\n",
      "STOP: TOTAL NO. of ITERATIONS REACHED LIMIT.\n",
      "\n",
      "Increase the number of iterations (max_iter) or scale the data as shown in:\n",
      "    https://scikit-learn.org/stable/modules/preprocessing.html\n",
      "Please also refer to the documentation for alternative solver options:\n",
      "    https://scikit-learn.org/stable/modules/linear_model.html#logistic-regression\n",
      "  n_iter_i = _check_optimize_result(\n",
      "/home/masdevas/.anaconda3/envs/nlp-unn/lib/python3.9/site-packages/sklearn/base.py:450: UserWarning: X does not have valid feature names, but LogisticRegression was fitted with feature names\n",
      "  warnings.warn(\n",
      "/home/masdevas/.anaconda3/envs/nlp-unn/lib/python3.9/site-packages/daal4py/sklearn/linear_model/logistic_path.py:459: ConvergenceWarning: lbfgs failed to converge (status=1):\n",
      "STOP: TOTAL NO. of ITERATIONS REACHED LIMIT.\n",
      "\n",
      "Increase the number of iterations (max_iter) or scale the data as shown in:\n",
      "    https://scikit-learn.org/stable/modules/preprocessing.html\n",
      "Please also refer to the documentation for alternative solver options:\n",
      "    https://scikit-learn.org/stable/modules/linear_model.html#logistic-regression\n",
      "  n_iter_i = _check_optimize_result(\n",
      "/home/masdevas/.anaconda3/envs/nlp-unn/lib/python3.9/site-packages/sklearn/base.py:450: UserWarning: X does not have valid feature names, but LogisticRegression was fitted with feature names\n",
      "  warnings.warn(\n",
      "/home/masdevas/.anaconda3/envs/nlp-unn/lib/python3.9/site-packages/sklearn/base.py:450: UserWarning: X does not have valid feature names, but LogisticRegression was fitted with feature names\n",
      "  warnings.warn(\n",
      "/home/masdevas/.anaconda3/envs/nlp-unn/lib/python3.9/site-packages/daal4py/sklearn/linear_model/logistic_path.py:459: ConvergenceWarning: lbfgs failed to converge (status=1):\n",
      "STOP: TOTAL NO. of ITERATIONS REACHED LIMIT.\n",
      "\n",
      "Increase the number of iterations (max_iter) or scale the data as shown in:\n",
      "    https://scikit-learn.org/stable/modules/preprocessing.html\n",
      "Please also refer to the documentation for alternative solver options:\n",
      "    https://scikit-learn.org/stable/modules/linear_model.html#logistic-regression\n",
      "  n_iter_i = _check_optimize_result(\n",
      "/home/masdevas/.anaconda3/envs/nlp-unn/lib/python3.9/site-packages/sklearn/base.py:450: UserWarning: X does not have valid feature names, but LogisticRegression was fitted with feature names\n",
      "  warnings.warn(\n",
      "/home/masdevas/.anaconda3/envs/nlp-unn/lib/python3.9/site-packages/daal4py/sklearn/linear_model/logistic_path.py:459: ConvergenceWarning: lbfgs failed to converge (status=1):\n",
      "STOP: TOTAL NO. of ITERATIONS REACHED LIMIT.\n",
      "\n",
      "Increase the number of iterations (max_iter) or scale the data as shown in:\n",
      "    https://scikit-learn.org/stable/modules/preprocessing.html\n",
      "Please also refer to the documentation for alternative solver options:\n",
      "    https://scikit-learn.org/stable/modules/linear_model.html#logistic-regression\n",
      "  n_iter_i = _check_optimize_result(\n",
      "/home/masdevas/.anaconda3/envs/nlp-unn/lib/python3.9/site-packages/sklearn/base.py:450: UserWarning: X does not have valid feature names, but LogisticRegression was fitted with feature names\n",
      "  warnings.warn(\n",
      "/home/masdevas/.anaconda3/envs/nlp-unn/lib/python3.9/site-packages/daal4py/sklearn/linear_model/logistic_path.py:459: ConvergenceWarning: lbfgs failed to converge (status=1):\n",
      "STOP: TOTAL NO. of ITERATIONS REACHED LIMIT.\n",
      "\n",
      "Increase the number of iterations (max_iter) or scale the data as shown in:\n",
      "    https://scikit-learn.org/stable/modules/preprocessing.html\n",
      "Please also refer to the documentation for alternative solver options:\n",
      "    https://scikit-learn.org/stable/modules/linear_model.html#logistic-regression\n",
      "  n_iter_i = _check_optimize_result(\n",
      "/home/masdevas/.anaconda3/envs/nlp-unn/lib/python3.9/site-packages/sklearn/base.py:450: UserWarning: X does not have valid feature names, but LogisticRegression was fitted with feature names\n",
      "  warnings.warn(\n",
      "/home/masdevas/.anaconda3/envs/nlp-unn/lib/python3.9/site-packages/sklearn/base.py:450: UserWarning: X does not have valid feature names, but LogisticRegression was fitted with feature names\n",
      "  warnings.warn(\n",
      "/home/masdevas/.anaconda3/envs/nlp-unn/lib/python3.9/site-packages/daal4py/sklearn/linear_model/logistic_path.py:459: ConvergenceWarning: lbfgs failed to converge (status=1):\n",
      "STOP: TOTAL NO. of ITERATIONS REACHED LIMIT.\n",
      "\n",
      "Increase the number of iterations (max_iter) or scale the data as shown in:\n",
      "    https://scikit-learn.org/stable/modules/preprocessing.html\n",
      "Please also refer to the documentation for alternative solver options:\n",
      "    https://scikit-learn.org/stable/modules/linear_model.html#logistic-regression\n",
      "  n_iter_i = _check_optimize_result(\n",
      "/home/masdevas/.anaconda3/envs/nlp-unn/lib/python3.9/site-packages/sklearn/base.py:450: UserWarning: X does not have valid feature names, but LogisticRegression was fitted with feature names\n",
      "  warnings.warn(\n",
      "/home/masdevas/.anaconda3/envs/nlp-unn/lib/python3.9/site-packages/daal4py/sklearn/linear_model/logistic_path.py:459: ConvergenceWarning: lbfgs failed to converge (status=1):\n",
      "STOP: TOTAL NO. of ITERATIONS REACHED LIMIT.\n",
      "\n",
      "Increase the number of iterations (max_iter) or scale the data as shown in:\n",
      "    https://scikit-learn.org/stable/modules/preprocessing.html\n",
      "Please also refer to the documentation for alternative solver options:\n",
      "    https://scikit-learn.org/stable/modules/linear_model.html#logistic-regression\n",
      "  n_iter_i = _check_optimize_result(\n",
      "/home/masdevas/.anaconda3/envs/nlp-unn/lib/python3.9/site-packages/sklearn/base.py:450: UserWarning: X does not have valid feature names, but LogisticRegression was fitted with feature names\n",
      "  warnings.warn(\n",
      "/home/masdevas/.anaconda3/envs/nlp-unn/lib/python3.9/site-packages/daal4py/sklearn/linear_model/logistic_path.py:459: ConvergenceWarning: lbfgs failed to converge (status=1):\n",
      "STOP: TOTAL NO. of ITERATIONS REACHED LIMIT.\n",
      "\n",
      "Increase the number of iterations (max_iter) or scale the data as shown in:\n",
      "    https://scikit-learn.org/stable/modules/preprocessing.html\n",
      "Please also refer to the documentation for alternative solver options:\n",
      "    https://scikit-learn.org/stable/modules/linear_model.html#logistic-regression\n",
      "  n_iter_i = _check_optimize_result(\n",
      "/home/masdevas/.anaconda3/envs/nlp-unn/lib/python3.9/site-packages/sklearn/base.py:450: UserWarning: X does not have valid feature names, but LogisticRegression was fitted with feature names\n",
      "  warnings.warn(\n",
      "/home/masdevas/.anaconda3/envs/nlp-unn/lib/python3.9/site-packages/daal4py/sklearn/linear_model/logistic_path.py:459: ConvergenceWarning: lbfgs failed to converge (status=1):\n",
      "STOP: TOTAL NO. of ITERATIONS REACHED LIMIT.\n",
      "\n",
      "Increase the number of iterations (max_iter) or scale the data as shown in:\n",
      "    https://scikit-learn.org/stable/modules/preprocessing.html\n",
      "Please also refer to the documentation for alternative solver options:\n",
      "    https://scikit-learn.org/stable/modules/linear_model.html#logistic-regression\n",
      "  n_iter_i = _check_optimize_result(\n",
      "/home/masdevas/.anaconda3/envs/nlp-unn/lib/python3.9/site-packages/sklearn/base.py:450: UserWarning: X does not have valid feature names, but LogisticRegression was fitted with feature names\n",
      "  warnings.warn(\n",
      "/home/masdevas/.anaconda3/envs/nlp-unn/lib/python3.9/site-packages/daal4py/sklearn/linear_model/logistic_path.py:459: ConvergenceWarning: lbfgs failed to converge (status=1):\n",
      "STOP: TOTAL NO. of ITERATIONS REACHED LIMIT.\n",
      "\n",
      "Increase the number of iterations (max_iter) or scale the data as shown in:\n",
      "    https://scikit-learn.org/stable/modules/preprocessing.html\n",
      "Please also refer to the documentation for alternative solver options:\n",
      "    https://scikit-learn.org/stable/modules/linear_model.html#logistic-regression\n",
      "  n_iter_i = _check_optimize_result(\n",
      "/home/masdevas/.anaconda3/envs/nlp-unn/lib/python3.9/site-packages/sklearn/base.py:450: UserWarning: X does not have valid feature names, but LogisticRegression was fitted with feature names\n",
      "  warnings.warn(\n",
      "/home/masdevas/.anaconda3/envs/nlp-unn/lib/python3.9/site-packages/daal4py/sklearn/linear_model/logistic_path.py:459: ConvergenceWarning: lbfgs failed to converge (status=1):\n",
      "STOP: TOTAL NO. of ITERATIONS REACHED LIMIT.\n",
      "\n",
      "Increase the number of iterations (max_iter) or scale the data as shown in:\n",
      "    https://scikit-learn.org/stable/modules/preprocessing.html\n",
      "Please also refer to the documentation for alternative solver options:\n",
      "    https://scikit-learn.org/stable/modules/linear_model.html#logistic-regression\n",
      "  n_iter_i = _check_optimize_result(\n",
      "/home/masdevas/.anaconda3/envs/nlp-unn/lib/python3.9/site-packages/sklearn/base.py:450: UserWarning: X does not have valid feature names, but LogisticRegression was fitted with feature names\n",
      "  warnings.warn(\n"
     ]
    },
    {
     "name": "stderr",
     "output_type": "stream",
     "text": [
      "/home/masdevas/.anaconda3/envs/nlp-unn/lib/python3.9/site-packages/daal4py/sklearn/linear_model/logistic_path.py:459: ConvergenceWarning: lbfgs failed to converge (status=1):\n",
      "STOP: TOTAL NO. of ITERATIONS REACHED LIMIT.\n",
      "\n",
      "Increase the number of iterations (max_iter) or scale the data as shown in:\n",
      "    https://scikit-learn.org/stable/modules/preprocessing.html\n",
      "Please also refer to the documentation for alternative solver options:\n",
      "    https://scikit-learn.org/stable/modules/linear_model.html#logistic-regression\n",
      "  n_iter_i = _check_optimize_result(\n",
      "/home/masdevas/.anaconda3/envs/nlp-unn/lib/python3.9/site-packages/sklearn/base.py:450: UserWarning: X does not have valid feature names, but LogisticRegression was fitted with feature names\n",
      "  warnings.warn(\n",
      "/home/masdevas/.anaconda3/envs/nlp-unn/lib/python3.9/site-packages/daal4py/sklearn/linear_model/logistic_path.py:459: ConvergenceWarning: lbfgs failed to converge (status=1):\n",
      "STOP: TOTAL NO. of ITERATIONS REACHED LIMIT.\n",
      "\n",
      "Increase the number of iterations (max_iter) or scale the data as shown in:\n",
      "    https://scikit-learn.org/stable/modules/preprocessing.html\n",
      "Please also refer to the documentation for alternative solver options:\n",
      "    https://scikit-learn.org/stable/modules/linear_model.html#logistic-regression\n",
      "  n_iter_i = _check_optimize_result(\n",
      "/home/masdevas/.anaconda3/envs/nlp-unn/lib/python3.9/site-packages/sklearn/base.py:450: UserWarning: X does not have valid feature names, but LogisticRegression was fitted with feature names\n",
      "  warnings.warn(\n",
      "/home/masdevas/.anaconda3/envs/nlp-unn/lib/python3.9/site-packages/daal4py/sklearn/linear_model/logistic_path.py:459: ConvergenceWarning: lbfgs failed to converge (status=1):\n",
      "STOP: TOTAL NO. of ITERATIONS REACHED LIMIT.\n",
      "\n",
      "Increase the number of iterations (max_iter) or scale the data as shown in:\n",
      "    https://scikit-learn.org/stable/modules/preprocessing.html\n",
      "Please also refer to the documentation for alternative solver options:\n",
      "    https://scikit-learn.org/stable/modules/linear_model.html#logistic-regression\n",
      "  n_iter_i = _check_optimize_result(\n",
      "/home/masdevas/.anaconda3/envs/nlp-unn/lib/python3.9/site-packages/sklearn/base.py:450: UserWarning: X does not have valid feature names, but LogisticRegression was fitted with feature names\n",
      "  warnings.warn(\n",
      "/home/masdevas/.anaconda3/envs/nlp-unn/lib/python3.9/site-packages/daal4py/sklearn/linear_model/logistic_path.py:459: ConvergenceWarning: lbfgs failed to converge (status=1):\n",
      "STOP: TOTAL NO. of ITERATIONS REACHED LIMIT.\n",
      "\n",
      "Increase the number of iterations (max_iter) or scale the data as shown in:\n",
      "    https://scikit-learn.org/stable/modules/preprocessing.html\n",
      "Please also refer to the documentation for alternative solver options:\n",
      "    https://scikit-learn.org/stable/modules/linear_model.html#logistic-regression\n",
      "  n_iter_i = _check_optimize_result(\n",
      "/home/masdevas/.anaconda3/envs/nlp-unn/lib/python3.9/site-packages/sklearn/base.py:450: UserWarning: X does not have valid feature names, but LogisticRegression was fitted with feature names\n",
      "  warnings.warn(\n",
      "/home/masdevas/.anaconda3/envs/nlp-unn/lib/python3.9/site-packages/sklearn/base.py:450: UserWarning: X does not have valid feature names, but LogisticRegression was fitted with feature names\n",
      "  warnings.warn(\n",
      "/home/masdevas/.anaconda3/envs/nlp-unn/lib/python3.9/site-packages/daal4py/sklearn/linear_model/logistic_path.py:459: ConvergenceWarning: lbfgs failed to converge (status=1):\n",
      "STOP: TOTAL NO. of ITERATIONS REACHED LIMIT.\n",
      "\n",
      "Increase the number of iterations (max_iter) or scale the data as shown in:\n",
      "    https://scikit-learn.org/stable/modules/preprocessing.html\n",
      "Please also refer to the documentation for alternative solver options:\n",
      "    https://scikit-learn.org/stable/modules/linear_model.html#logistic-regression\n",
      "  n_iter_i = _check_optimize_result(\n",
      "/home/masdevas/.anaconda3/envs/nlp-unn/lib/python3.9/site-packages/sklearn/base.py:450: UserWarning: X does not have valid feature names, but LogisticRegression was fitted with feature names\n",
      "  warnings.warn(\n",
      "/home/masdevas/.anaconda3/envs/nlp-unn/lib/python3.9/site-packages/daal4py/sklearn/linear_model/logistic_path.py:459: ConvergenceWarning: lbfgs failed to converge (status=1):\n",
      "STOP: TOTAL NO. of ITERATIONS REACHED LIMIT.\n",
      "\n",
      "Increase the number of iterations (max_iter) or scale the data as shown in:\n",
      "    https://scikit-learn.org/stable/modules/preprocessing.html\n",
      "Please also refer to the documentation for alternative solver options:\n",
      "    https://scikit-learn.org/stable/modules/linear_model.html#logistic-regression\n",
      "  n_iter_i = _check_optimize_result(\n",
      "/home/masdevas/.anaconda3/envs/nlp-unn/lib/python3.9/site-packages/sklearn/base.py:450: UserWarning: X does not have valid feature names, but LogisticRegression was fitted with feature names\n",
      "  warnings.warn(\n",
      "/home/masdevas/.anaconda3/envs/nlp-unn/lib/python3.9/site-packages/daal4py/sklearn/linear_model/logistic_path.py:459: ConvergenceWarning: lbfgs failed to converge (status=1):\n",
      "STOP: TOTAL NO. of ITERATIONS REACHED LIMIT.\n",
      "\n",
      "Increase the number of iterations (max_iter) or scale the data as shown in:\n",
      "    https://scikit-learn.org/stable/modules/preprocessing.html\n",
      "Please also refer to the documentation for alternative solver options:\n",
      "    https://scikit-learn.org/stable/modules/linear_model.html#logistic-regression\n",
      "  n_iter_i = _check_optimize_result(\n",
      "/home/masdevas/.anaconda3/envs/nlp-unn/lib/python3.9/site-packages/sklearn/base.py:450: UserWarning: X does not have valid feature names, but LogisticRegression was fitted with feature names\n",
      "  warnings.warn(\n",
      "/home/masdevas/.anaconda3/envs/nlp-unn/lib/python3.9/site-packages/daal4py/sklearn/linear_model/logistic_path.py:459: ConvergenceWarning: lbfgs failed to converge (status=1):\n",
      "STOP: TOTAL NO. of ITERATIONS REACHED LIMIT.\n",
      "\n",
      "Increase the number of iterations (max_iter) or scale the data as shown in:\n",
      "    https://scikit-learn.org/stable/modules/preprocessing.html\n",
      "Please also refer to the documentation for alternative solver options:\n",
      "    https://scikit-learn.org/stable/modules/linear_model.html#logistic-regression\n",
      "  n_iter_i = _check_optimize_result(\n",
      "/home/masdevas/.anaconda3/envs/nlp-unn/lib/python3.9/site-packages/sklearn/base.py:450: UserWarning: X does not have valid feature names, but LogisticRegression was fitted with feature names\n",
      "  warnings.warn(\n",
      "/home/masdevas/.anaconda3/envs/nlp-unn/lib/python3.9/site-packages/daal4py/sklearn/linear_model/logistic_path.py:459: ConvergenceWarning: lbfgs failed to converge (status=1):\n",
      "STOP: TOTAL NO. of ITERATIONS REACHED LIMIT.\n",
      "\n",
      "Increase the number of iterations (max_iter) or scale the data as shown in:\n",
      "    https://scikit-learn.org/stable/modules/preprocessing.html\n",
      "Please also refer to the documentation for alternative solver options:\n",
      "    https://scikit-learn.org/stable/modules/linear_model.html#logistic-regression\n",
      "  n_iter_i = _check_optimize_result(\n",
      "/home/masdevas/.anaconda3/envs/nlp-unn/lib/python3.9/site-packages/sklearn/base.py:450: UserWarning: X does not have valid feature names, but LogisticRegression was fitted with feature names\n",
      "  warnings.warn(\n",
      "/home/masdevas/.anaconda3/envs/nlp-unn/lib/python3.9/site-packages/daal4py/sklearn/linear_model/logistic_path.py:459: ConvergenceWarning: lbfgs failed to converge (status=1):\n",
      "STOP: TOTAL NO. of ITERATIONS REACHED LIMIT.\n",
      "\n",
      "Increase the number of iterations (max_iter) or scale the data as shown in:\n",
      "    https://scikit-learn.org/stable/modules/preprocessing.html\n",
      "Please also refer to the documentation for alternative solver options:\n",
      "    https://scikit-learn.org/stable/modules/linear_model.html#logistic-regression\n",
      "  n_iter_i = _check_optimize_result(\n",
      "/home/masdevas/.anaconda3/envs/nlp-unn/lib/python3.9/site-packages/sklearn/base.py:450: UserWarning: X does not have valid feature names, but LogisticRegression was fitted with feature names\n",
      "  warnings.warn(\n",
      "/home/masdevas/.anaconda3/envs/nlp-unn/lib/python3.9/site-packages/daal4py/sklearn/linear_model/logistic_path.py:459: ConvergenceWarning: lbfgs failed to converge (status=1):\n",
      "STOP: TOTAL NO. of ITERATIONS REACHED LIMIT.\n",
      "\n",
      "Increase the number of iterations (max_iter) or scale the data as shown in:\n",
      "    https://scikit-learn.org/stable/modules/preprocessing.html\n",
      "Please also refer to the documentation for alternative solver options:\n",
      "    https://scikit-learn.org/stable/modules/linear_model.html#logistic-regression\n",
      "  n_iter_i = _check_optimize_result(\n",
      "/home/masdevas/.anaconda3/envs/nlp-unn/lib/python3.9/site-packages/sklearn/base.py:450: UserWarning: X does not have valid feature names, but LogisticRegression was fitted with feature names\n",
      "  warnings.warn(\n"
     ]
    },
    {
     "name": "stderr",
     "output_type": "stream",
     "text": [
      "/home/masdevas/.anaconda3/envs/nlp-unn/lib/python3.9/site-packages/daal4py/sklearn/linear_model/logistic_path.py:459: ConvergenceWarning: lbfgs failed to converge (status=1):\n",
      "STOP: TOTAL NO. of ITERATIONS REACHED LIMIT.\n",
      "\n",
      "Increase the number of iterations (max_iter) or scale the data as shown in:\n",
      "    https://scikit-learn.org/stable/modules/preprocessing.html\n",
      "Please also refer to the documentation for alternative solver options:\n",
      "    https://scikit-learn.org/stable/modules/linear_model.html#logistic-regression\n",
      "  n_iter_i = _check_optimize_result(\n",
      "/home/masdevas/.anaconda3/envs/nlp-unn/lib/python3.9/site-packages/sklearn/base.py:450: UserWarning: X does not have valid feature names, but LogisticRegression was fitted with feature names\n",
      "  warnings.warn(\n",
      "/home/masdevas/.anaconda3/envs/nlp-unn/lib/python3.9/site-packages/daal4py/sklearn/linear_model/logistic_path.py:459: ConvergenceWarning: lbfgs failed to converge (status=1):\n",
      "STOP: TOTAL NO. of ITERATIONS REACHED LIMIT.\n",
      "\n",
      "Increase the number of iterations (max_iter) or scale the data as shown in:\n",
      "    https://scikit-learn.org/stable/modules/preprocessing.html\n",
      "Please also refer to the documentation for alternative solver options:\n",
      "    https://scikit-learn.org/stable/modules/linear_model.html#logistic-regression\n",
      "  n_iter_i = _check_optimize_result(\n",
      "/home/masdevas/.anaconda3/envs/nlp-unn/lib/python3.9/site-packages/sklearn/base.py:450: UserWarning: X does not have valid feature names, but LogisticRegression was fitted with feature names\n",
      "  warnings.warn(\n",
      "/home/masdevas/.anaconda3/envs/nlp-unn/lib/python3.9/site-packages/sklearn/base.py:450: UserWarning: X does not have valid feature names, but LogisticRegression was fitted with feature names\n",
      "  warnings.warn(\n",
      "/home/masdevas/.anaconda3/envs/nlp-unn/lib/python3.9/site-packages/daal4py/sklearn/linear_model/logistic_path.py:459: ConvergenceWarning: lbfgs failed to converge (status=1):\n",
      "STOP: TOTAL NO. of ITERATIONS REACHED LIMIT.\n",
      "\n",
      "Increase the number of iterations (max_iter) or scale the data as shown in:\n",
      "    https://scikit-learn.org/stable/modules/preprocessing.html\n",
      "Please also refer to the documentation for alternative solver options:\n",
      "    https://scikit-learn.org/stable/modules/linear_model.html#logistic-regression\n",
      "  n_iter_i = _check_optimize_result(\n",
      "/home/masdevas/.anaconda3/envs/nlp-unn/lib/python3.9/site-packages/sklearn/base.py:450: UserWarning: X does not have valid feature names, but LogisticRegression was fitted with feature names\n",
      "  warnings.warn(\n",
      "/home/masdevas/.anaconda3/envs/nlp-unn/lib/python3.9/site-packages/daal4py/sklearn/linear_model/logistic_path.py:459: ConvergenceWarning: lbfgs failed to converge (status=1):\n",
      "STOP: TOTAL NO. of ITERATIONS REACHED LIMIT.\n",
      "\n",
      "Increase the number of iterations (max_iter) or scale the data as shown in:\n",
      "    https://scikit-learn.org/stable/modules/preprocessing.html\n",
      "Please also refer to the documentation for alternative solver options:\n",
      "    https://scikit-learn.org/stable/modules/linear_model.html#logistic-regression\n",
      "  n_iter_i = _check_optimize_result(\n",
      "/home/masdevas/.anaconda3/envs/nlp-unn/lib/python3.9/site-packages/sklearn/base.py:450: UserWarning: X does not have valid feature names, but LogisticRegression was fitted with feature names\n",
      "  warnings.warn(\n",
      "/home/masdevas/.anaconda3/envs/nlp-unn/lib/python3.9/site-packages/daal4py/sklearn/linear_model/logistic_path.py:459: ConvergenceWarning: lbfgs failed to converge (status=1):\n",
      "STOP: TOTAL NO. of ITERATIONS REACHED LIMIT.\n",
      "\n",
      "Increase the number of iterations (max_iter) or scale the data as shown in:\n",
      "    https://scikit-learn.org/stable/modules/preprocessing.html\n",
      "Please also refer to the documentation for alternative solver options:\n",
      "    https://scikit-learn.org/stable/modules/linear_model.html#logistic-regression\n",
      "  n_iter_i = _check_optimize_result(\n",
      "/home/masdevas/.anaconda3/envs/nlp-unn/lib/python3.9/site-packages/sklearn/base.py:450: UserWarning: X does not have valid feature names, but LogisticRegression was fitted with feature names\n",
      "  warnings.warn(\n",
      "/home/masdevas/.anaconda3/envs/nlp-unn/lib/python3.9/site-packages/daal4py/sklearn/linear_model/logistic_path.py:459: ConvergenceWarning: lbfgs failed to converge (status=1):\n",
      "STOP: TOTAL NO. of ITERATIONS REACHED LIMIT.\n",
      "\n",
      "Increase the number of iterations (max_iter) or scale the data as shown in:\n",
      "    https://scikit-learn.org/stable/modules/preprocessing.html\n",
      "Please also refer to the documentation for alternative solver options:\n",
      "    https://scikit-learn.org/stable/modules/linear_model.html#logistic-regression\n",
      "  n_iter_i = _check_optimize_result(\n",
      "/home/masdevas/.anaconda3/envs/nlp-unn/lib/python3.9/site-packages/sklearn/base.py:450: UserWarning: X does not have valid feature names, but LogisticRegression was fitted with feature names\n",
      "  warnings.warn(\n",
      "/home/masdevas/.anaconda3/envs/nlp-unn/lib/python3.9/site-packages/daal4py/sklearn/linear_model/logistic_path.py:459: ConvergenceWarning: lbfgs failed to converge (status=1):\n",
      "STOP: TOTAL NO. of ITERATIONS REACHED LIMIT.\n",
      "\n",
      "Increase the number of iterations (max_iter) or scale the data as shown in:\n",
      "    https://scikit-learn.org/stable/modules/preprocessing.html\n",
      "Please also refer to the documentation for alternative solver options:\n",
      "    https://scikit-learn.org/stable/modules/linear_model.html#logistic-regression\n",
      "  n_iter_i = _check_optimize_result(\n",
      "/home/masdevas/.anaconda3/envs/nlp-unn/lib/python3.9/site-packages/sklearn/base.py:450: UserWarning: X does not have valid feature names, but LogisticRegression was fitted with feature names\n",
      "  warnings.warn(\n",
      "/home/masdevas/.anaconda3/envs/nlp-unn/lib/python3.9/site-packages/daal4py/sklearn/linear_model/logistic_path.py:459: ConvergenceWarning: lbfgs failed to converge (status=1):\n",
      "STOP: TOTAL NO. of ITERATIONS REACHED LIMIT.\n",
      "\n",
      "Increase the number of iterations (max_iter) or scale the data as shown in:\n",
      "    https://scikit-learn.org/stable/modules/preprocessing.html\n",
      "Please also refer to the documentation for alternative solver options:\n",
      "    https://scikit-learn.org/stable/modules/linear_model.html#logistic-regression\n",
      "  n_iter_i = _check_optimize_result(\n",
      "/home/masdevas/.anaconda3/envs/nlp-unn/lib/python3.9/site-packages/sklearn/base.py:450: UserWarning: X does not have valid feature names, but LogisticRegression was fitted with feature names\n",
      "  warnings.warn(\n",
      "/home/masdevas/.anaconda3/envs/nlp-unn/lib/python3.9/site-packages/daal4py/sklearn/linear_model/logistic_path.py:459: ConvergenceWarning: lbfgs failed to converge (status=1):\n",
      "STOP: TOTAL NO. of ITERATIONS REACHED LIMIT.\n",
      "\n",
      "Increase the number of iterations (max_iter) or scale the data as shown in:\n",
      "    https://scikit-learn.org/stable/modules/preprocessing.html\n",
      "Please also refer to the documentation for alternative solver options:\n",
      "    https://scikit-learn.org/stable/modules/linear_model.html#logistic-regression\n",
      "  n_iter_i = _check_optimize_result(\n",
      "/home/masdevas/.anaconda3/envs/nlp-unn/lib/python3.9/site-packages/sklearn/base.py:450: UserWarning: X does not have valid feature names, but LogisticRegression was fitted with feature names\n",
      "  warnings.warn(\n",
      "/home/masdevas/.anaconda3/envs/nlp-unn/lib/python3.9/site-packages/daal4py/sklearn/linear_model/logistic_path.py:459: ConvergenceWarning: lbfgs failed to converge (status=1):\n",
      "STOP: TOTAL NO. of ITERATIONS REACHED LIMIT.\n",
      "\n",
      "Increase the number of iterations (max_iter) or scale the data as shown in:\n",
      "    https://scikit-learn.org/stable/modules/preprocessing.html\n",
      "Please also refer to the documentation for alternative solver options:\n",
      "    https://scikit-learn.org/stable/modules/linear_model.html#logistic-regression\n",
      "  n_iter_i = _check_optimize_result(\n",
      "/home/masdevas/.anaconda3/envs/nlp-unn/lib/python3.9/site-packages/sklearn/base.py:450: UserWarning: X does not have valid feature names, but LogisticRegression was fitted with feature names\n",
      "  warnings.warn(\n",
      "/home/masdevas/.anaconda3/envs/nlp-unn/lib/python3.9/site-packages/sklearn/base.py:450: UserWarning: X does not have valid feature names, but LogisticRegression was fitted with feature names\n",
      "  warnings.warn(\n",
      "/home/masdevas/.anaconda3/envs/nlp-unn/lib/python3.9/site-packages/daal4py/sklearn/linear_model/logistic_path.py:459: ConvergenceWarning: lbfgs failed to converge (status=1):\n",
      "STOP: TOTAL NO. of ITERATIONS REACHED LIMIT.\n",
      "\n",
      "Increase the number of iterations (max_iter) or scale the data as shown in:\n",
      "    https://scikit-learn.org/stable/modules/preprocessing.html\n",
      "Please also refer to the documentation for alternative solver options:\n",
      "    https://scikit-learn.org/stable/modules/linear_model.html#logistic-regression\n",
      "  n_iter_i = _check_optimize_result(\n",
      "/home/masdevas/.anaconda3/envs/nlp-unn/lib/python3.9/site-packages/sklearn/base.py:450: UserWarning: X does not have valid feature names, but LogisticRegression was fitted with feature names\n",
      "  warnings.warn(\n"
     ]
    },
    {
     "name": "stderr",
     "output_type": "stream",
     "text": [
      "/home/masdevas/.anaconda3/envs/nlp-unn/lib/python3.9/site-packages/daal4py/sklearn/linear_model/logistic_path.py:459: ConvergenceWarning: lbfgs failed to converge (status=1):\n",
      "STOP: TOTAL NO. of ITERATIONS REACHED LIMIT.\n",
      "\n",
      "Increase the number of iterations (max_iter) or scale the data as shown in:\n",
      "    https://scikit-learn.org/stable/modules/preprocessing.html\n",
      "Please also refer to the documentation for alternative solver options:\n",
      "    https://scikit-learn.org/stable/modules/linear_model.html#logistic-regression\n",
      "  n_iter_i = _check_optimize_result(\n",
      "/home/masdevas/.anaconda3/envs/nlp-unn/lib/python3.9/site-packages/sklearn/base.py:450: UserWarning: X does not have valid feature names, but LogisticRegression was fitted with feature names\n",
      "  warnings.warn(\n",
      "/home/masdevas/.anaconda3/envs/nlp-unn/lib/python3.9/site-packages/daal4py/sklearn/linear_model/logistic_path.py:459: ConvergenceWarning: lbfgs failed to converge (status=1):\n",
      "STOP: TOTAL NO. of ITERATIONS REACHED LIMIT.\n",
      "\n",
      "Increase the number of iterations (max_iter) or scale the data as shown in:\n",
      "    https://scikit-learn.org/stable/modules/preprocessing.html\n",
      "Please also refer to the documentation for alternative solver options:\n",
      "    https://scikit-learn.org/stable/modules/linear_model.html#logistic-regression\n",
      "  n_iter_i = _check_optimize_result(\n",
      "/home/masdevas/.anaconda3/envs/nlp-unn/lib/python3.9/site-packages/sklearn/base.py:450: UserWarning: X does not have valid feature names, but LogisticRegression was fitted with feature names\n",
      "  warnings.warn(\n",
      "/home/masdevas/.anaconda3/envs/nlp-unn/lib/python3.9/site-packages/daal4py/sklearn/linear_model/logistic_path.py:459: ConvergenceWarning: lbfgs failed to converge (status=1):\n",
      "STOP: TOTAL NO. of ITERATIONS REACHED LIMIT.\n",
      "\n",
      "Increase the number of iterations (max_iter) or scale the data as shown in:\n",
      "    https://scikit-learn.org/stable/modules/preprocessing.html\n",
      "Please also refer to the documentation for alternative solver options:\n",
      "    https://scikit-learn.org/stable/modules/linear_model.html#logistic-regression\n",
      "  n_iter_i = _check_optimize_result(\n",
      "/home/masdevas/.anaconda3/envs/nlp-unn/lib/python3.9/site-packages/sklearn/base.py:450: UserWarning: X does not have valid feature names, but LogisticRegression was fitted with feature names\n",
      "  warnings.warn(\n",
      "/home/masdevas/.anaconda3/envs/nlp-unn/lib/python3.9/site-packages/daal4py/sklearn/linear_model/logistic_path.py:459: ConvergenceWarning: lbfgs failed to converge (status=1):\n",
      "STOP: TOTAL NO. of ITERATIONS REACHED LIMIT.\n",
      "\n",
      "Increase the number of iterations (max_iter) or scale the data as shown in:\n",
      "    https://scikit-learn.org/stable/modules/preprocessing.html\n",
      "Please also refer to the documentation for alternative solver options:\n",
      "    https://scikit-learn.org/stable/modules/linear_model.html#logistic-regression\n",
      "  n_iter_i = _check_optimize_result(\n",
      "/home/masdevas/.anaconda3/envs/nlp-unn/lib/python3.9/site-packages/sklearn/base.py:450: UserWarning: X does not have valid feature names, but LogisticRegression was fitted with feature names\n",
      "  warnings.warn(\n",
      "/home/masdevas/.anaconda3/envs/nlp-unn/lib/python3.9/site-packages/daal4py/sklearn/linear_model/logistic_path.py:459: ConvergenceWarning: lbfgs failed to converge (status=1):\n",
      "STOP: TOTAL NO. of ITERATIONS REACHED LIMIT.\n",
      "\n",
      "Increase the number of iterations (max_iter) or scale the data as shown in:\n",
      "    https://scikit-learn.org/stable/modules/preprocessing.html\n",
      "Please also refer to the documentation for alternative solver options:\n",
      "    https://scikit-learn.org/stable/modules/linear_model.html#logistic-regression\n",
      "  n_iter_i = _check_optimize_result(\n",
      "/home/masdevas/.anaconda3/envs/nlp-unn/lib/python3.9/site-packages/sklearn/base.py:450: UserWarning: X does not have valid feature names, but LogisticRegression was fitted with feature names\n",
      "  warnings.warn(\n",
      "/home/masdevas/.anaconda3/envs/nlp-unn/lib/python3.9/site-packages/daal4py/sklearn/linear_model/logistic_path.py:459: ConvergenceWarning: lbfgs failed to converge (status=1):\n",
      "STOP: TOTAL NO. of ITERATIONS REACHED LIMIT.\n",
      "\n",
      "Increase the number of iterations (max_iter) or scale the data as shown in:\n",
      "    https://scikit-learn.org/stable/modules/preprocessing.html\n",
      "Please also refer to the documentation for alternative solver options:\n",
      "    https://scikit-learn.org/stable/modules/linear_model.html#logistic-regression\n",
      "  n_iter_i = _check_optimize_result(\n",
      "/home/masdevas/.anaconda3/envs/nlp-unn/lib/python3.9/site-packages/sklearn/base.py:450: UserWarning: X does not have valid feature names, but LogisticRegression was fitted with feature names\n",
      "  warnings.warn(\n",
      "/home/masdevas/.anaconda3/envs/nlp-unn/lib/python3.9/site-packages/daal4py/sklearn/linear_model/logistic_path.py:459: ConvergenceWarning: lbfgs failed to converge (status=1):\n",
      "STOP: TOTAL NO. of ITERATIONS REACHED LIMIT.\n",
      "\n",
      "Increase the number of iterations (max_iter) or scale the data as shown in:\n",
      "    https://scikit-learn.org/stable/modules/preprocessing.html\n",
      "Please also refer to the documentation for alternative solver options:\n",
      "    https://scikit-learn.org/stable/modules/linear_model.html#logistic-regression\n",
      "  n_iter_i = _check_optimize_result(\n",
      "/home/masdevas/.anaconda3/envs/nlp-unn/lib/python3.9/site-packages/sklearn/base.py:450: UserWarning: X does not have valid feature names, but LogisticRegression was fitted with feature names\n",
      "  warnings.warn(\n",
      "/home/masdevas/.anaconda3/envs/nlp-unn/lib/python3.9/site-packages/daal4py/sklearn/linear_model/logistic_path.py:459: ConvergenceWarning: lbfgs failed to converge (status=1):\n",
      "STOP: TOTAL NO. of ITERATIONS REACHED LIMIT.\n",
      "\n",
      "Increase the number of iterations (max_iter) or scale the data as shown in:\n",
      "    https://scikit-learn.org/stable/modules/preprocessing.html\n",
      "Please also refer to the documentation for alternative solver options:\n",
      "    https://scikit-learn.org/stable/modules/linear_model.html#logistic-regression\n",
      "  n_iter_i = _check_optimize_result(\n",
      "/home/masdevas/.anaconda3/envs/nlp-unn/lib/python3.9/site-packages/sklearn/base.py:450: UserWarning: X does not have valid feature names, but LogisticRegression was fitted with feature names\n",
      "  warnings.warn(\n",
      "/home/masdevas/.anaconda3/envs/nlp-unn/lib/python3.9/site-packages/daal4py/sklearn/linear_model/logistic_path.py:459: ConvergenceWarning: lbfgs failed to converge (status=1):\n",
      "STOP: TOTAL NO. of ITERATIONS REACHED LIMIT.\n",
      "\n",
      "Increase the number of iterations (max_iter) or scale the data as shown in:\n",
      "    https://scikit-learn.org/stable/modules/preprocessing.html\n",
      "Please also refer to the documentation for alternative solver options:\n",
      "    https://scikit-learn.org/stable/modules/linear_model.html#logistic-regression\n",
      "  n_iter_i = _check_optimize_result(\n",
      "/home/masdevas/.anaconda3/envs/nlp-unn/lib/python3.9/site-packages/sklearn/base.py:450: UserWarning: X does not have valid feature names, but LogisticRegression was fitted with feature names\n",
      "  warnings.warn(\n",
      "/home/masdevas/.anaconda3/envs/nlp-unn/lib/python3.9/site-packages/daal4py/sklearn/linear_model/logistic_path.py:459: ConvergenceWarning: lbfgs failed to converge (status=1):\n",
      "STOP: TOTAL NO. of ITERATIONS REACHED LIMIT.\n",
      "\n",
      "Increase the number of iterations (max_iter) or scale the data as shown in:\n",
      "    https://scikit-learn.org/stable/modules/preprocessing.html\n",
      "Please also refer to the documentation for alternative solver options:\n",
      "    https://scikit-learn.org/stable/modules/linear_model.html#logistic-regression\n",
      "  n_iter_i = _check_optimize_result(\n",
      "/home/masdevas/.anaconda3/envs/nlp-unn/lib/python3.9/site-packages/sklearn/base.py:450: UserWarning: X does not have valid feature names, but LogisticRegression was fitted with feature names\n",
      "  warnings.warn(\n",
      "/home/masdevas/.anaconda3/envs/nlp-unn/lib/python3.9/site-packages/daal4py/sklearn/linear_model/logistic_path.py:459: ConvergenceWarning: lbfgs failed to converge (status=1):\n",
      "STOP: TOTAL NO. of ITERATIONS REACHED LIMIT.\n",
      "\n",
      "Increase the number of iterations (max_iter) or scale the data as shown in:\n",
      "    https://scikit-learn.org/stable/modules/preprocessing.html\n",
      "Please also refer to the documentation for alternative solver options:\n",
      "    https://scikit-learn.org/stable/modules/linear_model.html#logistic-regression\n",
      "  n_iter_i = _check_optimize_result(\n",
      "/home/masdevas/.anaconda3/envs/nlp-unn/lib/python3.9/site-packages/sklearn/base.py:450: UserWarning: X does not have valid feature names, but LogisticRegression was fitted with feature names\n",
      "  warnings.warn(\n"
     ]
    },
    {
     "name": "stderr",
     "output_type": "stream",
     "text": [
      "/home/masdevas/.anaconda3/envs/nlp-unn/lib/python3.9/site-packages/daal4py/sklearn/linear_model/logistic_path.py:459: ConvergenceWarning: lbfgs failed to converge (status=1):\n",
      "STOP: TOTAL NO. of ITERATIONS REACHED LIMIT.\n",
      "\n",
      "Increase the number of iterations (max_iter) or scale the data as shown in:\n",
      "    https://scikit-learn.org/stable/modules/preprocessing.html\n",
      "Please also refer to the documentation for alternative solver options:\n",
      "    https://scikit-learn.org/stable/modules/linear_model.html#logistic-regression\n",
      "  n_iter_i = _check_optimize_result(\n",
      "/home/masdevas/.anaconda3/envs/nlp-unn/lib/python3.9/site-packages/sklearn/base.py:450: UserWarning: X does not have valid feature names, but LogisticRegression was fitted with feature names\n",
      "  warnings.warn(\n",
      "/home/masdevas/.anaconda3/envs/nlp-unn/lib/python3.9/site-packages/daal4py/sklearn/linear_model/logistic_path.py:459: ConvergenceWarning: lbfgs failed to converge (status=1):\n",
      "STOP: TOTAL NO. of ITERATIONS REACHED LIMIT.\n",
      "\n",
      "Increase the number of iterations (max_iter) or scale the data as shown in:\n",
      "    https://scikit-learn.org/stable/modules/preprocessing.html\n",
      "Please also refer to the documentation for alternative solver options:\n",
      "    https://scikit-learn.org/stable/modules/linear_model.html#logistic-regression\n",
      "  n_iter_i = _check_optimize_result(\n",
      "/home/masdevas/.anaconda3/envs/nlp-unn/lib/python3.9/site-packages/sklearn/base.py:450: UserWarning: X does not have valid feature names, but LogisticRegression was fitted with feature names\n",
      "  warnings.warn(\n",
      "/home/masdevas/.anaconda3/envs/nlp-unn/lib/python3.9/site-packages/daal4py/sklearn/linear_model/logistic_path.py:459: ConvergenceWarning: lbfgs failed to converge (status=1):\n",
      "STOP: TOTAL NO. of ITERATIONS REACHED LIMIT.\n",
      "\n",
      "Increase the number of iterations (max_iter) or scale the data as shown in:\n",
      "    https://scikit-learn.org/stable/modules/preprocessing.html\n",
      "Please also refer to the documentation for alternative solver options:\n",
      "    https://scikit-learn.org/stable/modules/linear_model.html#logistic-regression\n",
      "  n_iter_i = _check_optimize_result(\n",
      "/home/masdevas/.anaconda3/envs/nlp-unn/lib/python3.9/site-packages/sklearn/base.py:450: UserWarning: X does not have valid feature names, but LogisticRegression was fitted with feature names\n",
      "  warnings.warn(\n",
      "/home/masdevas/.anaconda3/envs/nlp-unn/lib/python3.9/site-packages/daal4py/sklearn/linear_model/logistic_path.py:459: ConvergenceWarning: lbfgs failed to converge (status=1):\n",
      "STOP: TOTAL NO. of ITERATIONS REACHED LIMIT.\n",
      "\n",
      "Increase the number of iterations (max_iter) or scale the data as shown in:\n",
      "    https://scikit-learn.org/stable/modules/preprocessing.html\n",
      "Please also refer to the documentation for alternative solver options:\n",
      "    https://scikit-learn.org/stable/modules/linear_model.html#logistic-regression\n",
      "  n_iter_i = _check_optimize_result(\n",
      "/home/masdevas/.anaconda3/envs/nlp-unn/lib/python3.9/site-packages/sklearn/base.py:450: UserWarning: X does not have valid feature names, but LogisticRegression was fitted with feature names\n",
      "  warnings.warn(\n",
      "/home/masdevas/.anaconda3/envs/nlp-unn/lib/python3.9/site-packages/daal4py/sklearn/linear_model/logistic_path.py:459: ConvergenceWarning: lbfgs failed to converge (status=1):\n",
      "STOP: TOTAL NO. of ITERATIONS REACHED LIMIT.\n",
      "\n",
      "Increase the number of iterations (max_iter) or scale the data as shown in:\n",
      "    https://scikit-learn.org/stable/modules/preprocessing.html\n",
      "Please also refer to the documentation for alternative solver options:\n",
      "    https://scikit-learn.org/stable/modules/linear_model.html#logistic-regression\n",
      "  n_iter_i = _check_optimize_result(\n",
      "/home/masdevas/.anaconda3/envs/nlp-unn/lib/python3.9/site-packages/sklearn/base.py:450: UserWarning: X does not have valid feature names, but LogisticRegression was fitted with feature names\n",
      "  warnings.warn(\n",
      "/home/masdevas/.anaconda3/envs/nlp-unn/lib/python3.9/site-packages/daal4py/sklearn/linear_model/logistic_path.py:459: ConvergenceWarning: lbfgs failed to converge (status=1):\n",
      "STOP: TOTAL NO. of ITERATIONS REACHED LIMIT.\n",
      "\n",
      "Increase the number of iterations (max_iter) or scale the data as shown in:\n",
      "    https://scikit-learn.org/stable/modules/preprocessing.html\n",
      "Please also refer to the documentation for alternative solver options:\n",
      "    https://scikit-learn.org/stable/modules/linear_model.html#logistic-regression\n",
      "  n_iter_i = _check_optimize_result(\n",
      "/home/masdevas/.anaconda3/envs/nlp-unn/lib/python3.9/site-packages/sklearn/base.py:450: UserWarning: X does not have valid feature names, but LogisticRegression was fitted with feature names\n",
      "  warnings.warn(\n",
      "/home/masdevas/.anaconda3/envs/nlp-unn/lib/python3.9/site-packages/daal4py/sklearn/linear_model/logistic_path.py:459: ConvergenceWarning: lbfgs failed to converge (status=1):\n",
      "STOP: TOTAL NO. of ITERATIONS REACHED LIMIT.\n",
      "\n",
      "Increase the number of iterations (max_iter) or scale the data as shown in:\n",
      "    https://scikit-learn.org/stable/modules/preprocessing.html\n",
      "Please also refer to the documentation for alternative solver options:\n",
      "    https://scikit-learn.org/stable/modules/linear_model.html#logistic-regression\n",
      "  n_iter_i = _check_optimize_result(\n",
      "/home/masdevas/.anaconda3/envs/nlp-unn/lib/python3.9/site-packages/sklearn/base.py:450: UserWarning: X does not have valid feature names, but LogisticRegression was fitted with feature names\n",
      "  warnings.warn(\n",
      "/home/masdevas/.anaconda3/envs/nlp-unn/lib/python3.9/site-packages/daal4py/sklearn/linear_model/logistic_path.py:459: ConvergenceWarning: lbfgs failed to converge (status=1):\n",
      "STOP: TOTAL NO. of ITERATIONS REACHED LIMIT.\n",
      "\n",
      "Increase the number of iterations (max_iter) or scale the data as shown in:\n",
      "    https://scikit-learn.org/stable/modules/preprocessing.html\n",
      "Please also refer to the documentation for alternative solver options:\n",
      "    https://scikit-learn.org/stable/modules/linear_model.html#logistic-regression\n",
      "  n_iter_i = _check_optimize_result(\n",
      "/home/masdevas/.anaconda3/envs/nlp-unn/lib/python3.9/site-packages/sklearn/base.py:450: UserWarning: X does not have valid feature names, but LogisticRegression was fitted with feature names\n",
      "  warnings.warn(\n",
      "/home/masdevas/.anaconda3/envs/nlp-unn/lib/python3.9/site-packages/daal4py/sklearn/linear_model/logistic_path.py:459: ConvergenceWarning: lbfgs failed to converge (status=1):\n",
      "STOP: TOTAL NO. of ITERATIONS REACHED LIMIT.\n",
      "\n",
      "Increase the number of iterations (max_iter) or scale the data as shown in:\n",
      "    https://scikit-learn.org/stable/modules/preprocessing.html\n",
      "Please also refer to the documentation for alternative solver options:\n",
      "    https://scikit-learn.org/stable/modules/linear_model.html#logistic-regression\n",
      "  n_iter_i = _check_optimize_result(\n",
      "/home/masdevas/.anaconda3/envs/nlp-unn/lib/python3.9/site-packages/sklearn/base.py:450: UserWarning: X does not have valid feature names, but LogisticRegression was fitted with feature names\n",
      "  warnings.warn(\n",
      "/home/masdevas/.anaconda3/envs/nlp-unn/lib/python3.9/site-packages/daal4py/sklearn/linear_model/logistic_path.py:459: ConvergenceWarning: lbfgs failed to converge (status=1):\n",
      "STOP: TOTAL NO. of ITERATIONS REACHED LIMIT.\n",
      "\n",
      "Increase the number of iterations (max_iter) or scale the data as shown in:\n",
      "    https://scikit-learn.org/stable/modules/preprocessing.html\n",
      "Please also refer to the documentation for alternative solver options:\n",
      "    https://scikit-learn.org/stable/modules/linear_model.html#logistic-regression\n",
      "  n_iter_i = _check_optimize_result(\n",
      "/home/masdevas/.anaconda3/envs/nlp-unn/lib/python3.9/site-packages/sklearn/base.py:450: UserWarning: X does not have valid feature names, but LogisticRegression was fitted with feature names\n",
      "  warnings.warn(\n",
      "/home/masdevas/.anaconda3/envs/nlp-unn/lib/python3.9/site-packages/daal4py/sklearn/linear_model/logistic_path.py:459: ConvergenceWarning: lbfgs failed to converge (status=1):\n",
      "STOP: TOTAL NO. of ITERATIONS REACHED LIMIT.\n",
      "\n",
      "Increase the number of iterations (max_iter) or scale the data as shown in:\n",
      "    https://scikit-learn.org/stable/modules/preprocessing.html\n",
      "Please also refer to the documentation for alternative solver options:\n",
      "    https://scikit-learn.org/stable/modules/linear_model.html#logistic-regression\n",
      "  n_iter_i = _check_optimize_result(\n",
      "/home/masdevas/.anaconda3/envs/nlp-unn/lib/python3.9/site-packages/sklearn/base.py:450: UserWarning: X does not have valid feature names, but LogisticRegression was fitted with feature names\n",
      "  warnings.warn(\n"
     ]
    },
    {
     "name": "stderr",
     "output_type": "stream",
     "text": [
      "/home/masdevas/.anaconda3/envs/nlp-unn/lib/python3.9/site-packages/daal4py/sklearn/linear_model/logistic_path.py:459: ConvergenceWarning: lbfgs failed to converge (status=1):\n",
      "STOP: TOTAL NO. of ITERATIONS REACHED LIMIT.\n",
      "\n",
      "Increase the number of iterations (max_iter) or scale the data as shown in:\n",
      "    https://scikit-learn.org/stable/modules/preprocessing.html\n",
      "Please also refer to the documentation for alternative solver options:\n",
      "    https://scikit-learn.org/stable/modules/linear_model.html#logistic-regression\n",
      "  n_iter_i = _check_optimize_result(\n",
      "/home/masdevas/.anaconda3/envs/nlp-unn/lib/python3.9/site-packages/sklearn/base.py:450: UserWarning: X does not have valid feature names, but LogisticRegression was fitted with feature names\n",
      "  warnings.warn(\n",
      "/home/masdevas/.anaconda3/envs/nlp-unn/lib/python3.9/site-packages/daal4py/sklearn/linear_model/logistic_path.py:459: ConvergenceWarning: lbfgs failed to converge (status=1):\n",
      "STOP: TOTAL NO. of ITERATIONS REACHED LIMIT.\n",
      "\n",
      "Increase the number of iterations (max_iter) or scale the data as shown in:\n",
      "    https://scikit-learn.org/stable/modules/preprocessing.html\n",
      "Please also refer to the documentation for alternative solver options:\n",
      "    https://scikit-learn.org/stable/modules/linear_model.html#logistic-regression\n",
      "  n_iter_i = _check_optimize_result(\n",
      "/home/masdevas/.anaconda3/envs/nlp-unn/lib/python3.9/site-packages/sklearn/base.py:450: UserWarning: X does not have valid feature names, but LogisticRegression was fitted with feature names\n",
      "  warnings.warn(\n",
      "/home/masdevas/.anaconda3/envs/nlp-unn/lib/python3.9/site-packages/daal4py/sklearn/linear_model/logistic_path.py:459: ConvergenceWarning: lbfgs failed to converge (status=1):\n",
      "STOP: TOTAL NO. of ITERATIONS REACHED LIMIT.\n",
      "\n",
      "Increase the number of iterations (max_iter) or scale the data as shown in:\n",
      "    https://scikit-learn.org/stable/modules/preprocessing.html\n",
      "Please also refer to the documentation for alternative solver options:\n",
      "    https://scikit-learn.org/stable/modules/linear_model.html#logistic-regression\n",
      "  n_iter_i = _check_optimize_result(\n",
      "/home/masdevas/.anaconda3/envs/nlp-unn/lib/python3.9/site-packages/sklearn/base.py:450: UserWarning: X does not have valid feature names, but LogisticRegression was fitted with feature names\n",
      "  warnings.warn(\n",
      "/home/masdevas/.anaconda3/envs/nlp-unn/lib/python3.9/site-packages/daal4py/sklearn/linear_model/logistic_path.py:459: ConvergenceWarning: lbfgs failed to converge (status=1):\n",
      "STOP: TOTAL NO. of ITERATIONS REACHED LIMIT.\n",
      "\n",
      "Increase the number of iterations (max_iter) or scale the data as shown in:\n",
      "    https://scikit-learn.org/stable/modules/preprocessing.html\n",
      "Please also refer to the documentation for alternative solver options:\n",
      "    https://scikit-learn.org/stable/modules/linear_model.html#logistic-regression\n",
      "  n_iter_i = _check_optimize_result(\n",
      "/home/masdevas/.anaconda3/envs/nlp-unn/lib/python3.9/site-packages/sklearn/base.py:450: UserWarning: X does not have valid feature names, but LogisticRegression was fitted with feature names\n",
      "  warnings.warn(\n",
      "/home/masdevas/.anaconda3/envs/nlp-unn/lib/python3.9/site-packages/daal4py/sklearn/linear_model/logistic_path.py:459: ConvergenceWarning: lbfgs failed to converge (status=1):\n",
      "STOP: TOTAL NO. of ITERATIONS REACHED LIMIT.\n",
      "\n",
      "Increase the number of iterations (max_iter) or scale the data as shown in:\n",
      "    https://scikit-learn.org/stable/modules/preprocessing.html\n",
      "Please also refer to the documentation for alternative solver options:\n",
      "    https://scikit-learn.org/stable/modules/linear_model.html#logistic-regression\n",
      "  n_iter_i = _check_optimize_result(\n",
      "/home/masdevas/.anaconda3/envs/nlp-unn/lib/python3.9/site-packages/sklearn/base.py:450: UserWarning: X does not have valid feature names, but LogisticRegression was fitted with feature names\n",
      "  warnings.warn(\n",
      "/home/masdevas/.anaconda3/envs/nlp-unn/lib/python3.9/site-packages/daal4py/sklearn/linear_model/logistic_path.py:459: ConvergenceWarning: lbfgs failed to converge (status=1):\n",
      "STOP: TOTAL NO. of ITERATIONS REACHED LIMIT.\n",
      "\n",
      "Increase the number of iterations (max_iter) or scale the data as shown in:\n",
      "    https://scikit-learn.org/stable/modules/preprocessing.html\n",
      "Please also refer to the documentation for alternative solver options:\n",
      "    https://scikit-learn.org/stable/modules/linear_model.html#logistic-regression\n",
      "  n_iter_i = _check_optimize_result(\n",
      "/home/masdevas/.anaconda3/envs/nlp-unn/lib/python3.9/site-packages/sklearn/base.py:450: UserWarning: X does not have valid feature names, but LogisticRegression was fitted with feature names\n",
      "  warnings.warn(\n",
      "/home/masdevas/.anaconda3/envs/nlp-unn/lib/python3.9/site-packages/daal4py/sklearn/linear_model/logistic_path.py:459: ConvergenceWarning: lbfgs failed to converge (status=1):\n",
      "STOP: TOTAL NO. of ITERATIONS REACHED LIMIT.\n",
      "\n",
      "Increase the number of iterations (max_iter) or scale the data as shown in:\n",
      "    https://scikit-learn.org/stable/modules/preprocessing.html\n",
      "Please also refer to the documentation for alternative solver options:\n",
      "    https://scikit-learn.org/stable/modules/linear_model.html#logistic-regression\n",
      "  n_iter_i = _check_optimize_result(\n",
      "/home/masdevas/.anaconda3/envs/nlp-unn/lib/python3.9/site-packages/sklearn/base.py:450: UserWarning: X does not have valid feature names, but LogisticRegression was fitted with feature names\n",
      "  warnings.warn(\n",
      "/home/masdevas/.anaconda3/envs/nlp-unn/lib/python3.9/site-packages/daal4py/sklearn/linear_model/logistic_path.py:459: ConvergenceWarning: lbfgs failed to converge (status=1):\n",
      "STOP: TOTAL NO. of ITERATIONS REACHED LIMIT.\n",
      "\n",
      "Increase the number of iterations (max_iter) or scale the data as shown in:\n",
      "    https://scikit-learn.org/stable/modules/preprocessing.html\n",
      "Please also refer to the documentation for alternative solver options:\n",
      "    https://scikit-learn.org/stable/modules/linear_model.html#logistic-regression\n",
      "  n_iter_i = _check_optimize_result(\n",
      "/home/masdevas/.anaconda3/envs/nlp-unn/lib/python3.9/site-packages/sklearn/base.py:450: UserWarning: X does not have valid feature names, but LogisticRegression was fitted with feature names\n",
      "  warnings.warn(\n",
      "/home/masdevas/.anaconda3/envs/nlp-unn/lib/python3.9/site-packages/daal4py/sklearn/linear_model/logistic_path.py:459: ConvergenceWarning: lbfgs failed to converge (status=1):\n",
      "STOP: TOTAL NO. of ITERATIONS REACHED LIMIT.\n",
      "\n",
      "Increase the number of iterations (max_iter) or scale the data as shown in:\n",
      "    https://scikit-learn.org/stable/modules/preprocessing.html\n",
      "Please also refer to the documentation for alternative solver options:\n",
      "    https://scikit-learn.org/stable/modules/linear_model.html#logistic-regression\n",
      "  n_iter_i = _check_optimize_result(\n",
      "/home/masdevas/.anaconda3/envs/nlp-unn/lib/python3.9/site-packages/sklearn/base.py:450: UserWarning: X does not have valid feature names, but LogisticRegression was fitted with feature names\n",
      "  warnings.warn(\n",
      "/home/masdevas/.anaconda3/envs/nlp-unn/lib/python3.9/site-packages/daal4py/sklearn/linear_model/logistic_path.py:459: ConvergenceWarning: lbfgs failed to converge (status=1):\n",
      "STOP: TOTAL NO. of ITERATIONS REACHED LIMIT.\n",
      "\n",
      "Increase the number of iterations (max_iter) or scale the data as shown in:\n",
      "    https://scikit-learn.org/stable/modules/preprocessing.html\n",
      "Please also refer to the documentation for alternative solver options:\n",
      "    https://scikit-learn.org/stable/modules/linear_model.html#logistic-regression\n",
      "  n_iter_i = _check_optimize_result(\n",
      "/home/masdevas/.anaconda3/envs/nlp-unn/lib/python3.9/site-packages/sklearn/base.py:450: UserWarning: X does not have valid feature names, but LogisticRegression was fitted with feature names\n",
      "  warnings.warn(\n",
      "/home/masdevas/.anaconda3/envs/nlp-unn/lib/python3.9/site-packages/daal4py/sklearn/linear_model/logistic_path.py:459: ConvergenceWarning: lbfgs failed to converge (status=1):\n",
      "STOP: TOTAL NO. of ITERATIONS REACHED LIMIT.\n",
      "\n",
      "Increase the number of iterations (max_iter) or scale the data as shown in:\n",
      "    https://scikit-learn.org/stable/modules/preprocessing.html\n",
      "Please also refer to the documentation for alternative solver options:\n",
      "    https://scikit-learn.org/stable/modules/linear_model.html#logistic-regression\n",
      "  n_iter_i = _check_optimize_result(\n",
      "/home/masdevas/.anaconda3/envs/nlp-unn/lib/python3.9/site-packages/sklearn/base.py:450: UserWarning: X does not have valid feature names, but LogisticRegression was fitted with feature names\n",
      "  warnings.warn(\n"
     ]
    },
    {
     "name": "stderr",
     "output_type": "stream",
     "text": [
      "/home/masdevas/.anaconda3/envs/nlp-unn/lib/python3.9/site-packages/daal4py/sklearn/linear_model/logistic_path.py:459: ConvergenceWarning: lbfgs failed to converge (status=1):\n",
      "STOP: TOTAL NO. of ITERATIONS REACHED LIMIT.\n",
      "\n",
      "Increase the number of iterations (max_iter) or scale the data as shown in:\n",
      "    https://scikit-learn.org/stable/modules/preprocessing.html\n",
      "Please also refer to the documentation for alternative solver options:\n",
      "    https://scikit-learn.org/stable/modules/linear_model.html#logistic-regression\n",
      "  n_iter_i = _check_optimize_result(\n",
      "/home/masdevas/.anaconda3/envs/nlp-unn/lib/python3.9/site-packages/sklearn/base.py:450: UserWarning: X does not have valid feature names, but LogisticRegression was fitted with feature names\n",
      "  warnings.warn(\n",
      "/home/masdevas/.anaconda3/envs/nlp-unn/lib/python3.9/site-packages/daal4py/sklearn/linear_model/logistic_path.py:459: ConvergenceWarning: lbfgs failed to converge (status=1):\n",
      "STOP: TOTAL NO. of ITERATIONS REACHED LIMIT.\n",
      "\n",
      "Increase the number of iterations (max_iter) or scale the data as shown in:\n",
      "    https://scikit-learn.org/stable/modules/preprocessing.html\n",
      "Please also refer to the documentation for alternative solver options:\n",
      "    https://scikit-learn.org/stable/modules/linear_model.html#logistic-regression\n",
      "  n_iter_i = _check_optimize_result(\n",
      "/home/masdevas/.anaconda3/envs/nlp-unn/lib/python3.9/site-packages/sklearn/base.py:450: UserWarning: X does not have valid feature names, but LogisticRegression was fitted with feature names\n",
      "  warnings.warn(\n",
      "/home/masdevas/.anaconda3/envs/nlp-unn/lib/python3.9/site-packages/daal4py/sklearn/linear_model/logistic_path.py:459: ConvergenceWarning: lbfgs failed to converge (status=1):\n",
      "STOP: TOTAL NO. of ITERATIONS REACHED LIMIT.\n",
      "\n",
      "Increase the number of iterations (max_iter) or scale the data as shown in:\n",
      "    https://scikit-learn.org/stable/modules/preprocessing.html\n",
      "Please also refer to the documentation for alternative solver options:\n",
      "    https://scikit-learn.org/stable/modules/linear_model.html#logistic-regression\n",
      "  n_iter_i = _check_optimize_result(\n",
      "/home/masdevas/.anaconda3/envs/nlp-unn/lib/python3.9/site-packages/sklearn/base.py:450: UserWarning: X does not have valid feature names, but LogisticRegression was fitted with feature names\n",
      "  warnings.warn(\n",
      "/home/masdevas/.anaconda3/envs/nlp-unn/lib/python3.9/site-packages/daal4py/sklearn/linear_model/logistic_path.py:459: ConvergenceWarning: lbfgs failed to converge (status=1):\n",
      "STOP: TOTAL NO. of ITERATIONS REACHED LIMIT.\n",
      "\n",
      "Increase the number of iterations (max_iter) or scale the data as shown in:\n",
      "    https://scikit-learn.org/stable/modules/preprocessing.html\n",
      "Please also refer to the documentation for alternative solver options:\n",
      "    https://scikit-learn.org/stable/modules/linear_model.html#logistic-regression\n",
      "  n_iter_i = _check_optimize_result(\n",
      "/home/masdevas/.anaconda3/envs/nlp-unn/lib/python3.9/site-packages/sklearn/base.py:450: UserWarning: X does not have valid feature names, but LogisticRegression was fitted with feature names\n",
      "  warnings.warn(\n",
      "/home/masdevas/.anaconda3/envs/nlp-unn/lib/python3.9/site-packages/daal4py/sklearn/linear_model/logistic_path.py:459: ConvergenceWarning: lbfgs failed to converge (status=1):\n",
      "STOP: TOTAL NO. of ITERATIONS REACHED LIMIT.\n",
      "\n",
      "Increase the number of iterations (max_iter) or scale the data as shown in:\n",
      "    https://scikit-learn.org/stable/modules/preprocessing.html\n",
      "Please also refer to the documentation for alternative solver options:\n",
      "    https://scikit-learn.org/stable/modules/linear_model.html#logistic-regression\n",
      "  n_iter_i = _check_optimize_result(\n",
      "/home/masdevas/.anaconda3/envs/nlp-unn/lib/python3.9/site-packages/sklearn/base.py:450: UserWarning: X does not have valid feature names, but LogisticRegression was fitted with feature names\n",
      "  warnings.warn(\n",
      "/home/masdevas/.anaconda3/envs/nlp-unn/lib/python3.9/site-packages/daal4py/sklearn/linear_model/logistic_path.py:459: ConvergenceWarning: lbfgs failed to converge (status=1):\n",
      "STOP: TOTAL NO. of ITERATIONS REACHED LIMIT.\n",
      "\n",
      "Increase the number of iterations (max_iter) or scale the data as shown in:\n",
      "    https://scikit-learn.org/stable/modules/preprocessing.html\n",
      "Please also refer to the documentation for alternative solver options:\n",
      "    https://scikit-learn.org/stable/modules/linear_model.html#logistic-regression\n",
      "  n_iter_i = _check_optimize_result(\n",
      "/home/masdevas/.anaconda3/envs/nlp-unn/lib/python3.9/site-packages/sklearn/base.py:450: UserWarning: X does not have valid feature names, but LogisticRegression was fitted with feature names\n",
      "  warnings.warn(\n",
      "/home/masdevas/.anaconda3/envs/nlp-unn/lib/python3.9/site-packages/daal4py/sklearn/linear_model/logistic_path.py:459: ConvergenceWarning: lbfgs failed to converge (status=1):\n",
      "STOP: TOTAL NO. of ITERATIONS REACHED LIMIT.\n",
      "\n",
      "Increase the number of iterations (max_iter) or scale the data as shown in:\n",
      "    https://scikit-learn.org/stable/modules/preprocessing.html\n",
      "Please also refer to the documentation for alternative solver options:\n",
      "    https://scikit-learn.org/stable/modules/linear_model.html#logistic-regression\n",
      "  n_iter_i = _check_optimize_result(\n",
      "/home/masdevas/.anaconda3/envs/nlp-unn/lib/python3.9/site-packages/sklearn/base.py:450: UserWarning: X does not have valid feature names, but LogisticRegression was fitted with feature names\n",
      "  warnings.warn(\n",
      "/home/masdevas/.anaconda3/envs/nlp-unn/lib/python3.9/site-packages/daal4py/sklearn/linear_model/logistic_path.py:459: ConvergenceWarning: lbfgs failed to converge (status=1):\n",
      "STOP: TOTAL NO. of ITERATIONS REACHED LIMIT.\n",
      "\n",
      "Increase the number of iterations (max_iter) or scale the data as shown in:\n",
      "    https://scikit-learn.org/stable/modules/preprocessing.html\n",
      "Please also refer to the documentation for alternative solver options:\n",
      "    https://scikit-learn.org/stable/modules/linear_model.html#logistic-regression\n",
      "  n_iter_i = _check_optimize_result(\n",
      "/home/masdevas/.anaconda3/envs/nlp-unn/lib/python3.9/site-packages/sklearn/base.py:450: UserWarning: X does not have valid feature names, but LogisticRegression was fitted with feature names\n",
      "  warnings.warn(\n",
      "/home/masdevas/.anaconda3/envs/nlp-unn/lib/python3.9/site-packages/daal4py/sklearn/linear_model/logistic_path.py:459: ConvergenceWarning: lbfgs failed to converge (status=1):\n",
      "STOP: TOTAL NO. of ITERATIONS REACHED LIMIT.\n",
      "\n",
      "Increase the number of iterations (max_iter) or scale the data as shown in:\n",
      "    https://scikit-learn.org/stable/modules/preprocessing.html\n",
      "Please also refer to the documentation for alternative solver options:\n",
      "    https://scikit-learn.org/stable/modules/linear_model.html#logistic-regression\n",
      "  n_iter_i = _check_optimize_result(\n",
      "/home/masdevas/.anaconda3/envs/nlp-unn/lib/python3.9/site-packages/sklearn/base.py:450: UserWarning: X does not have valid feature names, but LogisticRegression was fitted with feature names\n",
      "  warnings.warn(\n",
      "/home/masdevas/.anaconda3/envs/nlp-unn/lib/python3.9/site-packages/daal4py/sklearn/linear_model/logistic_path.py:459: ConvergenceWarning: lbfgs failed to converge (status=1):\n",
      "STOP: TOTAL NO. of ITERATIONS REACHED LIMIT.\n",
      "\n",
      "Increase the number of iterations (max_iter) or scale the data as shown in:\n",
      "    https://scikit-learn.org/stable/modules/preprocessing.html\n",
      "Please also refer to the documentation for alternative solver options:\n",
      "    https://scikit-learn.org/stable/modules/linear_model.html#logistic-regression\n",
      "  n_iter_i = _check_optimize_result(\n",
      "/home/masdevas/.anaconda3/envs/nlp-unn/lib/python3.9/site-packages/sklearn/base.py:450: UserWarning: X does not have valid feature names, but LogisticRegression was fitted with feature names\n",
      "  warnings.warn(\n",
      "/home/masdevas/.anaconda3/envs/nlp-unn/lib/python3.9/site-packages/daal4py/sklearn/linear_model/logistic_path.py:459: ConvergenceWarning: lbfgs failed to converge (status=1):\n",
      "STOP: TOTAL NO. of ITERATIONS REACHED LIMIT.\n",
      "\n",
      "Increase the number of iterations (max_iter) or scale the data as shown in:\n",
      "    https://scikit-learn.org/stable/modules/preprocessing.html\n",
      "Please also refer to the documentation for alternative solver options:\n",
      "    https://scikit-learn.org/stable/modules/linear_model.html#logistic-regression\n",
      "  n_iter_i = _check_optimize_result(\n",
      "/home/masdevas/.anaconda3/envs/nlp-unn/lib/python3.9/site-packages/sklearn/base.py:450: UserWarning: X does not have valid feature names, but LogisticRegression was fitted with feature names\n",
      "  warnings.warn(\n"
     ]
    },
    {
     "name": "stderr",
     "output_type": "stream",
     "text": [
      "/home/masdevas/.anaconda3/envs/nlp-unn/lib/python3.9/site-packages/daal4py/sklearn/linear_model/logistic_path.py:459: ConvergenceWarning: lbfgs failed to converge (status=1):\n",
      "STOP: TOTAL NO. of ITERATIONS REACHED LIMIT.\n",
      "\n",
      "Increase the number of iterations (max_iter) or scale the data as shown in:\n",
      "    https://scikit-learn.org/stable/modules/preprocessing.html\n",
      "Please also refer to the documentation for alternative solver options:\n",
      "    https://scikit-learn.org/stable/modules/linear_model.html#logistic-regression\n",
      "  n_iter_i = _check_optimize_result(\n",
      "/home/masdevas/.anaconda3/envs/nlp-unn/lib/python3.9/site-packages/sklearn/base.py:450: UserWarning: X does not have valid feature names, but LogisticRegression was fitted with feature names\n",
      "  warnings.warn(\n",
      "/home/masdevas/.anaconda3/envs/nlp-unn/lib/python3.9/site-packages/daal4py/sklearn/linear_model/logistic_path.py:459: ConvergenceWarning: lbfgs failed to converge (status=1):\n",
      "STOP: TOTAL NO. of ITERATIONS REACHED LIMIT.\n",
      "\n",
      "Increase the number of iterations (max_iter) or scale the data as shown in:\n",
      "    https://scikit-learn.org/stable/modules/preprocessing.html\n",
      "Please also refer to the documentation for alternative solver options:\n",
      "    https://scikit-learn.org/stable/modules/linear_model.html#logistic-regression\n",
      "  n_iter_i = _check_optimize_result(\n",
      "/home/masdevas/.anaconda3/envs/nlp-unn/lib/python3.9/site-packages/sklearn/base.py:450: UserWarning: X does not have valid feature names, but LogisticRegression was fitted with feature names\n",
      "  warnings.warn(\n",
      "/home/masdevas/.anaconda3/envs/nlp-unn/lib/python3.9/site-packages/daal4py/sklearn/linear_model/logistic_path.py:459: ConvergenceWarning: lbfgs failed to converge (status=1):\n",
      "STOP: TOTAL NO. of ITERATIONS REACHED LIMIT.\n",
      "\n",
      "Increase the number of iterations (max_iter) or scale the data as shown in:\n",
      "    https://scikit-learn.org/stable/modules/preprocessing.html\n",
      "Please also refer to the documentation for alternative solver options:\n",
      "    https://scikit-learn.org/stable/modules/linear_model.html#logistic-regression\n",
      "  n_iter_i = _check_optimize_result(\n",
      "/home/masdevas/.anaconda3/envs/nlp-unn/lib/python3.9/site-packages/sklearn/base.py:450: UserWarning: X does not have valid feature names, but LogisticRegression was fitted with feature names\n",
      "  warnings.warn(\n",
      "/home/masdevas/.anaconda3/envs/nlp-unn/lib/python3.9/site-packages/daal4py/sklearn/linear_model/logistic_path.py:459: ConvergenceWarning: lbfgs failed to converge (status=1):\n",
      "STOP: TOTAL NO. of ITERATIONS REACHED LIMIT.\n",
      "\n",
      "Increase the number of iterations (max_iter) or scale the data as shown in:\n",
      "    https://scikit-learn.org/stable/modules/preprocessing.html\n",
      "Please also refer to the documentation for alternative solver options:\n",
      "    https://scikit-learn.org/stable/modules/linear_model.html#logistic-regression\n",
      "  n_iter_i = _check_optimize_result(\n",
      "/home/masdevas/.anaconda3/envs/nlp-unn/lib/python3.9/site-packages/sklearn/base.py:450: UserWarning: X does not have valid feature names, but LogisticRegression was fitted with feature names\n",
      "  warnings.warn(\n",
      "INFO:nlp:ML part fitting. Best score: 0.6575779790356107, best params: {'classifier': 'LogReg', 'C': 0.018692650765169263}\n",
      "/home/masdevas/.anaconda3/envs/nlp-unn/lib/python3.9/site-packages/daal4py/sklearn/linear_model/logistic_path.py:459: ConvergenceWarning: lbfgs failed to converge (status=1):\n",
      "STOP: TOTAL NO. of ITERATIONS REACHED LIMIT.\n",
      "\n",
      "Increase the number of iterations (max_iter) or scale the data as shown in:\n",
      "    https://scikit-learn.org/stable/modules/preprocessing.html\n",
      "Please also refer to the documentation for alternative solver options:\n",
      "    https://scikit-learn.org/stable/modules/linear_model.html#logistic-regression\n",
      "  n_iter_i = _check_optimize_result(\n"
     ]
    }
   ],
   "source": [
    "train_bow_data, train_bow_labels, bow_precomputed = prepare_data_pandas(train_data, titles['Train'], bodies['Train'], good_tags_index, interesting_rare_indices, dtype=np.float32, vectorizer=CountVectorizer)\n",
    "test_bow_data, test_bow_labels, _ = prepare_data_pandas(valid_data, titles['Test'], bodies['Test'], good_tags_index, interesting_rare_indices, dtype=np.float32, vectorizer=CountVectorizer, precomputed=bow_precomputed)\n",
    "bow_model, bow_study = train_ml_pandas(train_bow_data, train_bow_labels, test_bow_data, test_bow_labels, CountVectorizer)"
   ]
  },
  {
   "cell_type": "code",
   "execution_count": 36,
   "metadata": {},
   "outputs": [
    {
     "data": {
      "text/plain": [
       "LogisticRegression(C=0.018692650765169263)"
      ]
     },
     "execution_count": 36,
     "metadata": {},
     "output_type": "execute_result"
    }
   ],
   "source": [
    "bow_model"
   ]
  },
  {
   "cell_type": "code",
   "execution_count": 37,
   "metadata": {},
   "outputs": [
    {
     "data": {
      "text/plain": [
       "0.6575779790356107"
      ]
     },
     "execution_count": 37,
     "metadata": {},
     "output_type": "execute_result"
    }
   ],
   "source": [
    "bow_study.best_value"
   ]
  },
  {
   "cell_type": "code",
   "execution_count": 38,
   "metadata": {},
   "outputs": [
    {
     "data": {
      "text/plain": [
       "0"
      ]
     },
     "execution_count": 38,
     "metadata": {},
     "output_type": "execute_result"
    }
   ],
   "source": [
    "del train_bow_data, train_bow_labels, bow_precomputed, test_bow_data, test_bow_labels, bow_model, bow_study, _\n",
    "gc.collect()"
   ]
  },
  {
   "cell_type": "markdown",
   "metadata": {},
   "source": [
    "## Tfidf with ML training"
   ]
  },
  {
   "cell_type": "code",
   "execution_count": 39,
   "metadata": {
    "scrolled": true
   },
   "outputs": [
    {
     "name": "stderr",
     "output_type": "stream",
     "text": [
      "/home/masdevas/.anaconda3/envs/nlp-unn/lib/python3.9/site-packages/sklearn/base.py:450: UserWarning: X does not have valid feature names, but LogisticRegression was fitted with feature names\n",
      "  warnings.warn(\n",
      "/home/masdevas/.anaconda3/envs/nlp-unn/lib/python3.9/site-packages/daal4py/sklearn/linear_model/logistic_path.py:459: ConvergenceWarning: lbfgs failed to converge (status=1):\n",
      "STOP: TOTAL NO. of ITERATIONS REACHED LIMIT.\n",
      "\n",
      "Increase the number of iterations (max_iter) or scale the data as shown in:\n",
      "    https://scikit-learn.org/stable/modules/preprocessing.html\n",
      "Please also refer to the documentation for alternative solver options:\n",
      "    https://scikit-learn.org/stable/modules/linear_model.html#logistic-regression\n",
      "  n_iter_i = _check_optimize_result(\n",
      "/home/masdevas/.anaconda3/envs/nlp-unn/lib/python3.9/site-packages/sklearn/base.py:450: UserWarning: X does not have valid feature names, but LogisticRegression was fitted with feature names\n",
      "  warnings.warn(\n",
      "/home/masdevas/.anaconda3/envs/nlp-unn/lib/python3.9/site-packages/daal4py/sklearn/linear_model/logistic_path.py:459: ConvergenceWarning: lbfgs failed to converge (status=1):\n",
      "STOP: TOTAL NO. of ITERATIONS REACHED LIMIT.\n",
      "\n",
      "Increase the number of iterations (max_iter) or scale the data as shown in:\n",
      "    https://scikit-learn.org/stable/modules/preprocessing.html\n",
      "Please also refer to the documentation for alternative solver options:\n",
      "    https://scikit-learn.org/stable/modules/linear_model.html#logistic-regression\n",
      "  n_iter_i = _check_optimize_result(\n",
      "/home/masdevas/.anaconda3/envs/nlp-unn/lib/python3.9/site-packages/sklearn/base.py:450: UserWarning: X does not have valid feature names, but LogisticRegression was fitted with feature names\n",
      "  warnings.warn(\n",
      "/home/masdevas/.anaconda3/envs/nlp-unn/lib/python3.9/site-packages/daal4py/sklearn/linear_model/logistic_path.py:459: ConvergenceWarning: lbfgs failed to converge (status=1):\n",
      "STOP: TOTAL NO. of ITERATIONS REACHED LIMIT.\n",
      "\n",
      "Increase the number of iterations (max_iter) or scale the data as shown in:\n",
      "    https://scikit-learn.org/stable/modules/preprocessing.html\n",
      "Please also refer to the documentation for alternative solver options:\n",
      "    https://scikit-learn.org/stable/modules/linear_model.html#logistic-regression\n",
      "  n_iter_i = _check_optimize_result(\n",
      "/home/masdevas/.anaconda3/envs/nlp-unn/lib/python3.9/site-packages/sklearn/base.py:450: UserWarning: X does not have valid feature names, but LogisticRegression was fitted with feature names\n",
      "  warnings.warn(\n",
      "/home/masdevas/.anaconda3/envs/nlp-unn/lib/python3.9/site-packages/daal4py/sklearn/linear_model/logistic_path.py:459: ConvergenceWarning: lbfgs failed to converge (status=1):\n",
      "STOP: TOTAL NO. of ITERATIONS REACHED LIMIT.\n",
      "\n",
      "Increase the number of iterations (max_iter) or scale the data as shown in:\n",
      "    https://scikit-learn.org/stable/modules/preprocessing.html\n",
      "Please also refer to the documentation for alternative solver options:\n",
      "    https://scikit-learn.org/stable/modules/linear_model.html#logistic-regression\n",
      "  n_iter_i = _check_optimize_result(\n",
      "/home/masdevas/.anaconda3/envs/nlp-unn/lib/python3.9/site-packages/sklearn/base.py:450: UserWarning: X does not have valid feature names, but LogisticRegression was fitted with feature names\n",
      "  warnings.warn(\n",
      "/home/masdevas/.anaconda3/envs/nlp-unn/lib/python3.9/site-packages/daal4py/sklearn/linear_model/logistic_path.py:459: ConvergenceWarning: lbfgs failed to converge (status=1):\n",
      "STOP: TOTAL NO. of ITERATIONS REACHED LIMIT.\n",
      "\n",
      "Increase the number of iterations (max_iter) or scale the data as shown in:\n",
      "    https://scikit-learn.org/stable/modules/preprocessing.html\n",
      "Please also refer to the documentation for alternative solver options:\n",
      "    https://scikit-learn.org/stable/modules/linear_model.html#logistic-regression\n",
      "  n_iter_i = _check_optimize_result(\n",
      "/home/masdevas/.anaconda3/envs/nlp-unn/lib/python3.9/site-packages/sklearn/base.py:450: UserWarning: X does not have valid feature names, but LogisticRegression was fitted with feature names\n",
      "  warnings.warn(\n",
      "/home/masdevas/.anaconda3/envs/nlp-unn/lib/python3.9/site-packages/daal4py/sklearn/linear_model/logistic_path.py:459: ConvergenceWarning: lbfgs failed to converge (status=1):\n",
      "STOP: TOTAL NO. of ITERATIONS REACHED LIMIT.\n",
      "\n",
      "Increase the number of iterations (max_iter) or scale the data as shown in:\n",
      "    https://scikit-learn.org/stable/modules/preprocessing.html\n",
      "Please also refer to the documentation for alternative solver options:\n",
      "    https://scikit-learn.org/stable/modules/linear_model.html#logistic-regression\n",
      "  n_iter_i = _check_optimize_result(\n",
      "/home/masdevas/.anaconda3/envs/nlp-unn/lib/python3.9/site-packages/sklearn/base.py:450: UserWarning: X does not have valid feature names, but LogisticRegression was fitted with feature names\n",
      "  warnings.warn(\n",
      "/home/masdevas/.anaconda3/envs/nlp-unn/lib/python3.9/site-packages/daal4py/sklearn/linear_model/logistic_path.py:459: ConvergenceWarning: lbfgs failed to converge (status=1):\n",
      "STOP: TOTAL NO. of ITERATIONS REACHED LIMIT.\n",
      "\n",
      "Increase the number of iterations (max_iter) or scale the data as shown in:\n",
      "    https://scikit-learn.org/stable/modules/preprocessing.html\n",
      "Please also refer to the documentation for alternative solver options:\n",
      "    https://scikit-learn.org/stable/modules/linear_model.html#logistic-regression\n",
      "  n_iter_i = _check_optimize_result(\n",
      "/home/masdevas/.anaconda3/envs/nlp-unn/lib/python3.9/site-packages/sklearn/base.py:450: UserWarning: X does not have valid feature names, but LogisticRegression was fitted with feature names\n",
      "  warnings.warn(\n",
      "/home/masdevas/.anaconda3/envs/nlp-unn/lib/python3.9/site-packages/daal4py/sklearn/linear_model/logistic_path.py:459: ConvergenceWarning: lbfgs failed to converge (status=1):\n",
      "STOP: TOTAL NO. of ITERATIONS REACHED LIMIT.\n",
      "\n",
      "Increase the number of iterations (max_iter) or scale the data as shown in:\n",
      "    https://scikit-learn.org/stable/modules/preprocessing.html\n",
      "Please also refer to the documentation for alternative solver options:\n",
      "    https://scikit-learn.org/stable/modules/linear_model.html#logistic-regression\n",
      "  n_iter_i = _check_optimize_result(\n",
      "/home/masdevas/.anaconda3/envs/nlp-unn/lib/python3.9/site-packages/sklearn/base.py:450: UserWarning: X does not have valid feature names, but LogisticRegression was fitted with feature names\n",
      "  warnings.warn(\n",
      "/home/masdevas/.anaconda3/envs/nlp-unn/lib/python3.9/site-packages/daal4py/sklearn/linear_model/logistic_path.py:459: ConvergenceWarning: lbfgs failed to converge (status=1):\n",
      "STOP: TOTAL NO. of ITERATIONS REACHED LIMIT.\n",
      "\n",
      "Increase the number of iterations (max_iter) or scale the data as shown in:\n",
      "    https://scikit-learn.org/stable/modules/preprocessing.html\n",
      "Please also refer to the documentation for alternative solver options:\n",
      "    https://scikit-learn.org/stable/modules/linear_model.html#logistic-regression\n",
      "  n_iter_i = _check_optimize_result(\n",
      "/home/masdevas/.anaconda3/envs/nlp-unn/lib/python3.9/site-packages/sklearn/base.py:450: UserWarning: X does not have valid feature names, but LogisticRegression was fitted with feature names\n",
      "  warnings.warn(\n",
      "/home/masdevas/.anaconda3/envs/nlp-unn/lib/python3.9/site-packages/daal4py/sklearn/linear_model/logistic_path.py:459: ConvergenceWarning: lbfgs failed to converge (status=1):\n",
      "STOP: TOTAL NO. of ITERATIONS REACHED LIMIT.\n",
      "\n",
      "Increase the number of iterations (max_iter) or scale the data as shown in:\n",
      "    https://scikit-learn.org/stable/modules/preprocessing.html\n",
      "Please also refer to the documentation for alternative solver options:\n",
      "    https://scikit-learn.org/stable/modules/linear_model.html#logistic-regression\n",
      "  n_iter_i = _check_optimize_result(\n",
      "/home/masdevas/.anaconda3/envs/nlp-unn/lib/python3.9/site-packages/sklearn/base.py:450: UserWarning: X does not have valid feature names, but LogisticRegression was fitted with feature names\n",
      "  warnings.warn(\n",
      "/home/masdevas/.anaconda3/envs/nlp-unn/lib/python3.9/site-packages/daal4py/sklearn/linear_model/logistic_path.py:459: ConvergenceWarning: lbfgs failed to converge (status=1):\n",
      "STOP: TOTAL NO. of ITERATIONS REACHED LIMIT.\n",
      "\n",
      "Increase the number of iterations (max_iter) or scale the data as shown in:\n",
      "    https://scikit-learn.org/stable/modules/preprocessing.html\n",
      "Please also refer to the documentation for alternative solver options:\n",
      "    https://scikit-learn.org/stable/modules/linear_model.html#logistic-regression\n",
      "  n_iter_i = _check_optimize_result(\n",
      "/home/masdevas/.anaconda3/envs/nlp-unn/lib/python3.9/site-packages/sklearn/base.py:450: UserWarning: X does not have valid feature names, but LogisticRegression was fitted with feature names\n",
      "  warnings.warn(\n"
     ]
    },
    {
     "name": "stderr",
     "output_type": "stream",
     "text": [
      "/home/masdevas/.anaconda3/envs/nlp-unn/lib/python3.9/site-packages/daal4py/sklearn/linear_model/logistic_path.py:459: ConvergenceWarning: lbfgs failed to converge (status=1):\n",
      "STOP: TOTAL NO. of ITERATIONS REACHED LIMIT.\n",
      "\n",
      "Increase the number of iterations (max_iter) or scale the data as shown in:\n",
      "    https://scikit-learn.org/stable/modules/preprocessing.html\n",
      "Please also refer to the documentation for alternative solver options:\n",
      "    https://scikit-learn.org/stable/modules/linear_model.html#logistic-regression\n",
      "  n_iter_i = _check_optimize_result(\n",
      "/home/masdevas/.anaconda3/envs/nlp-unn/lib/python3.9/site-packages/sklearn/base.py:450: UserWarning: X does not have valid feature names, but LogisticRegression was fitted with feature names\n",
      "  warnings.warn(\n",
      "/home/masdevas/.anaconda3/envs/nlp-unn/lib/python3.9/site-packages/daal4py/sklearn/linear_model/logistic_path.py:459: ConvergenceWarning: lbfgs failed to converge (status=1):\n",
      "STOP: TOTAL NO. of ITERATIONS REACHED LIMIT.\n",
      "\n",
      "Increase the number of iterations (max_iter) or scale the data as shown in:\n",
      "    https://scikit-learn.org/stable/modules/preprocessing.html\n",
      "Please also refer to the documentation for alternative solver options:\n",
      "    https://scikit-learn.org/stable/modules/linear_model.html#logistic-regression\n",
      "  n_iter_i = _check_optimize_result(\n",
      "/home/masdevas/.anaconda3/envs/nlp-unn/lib/python3.9/site-packages/sklearn/base.py:450: UserWarning: X does not have valid feature names, but LogisticRegression was fitted with feature names\n",
      "  warnings.warn(\n",
      "/home/masdevas/.anaconda3/envs/nlp-unn/lib/python3.9/site-packages/daal4py/sklearn/linear_model/logistic_path.py:459: ConvergenceWarning: lbfgs failed to converge (status=1):\n",
      "STOP: TOTAL NO. of ITERATIONS REACHED LIMIT.\n",
      "\n",
      "Increase the number of iterations (max_iter) or scale the data as shown in:\n",
      "    https://scikit-learn.org/stable/modules/preprocessing.html\n",
      "Please also refer to the documentation for alternative solver options:\n",
      "    https://scikit-learn.org/stable/modules/linear_model.html#logistic-regression\n",
      "  n_iter_i = _check_optimize_result(\n",
      "/home/masdevas/.anaconda3/envs/nlp-unn/lib/python3.9/site-packages/sklearn/base.py:450: UserWarning: X does not have valid feature names, but LogisticRegression was fitted with feature names\n",
      "  warnings.warn(\n",
      "/home/masdevas/.anaconda3/envs/nlp-unn/lib/python3.9/site-packages/daal4py/sklearn/linear_model/logistic_path.py:459: ConvergenceWarning: lbfgs failed to converge (status=1):\n",
      "STOP: TOTAL NO. of ITERATIONS REACHED LIMIT.\n",
      "\n",
      "Increase the number of iterations (max_iter) or scale the data as shown in:\n",
      "    https://scikit-learn.org/stable/modules/preprocessing.html\n",
      "Please also refer to the documentation for alternative solver options:\n",
      "    https://scikit-learn.org/stable/modules/linear_model.html#logistic-regression\n",
      "  n_iter_i = _check_optimize_result(\n",
      "/home/masdevas/.anaconda3/envs/nlp-unn/lib/python3.9/site-packages/sklearn/base.py:450: UserWarning: X does not have valid feature names, but LogisticRegression was fitted with feature names\n",
      "  warnings.warn(\n",
      "/home/masdevas/.anaconda3/envs/nlp-unn/lib/python3.9/site-packages/daal4py/sklearn/linear_model/logistic_path.py:459: ConvergenceWarning: lbfgs failed to converge (status=1):\n",
      "STOP: TOTAL NO. of ITERATIONS REACHED LIMIT.\n",
      "\n",
      "Increase the number of iterations (max_iter) or scale the data as shown in:\n",
      "    https://scikit-learn.org/stable/modules/preprocessing.html\n",
      "Please also refer to the documentation for alternative solver options:\n",
      "    https://scikit-learn.org/stable/modules/linear_model.html#logistic-regression\n",
      "  n_iter_i = _check_optimize_result(\n",
      "/home/masdevas/.anaconda3/envs/nlp-unn/lib/python3.9/site-packages/sklearn/base.py:450: UserWarning: X does not have valid feature names, but LogisticRegression was fitted with feature names\n",
      "  warnings.warn(\n",
      "/home/masdevas/.anaconda3/envs/nlp-unn/lib/python3.9/site-packages/daal4py/sklearn/linear_model/logistic_path.py:459: ConvergenceWarning: lbfgs failed to converge (status=1):\n",
      "STOP: TOTAL NO. of ITERATIONS REACHED LIMIT.\n",
      "\n",
      "Increase the number of iterations (max_iter) or scale the data as shown in:\n",
      "    https://scikit-learn.org/stable/modules/preprocessing.html\n",
      "Please also refer to the documentation for alternative solver options:\n",
      "    https://scikit-learn.org/stable/modules/linear_model.html#logistic-regression\n",
      "  n_iter_i = _check_optimize_result(\n",
      "/home/masdevas/.anaconda3/envs/nlp-unn/lib/python3.9/site-packages/sklearn/base.py:450: UserWarning: X does not have valid feature names, but LogisticRegression was fitted with feature names\n",
      "  warnings.warn(\n",
      "/home/masdevas/.anaconda3/envs/nlp-unn/lib/python3.9/site-packages/daal4py/sklearn/linear_model/logistic_path.py:459: ConvergenceWarning: lbfgs failed to converge (status=1):\n",
      "STOP: TOTAL NO. of ITERATIONS REACHED LIMIT.\n",
      "\n",
      "Increase the number of iterations (max_iter) or scale the data as shown in:\n",
      "    https://scikit-learn.org/stable/modules/preprocessing.html\n",
      "Please also refer to the documentation for alternative solver options:\n",
      "    https://scikit-learn.org/stable/modules/linear_model.html#logistic-regression\n",
      "  n_iter_i = _check_optimize_result(\n",
      "/home/masdevas/.anaconda3/envs/nlp-unn/lib/python3.9/site-packages/sklearn/base.py:450: UserWarning: X does not have valid feature names, but LogisticRegression was fitted with feature names\n",
      "  warnings.warn(\n",
      "/home/masdevas/.anaconda3/envs/nlp-unn/lib/python3.9/site-packages/daal4py/sklearn/linear_model/logistic_path.py:459: ConvergenceWarning: lbfgs failed to converge (status=1):\n",
      "STOP: TOTAL NO. of ITERATIONS REACHED LIMIT.\n",
      "\n",
      "Increase the number of iterations (max_iter) or scale the data as shown in:\n",
      "    https://scikit-learn.org/stable/modules/preprocessing.html\n",
      "Please also refer to the documentation for alternative solver options:\n",
      "    https://scikit-learn.org/stable/modules/linear_model.html#logistic-regression\n",
      "  n_iter_i = _check_optimize_result(\n",
      "/home/masdevas/.anaconda3/envs/nlp-unn/lib/python3.9/site-packages/sklearn/base.py:450: UserWarning: X does not have valid feature names, but LogisticRegression was fitted with feature names\n",
      "  warnings.warn(\n",
      "/home/masdevas/.anaconda3/envs/nlp-unn/lib/python3.9/site-packages/daal4py/sklearn/linear_model/logistic_path.py:459: ConvergenceWarning: lbfgs failed to converge (status=1):\n",
      "STOP: TOTAL NO. of ITERATIONS REACHED LIMIT.\n",
      "\n",
      "Increase the number of iterations (max_iter) or scale the data as shown in:\n",
      "    https://scikit-learn.org/stable/modules/preprocessing.html\n",
      "Please also refer to the documentation for alternative solver options:\n",
      "    https://scikit-learn.org/stable/modules/linear_model.html#logistic-regression\n",
      "  n_iter_i = _check_optimize_result(\n",
      "/home/masdevas/.anaconda3/envs/nlp-unn/lib/python3.9/site-packages/sklearn/base.py:450: UserWarning: X does not have valid feature names, but LogisticRegression was fitted with feature names\n",
      "  warnings.warn(\n",
      "/home/masdevas/.anaconda3/envs/nlp-unn/lib/python3.9/site-packages/daal4py/sklearn/linear_model/logistic_path.py:459: ConvergenceWarning: lbfgs failed to converge (status=1):\n",
      "STOP: TOTAL NO. of ITERATIONS REACHED LIMIT.\n",
      "\n",
      "Increase the number of iterations (max_iter) or scale the data as shown in:\n",
      "    https://scikit-learn.org/stable/modules/preprocessing.html\n",
      "Please also refer to the documentation for alternative solver options:\n",
      "    https://scikit-learn.org/stable/modules/linear_model.html#logistic-regression\n",
      "  n_iter_i = _check_optimize_result(\n",
      "/home/masdevas/.anaconda3/envs/nlp-unn/lib/python3.9/site-packages/sklearn/base.py:450: UserWarning: X does not have valid feature names, but LogisticRegression was fitted with feature names\n",
      "  warnings.warn(\n",
      "/home/masdevas/.anaconda3/envs/nlp-unn/lib/python3.9/site-packages/daal4py/sklearn/linear_model/logistic_path.py:459: ConvergenceWarning: lbfgs failed to converge (status=1):\n",
      "STOP: TOTAL NO. of ITERATIONS REACHED LIMIT.\n",
      "\n",
      "Increase the number of iterations (max_iter) or scale the data as shown in:\n",
      "    https://scikit-learn.org/stable/modules/preprocessing.html\n",
      "Please also refer to the documentation for alternative solver options:\n",
      "    https://scikit-learn.org/stable/modules/linear_model.html#logistic-regression\n",
      "  n_iter_i = _check_optimize_result(\n",
      "/home/masdevas/.anaconda3/envs/nlp-unn/lib/python3.9/site-packages/sklearn/base.py:450: UserWarning: X does not have valid feature names, but LogisticRegression was fitted with feature names\n",
      "  warnings.warn(\n"
     ]
    },
    {
     "name": "stderr",
     "output_type": "stream",
     "text": [
      "/home/masdevas/.anaconda3/envs/nlp-unn/lib/python3.9/site-packages/daal4py/sklearn/linear_model/logistic_path.py:459: ConvergenceWarning: lbfgs failed to converge (status=1):\n",
      "STOP: TOTAL NO. of ITERATIONS REACHED LIMIT.\n",
      "\n",
      "Increase the number of iterations (max_iter) or scale the data as shown in:\n",
      "    https://scikit-learn.org/stable/modules/preprocessing.html\n",
      "Please also refer to the documentation for alternative solver options:\n",
      "    https://scikit-learn.org/stable/modules/linear_model.html#logistic-regression\n",
      "  n_iter_i = _check_optimize_result(\n",
      "/home/masdevas/.anaconda3/envs/nlp-unn/lib/python3.9/site-packages/sklearn/base.py:450: UserWarning: X does not have valid feature names, but LogisticRegression was fitted with feature names\n",
      "  warnings.warn(\n",
      "/home/masdevas/.anaconda3/envs/nlp-unn/lib/python3.9/site-packages/daal4py/sklearn/linear_model/logistic_path.py:459: ConvergenceWarning: lbfgs failed to converge (status=1):\n",
      "STOP: TOTAL NO. of ITERATIONS REACHED LIMIT.\n",
      "\n",
      "Increase the number of iterations (max_iter) or scale the data as shown in:\n",
      "    https://scikit-learn.org/stable/modules/preprocessing.html\n",
      "Please also refer to the documentation for alternative solver options:\n",
      "    https://scikit-learn.org/stable/modules/linear_model.html#logistic-regression\n",
      "  n_iter_i = _check_optimize_result(\n",
      "/home/masdevas/.anaconda3/envs/nlp-unn/lib/python3.9/site-packages/sklearn/base.py:450: UserWarning: X does not have valid feature names, but LogisticRegression was fitted with feature names\n",
      "  warnings.warn(\n",
      "/home/masdevas/.anaconda3/envs/nlp-unn/lib/python3.9/site-packages/daal4py/sklearn/linear_model/logistic_path.py:459: ConvergenceWarning: lbfgs failed to converge (status=1):\n",
      "STOP: TOTAL NO. of ITERATIONS REACHED LIMIT.\n",
      "\n",
      "Increase the number of iterations (max_iter) or scale the data as shown in:\n",
      "    https://scikit-learn.org/stable/modules/preprocessing.html\n",
      "Please also refer to the documentation for alternative solver options:\n",
      "    https://scikit-learn.org/stable/modules/linear_model.html#logistic-regression\n",
      "  n_iter_i = _check_optimize_result(\n",
      "/home/masdevas/.anaconda3/envs/nlp-unn/lib/python3.9/site-packages/sklearn/base.py:450: UserWarning: X does not have valid feature names, but LogisticRegression was fitted with feature names\n",
      "  warnings.warn(\n",
      "/home/masdevas/.anaconda3/envs/nlp-unn/lib/python3.9/site-packages/daal4py/sklearn/linear_model/logistic_path.py:459: ConvergenceWarning: lbfgs failed to converge (status=1):\n",
      "STOP: TOTAL NO. of ITERATIONS REACHED LIMIT.\n",
      "\n",
      "Increase the number of iterations (max_iter) or scale the data as shown in:\n",
      "    https://scikit-learn.org/stable/modules/preprocessing.html\n",
      "Please also refer to the documentation for alternative solver options:\n",
      "    https://scikit-learn.org/stable/modules/linear_model.html#logistic-regression\n",
      "  n_iter_i = _check_optimize_result(\n",
      "/home/masdevas/.anaconda3/envs/nlp-unn/lib/python3.9/site-packages/sklearn/base.py:450: UserWarning: X does not have valid feature names, but LogisticRegression was fitted with feature names\n",
      "  warnings.warn(\n",
      "/home/masdevas/.anaconda3/envs/nlp-unn/lib/python3.9/site-packages/daal4py/sklearn/linear_model/logistic_path.py:459: ConvergenceWarning: lbfgs failed to converge (status=1):\n",
      "STOP: TOTAL NO. of ITERATIONS REACHED LIMIT.\n",
      "\n",
      "Increase the number of iterations (max_iter) or scale the data as shown in:\n",
      "    https://scikit-learn.org/stable/modules/preprocessing.html\n",
      "Please also refer to the documentation for alternative solver options:\n",
      "    https://scikit-learn.org/stable/modules/linear_model.html#logistic-regression\n",
      "  n_iter_i = _check_optimize_result(\n",
      "/home/masdevas/.anaconda3/envs/nlp-unn/lib/python3.9/site-packages/sklearn/base.py:450: UserWarning: X does not have valid feature names, but LogisticRegression was fitted with feature names\n",
      "  warnings.warn(\n",
      "/home/masdevas/.anaconda3/envs/nlp-unn/lib/python3.9/site-packages/daal4py/sklearn/linear_model/logistic_path.py:459: ConvergenceWarning: lbfgs failed to converge (status=1):\n",
      "STOP: TOTAL NO. of ITERATIONS REACHED LIMIT.\n",
      "\n",
      "Increase the number of iterations (max_iter) or scale the data as shown in:\n",
      "    https://scikit-learn.org/stable/modules/preprocessing.html\n",
      "Please also refer to the documentation for alternative solver options:\n",
      "    https://scikit-learn.org/stable/modules/linear_model.html#logistic-regression\n",
      "  n_iter_i = _check_optimize_result(\n",
      "/home/masdevas/.anaconda3/envs/nlp-unn/lib/python3.9/site-packages/sklearn/base.py:450: UserWarning: X does not have valid feature names, but LogisticRegression was fitted with feature names\n",
      "  warnings.warn(\n",
      "/home/masdevas/.anaconda3/envs/nlp-unn/lib/python3.9/site-packages/daal4py/sklearn/linear_model/logistic_path.py:459: ConvergenceWarning: lbfgs failed to converge (status=1):\n",
      "STOP: TOTAL NO. of ITERATIONS REACHED LIMIT.\n",
      "\n",
      "Increase the number of iterations (max_iter) or scale the data as shown in:\n",
      "    https://scikit-learn.org/stable/modules/preprocessing.html\n",
      "Please also refer to the documentation for alternative solver options:\n",
      "    https://scikit-learn.org/stable/modules/linear_model.html#logistic-regression\n",
      "  n_iter_i = _check_optimize_result(\n",
      "/home/masdevas/.anaconda3/envs/nlp-unn/lib/python3.9/site-packages/sklearn/base.py:450: UserWarning: X does not have valid feature names, but LogisticRegression was fitted with feature names\n",
      "  warnings.warn(\n",
      "/home/masdevas/.anaconda3/envs/nlp-unn/lib/python3.9/site-packages/daal4py/sklearn/linear_model/logistic_path.py:459: ConvergenceWarning: lbfgs failed to converge (status=1):\n",
      "STOP: TOTAL NO. of ITERATIONS REACHED LIMIT.\n",
      "\n",
      "Increase the number of iterations (max_iter) or scale the data as shown in:\n",
      "    https://scikit-learn.org/stable/modules/preprocessing.html\n",
      "Please also refer to the documentation for alternative solver options:\n",
      "    https://scikit-learn.org/stable/modules/linear_model.html#logistic-regression\n",
      "  n_iter_i = _check_optimize_result(\n",
      "/home/masdevas/.anaconda3/envs/nlp-unn/lib/python3.9/site-packages/sklearn/base.py:450: UserWarning: X does not have valid feature names, but LogisticRegression was fitted with feature names\n",
      "  warnings.warn(\n",
      "/home/masdevas/.anaconda3/envs/nlp-unn/lib/python3.9/site-packages/daal4py/sklearn/linear_model/logistic_path.py:459: ConvergenceWarning: lbfgs failed to converge (status=1):\n",
      "STOP: TOTAL NO. of ITERATIONS REACHED LIMIT.\n",
      "\n",
      "Increase the number of iterations (max_iter) or scale the data as shown in:\n",
      "    https://scikit-learn.org/stable/modules/preprocessing.html\n",
      "Please also refer to the documentation for alternative solver options:\n",
      "    https://scikit-learn.org/stable/modules/linear_model.html#logistic-regression\n",
      "  n_iter_i = _check_optimize_result(\n",
      "/home/masdevas/.anaconda3/envs/nlp-unn/lib/python3.9/site-packages/sklearn/base.py:450: UserWarning: X does not have valid feature names, but LogisticRegression was fitted with feature names\n",
      "  warnings.warn(\n",
      "/home/masdevas/.anaconda3/envs/nlp-unn/lib/python3.9/site-packages/daal4py/sklearn/linear_model/logistic_path.py:459: ConvergenceWarning: lbfgs failed to converge (status=1):\n",
      "STOP: TOTAL NO. of ITERATIONS REACHED LIMIT.\n",
      "\n",
      "Increase the number of iterations (max_iter) or scale the data as shown in:\n",
      "    https://scikit-learn.org/stable/modules/preprocessing.html\n",
      "Please also refer to the documentation for alternative solver options:\n",
      "    https://scikit-learn.org/stable/modules/linear_model.html#logistic-regression\n",
      "  n_iter_i = _check_optimize_result(\n",
      "/home/masdevas/.anaconda3/envs/nlp-unn/lib/python3.9/site-packages/sklearn/base.py:450: UserWarning: X does not have valid feature names, but LogisticRegression was fitted with feature names\n",
      "  warnings.warn(\n",
      "/home/masdevas/.anaconda3/envs/nlp-unn/lib/python3.9/site-packages/sklearn/base.py:450: UserWarning: X does not have valid feature names, but LogisticRegression was fitted with feature names\n",
      "  warnings.warn(\n",
      "/home/masdevas/.anaconda3/envs/nlp-unn/lib/python3.9/site-packages/sklearn/base.py:450: UserWarning: X does not have valid feature names, but LogisticRegression was fitted with feature names\n",
      "  warnings.warn(\n",
      "/home/masdevas/.anaconda3/envs/nlp-unn/lib/python3.9/site-packages/daal4py/sklearn/linear_model/logistic_path.py:459: ConvergenceWarning: lbfgs failed to converge (status=1):\n",
      "STOP: TOTAL NO. of ITERATIONS REACHED LIMIT.\n",
      "\n",
      "Increase the number of iterations (max_iter) or scale the data as shown in:\n",
      "    https://scikit-learn.org/stable/modules/preprocessing.html\n",
      "Please also refer to the documentation for alternative solver options:\n",
      "    https://scikit-learn.org/stable/modules/linear_model.html#logistic-regression\n",
      "  n_iter_i = _check_optimize_result(\n",
      "/home/masdevas/.anaconda3/envs/nlp-unn/lib/python3.9/site-packages/sklearn/base.py:450: UserWarning: X does not have valid feature names, but LogisticRegression was fitted with feature names\n",
      "  warnings.warn(\n"
     ]
    },
    {
     "name": "stderr",
     "output_type": "stream",
     "text": [
      "/home/masdevas/.anaconda3/envs/nlp-unn/lib/python3.9/site-packages/daal4py/sklearn/linear_model/logistic_path.py:459: ConvergenceWarning: lbfgs failed to converge (status=1):\n",
      "STOP: TOTAL NO. of ITERATIONS REACHED LIMIT.\n",
      "\n",
      "Increase the number of iterations (max_iter) or scale the data as shown in:\n",
      "    https://scikit-learn.org/stable/modules/preprocessing.html\n",
      "Please also refer to the documentation for alternative solver options:\n",
      "    https://scikit-learn.org/stable/modules/linear_model.html#logistic-regression\n",
      "  n_iter_i = _check_optimize_result(\n",
      "/home/masdevas/.anaconda3/envs/nlp-unn/lib/python3.9/site-packages/sklearn/base.py:450: UserWarning: X does not have valid feature names, but LogisticRegression was fitted with feature names\n",
      "  warnings.warn(\n",
      "/home/masdevas/.anaconda3/envs/nlp-unn/lib/python3.9/site-packages/daal4py/sklearn/linear_model/logistic_path.py:459: ConvergenceWarning: lbfgs failed to converge (status=1):\n",
      "STOP: TOTAL NO. of ITERATIONS REACHED LIMIT.\n",
      "\n",
      "Increase the number of iterations (max_iter) or scale the data as shown in:\n",
      "    https://scikit-learn.org/stable/modules/preprocessing.html\n",
      "Please also refer to the documentation for alternative solver options:\n",
      "    https://scikit-learn.org/stable/modules/linear_model.html#logistic-regression\n",
      "  n_iter_i = _check_optimize_result(\n",
      "/home/masdevas/.anaconda3/envs/nlp-unn/lib/python3.9/site-packages/sklearn/base.py:450: UserWarning: X does not have valid feature names, but LogisticRegression was fitted with feature names\n",
      "  warnings.warn(\n",
      "/home/masdevas/.anaconda3/envs/nlp-unn/lib/python3.9/site-packages/daal4py/sklearn/linear_model/logistic_path.py:459: ConvergenceWarning: lbfgs failed to converge (status=1):\n",
      "STOP: TOTAL NO. of ITERATIONS REACHED LIMIT.\n",
      "\n",
      "Increase the number of iterations (max_iter) or scale the data as shown in:\n",
      "    https://scikit-learn.org/stable/modules/preprocessing.html\n",
      "Please also refer to the documentation for alternative solver options:\n",
      "    https://scikit-learn.org/stable/modules/linear_model.html#logistic-regression\n",
      "  n_iter_i = _check_optimize_result(\n",
      "/home/masdevas/.anaconda3/envs/nlp-unn/lib/python3.9/site-packages/sklearn/base.py:450: UserWarning: X does not have valid feature names, but LogisticRegression was fitted with feature names\n",
      "  warnings.warn(\n",
      "/home/masdevas/.anaconda3/envs/nlp-unn/lib/python3.9/site-packages/daal4py/sklearn/linear_model/logistic_path.py:459: ConvergenceWarning: lbfgs failed to converge (status=1):\n",
      "STOP: TOTAL NO. of ITERATIONS REACHED LIMIT.\n",
      "\n",
      "Increase the number of iterations (max_iter) or scale the data as shown in:\n",
      "    https://scikit-learn.org/stable/modules/preprocessing.html\n",
      "Please also refer to the documentation for alternative solver options:\n",
      "    https://scikit-learn.org/stable/modules/linear_model.html#logistic-regression\n",
      "  n_iter_i = _check_optimize_result(\n",
      "/home/masdevas/.anaconda3/envs/nlp-unn/lib/python3.9/site-packages/sklearn/base.py:450: UserWarning: X does not have valid feature names, but LogisticRegression was fitted with feature names\n",
      "  warnings.warn(\n",
      "/home/masdevas/.anaconda3/envs/nlp-unn/lib/python3.9/site-packages/daal4py/sklearn/linear_model/logistic_path.py:459: ConvergenceWarning: lbfgs failed to converge (status=1):\n",
      "STOP: TOTAL NO. of ITERATIONS REACHED LIMIT.\n",
      "\n",
      "Increase the number of iterations (max_iter) or scale the data as shown in:\n",
      "    https://scikit-learn.org/stable/modules/preprocessing.html\n",
      "Please also refer to the documentation for alternative solver options:\n",
      "    https://scikit-learn.org/stable/modules/linear_model.html#logistic-regression\n",
      "  n_iter_i = _check_optimize_result(\n",
      "/home/masdevas/.anaconda3/envs/nlp-unn/lib/python3.9/site-packages/sklearn/base.py:450: UserWarning: X does not have valid feature names, but LogisticRegression was fitted with feature names\n",
      "  warnings.warn(\n",
      "/home/masdevas/.anaconda3/envs/nlp-unn/lib/python3.9/site-packages/daal4py/sklearn/linear_model/logistic_path.py:459: ConvergenceWarning: lbfgs failed to converge (status=1):\n",
      "STOP: TOTAL NO. of ITERATIONS REACHED LIMIT.\n",
      "\n",
      "Increase the number of iterations (max_iter) or scale the data as shown in:\n",
      "    https://scikit-learn.org/stable/modules/preprocessing.html\n",
      "Please also refer to the documentation for alternative solver options:\n",
      "    https://scikit-learn.org/stable/modules/linear_model.html#logistic-regression\n",
      "  n_iter_i = _check_optimize_result(\n",
      "/home/masdevas/.anaconda3/envs/nlp-unn/lib/python3.9/site-packages/sklearn/base.py:450: UserWarning: X does not have valid feature names, but LogisticRegression was fitted with feature names\n",
      "  warnings.warn(\n",
      "/home/masdevas/.anaconda3/envs/nlp-unn/lib/python3.9/site-packages/daal4py/sklearn/linear_model/logistic_path.py:459: ConvergenceWarning: lbfgs failed to converge (status=1):\n",
      "STOP: TOTAL NO. of ITERATIONS REACHED LIMIT.\n",
      "\n",
      "Increase the number of iterations (max_iter) or scale the data as shown in:\n",
      "    https://scikit-learn.org/stable/modules/preprocessing.html\n",
      "Please also refer to the documentation for alternative solver options:\n",
      "    https://scikit-learn.org/stable/modules/linear_model.html#logistic-regression\n",
      "  n_iter_i = _check_optimize_result(\n",
      "/home/masdevas/.anaconda3/envs/nlp-unn/lib/python3.9/site-packages/sklearn/base.py:450: UserWarning: X does not have valid feature names, but LogisticRegression was fitted with feature names\n",
      "  warnings.warn(\n",
      "/home/masdevas/.anaconda3/envs/nlp-unn/lib/python3.9/site-packages/daal4py/sklearn/linear_model/logistic_path.py:459: ConvergenceWarning: lbfgs failed to converge (status=1):\n",
      "STOP: TOTAL NO. of ITERATIONS REACHED LIMIT.\n",
      "\n",
      "Increase the number of iterations (max_iter) or scale the data as shown in:\n",
      "    https://scikit-learn.org/stable/modules/preprocessing.html\n",
      "Please also refer to the documentation for alternative solver options:\n",
      "    https://scikit-learn.org/stable/modules/linear_model.html#logistic-regression\n",
      "  n_iter_i = _check_optimize_result(\n",
      "/home/masdevas/.anaconda3/envs/nlp-unn/lib/python3.9/site-packages/sklearn/base.py:450: UserWarning: X does not have valid feature names, but LogisticRegression was fitted with feature names\n",
      "  warnings.warn(\n",
      "/home/masdevas/.anaconda3/envs/nlp-unn/lib/python3.9/site-packages/daal4py/sklearn/linear_model/logistic_path.py:459: ConvergenceWarning: lbfgs failed to converge (status=1):\n",
      "STOP: TOTAL NO. of ITERATIONS REACHED LIMIT.\n",
      "\n",
      "Increase the number of iterations (max_iter) or scale the data as shown in:\n",
      "    https://scikit-learn.org/stable/modules/preprocessing.html\n",
      "Please also refer to the documentation for alternative solver options:\n",
      "    https://scikit-learn.org/stable/modules/linear_model.html#logistic-regression\n",
      "  n_iter_i = _check_optimize_result(\n",
      "/home/masdevas/.anaconda3/envs/nlp-unn/lib/python3.9/site-packages/sklearn/base.py:450: UserWarning: X does not have valid feature names, but LogisticRegression was fitted with feature names\n",
      "  warnings.warn(\n",
      "/home/masdevas/.anaconda3/envs/nlp-unn/lib/python3.9/site-packages/sklearn/base.py:450: UserWarning: X does not have valid feature names, but LogisticRegression was fitted with feature names\n",
      "  warnings.warn(\n",
      "/home/masdevas/.anaconda3/envs/nlp-unn/lib/python3.9/site-packages/daal4py/sklearn/linear_model/logistic_path.py:459: ConvergenceWarning: lbfgs failed to converge (status=1):\n",
      "STOP: TOTAL NO. of ITERATIONS REACHED LIMIT.\n",
      "\n",
      "Increase the number of iterations (max_iter) or scale the data as shown in:\n",
      "    https://scikit-learn.org/stable/modules/preprocessing.html\n",
      "Please also refer to the documentation for alternative solver options:\n",
      "    https://scikit-learn.org/stable/modules/linear_model.html#logistic-regression\n",
      "  n_iter_i = _check_optimize_result(\n",
      "/home/masdevas/.anaconda3/envs/nlp-unn/lib/python3.9/site-packages/sklearn/base.py:450: UserWarning: X does not have valid feature names, but LogisticRegression was fitted with feature names\n",
      "  warnings.warn(\n",
      "/home/masdevas/.anaconda3/envs/nlp-unn/lib/python3.9/site-packages/daal4py/sklearn/linear_model/logistic_path.py:459: ConvergenceWarning: lbfgs failed to converge (status=1):\n",
      "STOP: TOTAL NO. of ITERATIONS REACHED LIMIT.\n",
      "\n",
      "Increase the number of iterations (max_iter) or scale the data as shown in:\n",
      "    https://scikit-learn.org/stable/modules/preprocessing.html\n",
      "Please also refer to the documentation for alternative solver options:\n",
      "    https://scikit-learn.org/stable/modules/linear_model.html#logistic-regression\n",
      "  n_iter_i = _check_optimize_result(\n",
      "/home/masdevas/.anaconda3/envs/nlp-unn/lib/python3.9/site-packages/sklearn/base.py:450: UserWarning: X does not have valid feature names, but LogisticRegression was fitted with feature names\n",
      "  warnings.warn(\n"
     ]
    },
    {
     "name": "stderr",
     "output_type": "stream",
     "text": [
      "/home/masdevas/.anaconda3/envs/nlp-unn/lib/python3.9/site-packages/daal4py/sklearn/linear_model/logistic_path.py:459: ConvergenceWarning: lbfgs failed to converge (status=1):\n",
      "STOP: TOTAL NO. of ITERATIONS REACHED LIMIT.\n",
      "\n",
      "Increase the number of iterations (max_iter) or scale the data as shown in:\n",
      "    https://scikit-learn.org/stable/modules/preprocessing.html\n",
      "Please also refer to the documentation for alternative solver options:\n",
      "    https://scikit-learn.org/stable/modules/linear_model.html#logistic-regression\n",
      "  n_iter_i = _check_optimize_result(\n",
      "/home/masdevas/.anaconda3/envs/nlp-unn/lib/python3.9/site-packages/sklearn/base.py:450: UserWarning: X does not have valid feature names, but LogisticRegression was fitted with feature names\n",
      "  warnings.warn(\n",
      "/home/masdevas/.anaconda3/envs/nlp-unn/lib/python3.9/site-packages/daal4py/sklearn/linear_model/logistic_path.py:459: ConvergenceWarning: lbfgs failed to converge (status=1):\n",
      "STOP: TOTAL NO. of ITERATIONS REACHED LIMIT.\n",
      "\n",
      "Increase the number of iterations (max_iter) or scale the data as shown in:\n",
      "    https://scikit-learn.org/stable/modules/preprocessing.html\n",
      "Please also refer to the documentation for alternative solver options:\n",
      "    https://scikit-learn.org/stable/modules/linear_model.html#logistic-regression\n",
      "  n_iter_i = _check_optimize_result(\n",
      "/home/masdevas/.anaconda3/envs/nlp-unn/lib/python3.9/site-packages/sklearn/base.py:450: UserWarning: X does not have valid feature names, but LogisticRegression was fitted with feature names\n",
      "  warnings.warn(\n",
      "/home/masdevas/.anaconda3/envs/nlp-unn/lib/python3.9/site-packages/daal4py/sklearn/linear_model/logistic_path.py:459: ConvergenceWarning: lbfgs failed to converge (status=1):\n",
      "STOP: TOTAL NO. of ITERATIONS REACHED LIMIT.\n",
      "\n",
      "Increase the number of iterations (max_iter) or scale the data as shown in:\n",
      "    https://scikit-learn.org/stable/modules/preprocessing.html\n",
      "Please also refer to the documentation for alternative solver options:\n",
      "    https://scikit-learn.org/stable/modules/linear_model.html#logistic-regression\n",
      "  n_iter_i = _check_optimize_result(\n",
      "/home/masdevas/.anaconda3/envs/nlp-unn/lib/python3.9/site-packages/sklearn/base.py:450: UserWarning: X does not have valid feature names, but LogisticRegression was fitted with feature names\n",
      "  warnings.warn(\n",
      "/home/masdevas/.anaconda3/envs/nlp-unn/lib/python3.9/site-packages/daal4py/sklearn/linear_model/logistic_path.py:459: ConvergenceWarning: lbfgs failed to converge (status=1):\n",
      "STOP: TOTAL NO. of ITERATIONS REACHED LIMIT.\n",
      "\n",
      "Increase the number of iterations (max_iter) or scale the data as shown in:\n",
      "    https://scikit-learn.org/stable/modules/preprocessing.html\n",
      "Please also refer to the documentation for alternative solver options:\n",
      "    https://scikit-learn.org/stable/modules/linear_model.html#logistic-regression\n",
      "  n_iter_i = _check_optimize_result(\n",
      "/home/masdevas/.anaconda3/envs/nlp-unn/lib/python3.9/site-packages/sklearn/base.py:450: UserWarning: X does not have valid feature names, but LogisticRegression was fitted with feature names\n",
      "  warnings.warn(\n",
      "/home/masdevas/.anaconda3/envs/nlp-unn/lib/python3.9/site-packages/daal4py/sklearn/linear_model/logistic_path.py:459: ConvergenceWarning: lbfgs failed to converge (status=1):\n",
      "STOP: TOTAL NO. of ITERATIONS REACHED LIMIT.\n",
      "\n",
      "Increase the number of iterations (max_iter) or scale the data as shown in:\n",
      "    https://scikit-learn.org/stable/modules/preprocessing.html\n",
      "Please also refer to the documentation for alternative solver options:\n",
      "    https://scikit-learn.org/stable/modules/linear_model.html#logistic-regression\n",
      "  n_iter_i = _check_optimize_result(\n",
      "/home/masdevas/.anaconda3/envs/nlp-unn/lib/python3.9/site-packages/sklearn/base.py:450: UserWarning: X does not have valid feature names, but LogisticRegression was fitted with feature names\n",
      "  warnings.warn(\n",
      "/home/masdevas/.anaconda3/envs/nlp-unn/lib/python3.9/site-packages/daal4py/sklearn/linear_model/logistic_path.py:459: ConvergenceWarning: lbfgs failed to converge (status=1):\n",
      "STOP: TOTAL NO. of ITERATIONS REACHED LIMIT.\n",
      "\n",
      "Increase the number of iterations (max_iter) or scale the data as shown in:\n",
      "    https://scikit-learn.org/stable/modules/preprocessing.html\n",
      "Please also refer to the documentation for alternative solver options:\n",
      "    https://scikit-learn.org/stable/modules/linear_model.html#logistic-regression\n",
      "  n_iter_i = _check_optimize_result(\n",
      "/home/masdevas/.anaconda3/envs/nlp-unn/lib/python3.9/site-packages/sklearn/base.py:450: UserWarning: X does not have valid feature names, but LogisticRegression was fitted with feature names\n",
      "  warnings.warn(\n",
      "/home/masdevas/.anaconda3/envs/nlp-unn/lib/python3.9/site-packages/daal4py/sklearn/linear_model/logistic_path.py:459: ConvergenceWarning: lbfgs failed to converge (status=1):\n",
      "STOP: TOTAL NO. of ITERATIONS REACHED LIMIT.\n",
      "\n",
      "Increase the number of iterations (max_iter) or scale the data as shown in:\n",
      "    https://scikit-learn.org/stable/modules/preprocessing.html\n",
      "Please also refer to the documentation for alternative solver options:\n",
      "    https://scikit-learn.org/stable/modules/linear_model.html#logistic-regression\n",
      "  n_iter_i = _check_optimize_result(\n",
      "/home/masdevas/.anaconda3/envs/nlp-unn/lib/python3.9/site-packages/sklearn/base.py:450: UserWarning: X does not have valid feature names, but LogisticRegression was fitted with feature names\n",
      "  warnings.warn(\n",
      "/home/masdevas/.anaconda3/envs/nlp-unn/lib/python3.9/site-packages/daal4py/sklearn/linear_model/logistic_path.py:459: ConvergenceWarning: lbfgs failed to converge (status=1):\n",
      "STOP: TOTAL NO. of ITERATIONS REACHED LIMIT.\n",
      "\n",
      "Increase the number of iterations (max_iter) or scale the data as shown in:\n",
      "    https://scikit-learn.org/stable/modules/preprocessing.html\n",
      "Please also refer to the documentation for alternative solver options:\n",
      "    https://scikit-learn.org/stable/modules/linear_model.html#logistic-regression\n",
      "  n_iter_i = _check_optimize_result(\n",
      "/home/masdevas/.anaconda3/envs/nlp-unn/lib/python3.9/site-packages/sklearn/base.py:450: UserWarning: X does not have valid feature names, but LogisticRegression was fitted with feature names\n",
      "  warnings.warn(\n",
      "/home/masdevas/.anaconda3/envs/nlp-unn/lib/python3.9/site-packages/daal4py/sklearn/linear_model/logistic_path.py:459: ConvergenceWarning: lbfgs failed to converge (status=1):\n",
      "STOP: TOTAL NO. of ITERATIONS REACHED LIMIT.\n",
      "\n",
      "Increase the number of iterations (max_iter) or scale the data as shown in:\n",
      "    https://scikit-learn.org/stable/modules/preprocessing.html\n",
      "Please also refer to the documentation for alternative solver options:\n",
      "    https://scikit-learn.org/stable/modules/linear_model.html#logistic-regression\n",
      "  n_iter_i = _check_optimize_result(\n",
      "/home/masdevas/.anaconda3/envs/nlp-unn/lib/python3.9/site-packages/sklearn/base.py:450: UserWarning: X does not have valid feature names, but LogisticRegression was fitted with feature names\n",
      "  warnings.warn(\n",
      "/home/masdevas/.anaconda3/envs/nlp-unn/lib/python3.9/site-packages/daal4py/sklearn/linear_model/logistic_path.py:459: ConvergenceWarning: lbfgs failed to converge (status=1):\n",
      "STOP: TOTAL NO. of ITERATIONS REACHED LIMIT.\n",
      "\n",
      "Increase the number of iterations (max_iter) or scale the data as shown in:\n",
      "    https://scikit-learn.org/stable/modules/preprocessing.html\n",
      "Please also refer to the documentation for alternative solver options:\n",
      "    https://scikit-learn.org/stable/modules/linear_model.html#logistic-regression\n",
      "  n_iter_i = _check_optimize_result(\n",
      "/home/masdevas/.anaconda3/envs/nlp-unn/lib/python3.9/site-packages/sklearn/base.py:450: UserWarning: X does not have valid feature names, but LogisticRegression was fitted with feature names\n",
      "  warnings.warn(\n",
      "/home/masdevas/.anaconda3/envs/nlp-unn/lib/python3.9/site-packages/daal4py/sklearn/linear_model/logistic_path.py:459: ConvergenceWarning: lbfgs failed to converge (status=1):\n",
      "STOP: TOTAL NO. of ITERATIONS REACHED LIMIT.\n",
      "\n",
      "Increase the number of iterations (max_iter) or scale the data as shown in:\n",
      "    https://scikit-learn.org/stable/modules/preprocessing.html\n",
      "Please also refer to the documentation for alternative solver options:\n",
      "    https://scikit-learn.org/stable/modules/linear_model.html#logistic-regression\n",
      "  n_iter_i = _check_optimize_result(\n",
      "/home/masdevas/.anaconda3/envs/nlp-unn/lib/python3.9/site-packages/sklearn/base.py:450: UserWarning: X does not have valid feature names, but LogisticRegression was fitted with feature names\n",
      "  warnings.warn(\n"
     ]
    },
    {
     "name": "stderr",
     "output_type": "stream",
     "text": [
      "/home/masdevas/.anaconda3/envs/nlp-unn/lib/python3.9/site-packages/daal4py/sklearn/linear_model/logistic_path.py:459: ConvergenceWarning: lbfgs failed to converge (status=1):\n",
      "STOP: TOTAL NO. of ITERATIONS REACHED LIMIT.\n",
      "\n",
      "Increase the number of iterations (max_iter) or scale the data as shown in:\n",
      "    https://scikit-learn.org/stable/modules/preprocessing.html\n",
      "Please also refer to the documentation for alternative solver options:\n",
      "    https://scikit-learn.org/stable/modules/linear_model.html#logistic-regression\n",
      "  n_iter_i = _check_optimize_result(\n",
      "/home/masdevas/.anaconda3/envs/nlp-unn/lib/python3.9/site-packages/sklearn/base.py:450: UserWarning: X does not have valid feature names, but LogisticRegression was fitted with feature names\n",
      "  warnings.warn(\n",
      "/home/masdevas/.anaconda3/envs/nlp-unn/lib/python3.9/site-packages/daal4py/sklearn/linear_model/logistic_path.py:459: ConvergenceWarning: lbfgs failed to converge (status=1):\n",
      "STOP: TOTAL NO. of ITERATIONS REACHED LIMIT.\n",
      "\n",
      "Increase the number of iterations (max_iter) or scale the data as shown in:\n",
      "    https://scikit-learn.org/stable/modules/preprocessing.html\n",
      "Please also refer to the documentation for alternative solver options:\n",
      "    https://scikit-learn.org/stable/modules/linear_model.html#logistic-regression\n",
      "  n_iter_i = _check_optimize_result(\n",
      "/home/masdevas/.anaconda3/envs/nlp-unn/lib/python3.9/site-packages/sklearn/base.py:450: UserWarning: X does not have valid feature names, but LogisticRegression was fitted with feature names\n",
      "  warnings.warn(\n",
      "/home/masdevas/.anaconda3/envs/nlp-unn/lib/python3.9/site-packages/daal4py/sklearn/linear_model/logistic_path.py:459: ConvergenceWarning: lbfgs failed to converge (status=1):\n",
      "STOP: TOTAL NO. of ITERATIONS REACHED LIMIT.\n",
      "\n",
      "Increase the number of iterations (max_iter) or scale the data as shown in:\n",
      "    https://scikit-learn.org/stable/modules/preprocessing.html\n",
      "Please also refer to the documentation for alternative solver options:\n",
      "    https://scikit-learn.org/stable/modules/linear_model.html#logistic-regression\n",
      "  n_iter_i = _check_optimize_result(\n",
      "/home/masdevas/.anaconda3/envs/nlp-unn/lib/python3.9/site-packages/sklearn/base.py:450: UserWarning: X does not have valid feature names, but LogisticRegression was fitted with feature names\n",
      "  warnings.warn(\n",
      "/home/masdevas/.anaconda3/envs/nlp-unn/lib/python3.9/site-packages/daal4py/sklearn/linear_model/logistic_path.py:459: ConvergenceWarning: lbfgs failed to converge (status=1):\n",
      "STOP: TOTAL NO. of ITERATIONS REACHED LIMIT.\n",
      "\n",
      "Increase the number of iterations (max_iter) or scale the data as shown in:\n",
      "    https://scikit-learn.org/stable/modules/preprocessing.html\n",
      "Please also refer to the documentation for alternative solver options:\n",
      "    https://scikit-learn.org/stable/modules/linear_model.html#logistic-regression\n",
      "  n_iter_i = _check_optimize_result(\n",
      "/home/masdevas/.anaconda3/envs/nlp-unn/lib/python3.9/site-packages/sklearn/base.py:450: UserWarning: X does not have valid feature names, but LogisticRegression was fitted with feature names\n",
      "  warnings.warn(\n",
      "/home/masdevas/.anaconda3/envs/nlp-unn/lib/python3.9/site-packages/daal4py/sklearn/linear_model/logistic_path.py:459: ConvergenceWarning: lbfgs failed to converge (status=1):\n",
      "STOP: TOTAL NO. of ITERATIONS REACHED LIMIT.\n",
      "\n",
      "Increase the number of iterations (max_iter) or scale the data as shown in:\n",
      "    https://scikit-learn.org/stable/modules/preprocessing.html\n",
      "Please also refer to the documentation for alternative solver options:\n",
      "    https://scikit-learn.org/stable/modules/linear_model.html#logistic-regression\n",
      "  n_iter_i = _check_optimize_result(\n",
      "/home/masdevas/.anaconda3/envs/nlp-unn/lib/python3.9/site-packages/sklearn/base.py:450: UserWarning: X does not have valid feature names, but LogisticRegression was fitted with feature names\n",
      "  warnings.warn(\n",
      "/home/masdevas/.anaconda3/envs/nlp-unn/lib/python3.9/site-packages/daal4py/sklearn/linear_model/logistic_path.py:459: ConvergenceWarning: lbfgs failed to converge (status=1):\n",
      "STOP: TOTAL NO. of ITERATIONS REACHED LIMIT.\n",
      "\n",
      "Increase the number of iterations (max_iter) or scale the data as shown in:\n",
      "    https://scikit-learn.org/stable/modules/preprocessing.html\n",
      "Please also refer to the documentation for alternative solver options:\n",
      "    https://scikit-learn.org/stable/modules/linear_model.html#logistic-regression\n",
      "  n_iter_i = _check_optimize_result(\n",
      "/home/masdevas/.anaconda3/envs/nlp-unn/lib/python3.9/site-packages/sklearn/base.py:450: UserWarning: X does not have valid feature names, but LogisticRegression was fitted with feature names\n",
      "  warnings.warn(\n",
      "/home/masdevas/.anaconda3/envs/nlp-unn/lib/python3.9/site-packages/daal4py/sklearn/linear_model/logistic_path.py:459: ConvergenceWarning: lbfgs failed to converge (status=1):\n",
      "STOP: TOTAL NO. of ITERATIONS REACHED LIMIT.\n",
      "\n",
      "Increase the number of iterations (max_iter) or scale the data as shown in:\n",
      "    https://scikit-learn.org/stable/modules/preprocessing.html\n",
      "Please also refer to the documentation for alternative solver options:\n",
      "    https://scikit-learn.org/stable/modules/linear_model.html#logistic-regression\n",
      "  n_iter_i = _check_optimize_result(\n",
      "/home/masdevas/.anaconda3/envs/nlp-unn/lib/python3.9/site-packages/sklearn/base.py:450: UserWarning: X does not have valid feature names, but LogisticRegression was fitted with feature names\n",
      "  warnings.warn(\n",
      "/home/masdevas/.anaconda3/envs/nlp-unn/lib/python3.9/site-packages/daal4py/sklearn/linear_model/logistic_path.py:459: ConvergenceWarning: lbfgs failed to converge (status=1):\n",
      "STOP: TOTAL NO. of ITERATIONS REACHED LIMIT.\n",
      "\n",
      "Increase the number of iterations (max_iter) or scale the data as shown in:\n",
      "    https://scikit-learn.org/stable/modules/preprocessing.html\n",
      "Please also refer to the documentation for alternative solver options:\n",
      "    https://scikit-learn.org/stable/modules/linear_model.html#logistic-regression\n",
      "  n_iter_i = _check_optimize_result(\n",
      "/home/masdevas/.anaconda3/envs/nlp-unn/lib/python3.9/site-packages/sklearn/base.py:450: UserWarning: X does not have valid feature names, but LogisticRegression was fitted with feature names\n",
      "  warnings.warn(\n",
      "/home/masdevas/.anaconda3/envs/nlp-unn/lib/python3.9/site-packages/daal4py/sklearn/linear_model/logistic_path.py:459: ConvergenceWarning: lbfgs failed to converge (status=1):\n",
      "STOP: TOTAL NO. of ITERATIONS REACHED LIMIT.\n",
      "\n",
      "Increase the number of iterations (max_iter) or scale the data as shown in:\n",
      "    https://scikit-learn.org/stable/modules/preprocessing.html\n",
      "Please also refer to the documentation for alternative solver options:\n",
      "    https://scikit-learn.org/stable/modules/linear_model.html#logistic-regression\n",
      "  n_iter_i = _check_optimize_result(\n",
      "/home/masdevas/.anaconda3/envs/nlp-unn/lib/python3.9/site-packages/sklearn/base.py:450: UserWarning: X does not have valid feature names, but LogisticRegression was fitted with feature names\n",
      "  warnings.warn(\n",
      "/home/masdevas/.anaconda3/envs/nlp-unn/lib/python3.9/site-packages/daal4py/sklearn/linear_model/logistic_path.py:459: ConvergenceWarning: lbfgs failed to converge (status=1):\n",
      "STOP: TOTAL NO. of ITERATIONS REACHED LIMIT.\n",
      "\n",
      "Increase the number of iterations (max_iter) or scale the data as shown in:\n",
      "    https://scikit-learn.org/stable/modules/preprocessing.html\n",
      "Please also refer to the documentation for alternative solver options:\n",
      "    https://scikit-learn.org/stable/modules/linear_model.html#logistic-regression\n",
      "  n_iter_i = _check_optimize_result(\n",
      "/home/masdevas/.anaconda3/envs/nlp-unn/lib/python3.9/site-packages/sklearn/base.py:450: UserWarning: X does not have valid feature names, but LogisticRegression was fitted with feature names\n",
      "  warnings.warn(\n",
      "/home/masdevas/.anaconda3/envs/nlp-unn/lib/python3.9/site-packages/daal4py/sklearn/linear_model/logistic_path.py:459: ConvergenceWarning: lbfgs failed to converge (status=1):\n",
      "STOP: TOTAL NO. of ITERATIONS REACHED LIMIT.\n",
      "\n",
      "Increase the number of iterations (max_iter) or scale the data as shown in:\n",
      "    https://scikit-learn.org/stable/modules/preprocessing.html\n",
      "Please also refer to the documentation for alternative solver options:\n",
      "    https://scikit-learn.org/stable/modules/linear_model.html#logistic-regression\n",
      "  n_iter_i = _check_optimize_result(\n",
      "/home/masdevas/.anaconda3/envs/nlp-unn/lib/python3.9/site-packages/sklearn/base.py:450: UserWarning: X does not have valid feature names, but LogisticRegression was fitted with feature names\n",
      "  warnings.warn(\n"
     ]
    },
    {
     "name": "stderr",
     "output_type": "stream",
     "text": [
      "/home/masdevas/.anaconda3/envs/nlp-unn/lib/python3.9/site-packages/daal4py/sklearn/linear_model/logistic_path.py:459: ConvergenceWarning: lbfgs failed to converge (status=1):\n",
      "STOP: TOTAL NO. of ITERATIONS REACHED LIMIT.\n",
      "\n",
      "Increase the number of iterations (max_iter) or scale the data as shown in:\n",
      "    https://scikit-learn.org/stable/modules/preprocessing.html\n",
      "Please also refer to the documentation for alternative solver options:\n",
      "    https://scikit-learn.org/stable/modules/linear_model.html#logistic-regression\n",
      "  n_iter_i = _check_optimize_result(\n",
      "/home/masdevas/.anaconda3/envs/nlp-unn/lib/python3.9/site-packages/sklearn/base.py:450: UserWarning: X does not have valid feature names, but LogisticRegression was fitted with feature names\n",
      "  warnings.warn(\n",
      "/home/masdevas/.anaconda3/envs/nlp-unn/lib/python3.9/site-packages/daal4py/sklearn/linear_model/logistic_path.py:459: ConvergenceWarning: lbfgs failed to converge (status=1):\n",
      "STOP: TOTAL NO. of ITERATIONS REACHED LIMIT.\n",
      "\n",
      "Increase the number of iterations (max_iter) or scale the data as shown in:\n",
      "    https://scikit-learn.org/stable/modules/preprocessing.html\n",
      "Please also refer to the documentation for alternative solver options:\n",
      "    https://scikit-learn.org/stable/modules/linear_model.html#logistic-regression\n",
      "  n_iter_i = _check_optimize_result(\n",
      "/home/masdevas/.anaconda3/envs/nlp-unn/lib/python3.9/site-packages/sklearn/base.py:450: UserWarning: X does not have valid feature names, but LogisticRegression was fitted with feature names\n",
      "  warnings.warn(\n",
      "/home/masdevas/.anaconda3/envs/nlp-unn/lib/python3.9/site-packages/daal4py/sklearn/linear_model/logistic_path.py:459: ConvergenceWarning: lbfgs failed to converge (status=1):\n",
      "STOP: TOTAL NO. of ITERATIONS REACHED LIMIT.\n",
      "\n",
      "Increase the number of iterations (max_iter) or scale the data as shown in:\n",
      "    https://scikit-learn.org/stable/modules/preprocessing.html\n",
      "Please also refer to the documentation for alternative solver options:\n",
      "    https://scikit-learn.org/stable/modules/linear_model.html#logistic-regression\n",
      "  n_iter_i = _check_optimize_result(\n",
      "/home/masdevas/.anaconda3/envs/nlp-unn/lib/python3.9/site-packages/sklearn/base.py:450: UserWarning: X does not have valid feature names, but LogisticRegression was fitted with feature names\n",
      "  warnings.warn(\n",
      "/home/masdevas/.anaconda3/envs/nlp-unn/lib/python3.9/site-packages/daal4py/sklearn/linear_model/logistic_path.py:459: ConvergenceWarning: lbfgs failed to converge (status=1):\n",
      "STOP: TOTAL NO. of ITERATIONS REACHED LIMIT.\n",
      "\n",
      "Increase the number of iterations (max_iter) or scale the data as shown in:\n",
      "    https://scikit-learn.org/stable/modules/preprocessing.html\n",
      "Please also refer to the documentation for alternative solver options:\n",
      "    https://scikit-learn.org/stable/modules/linear_model.html#logistic-regression\n",
      "  n_iter_i = _check_optimize_result(\n",
      "/home/masdevas/.anaconda3/envs/nlp-unn/lib/python3.9/site-packages/sklearn/base.py:450: UserWarning: X does not have valid feature names, but LogisticRegression was fitted with feature names\n",
      "  warnings.warn(\n",
      "/home/masdevas/.anaconda3/envs/nlp-unn/lib/python3.9/site-packages/daal4py/sklearn/linear_model/logistic_path.py:459: ConvergenceWarning: lbfgs failed to converge (status=1):\n",
      "STOP: TOTAL NO. of ITERATIONS REACHED LIMIT.\n",
      "\n",
      "Increase the number of iterations (max_iter) or scale the data as shown in:\n",
      "    https://scikit-learn.org/stable/modules/preprocessing.html\n",
      "Please also refer to the documentation for alternative solver options:\n",
      "    https://scikit-learn.org/stable/modules/linear_model.html#logistic-regression\n",
      "  n_iter_i = _check_optimize_result(\n",
      "/home/masdevas/.anaconda3/envs/nlp-unn/lib/python3.9/site-packages/sklearn/base.py:450: UserWarning: X does not have valid feature names, but LogisticRegression was fitted with feature names\n",
      "  warnings.warn(\n",
      "/home/masdevas/.anaconda3/envs/nlp-unn/lib/python3.9/site-packages/daal4py/sklearn/linear_model/logistic_path.py:459: ConvergenceWarning: lbfgs failed to converge (status=1):\n",
      "STOP: TOTAL NO. of ITERATIONS REACHED LIMIT.\n",
      "\n",
      "Increase the number of iterations (max_iter) or scale the data as shown in:\n",
      "    https://scikit-learn.org/stable/modules/preprocessing.html\n",
      "Please also refer to the documentation for alternative solver options:\n",
      "    https://scikit-learn.org/stable/modules/linear_model.html#logistic-regression\n",
      "  n_iter_i = _check_optimize_result(\n",
      "/home/masdevas/.anaconda3/envs/nlp-unn/lib/python3.9/site-packages/sklearn/base.py:450: UserWarning: X does not have valid feature names, but LogisticRegression was fitted with feature names\n",
      "  warnings.warn(\n",
      "/home/masdevas/.anaconda3/envs/nlp-unn/lib/python3.9/site-packages/daal4py/sklearn/linear_model/logistic_path.py:459: ConvergenceWarning: lbfgs failed to converge (status=1):\n",
      "STOP: TOTAL NO. of ITERATIONS REACHED LIMIT.\n",
      "\n",
      "Increase the number of iterations (max_iter) or scale the data as shown in:\n",
      "    https://scikit-learn.org/stable/modules/preprocessing.html\n",
      "Please also refer to the documentation for alternative solver options:\n",
      "    https://scikit-learn.org/stable/modules/linear_model.html#logistic-regression\n",
      "  n_iter_i = _check_optimize_result(\n",
      "/home/masdevas/.anaconda3/envs/nlp-unn/lib/python3.9/site-packages/sklearn/base.py:450: UserWarning: X does not have valid feature names, but LogisticRegression was fitted with feature names\n",
      "  warnings.warn(\n",
      "/home/masdevas/.anaconda3/envs/nlp-unn/lib/python3.9/site-packages/daal4py/sklearn/linear_model/logistic_path.py:459: ConvergenceWarning: lbfgs failed to converge (status=1):\n",
      "STOP: TOTAL NO. of ITERATIONS REACHED LIMIT.\n",
      "\n",
      "Increase the number of iterations (max_iter) or scale the data as shown in:\n",
      "    https://scikit-learn.org/stable/modules/preprocessing.html\n",
      "Please also refer to the documentation for alternative solver options:\n",
      "    https://scikit-learn.org/stable/modules/linear_model.html#logistic-regression\n",
      "  n_iter_i = _check_optimize_result(\n",
      "/home/masdevas/.anaconda3/envs/nlp-unn/lib/python3.9/site-packages/sklearn/base.py:450: UserWarning: X does not have valid feature names, but LogisticRegression was fitted with feature names\n",
      "  warnings.warn(\n",
      "/home/masdevas/.anaconda3/envs/nlp-unn/lib/python3.9/site-packages/daal4py/sklearn/linear_model/logistic_path.py:459: ConvergenceWarning: lbfgs failed to converge (status=1):\n",
      "STOP: TOTAL NO. of ITERATIONS REACHED LIMIT.\n",
      "\n",
      "Increase the number of iterations (max_iter) or scale the data as shown in:\n",
      "    https://scikit-learn.org/stable/modules/preprocessing.html\n",
      "Please also refer to the documentation for alternative solver options:\n",
      "    https://scikit-learn.org/stable/modules/linear_model.html#logistic-regression\n",
      "  n_iter_i = _check_optimize_result(\n",
      "/home/masdevas/.anaconda3/envs/nlp-unn/lib/python3.9/site-packages/sklearn/base.py:450: UserWarning: X does not have valid feature names, but LogisticRegression was fitted with feature names\n",
      "  warnings.warn(\n",
      "/home/masdevas/.anaconda3/envs/nlp-unn/lib/python3.9/site-packages/daal4py/sklearn/linear_model/logistic_path.py:459: ConvergenceWarning: lbfgs failed to converge (status=1):\n",
      "STOP: TOTAL NO. of ITERATIONS REACHED LIMIT.\n",
      "\n",
      "Increase the number of iterations (max_iter) or scale the data as shown in:\n",
      "    https://scikit-learn.org/stable/modules/preprocessing.html\n",
      "Please also refer to the documentation for alternative solver options:\n",
      "    https://scikit-learn.org/stable/modules/linear_model.html#logistic-regression\n",
      "  n_iter_i = _check_optimize_result(\n",
      "/home/masdevas/.anaconda3/envs/nlp-unn/lib/python3.9/site-packages/sklearn/base.py:450: UserWarning: X does not have valid feature names, but LogisticRegression was fitted with feature names\n",
      "  warnings.warn(\n",
      "/home/masdevas/.anaconda3/envs/nlp-unn/lib/python3.9/site-packages/daal4py/sklearn/linear_model/logistic_path.py:459: ConvergenceWarning: lbfgs failed to converge (status=1):\n",
      "STOP: TOTAL NO. of ITERATIONS REACHED LIMIT.\n",
      "\n",
      "Increase the number of iterations (max_iter) or scale the data as shown in:\n",
      "    https://scikit-learn.org/stable/modules/preprocessing.html\n",
      "Please also refer to the documentation for alternative solver options:\n",
      "    https://scikit-learn.org/stable/modules/linear_model.html#logistic-regression\n",
      "  n_iter_i = _check_optimize_result(\n",
      "/home/masdevas/.anaconda3/envs/nlp-unn/lib/python3.9/site-packages/sklearn/base.py:450: UserWarning: X does not have valid feature names, but LogisticRegression was fitted with feature names\n",
      "  warnings.warn(\n"
     ]
    },
    {
     "name": "stderr",
     "output_type": "stream",
     "text": [
      "/home/masdevas/.anaconda3/envs/nlp-unn/lib/python3.9/site-packages/daal4py/sklearn/linear_model/logistic_path.py:459: ConvergenceWarning: lbfgs failed to converge (status=1):\n",
      "STOP: TOTAL NO. of ITERATIONS REACHED LIMIT.\n",
      "\n",
      "Increase the number of iterations (max_iter) or scale the data as shown in:\n",
      "    https://scikit-learn.org/stable/modules/preprocessing.html\n",
      "Please also refer to the documentation for alternative solver options:\n",
      "    https://scikit-learn.org/stable/modules/linear_model.html#logistic-regression\n",
      "  n_iter_i = _check_optimize_result(\n",
      "/home/masdevas/.anaconda3/envs/nlp-unn/lib/python3.9/site-packages/sklearn/base.py:450: UserWarning: X does not have valid feature names, but LogisticRegression was fitted with feature names\n",
      "  warnings.warn(\n",
      "/home/masdevas/.anaconda3/envs/nlp-unn/lib/python3.9/site-packages/daal4py/sklearn/linear_model/logistic_path.py:459: ConvergenceWarning: lbfgs failed to converge (status=1):\n",
      "STOP: TOTAL NO. of ITERATIONS REACHED LIMIT.\n",
      "\n",
      "Increase the number of iterations (max_iter) or scale the data as shown in:\n",
      "    https://scikit-learn.org/stable/modules/preprocessing.html\n",
      "Please also refer to the documentation for alternative solver options:\n",
      "    https://scikit-learn.org/stable/modules/linear_model.html#logistic-regression\n",
      "  n_iter_i = _check_optimize_result(\n",
      "/home/masdevas/.anaconda3/envs/nlp-unn/lib/python3.9/site-packages/sklearn/base.py:450: UserWarning: X does not have valid feature names, but LogisticRegression was fitted with feature names\n",
      "  warnings.warn(\n",
      "/home/masdevas/.anaconda3/envs/nlp-unn/lib/python3.9/site-packages/daal4py/sklearn/linear_model/logistic_path.py:459: ConvergenceWarning: lbfgs failed to converge (status=1):\n",
      "STOP: TOTAL NO. of ITERATIONS REACHED LIMIT.\n",
      "\n",
      "Increase the number of iterations (max_iter) or scale the data as shown in:\n",
      "    https://scikit-learn.org/stable/modules/preprocessing.html\n",
      "Please also refer to the documentation for alternative solver options:\n",
      "    https://scikit-learn.org/stable/modules/linear_model.html#logistic-regression\n",
      "  n_iter_i = _check_optimize_result(\n",
      "/home/masdevas/.anaconda3/envs/nlp-unn/lib/python3.9/site-packages/sklearn/base.py:450: UserWarning: X does not have valid feature names, but LogisticRegression was fitted with feature names\n",
      "  warnings.warn(\n",
      "/home/masdevas/.anaconda3/envs/nlp-unn/lib/python3.9/site-packages/daal4py/sklearn/linear_model/logistic_path.py:459: ConvergenceWarning: lbfgs failed to converge (status=1):\n",
      "STOP: TOTAL NO. of ITERATIONS REACHED LIMIT.\n",
      "\n",
      "Increase the number of iterations (max_iter) or scale the data as shown in:\n",
      "    https://scikit-learn.org/stable/modules/preprocessing.html\n",
      "Please also refer to the documentation for alternative solver options:\n",
      "    https://scikit-learn.org/stable/modules/linear_model.html#logistic-regression\n",
      "  n_iter_i = _check_optimize_result(\n",
      "/home/masdevas/.anaconda3/envs/nlp-unn/lib/python3.9/site-packages/sklearn/base.py:450: UserWarning: X does not have valid feature names, but LogisticRegression was fitted with feature names\n",
      "  warnings.warn(\n",
      "/home/masdevas/.anaconda3/envs/nlp-unn/lib/python3.9/site-packages/daal4py/sklearn/linear_model/logistic_path.py:459: ConvergenceWarning: lbfgs failed to converge (status=1):\n",
      "STOP: TOTAL NO. of ITERATIONS REACHED LIMIT.\n",
      "\n",
      "Increase the number of iterations (max_iter) or scale the data as shown in:\n",
      "    https://scikit-learn.org/stable/modules/preprocessing.html\n",
      "Please also refer to the documentation for alternative solver options:\n",
      "    https://scikit-learn.org/stable/modules/linear_model.html#logistic-regression\n",
      "  n_iter_i = _check_optimize_result(\n",
      "/home/masdevas/.anaconda3/envs/nlp-unn/lib/python3.9/site-packages/sklearn/base.py:450: UserWarning: X does not have valid feature names, but LogisticRegression was fitted with feature names\n",
      "  warnings.warn(\n",
      "/home/masdevas/.anaconda3/envs/nlp-unn/lib/python3.9/site-packages/daal4py/sklearn/linear_model/logistic_path.py:459: ConvergenceWarning: lbfgs failed to converge (status=1):\n",
      "STOP: TOTAL NO. of ITERATIONS REACHED LIMIT.\n",
      "\n",
      "Increase the number of iterations (max_iter) or scale the data as shown in:\n",
      "    https://scikit-learn.org/stable/modules/preprocessing.html\n",
      "Please also refer to the documentation for alternative solver options:\n",
      "    https://scikit-learn.org/stable/modules/linear_model.html#logistic-regression\n",
      "  n_iter_i = _check_optimize_result(\n",
      "/home/masdevas/.anaconda3/envs/nlp-unn/lib/python3.9/site-packages/sklearn/base.py:450: UserWarning: X does not have valid feature names, but LogisticRegression was fitted with feature names\n",
      "  warnings.warn(\n",
      "/home/masdevas/.anaconda3/envs/nlp-unn/lib/python3.9/site-packages/daal4py/sklearn/linear_model/logistic_path.py:459: ConvergenceWarning: lbfgs failed to converge (status=1):\n",
      "STOP: TOTAL NO. of ITERATIONS REACHED LIMIT.\n",
      "\n",
      "Increase the number of iterations (max_iter) or scale the data as shown in:\n",
      "    https://scikit-learn.org/stable/modules/preprocessing.html\n",
      "Please also refer to the documentation for alternative solver options:\n",
      "    https://scikit-learn.org/stable/modules/linear_model.html#logistic-regression\n",
      "  n_iter_i = _check_optimize_result(\n",
      "/home/masdevas/.anaconda3/envs/nlp-unn/lib/python3.9/site-packages/sklearn/base.py:450: UserWarning: X does not have valid feature names, but LogisticRegression was fitted with feature names\n",
      "  warnings.warn(\n",
      "/home/masdevas/.anaconda3/envs/nlp-unn/lib/python3.9/site-packages/daal4py/sklearn/linear_model/logistic_path.py:459: ConvergenceWarning: lbfgs failed to converge (status=1):\n",
      "STOP: TOTAL NO. of ITERATIONS REACHED LIMIT.\n",
      "\n",
      "Increase the number of iterations (max_iter) or scale the data as shown in:\n",
      "    https://scikit-learn.org/stable/modules/preprocessing.html\n",
      "Please also refer to the documentation for alternative solver options:\n",
      "    https://scikit-learn.org/stable/modules/linear_model.html#logistic-regression\n",
      "  n_iter_i = _check_optimize_result(\n",
      "/home/masdevas/.anaconda3/envs/nlp-unn/lib/python3.9/site-packages/sklearn/base.py:450: UserWarning: X does not have valid feature names, but LogisticRegression was fitted with feature names\n",
      "  warnings.warn(\n",
      "/home/masdevas/.anaconda3/envs/nlp-unn/lib/python3.9/site-packages/daal4py/sklearn/linear_model/logistic_path.py:459: ConvergenceWarning: lbfgs failed to converge (status=1):\n",
      "STOP: TOTAL NO. of ITERATIONS REACHED LIMIT.\n",
      "\n",
      "Increase the number of iterations (max_iter) or scale the data as shown in:\n",
      "    https://scikit-learn.org/stable/modules/preprocessing.html\n",
      "Please also refer to the documentation for alternative solver options:\n",
      "    https://scikit-learn.org/stable/modules/linear_model.html#logistic-regression\n",
      "  n_iter_i = _check_optimize_result(\n",
      "/home/masdevas/.anaconda3/envs/nlp-unn/lib/python3.9/site-packages/sklearn/base.py:450: UserWarning: X does not have valid feature names, but LogisticRegression was fitted with feature names\n",
      "  warnings.warn(\n",
      "/home/masdevas/.anaconda3/envs/nlp-unn/lib/python3.9/site-packages/daal4py/sklearn/linear_model/logistic_path.py:459: ConvergenceWarning: lbfgs failed to converge (status=1):\n",
      "STOP: TOTAL NO. of ITERATIONS REACHED LIMIT.\n",
      "\n",
      "Increase the number of iterations (max_iter) or scale the data as shown in:\n",
      "    https://scikit-learn.org/stable/modules/preprocessing.html\n",
      "Please also refer to the documentation for alternative solver options:\n",
      "    https://scikit-learn.org/stable/modules/linear_model.html#logistic-regression\n",
      "  n_iter_i = _check_optimize_result(\n",
      "/home/masdevas/.anaconda3/envs/nlp-unn/lib/python3.9/site-packages/sklearn/base.py:450: UserWarning: X does not have valid feature names, but LogisticRegression was fitted with feature names\n",
      "  warnings.warn(\n",
      "/home/masdevas/.anaconda3/envs/nlp-unn/lib/python3.9/site-packages/daal4py/sklearn/linear_model/logistic_path.py:459: ConvergenceWarning: lbfgs failed to converge (status=1):\n",
      "STOP: TOTAL NO. of ITERATIONS REACHED LIMIT.\n",
      "\n",
      "Increase the number of iterations (max_iter) or scale the data as shown in:\n",
      "    https://scikit-learn.org/stable/modules/preprocessing.html\n",
      "Please also refer to the documentation for alternative solver options:\n",
      "    https://scikit-learn.org/stable/modules/linear_model.html#logistic-regression\n",
      "  n_iter_i = _check_optimize_result(\n",
      "/home/masdevas/.anaconda3/envs/nlp-unn/lib/python3.9/site-packages/sklearn/base.py:450: UserWarning: X does not have valid feature names, but LogisticRegression was fitted with feature names\n",
      "  warnings.warn(\n"
     ]
    },
    {
     "name": "stderr",
     "output_type": "stream",
     "text": [
      "/home/masdevas/.anaconda3/envs/nlp-unn/lib/python3.9/site-packages/daal4py/sklearn/linear_model/logistic_path.py:459: ConvergenceWarning: lbfgs failed to converge (status=1):\n",
      "STOP: TOTAL NO. of ITERATIONS REACHED LIMIT.\n",
      "\n",
      "Increase the number of iterations (max_iter) or scale the data as shown in:\n",
      "    https://scikit-learn.org/stable/modules/preprocessing.html\n",
      "Please also refer to the documentation for alternative solver options:\n",
      "    https://scikit-learn.org/stable/modules/linear_model.html#logistic-regression\n",
      "  n_iter_i = _check_optimize_result(\n",
      "/home/masdevas/.anaconda3/envs/nlp-unn/lib/python3.9/site-packages/sklearn/base.py:450: UserWarning: X does not have valid feature names, but LogisticRegression was fitted with feature names\n",
      "  warnings.warn(\n",
      "/home/masdevas/.anaconda3/envs/nlp-unn/lib/python3.9/site-packages/daal4py/sklearn/linear_model/logistic_path.py:459: ConvergenceWarning: lbfgs failed to converge (status=1):\n",
      "STOP: TOTAL NO. of ITERATIONS REACHED LIMIT.\n",
      "\n",
      "Increase the number of iterations (max_iter) or scale the data as shown in:\n",
      "    https://scikit-learn.org/stable/modules/preprocessing.html\n",
      "Please also refer to the documentation for alternative solver options:\n",
      "    https://scikit-learn.org/stable/modules/linear_model.html#logistic-regression\n",
      "  n_iter_i = _check_optimize_result(\n",
      "/home/masdevas/.anaconda3/envs/nlp-unn/lib/python3.9/site-packages/sklearn/base.py:450: UserWarning: X does not have valid feature names, but LogisticRegression was fitted with feature names\n",
      "  warnings.warn(\n",
      "/home/masdevas/.anaconda3/envs/nlp-unn/lib/python3.9/site-packages/daal4py/sklearn/linear_model/logistic_path.py:459: ConvergenceWarning: lbfgs failed to converge (status=1):\n",
      "STOP: TOTAL NO. of ITERATIONS REACHED LIMIT.\n",
      "\n",
      "Increase the number of iterations (max_iter) or scale the data as shown in:\n",
      "    https://scikit-learn.org/stable/modules/preprocessing.html\n",
      "Please also refer to the documentation for alternative solver options:\n",
      "    https://scikit-learn.org/stable/modules/linear_model.html#logistic-regression\n",
      "  n_iter_i = _check_optimize_result(\n",
      "/home/masdevas/.anaconda3/envs/nlp-unn/lib/python3.9/site-packages/sklearn/base.py:450: UserWarning: X does not have valid feature names, but LogisticRegression was fitted with feature names\n",
      "  warnings.warn(\n",
      "/home/masdevas/.anaconda3/envs/nlp-unn/lib/python3.9/site-packages/daal4py/sklearn/linear_model/logistic_path.py:459: ConvergenceWarning: lbfgs failed to converge (status=1):\n",
      "STOP: TOTAL NO. of ITERATIONS REACHED LIMIT.\n",
      "\n",
      "Increase the number of iterations (max_iter) or scale the data as shown in:\n",
      "    https://scikit-learn.org/stable/modules/preprocessing.html\n",
      "Please also refer to the documentation for alternative solver options:\n",
      "    https://scikit-learn.org/stable/modules/linear_model.html#logistic-regression\n",
      "  n_iter_i = _check_optimize_result(\n",
      "/home/masdevas/.anaconda3/envs/nlp-unn/lib/python3.9/site-packages/sklearn/base.py:450: UserWarning: X does not have valid feature names, but LogisticRegression was fitted with feature names\n",
      "  warnings.warn(\n",
      "INFO:nlp:ML part fitting. Best score: 0.6652020793737831, best params: {'classifier': 'LogReg', 'C': 2.756528281745748}\n",
      "/home/masdevas/.anaconda3/envs/nlp-unn/lib/python3.9/site-packages/daal4py/sklearn/linear_model/logistic_path.py:459: ConvergenceWarning: lbfgs failed to converge (status=1):\n",
      "STOP: TOTAL NO. of ITERATIONS REACHED LIMIT.\n",
      "\n",
      "Increase the number of iterations (max_iter) or scale the data as shown in:\n",
      "    https://scikit-learn.org/stable/modules/preprocessing.html\n",
      "Please also refer to the documentation for alternative solver options:\n",
      "    https://scikit-learn.org/stable/modules/linear_model.html#logistic-regression\n",
      "  n_iter_i = _check_optimize_result(\n"
     ]
    }
   ],
   "source": [
    "train_tfidf_data, train_tfidf_labels, tfidf_precomputed = prepare_data_pandas(train_data, titles['Train'], bodies['Train'], good_tags_index, interesting_rare_indices, dtype=np.float32, vectorizer=TfidfVectorizer)\n",
    "test_tfidf_data, test_tfidf_labels, _ = prepare_data_pandas(valid_data, titles['Test'], bodies['Test'], good_tags_index, interesting_rare_indices, dtype=np.float32, vectorizer=TfidfVectorizer, precomputed=tfidf_precomputed)\n",
    "tfidf_model, tfidf_study = train_ml_pandas(train_tfidf_data, train_tfidf_labels, test_tfidf_data, test_tfidf_labels, TfidfVectorizer)"
   ]
  },
  {
   "cell_type": "code",
   "execution_count": 40,
   "metadata": {},
   "outputs": [
    {
     "data": {
      "text/plain": [
       "LogisticRegression(C=2.756528281745748)"
      ]
     },
     "execution_count": 40,
     "metadata": {},
     "output_type": "execute_result"
    }
   ],
   "source": [
    "tfidf_model"
   ]
  },
  {
   "cell_type": "code",
   "execution_count": 41,
   "metadata": {},
   "outputs": [
    {
     "data": {
      "text/plain": [
       "0.6652020793737831"
      ]
     },
     "execution_count": 41,
     "metadata": {},
     "output_type": "execute_result"
    }
   ],
   "source": [
    "tfidf_study.best_value"
   ]
  },
  {
   "cell_type": "code",
   "execution_count": 42,
   "metadata": {},
   "outputs": [
    {
     "data": {
      "text/plain": [
       "0"
      ]
     },
     "execution_count": 42,
     "metadata": {},
     "output_type": "execute_result"
    }
   ],
   "source": [
    "del train_tfidf_data, train_tfidf_labels, tfidf_precomputed, test_tfidf_data, test_tfidf_labels, tfidf_model, tfidf_study, _\n",
    "gc.collect()"
   ]
  },
  {
   "cell_type": "markdown",
   "metadata": {},
   "source": [
    "# Bidirectional RNN Model with FC/XGBoost/RandomForest/kNN head"
   ]
  },
  {
   "cell_type": "markdown",
   "metadata": {},
   "source": [
    "## Torch, how are you?"
   ]
  },
  {
   "cell_type": "code",
   "execution_count": 43,
   "metadata": {},
   "outputs": [
    {
     "name": "stdout",
     "output_type": "stream",
     "text": [
      "PyTorch built with:\n",
      "  - GCC 7.3\n",
      "  - C++ Version: 201402\n",
      "  - Intel(R) Math Kernel Library Version 2020.0.0 Product Build 20191122 for Intel(R) 64 architecture applications\n",
      "  - Intel(R) MKL-DNN v2.5.2 (Git Hash a9302535553c73243c632ad3c4c80beec3d19a1e)\n",
      "  - OpenMP 201511 (a.k.a. OpenMP 4.5)\n",
      "  - LAPACK is enabled (usually provided by MKL)\n",
      "  - NNPACK is enabled\n",
      "  - CPU capability usage: AVX2\n",
      "  - CUDA Runtime 10.2\n",
      "  - NVCC architecture flags: -gencode;arch=compute_37,code=sm_37;-gencode;arch=compute_50,code=sm_50;-gencode;arch=compute_60,code=sm_60;-gencode;arch=compute_70,code=sm_70\n",
      "  - CuDNN 7.6.5\n",
      "  - Magma 2.5.2\n",
      "  - Build settings: BLAS_INFO=mkl, BUILD_TYPE=Release, CUDA_VERSION=10.2, CUDNN_VERSION=7.6.5, CXX_COMPILER=/opt/rh/devtoolset-7/root/usr/bin/c++, CXX_FLAGS= -Wno-deprecated -fvisibility-inlines-hidden -DUSE_PTHREADPOOL -fopenmp -DNDEBUG -DUSE_KINETO -DUSE_FBGEMM -DUSE_QNNPACK -DUSE_PYTORCH_QNNPACK -DUSE_XNNPACK -DSYMBOLICATE_MOBILE_DEBUG_HANDLE -DEDGE_PROFILER_USE_KINETO -O2 -fPIC -Wno-narrowing -Wall -Wextra -Werror=return-type -Wno-missing-field-initializers -Wno-type-limits -Wno-array-bounds -Wno-unknown-pragmas -Wno-sign-compare -Wno-unused-parameter -Wno-unused-function -Wno-unused-result -Wno-unused-local-typedefs -Wno-strict-overflow -Wno-strict-aliasing -Wno-error=deprecated-declarations -Wno-stringop-overflow -Wno-psabi -Wno-error=pedantic -Wno-error=redundant-decls -Wno-error=old-style-cast -fdiagnostics-color=always -faligned-new -Wno-unused-but-set-variable -Wno-maybe-uninitialized -fno-math-errno -fno-trapping-math -Werror=format -Wno-stringop-overflow, LAPACK_INFO=mkl, PERF_WITH_AVX=1, PERF_WITH_AVX2=1, PERF_WITH_AVX512=1, TORCH_VERSION=1.11.0, USE_CUDA=ON, USE_CUDNN=ON, USE_EXCEPTION_PTR=1, USE_GFLAGS=OFF, USE_GLOG=OFF, USE_MKL=ON, USE_MKLDNN=OFF, USE_MPI=OFF, USE_NCCL=ON, USE_NNPACK=ON, USE_OPENMP=ON, USE_ROCM=OFF, \n",
      "\n"
     ]
    }
   ],
   "source": [
    "print(*torch.__config__.show().split(\"\\n\"), sep=\"\\n\")"
   ]
  },
  {
   "cell_type": "code",
   "execution_count": 44,
   "metadata": {},
   "outputs": [
    {
     "data": {
      "text/plain": [
       "True"
      ]
     },
     "execution_count": 44,
     "metadata": {},
     "output_type": "execute_result"
    }
   ],
   "source": [
    "torch.backends.cudnn.is_available()"
   ]
  },
  {
   "cell_type": "code",
   "execution_count": 45,
   "metadata": {},
   "outputs": [
    {
     "data": {
      "text/plain": [
       "True"
      ]
     },
     "execution_count": 45,
     "metadata": {},
     "output_type": "execute_result"
    }
   ],
   "source": [
    "torch.backends.mkldnn.is_available()"
   ]
  },
  {
   "cell_type": "code",
   "execution_count": 46,
   "metadata": {},
   "outputs": [
    {
     "name": "stdout",
     "output_type": "stream",
     "text": [
      "1\n"
     ]
    }
   ],
   "source": [
    "if torch.cuda.is_available():\n",
    "    print(torch.cuda.device_count())"
   ]
  },
  {
   "cell_type": "markdown",
   "metadata": {},
   "source": [
    "## Words converter for NN"
   ]
  },
  {
   "cell_type": "code",
   "execution_count": 47,
   "metadata": {},
   "outputs": [],
   "source": [
    "def get_empty_word(shape, dtype, device):\n",
    "    return torch.zeros(shape, dtype=dtype, device=device)\n",
    "\n",
    "def fill_text_data(sentence_tensor, text, limit, embeddings, empty_word, dtype, device):    \n",
    "    words_added = 0\n",
    "    word_idx = 0\n",
    "    while words_added < limit:\n",
    "        if word_idx >= len(text):\n",
    "            break\n",
    "        word = text[word_idx]\n",
    "        word_idx += 1\n",
    "        if word in embeddings:\n",
    "            embedding = embeddings[word]\n",
    "        else:\n",
    "            continue\n",
    "        sentence_tensor.append(torch.tensor(embedding, dtype=dtype, device=device))\n",
    "        words_added += 1\n",
    "    extra_limit = limit - words_added\n",
    "    for word_idx in range(extra_limit):\n",
    "        sentence_tensor.append(empty_word)\n",
    "\n",
    "def get_sentence_tensor(title, body, embeddings, empty_word, title_size, body_size, dtype, device):\n",
    "    sentence_tensor = []\n",
    "    fill_text_data(sentence_tensor, title, title_size, embeddings, empty_word, dtype, device)\n",
    "    fill_text_data(sentence_tensor, body, body_size, embeddings, empty_word, dtype, device)\n",
    "    return torch.stack(sentence_tensor, dim=0).to(device=device)\n",
    "\n",
    "def find_sentence_statistics(corpus, embeddings):\n",
    "    lengths = []\n",
    "    for item in corpus.values():\n",
    "        sentence = item[0]\n",
    "        words_counter = 0\n",
    "        for word in sentence:\n",
    "            if word in embeddings:\n",
    "                words_counter += 1\n",
    "        lengths.append(words_counter)\n",
    "    return max(lengths), sum(lengths) / len(lengths)\n",
    "\n",
    "def get_tags_tensor(dataset, idx, tags_list, dtype, device):\n",
    "    local_tags_str = dataset['Tags'].iloc[idx]\n",
    "    local_tags = set(local_tags_str[1:-1].split('><'))\n",
    "    tensor_line = np.zeros(len(tags_list), dtype=np.float32)\n",
    "    for tag_idx, tag in enumerate(tags_list):\n",
    "        tensor_line[tag_idx] = 1. if tag in local_tags else 0.\n",
    "    return torch.tensor(tensor_line, dtype=dtype, device=device)\n",
    "    \n",
    "def get_time_tensor(dataset, idx, dtype, device, time_rough_mean, time_mean, time_std):\n",
    "    item = dataset['CreationDate'].iloc[idx].value\n",
    "    item -= time_rough_mean\n",
    "    item -= time_mean\n",
    "    item /= time_std\n",
    "    return torch.tensor([item], dtype=dtype, device=device)\n",
    "\n",
    "# sentences \n",
    "#   label_words\n",
    "#   body_words\n",
    "def prepare_data_tensors(dataset, titles, bodies, dtype, device, embeddings, good_tags_index, interesting_rare_indices, number_body_words_to_add, number_title_words_to_add, forced_limits=None):\n",
    "    with torch.no_grad():\n",
    "        titles = collections.OrderedDict(sorted(titles.items()))\n",
    "        bodies = collections.OrderedDict(sorted(bodies.items()))\n",
    "        tags_list = list(set.union(set(good_tags_index), set(interesting_rare_indices)))\n",
    "        torch_data_list = []\n",
    "        torch_labels_list = []\n",
    "        extra_datas = []\n",
    "        empty_word = get_empty_word(embeddings['car'].shape, dtype, device)\n",
    "        title_max_length, title_avg_length = find_sentence_statistics(titles, embeddings)\n",
    "        logger.info(f'Title max length: {title_max_length}, Title avg length: {title_avg_length}')\n",
    "        body_max_length, body_avg_length = find_sentence_statistics(bodies, embeddings)\n",
    "        logger.info(f'Body max length: {body_max_length}, Body avg length: {body_avg_length}')\n",
    "        if not forced_limits:\n",
    "            title_size = min(number_title_words_to_add, title_max_length)\n",
    "            body_size = min(number_body_words_to_add, body_max_length)\n",
    "        else:\n",
    "            title_size = forced_limits['title_size']\n",
    "            body_size = forced_limits['body_size']\n",
    "        \n",
    "        if not forced_limits:\n",
    "            time_values = []\n",
    "            for idx in bodies.keys():\n",
    "                item = dataset['CreationDate'].iloc[idx].value\n",
    "                time_values.append(item)\n",
    "            time_rough_mean = sum(time_values) // len(time_values)\n",
    "            for idx in range(len(time_values)):\n",
    "                time_values[idx] -= time_rough_mean\n",
    "            numpy_time_values = np.array(time_values, dtype=np.single)\n",
    "            time_mean = numpy_time_values.mean()\n",
    "            time_std = np.std(numpy_time_values)\n",
    "        else:\n",
    "            time_rough_mean = forced_limits['time_rough_mean']\n",
    "            time_mean = forced_limits['time_mean']\n",
    "            time_std = forced_limits['time_std']\n",
    "        \n",
    "        for idx in bodies.keys():\n",
    "            sentence_tensor = get_sentence_tensor(titles[idx][0], bodies[idx][0], embeddings, empty_word, title_size, body_size, dtype, device)\n",
    "            tags_tensor = get_tags_tensor(dataset, idx, tags_list, dtype, device)\n",
    "            time_tensor = get_time_tensor(dataset, idx, dtype, device, time_rough_mean, time_mean, time_std)\n",
    "            extra_data = torch.cat([tags_tensor, time_tensor])\n",
    "            extra_datas.append(extra_data)\n",
    "            torch_data_list.append(sentence_tensor)\n",
    "            torch_labels_list.append(bodies[idx][1])\n",
    "        data = torch.stack(torch_data_list, dim=0).to(device=device)\n",
    "        extra = torch.stack(extra_datas, dim=0).to(device=device)\n",
    "        labels = torch.tensor(torch_labels_list, dtype=torch.long, device=device)\n",
    "        return data, extra, labels, title_size, body_size, time_rough_mean, time_mean, time_std"
   ]
  },
  {
   "cell_type": "markdown",
   "metadata": {},
   "source": [
    "**Let's call it RNNML!**"
   ]
  },
  {
   "cell_type": "code",
   "execution_count": 48,
   "metadata": {},
   "outputs": [],
   "source": [
    "import time\n",
    "\n",
    "class RNNMLModel(nn.Module):\n",
    "    def __init__(self, embeddings, compute_device, *, title_size, body_size, fc_size1, fc_size2, hidden_dim, embedding_dim, extra_size, dtype):\n",
    "        super().__init__()\n",
    "        self.dtype = dtype\n",
    "        self.hidden_dim = hidden_dim\n",
    "        self.embeddings = embeddings\n",
    "        self.compute_device = compute_device\n",
    "        self.embedding_dim = embedding_dim\n",
    "        self.title_size = title_size\n",
    "        self.body_size = body_size\n",
    "        self.extra_size = extra_size\n",
    "        self.fc_size1 = fc_size1\n",
    "        self.fc_size2 = fc_size2\n",
    "        self.classifier = None\n",
    "        self.lstm_forward_title = nn.LSTMCell(self.embedding_dim, self.hidden_dim)\n",
    "        self.lstm_backward_title = nn.LSTMCell(self.embedding_dim, self.hidden_dim)\n",
    "        self.lstm_forward_body = nn.LSTMCell(self.embedding_dim, self.hidden_dim)\n",
    "        self.lstm_backward_body = nn.LSTMCell(self.embedding_dim, self.hidden_dim)\n",
    "        self.maxpool = nn.AdaptiveMaxPool1d(1)\n",
    "        \n",
    "        self.input_size = self.hidden_dim * 4 + self.extra_size\n",
    "        self.lstmout_scale_factor = 1\n",
    "        self.lstmout_estimation = torch.full((1, self.input_size), 0, dtype=self.dtype, device=self.compute_device)\n",
    "        self.lstmout_std = torch.full((1, self.input_size,), 1, dtype=self.dtype, device=self.compute_device)\n",
    "        \n",
    "        self.fc1_1 = nn.Linear(self.input_size, self.fc_size1)\n",
    "        self.fc1_2 = nn.Linear(self.input_size, self.fc_size1)\n",
    "        self.fc1_3 = nn.Linear(self.input_size, self.fc_size1)\n",
    "        self.prelu1_1 = nn.PReLU()\n",
    "        self.prelu1_2 = nn.PReLU()\n",
    "        self.prelu1_3 = nn.PReLU()\n",
    "        self.batchnorm1_1 = nn.BatchNorm1d(self.fc_size1)\n",
    "        self.batchnorm1_2 = nn.BatchNorm1d(self.fc_size1)\n",
    "        self.batchnorm1_3 = nn.BatchNorm1d(self.fc_size1)\n",
    "        self.fc2_1 = nn.Linear(self.fc_size1, self.fc_size2)\n",
    "        self.fc2_2 = nn.Linear(self.fc_size1, self.fc_size2)\n",
    "        self.fc2_3 = nn.Linear(self.fc_size1, self.fc_size2)\n",
    "        self.prelu2_1 = nn.PReLU()\n",
    "        self.prelu2_2 = nn.PReLU()\n",
    "        self.prelu2_3 = nn.PReLU()\n",
    "        self.batchnorm2_1 = nn.BatchNorm1d(self.fc_size2)\n",
    "        self.batchnorm2_2 = nn.BatchNorm1d(self.fc_size2)\n",
    "        self.batchnorm2_3 = nn.BatchNorm1d(self.fc_size2)\n",
    "        self.fc3_1 = nn.Linear(self.fc_size2, 1)\n",
    "        self.fc3_2 = nn.Linear(self.fc_size2, 1)\n",
    "        self.fc3_3 = nn.Linear(self.fc_size2, 1)\n",
    "        self.softmax = nn.Softmax(dim=1)\n",
    "\n",
    "    def _get_hidden_state_for_words(self, lstm_cell, data, iterable_idx, hx_init, cx_init):\n",
    "        hx = hx_init.detach().clone()\n",
    "        cx = cx_init.detach().clone()\n",
    "        hx_copies = [hx]\n",
    "        for idx in iterable_idx:\n",
    "            subdata = data[idx]\n",
    "            hx, cx = lstm_cell(subdata, (hx, cx))\n",
    "            hx_copies.append(hx)\n",
    "        return torch.stack(hx_copies, dim=2)\n",
    "    \n",
    "    def _eval_part_of_hidden(self, data, hx_init, cx_init, iterable_idx, fwd_lstm_cell, bkwd_lstm_cell):\n",
    "        forward_pass = self._get_hidden_state_for_words(fwd_lstm_cell, data, iterable_idx, hx_init, cx_init)\n",
    "        forward_pooled = self.maxpool(forward_pass).view(-1, self.hidden_dim)\n",
    "        backward_pass = self._get_hidden_state_for_words(bkwd_lstm_cell, data, reversed(iterable_idx), hx_init, cx_init)\n",
    "        backward_pooled = self.maxpool(backward_pass).view(-1, self.hidden_dim)\n",
    "        concat_pass = torch.cat([forward_pooled, backward_pooled], dim=1)\n",
    "        return concat_pass\n",
    "    \n",
    "    def _eval_hidden(self, data, hx_init, cx_init):\n",
    "        title_iterable_id = range(self.title_size)\n",
    "        title_pass = self._eval_part_of_hidden(data, hx_init, cx_init, title_iterable_id, self.lstm_forward_title, self.lstm_backward_title)\n",
    "        body_start_idx = self.title_size\n",
    "        body_iterable_id = range(body_start_idx, body_start_idx + self.body_size)\n",
    "        body_pass = self._eval_part_of_hidden(data, hx_init, cx_init, body_iterable_id, self.lstm_forward_body, self.lstm_backward_body)\n",
    "        concat_pass = torch.cat([title_pass, body_pass], dim=1)\n",
    "        return concat_pass\n",
    "\n",
    "    def _lstm_part_forward(self, data):\n",
    "        data = torch.transpose(data, 0, 1)\n",
    "        hx_init = torch.zeros(data.shape[1], self.hidden_dim, dtype=self.dtype, device=self.compute_device)\n",
    "        cx_init = torch.zeros(data.shape[1], self.hidden_dim, dtype=self.dtype, device=self.compute_device)\n",
    "        hidden_result = self._eval_hidden(data, hx_init, cx_init)\n",
    "        return hidden_result\n",
    "    \n",
    "    def prehead_forward(self, data, extra):\n",
    "        hidden_result = self._lstm_part_forward(data)\n",
    "        lstm_res = (hidden_result - self.lstmout_estimation) / self.lstmout_std * self.lstmout_scale_factor\n",
    "        return torch.cat([lstm_res, extra], dim=1)\n",
    "    \n",
    "    # X - [batch_size, words_num, embed_dim]\n",
    "    def forward(self, data, extra, mode):\n",
    "        prehead_result = self.prehead_forward(data, extra)\n",
    "        if mode == 'nn':\n",
    "            fc1_1_res = self.fc1_1(prehead_result)\n",
    "            fc1_2_res = self.fc1_2(prehead_result)\n",
    "            fc1_3_res = self.fc1_3(prehead_result)\n",
    "\n",
    "            prelu1_1_res = self.prelu1_1(fc1_1_res)\n",
    "            prelu1_2_res = self.prelu1_2(fc1_2_res)\n",
    "            prelu1_3_res = self.prelu1_3(fc1_3_res)\n",
    "\n",
    "            normalized1_1_res = self.batchnorm1_1(prelu1_1_res)\n",
    "            normalized1_2_res = self.batchnorm1_2(prelu1_2_res)\n",
    "            normalized1_3_res = self.batchnorm1_3(prelu1_3_res)\n",
    "            \n",
    "            fc2_1_res = self.fc2_1(normalized1_1_res)\n",
    "            fc2_2_res = self.fc2_2(normalized1_2_res)\n",
    "            fc2_3_res = self.fc2_3(normalized1_3_res)\n",
    "            \n",
    "            prelu2_1_res = self.prelu2_1(fc2_1_res)\n",
    "            prelu2_2_res = self.prelu2_2(fc2_2_res)\n",
    "            prelu2_3_res = self.prelu2_3(fc2_3_res)\n",
    "            \n",
    "            normalized2_1_res = self.batchnorm2_1(prelu2_1_res)\n",
    "            normalized2_2_res = self.batchnorm2_2(prelu2_2_res)\n",
    "            normalized2_3_res = self.batchnorm2_3(prelu2_3_res)\n",
    "            \n",
    "            fc3_1_res = self.fc3_1(normalized2_1_res)\n",
    "            fc3_2_res = self.fc3_2(normalized2_2_res)\n",
    "            fc3_3_res = self.fc3_3(normalized2_3_res)\n",
    "            \n",
    "            head_res = torch.cat([fc3_1_res, fc3_2_res, fc3_3_res], 1)\n",
    "            softmax_res = self.softmax(head_res)\n",
    "            return softmax_res\n",
    "        elif mode == 'ml':\n",
    "            numpy_prehead_res = prehead_result.detach().cpu().numpy()\n",
    "            probs = self.classifier.predict_proba(numpy_prehead_res)\n",
    "            res = torch.tensor(probs, dtype=self.dtype, device=self.compute_device)\n",
    "            return res\n",
    "        else:\n",
    "            raise Exception('forward: Wrong mode.')\n",
    "        \n",
    "    def recalculate_lstmout_statistics(self, data, extra):\n",
    "        batch_size = 1024\n",
    "        train_indices = list(BatchSampler(RandomSampler(range(data.shape[0])), \n",
    "                                         batch_size=batch_size, drop_last=False))\n",
    "        x_train_list = []\n",
    "        for batch_idx, batch_indices in enumerate(train_indices):\n",
    "            batch_data = data[batch_indices].to(self.compute_device)\n",
    "            batch_extra = extra[batch_indices].to(self.compute_device)\n",
    "            x_train_list.append(self._lstm_part_forward(batch_data).detach())\n",
    "        x_train = torch.cat(x_train_list)\n",
    "        self.lstmout_estimation = x_train.mean(dim=0).unsqueeze(0)\n",
    "        self.lstmout_std = torch.std(x_train, dim=0, keepdim=True)\n",
    "        self.lstmout_std = self.lstmout_std.where(torch.abs(self.lstmout_std) >= 1e-4, torch.tensor(1, dtype=self.dtype, device=self.compute_device))\n",
    "        del x_train_list\n",
    "        gc.collect()\n",
    "        \n",
    "    def _prepare_data_for_ml(self, data, extra, labels, test_data, test_extra, test_labels):\n",
    "        with torch.no_grad():\n",
    "            batch_size = 1024\n",
    "            train_indices = list(BatchSampler(RandomSampler(range(data.shape[0])), \n",
    "                                             batch_size=batch_size, drop_last=False))\n",
    "            test_indices = list(BatchSampler(RandomSampler(range(test_data.shape[0])), \n",
    "                                             batch_size=batch_size, drop_last=False))\n",
    "            numpy_x_train_list = []\n",
    "            numpy_y_train_list = []\n",
    "            numpy_x_test_list = []\n",
    "            numpy_y_test_list = []\n",
    "            for batch_idx, batch_indices in enumerate(train_indices):\n",
    "                batch_data = data[batch_indices].to(self.compute_device).detach()\n",
    "                batch_extra = extra[batch_indices].to(self.compute_device).detach()\n",
    "                numpy_x_train_list.append(self.prehead_forward(batch_data, batch_extra).detach().cpu().numpy())\n",
    "                numpy_y_train_list.append(labels[batch_indices].detach().cpu().numpy())\n",
    "                del batch_data, batch_extra\n",
    "                gc.collect()\n",
    "                torch.cuda.empty_cache()\n",
    "            for batch_idx, batch_indices in enumerate(test_indices):\n",
    "                batch_data = test_data[batch_indices].to(self.compute_device).detach()\n",
    "                batch_extra = test_extra[batch_indices].to(self.compute_device).detach()\n",
    "                numpy_x_test_list.append(self.prehead_forward(batch_data, batch_extra).detach().cpu().numpy())\n",
    "                numpy_y_test_list.append(test_labels[batch_indices].detach().cpu().numpy())\n",
    "                del batch_data, batch_extra\n",
    "                gc.collect()\n",
    "                torch.cuda.empty_cache()\n",
    "\n",
    "            numpy_x_train = np.concatenate(numpy_x_train_list)\n",
    "            numpy_y_train = np.concatenate(numpy_y_train_list)\n",
    "            numpy_x_test = np.concatenate(numpy_x_test_list)\n",
    "            numpy_y_test = np.concatenate(numpy_y_test_list)\n",
    "            del numpy_x_train_list, numpy_x_test_list, numpy_y_train_list, numpy_y_test_list\n",
    "            gc.collect()\n",
    "            return numpy_x_train, numpy_y_train, numpy_x_test, numpy_y_test\n",
    "        \n",
    "    def fit_ml_head(self, data, extra, labels, test_data, test_extra, test_labels, objective):\n",
    "        numpy_x_train, numpy_y_train, numpy_x_test, numpy_y_test = self._prepare_data_for_ml(data, extra, labels, test_data, test_extra, test_labels)\n",
    "        study = optuna.create_study(direction='maximize')\n",
    "        study.optimize(lambda trial: objective(trial, numpy_x_train, numpy_y_train, numpy_x_test, numpy_y_test), n_trials=32, n_jobs=1)\n",
    "        logger.info(f'ML part fitting. Best score: {study.best_value}, best params: {study.best_params}')\n",
    "        classifier_classname = study.best_params['classifier']\n",
    "        if classifier_classname == 'RandomForest':\n",
    "            classifier_class = RandomForestClassifier\n",
    "        elif classifier_classname == 'kNN':\n",
    "            classifier_class = KNeighborsClassifier\n",
    "        elif classifier_classname == 'XGBoost':\n",
    "            classifier_class = xgb.XGBClassifier\n",
    "        elif classifier_classname == 'LogReg':\n",
    "            classifier_class = LogisticRegression\n",
    "        else:\n",
    "            raise Exception('fit_ml_head: Unknows classifier name.')\n",
    "        alg_params = study.best_params.copy()\n",
    "        del alg_params['classifier']\n",
    "        self.classifier = classifier_class(**alg_params)\n",
    "\n",
    "        self.classifier.fit(numpy_x_train, numpy_y_train)\n",
    "        return study\n"
   ]
  },
  {
   "cell_type": "markdown",
   "metadata": {},
   "source": [
    "## Train function definition"
   ]
  },
  {
   "cell_type": "code",
   "execution_count": 49,
   "metadata": {},
   "outputs": [],
   "source": [
    "def rnnml_evaluate(data, extra, labels, model, criterion, compute_device, batch_indices, metrics, metrics_stage, mode):\n",
    "    with torch.no_grad():\n",
    "        accuracy_torch = Accuracy(num_classes=3, average='macro').to(compute_device)\n",
    "        f1score_torch = F1Score(num_classes=3, average='macro').to(compute_device)\n",
    "        confmat_torch = ConfusionMatrix(num_classes=3).to(compute_device)\n",
    "        local_conf_matrices = []\n",
    "        local_loss = []\n",
    "        local_metrics_accuracy = []\n",
    "        local_metrics_f1score = []\n",
    "        for batch_idx, batch_indices in enumerate(batch_indices):\n",
    "            batch_data = data[batch_indices].to(compute_device).detach()\n",
    "            batch_extra = extra[batch_indices].to(compute_device).detach()\n",
    "            batch_labels = labels[batch_indices].to(compute_device).detach()\n",
    "            predicted = model.forward(batch_data, batch_extra, mode).detach()\n",
    "            loss = criterion(predicted, batch_labels).detach()\n",
    "            local_loss.append(loss.item())\n",
    "            local_metrics_accuracy.append(accuracy_torch(predicted, batch_labels).item())\n",
    "            local_metrics_f1score.append(f1score_torch(predicted, batch_labels).item())\n",
    "            local_conf_matrices.append(confmat_torch(predicted, batch_labels).detach().cpu().numpy())\n",
    "            del batch_data, batch_extra, batch_labels, predicted, loss\n",
    "            gc.collect()\n",
    "            torch.cuda.empty_cache()\n",
    "        result_confmat = sum(local_conf_matrices)\n",
    "        metrics[metrics_stage]['loss'].append(sum(local_loss) / len(local_loss))\n",
    "        metrics[metrics_stage]['accuracy'].append(sum(local_metrics_accuracy) / len(local_metrics_accuracy))\n",
    "        metrics[metrics_stage]['f1score'].append(sum(local_metrics_f1score) / len(local_metrics_f1score))\n",
    "        metrics[metrics_stage]['confmat'].append(result_confmat.flatten())\n",
    "    \n",
    "def rnnml_get_latest_metrics(metrics):\n",
    "    latest_metrics = {}\n",
    "    for stage in ('train_nn', 'test_nn', 'train_ml', 'test_ml'):\n",
    "        latest_metrics[stage] = {}\n",
    "        for key, value in metrics[stage].items():\n",
    "            try:\n",
    "                latest_metrics[stage][key] = f'{metrics[stage][key][-1]:.3f}'\n",
    "            except TypeError as e:\n",
    "                latest_metrics[stage][key] = f'{str(metrics[stage][key][-1])}'\n",
    "    return latest_metrics\n",
    "\n",
    "# todo Tune grad norm factor, probably use different optimizers for RNN/nonRNN parts\n",
    "# todo use insights from Time EDA\n",
    "# eval weights changing for RNN/nonRNN parts (for each layer)\n",
    "def rnnml_train(torch_train_data, torch_train_extra, torch_train_labels, \n",
    "          torch_test_data, torch_test_extra, torch_test_labels, \n",
    "          model_class, embeddings, epoch_count, batch_size, device, compute_device, dtype, \n",
    "          ml_fitting_freq, **kwargs):\n",
    "    model = model_class(embeddings, compute_device, **kwargs, dtype=dtype).to(compute_device)\n",
    "    model.recalculate_lstmout_statistics(torch_train_data, torch_train_extra)\n",
    "    optimizer = optim.Adam(model.parameters(), lr=0.1)\n",
    "    scheduler = ExponentialLR(optimizer, gamma=0.85, verbose=True)\n",
    "    criterion = nn.CrossEntropyLoss()\n",
    "    logger.info('Model was created.')\n",
    "    metrics = {\n",
    "        'train_nn' : {\n",
    "            'loss' : [],\n",
    "            'confmat' : [],\n",
    "            'accuracy' : [],\n",
    "            'f1score' : []\n",
    "        },\n",
    "        'test_nn' : {\n",
    "            'loss' : [],\n",
    "            'confmat' : [],\n",
    "            'accuracy' : [],\n",
    "            'f1score' : []\n",
    "        }\n",
    "        ,\n",
    "        'train_ml' : {\n",
    "            'loss' : [],\n",
    "            'confmat' : [],\n",
    "            'accuracy' : [],\n",
    "            'f1score' : []\n",
    "        },\n",
    "        'test_ml' : {\n",
    "            'loss' : [],\n",
    "            'confmat' : [],\n",
    "            'accuracy' : [],\n",
    "            'f1score' : []\n",
    "        }\n",
    "    }\n",
    "    studies = []\n",
    "    gc.collect()\n",
    "    torch.cuda.empty_cache()\n",
    "    \n",
    "    def objective(trial, X, y, X_test, y_test):\n",
    "        classifier_str = trial.suggest_categorical('classifier', ['RandomForest', 'XGBoost', 'kNN'])\n",
    "        if classifier_str == 'RandomForest':\n",
    "            n_estimators = trial.suggest_int('n_estimators', 16, 64)\n",
    "            max_depth = trial.suggest_int('max_depth', 2, 12)\n",
    "            alg = RandomForestClassifier(n_estimators=n_estimators, max_depth=max_depth)\n",
    "        elif classifier_str == 'kNN':\n",
    "            n_neighbors = trial.suggest_int('n_neighbors', 2, 128)\n",
    "            algorithm = 'brute'\n",
    "            alg = KNeighborsClassifier(n_neighbors=n_neighbors, algorithm=algorithm)\n",
    "        elif classifier_str == 'LogReg':\n",
    "            C = trial.suggest_float('C', 1e-4, 1e5, log=True)\n",
    "            alg = LogisticRegression(C=C)\n",
    "        elif classifier_str == 'XGBoost':\n",
    "            n_estimators = trial.suggest_int('n_estimators', 8, 64)\n",
    "            max_depth = trial.suggest_int('max_depth', 2, 12)\n",
    "            alg = xgb.XGBClassifier(objective='multi:softprob', learning_rate=0.1, \n",
    "                                    n_estimators=n_estimators, max_depth=max_depth, \n",
    "                                    n_jobs=-1, tree_method='gpu_hist', gpu_id=0)\n",
    "        else:\n",
    "            raise Exception('Optuna usage: Unknows classifier name.')\n",
    "        alg.fit(X, y)\n",
    "        test_probs = alg.predict_proba(X_test)\n",
    "        score = f1_score(y_test, np.argmax(test_probs, axis=1), average='macro')\n",
    "        gc.collect()\n",
    "        return score\n",
    "\n",
    "    for epoch in range(epoch_count):\n",
    "        logger.info(f'Epoch {epoch}/{epoch_count-1} started.')\n",
    "\n",
    "        # Train loop\n",
    "        perm_indices = list(BatchSampler(RandomSampler(range(torch_train_data.shape[0])), \n",
    "                                         batch_size=batch_size, drop_last=False))\n",
    "        for batch_idx, batch_indices in enumerate(perm_indices):\n",
    "            batch_data = torch_train_data[batch_indices].to(compute_device)\n",
    "            batch_extra = torch_train_extra[batch_indices].to(compute_device)\n",
    "            batch_labels = torch_train_labels[batch_indices].to(compute_device)\n",
    "            optimizer.zero_grad()\n",
    "            predicted = model.forward(batch_data, batch_extra, 'nn')\n",
    "            loss = criterion(predicted, batch_labels)\n",
    "            loss.backward()\n",
    "            torch.nn.utils.clip_grad_norm_(model.parameters(), 10)\n",
    "            optimizer.step()\n",
    "            del batch_data, batch_labels, batch_extra, predicted, loss\n",
    "            gc.collect()\n",
    "            torch.cuda.empty_cache()\n",
    "        scheduler.step()\n",
    "        \n",
    "        gc.collect()\n",
    "        torch.cuda.empty_cache()\n",
    "        model.recalculate_lstmout_statistics(torch_train_data, torch_train_extra)\n",
    "        \n",
    "        if epoch % ml_fitting_freq == 0 or epoch + 1 == epoch_count:\n",
    "            study = model.fit_ml_head(torch_train_data, torch_train_extra, torch_train_labels, \n",
    "                torch_test_data, torch_test_extra, torch_test_labels, objective)\n",
    "            studies.append(study)\n",
    "        gc.collect()\n",
    "        torch.cuda.empty_cache()\n",
    "        \n",
    "        # Test on test data\n",
    "        test_batch_size = 4096\n",
    "        test_perm_indices = list(BatchSampler(RandomSampler(range(torch_test_data.shape[0])), \n",
    "                                         batch_size=test_batch_size, drop_last=True))\n",
    "        rnnml_evaluate(torch_test_data, torch_test_extra, torch_test_labels, \n",
    "                 model, criterion, compute_device, test_perm_indices, metrics, 'test_nn', 'nn')\n",
    "        \n",
    "        # Test on train data\n",
    "        train_batch_size = 4096\n",
    "        train_perm_indices = list(BatchSampler(RandomSampler(range(torch_train_data.shape[0])), \n",
    "                                         batch_size=train_batch_size, drop_last=True))\n",
    "        rnnml_evaluate(torch_train_data, torch_train_extra, torch_train_labels, \n",
    "                 model, criterion, compute_device, train_perm_indices, metrics, 'train_nn', 'nn')\n",
    "        gc.collect()\n",
    "        torch.cuda.empty_cache()\n",
    "        \n",
    "        if epoch % ml_fitting_freq == 0 or epoch + 1 == epoch_count:\n",
    "            # Test on test data\n",
    "            test_batch_size = 4096\n",
    "            test_perm_indices = list(BatchSampler(RandomSampler(range(torch_test_data.shape[0])), \n",
    "                                             batch_size=test_batch_size, drop_last=True))\n",
    "            rnnml_evaluate(torch_test_data, torch_test_extra, torch_test_labels, \n",
    "                     model, criterion, compute_device, test_perm_indices, metrics, 'test_ml', 'ml')\n",
    "\n",
    "            # Test on train data\n",
    "            train_batch_size = 4096\n",
    "            train_perm_indices = list(BatchSampler(RandomSampler(range(torch_train_data.shape[0])), \n",
    "                                             batch_size=train_batch_size, drop_last=True))\n",
    "            rnnml_evaluate(torch_train_data, torch_train_extra, torch_train_labels, \n",
    "                     model, criterion, compute_device, train_perm_indices, metrics, 'train_ml', 'ml')\n",
    "        else:\n",
    "            for stage in ('test_ml', 'train_ml'):\n",
    "                for key, value in metrics[stage].items():\n",
    "                    metrics[stage][key].append(metrics[stage][key][-1])\n",
    "        gc.collect()\n",
    "        torch.cuda.empty_cache()\n",
    "        logger.info(f'Epoch {epoch} finished. Metrics: {rnnml_get_latest_metrics(metrics)}.')    \n",
    "    \n",
    "    return model, metrics, studies\n"
   ]
  },
  {
   "cell_type": "markdown",
   "metadata": {},
   "source": [
    "## Let's train RNNML with GloVe embeddings"
   ]
  },
  {
   "cell_type": "code",
   "execution_count": 50,
   "metadata": {
    "scrolled": true
   },
   "outputs": [],
   "source": [
    "rnnml_embeddings = gensim.downloader.load('glove-twitter-100')"
   ]
  },
  {
   "cell_type": "code",
   "execution_count": 51,
   "metadata": {},
   "outputs": [],
   "source": [
    "rnnml_hidden_dim = 100\n",
    "rnnml_fc_size1 = 200\n",
    "rnnml_fc_size2 = 100\n",
    "rnnml_embedding_dim = 100\n",
    "rnnml_epoch_count = 50\n",
    "rnnml_batch_size = 1024\n",
    "rnnml_extra_size = 126\n",
    "rnnml_ml_fitting_freq = 5\n",
    "rnnml_number_body_words_to_add = 90\n",
    "rnnml_number_title_words_to_add = 15\n",
    "rnnml_device = torch.device(\"cpu\")\n",
    "rnnml_compute_device = torch.device(\"cuda:0\")\n",
    "rnnml_dtype = torch.float32"
   ]
  },
  {
   "cell_type": "code",
   "execution_count": 52,
   "metadata": {},
   "outputs": [
    {
     "name": "stderr",
     "output_type": "stream",
     "text": [
      "INFO:nlp:Title max length: 33, Title avg length: 7.0230904282507725\n",
      "INFO:nlp:Body max length: 2787, Body avg length: 88.73100428917483\n",
      "INFO:nlp:Train data was prepared.\n"
     ]
    }
   ],
   "source": [
    "rnnml_torch_train_data, rnnml_torch_train_extra, rnnml_torch_train_labels, rnnml_title_size, rnnml_body_size, time_rough_mean, time_mean, time_std = prepare_data_tensors(train_data, titles['Train'], bodies['Train'], rnnml_dtype, rnnml_device, rnnml_embeddings, good_tags_index, interesting_rare_indices, rnnml_number_body_words_to_add, rnnml_number_title_words_to_add)\n",
    "logger.info('Train data was prepared.')"
   ]
  },
  {
   "cell_type": "code",
   "execution_count": 53,
   "metadata": {},
   "outputs": [
    {
     "name": "stderr",
     "output_type": "stream",
     "text": [
      "INFO:nlp:Title max length: 31, Title avg length: 7.010600706713781\n",
      "INFO:nlp:Body max length: 4415, Body avg length: 89.82805520368025\n",
      "INFO:nlp:Test data was prepared.\n"
     ]
    }
   ],
   "source": [
    "rnnml_torch_test_data, rnnml_torch_test_extra, rnnml_torch_test_labels, _, _, _, _, _ = prepare_data_tensors(valid_data, titles['Test'], bodies['Test'], rnnml_dtype, rnnml_device, rnnml_embeddings, good_tags_index, interesting_rare_indices, rnnml_number_body_words_to_add, rnnml_number_title_words_to_add, forced_limits={'title_size' : rnnml_title_size, 'body_size' : rnnml_body_size, 'time_mean' : time_mean, 'time_std' : time_std, 'time_rough_mean' : time_rough_mean})\n",
    "logger.info('Test data was prepared.')"
   ]
  },
  {
   "cell_type": "code",
   "execution_count": 54,
   "metadata": {
    "scrolled": true
   },
   "outputs": [
    {
     "name": "stderr",
     "output_type": "stream",
     "text": [
      "INFO:nlp:Model was created.\n"
     ]
    },
    {
     "name": "stdout",
     "output_type": "stream",
     "text": [
      "Adjusting learning rate of group 0 to 1.0000e-01.\n"
     ]
    },
    {
     "name": "stderr",
     "output_type": "stream",
     "text": [
      "INFO:nlp:Epoch 0/49 started.\n"
     ]
    },
    {
     "name": "stdout",
     "output_type": "stream",
     "text": [
      "Adjusting learning rate of group 0 to 8.5000e-02.\n"
     ]
    },
    {
     "name": "stderr",
     "output_type": "stream",
     "text": [
      "INFO:nlp:ML part fitting. Best score: 0.5672209222131408, best params: {'classifier': 'XGBoost', 'n_estimators': 59, 'max_depth': 9}\n",
      "INFO:nlp:Epoch 0 finished. Metrics: {'train_nn': {'loss': '1.081', 'confmat': '[9217  374 4080 4461 1250 7918 4232  777 8651]', 'accuracy': '0.466', 'f1score': '0.415'}, 'test_nn': {'loss': '1.076', 'confmat': '[2779  105 1221 1302  412 2363 1256  235 2615]', 'accuracy': '0.472', 'f1score': '0.422'}, 'train_ml': {'loss': '0.725', 'confmat': '[13521    63   122   193 13292   160   177    73 13359]', 'accuracy': '0.981', 'f1score': '0.981'}, 'test_ml': {'loss': '0.983', 'confmat': '[2858  517  724  718 2033 1353  834 1304 1947]', 'accuracy': '0.556', 'f1score': '0.554'}}.\n",
      "INFO:nlp:Epoch 1/49 started.\n"
     ]
    },
    {
     "name": "stdout",
     "output_type": "stream",
     "text": [
      "Adjusting learning rate of group 0 to 7.2250e-02.\n"
     ]
    },
    {
     "name": "stderr",
     "output_type": "stream",
     "text": [
      "INFO:nlp:Epoch 1 finished. Metrics: {'train_nn': {'loss': '1.050', 'confmat': '[10260  1023  2372  4764  3491  5404  4760  2218  6668]', 'accuracy': '0.499', 'f1score': '0.477'}, 'test_nn': {'loss': '1.052', 'confmat': '[3078  302  703 1417 1056 1595 1453  713 1971]', 'accuracy': '0.497', 'f1score': '0.476'}, 'train_ml': {'loss': '0.725', 'confmat': '[13521    63   122   193 13292   160   177    73 13359]', 'accuracy': '0.981', 'f1score': '0.981'}, 'test_ml': {'loss': '0.983', 'confmat': '[2858  517  724  718 2033 1353  834 1304 1947]', 'accuracy': '0.556', 'f1score': '0.554'}}.\n",
      "INFO:nlp:Epoch 2/49 started.\n"
     ]
    },
    {
     "name": "stdout",
     "output_type": "stream",
     "text": [
      "Adjusting learning rate of group 0 to 6.1413e-02.\n"
     ]
    },
    {
     "name": "stderr",
     "output_type": "stream",
     "text": [
      "INFO:nlp:Epoch 2 finished. Metrics: {'train_nn': {'loss': '1.031', 'confmat': '[10002   808  2862  4041  4329  5229  4588  2208  6893]', 'accuracy': '0.518', 'f1score': '0.504'}, 'test_nn': {'loss': '1.036', 'confmat': '[3042  245  805 1282 1300 1515 1420  712 1967]', 'accuracy': '0.514', 'f1score': '0.499'}, 'train_ml': {'loss': '0.725', 'confmat': '[13521    63   122   193 13292   160   177    73 13359]', 'accuracy': '0.981', 'f1score': '0.981'}, 'test_ml': {'loss': '0.983', 'confmat': '[2858  517  724  718 2033 1353  834 1304 1947]', 'accuracy': '0.556', 'f1score': '0.554'}}.\n",
      "INFO:nlp:Epoch 3/49 started.\n"
     ]
    },
    {
     "name": "stdout",
     "output_type": "stream",
     "text": [
      "Adjusting learning rate of group 0 to 5.2201e-02.\n"
     ]
    },
    {
     "name": "stderr",
     "output_type": "stream",
     "text": [
      "INFO:nlp:Epoch 3 finished. Metrics: {'train_nn': {'loss': '1.012', 'confmat': '[8977 2021 2645 2795 7678 3183 3296 5073 5292]', 'accuracy': '0.536', 'f1score': '0.531'}, 'test_nn': {'loss': '1.025', 'confmat': '[2680  623  756  863 2245 1045 1039 1525 1512]', 'accuracy': '0.524', 'f1score': '0.518'}, 'train_ml': {'loss': '0.725', 'confmat': '[13521    63   122   193 13292   160   177    73 13359]', 'accuracy': '0.981', 'f1score': '0.981'}, 'test_ml': {'loss': '0.983', 'confmat': '[2858  517  724  718 2033 1353  834 1304 1947]', 'accuracy': '0.556', 'f1score': '0.554'}}.\n",
      "INFO:nlp:Epoch 4/49 started.\n"
     ]
    },
    {
     "name": "stdout",
     "output_type": "stream",
     "text": [
      "Adjusting learning rate of group 0 to 4.4371e-02.\n"
     ]
    },
    {
     "name": "stderr",
     "output_type": "stream",
     "text": [
      "INFO:nlp:Epoch 4 finished. Metrics: {'train_nn': {'loss': '1.007', 'confmat': '[8730 1576 3312 2521 6968 4207 3011 4169 6466]', 'accuracy': '0.541', 'f1score': '0.541'}, 'test_nn': {'loss': '1.014', 'confmat': '[2614  490 1008  714 2042 1333  901 1284 1902]', 'accuracy': '0.534', 'f1score': '0.533'}, 'train_ml': {'loss': '0.725', 'confmat': '[13521    63   122   193 13292   160   177    73 13359]', 'accuracy': '0.981', 'f1score': '0.981'}, 'test_ml': {'loss': '0.983', 'confmat': '[2858  517  724  718 2033 1353  834 1304 1947]', 'accuracy': '0.556', 'f1score': '0.554'}}.\n",
      "INFO:nlp:Epoch 5/49 started.\n"
     ]
    },
    {
     "name": "stdout",
     "output_type": "stream",
     "text": [
      "Adjusting learning rate of group 0 to 3.7715e-02.\n"
     ]
    },
    {
     "name": "stderr",
     "output_type": "stream",
     "text": [
      "INFO:nlp:ML part fitting. Best score: 0.578874405508488, best params: {'classifier': 'XGBoost', 'n_estimators': 64, 'max_depth': 10}\n",
      "INFO:nlp:Epoch 5 finished. Metrics: {'train_nn': {'loss': '0.988', 'confmat': '[9662 1274 2708 2751 6837 4082 3412 3845 6389]', 'accuracy': '0.559', 'f1score': '0.555'}, 'test_nn': {'loss': '0.999', 'confmat': '[2870  372  840  898 1940 1265 1025 1173 1905]', 'accuracy': '0.547', 'f1score': '0.542'}, 'train_ml': {'loss': '0.677', 'confmat': '[13527    12    61    90 13457   106    60     7 13640]', 'accuracy': '0.992', 'f1score': '0.992'}, 'test_ml': {'loss': '0.967', 'confmat': '[2900  463  745  668 2147 1296  835 1269 1965]', 'accuracy': '0.570', 'f1score': '0.568'}}.\n",
      "INFO:nlp:Epoch 6/49 started.\n"
     ]
    },
    {
     "name": "stdout",
     "output_type": "stream",
     "text": [
      "Adjusting learning rate of group 0 to 3.2058e-02.\n"
     ]
    },
    {
     "name": "stderr",
     "output_type": "stream",
     "text": [
      "INFO:nlp:Epoch 6 finished. Metrics: {'train_nn': {'loss': '0.975', 'confmat': '[9789 1449 2404 2775 7075 3832 3341 3906 6389]', 'accuracy': '0.568', 'f1score': '0.564'}, 'test_nn': {'loss': '0.992', 'confmat': '[2884  493  718  879 2032 1191  954 1286 1851]', 'accuracy': '0.551', 'f1score': '0.546'}, 'train_ml': {'loss': '0.677', 'confmat': '[13527    12    61    90 13457   106    60     7 13640]', 'accuracy': '0.992', 'f1score': '0.992'}, 'test_ml': {'loss': '0.967', 'confmat': '[2900  463  745  668 2147 1296  835 1269 1965]', 'accuracy': '0.570', 'f1score': '0.568'}}.\n",
      "INFO:nlp:Epoch 7/49 started.\n"
     ]
    },
    {
     "name": "stdout",
     "output_type": "stream",
     "text": [
      "Adjusting learning rate of group 0 to 2.7249e-02.\n"
     ]
    },
    {
     "name": "stderr",
     "output_type": "stream",
     "text": [
      "INFO:nlp:Epoch 7 finished. Metrics: {'train_nn': {'loss': '0.951', 'confmat': '[10208  1122  2324  2598  6702  4389  3284  3259  7074]', 'accuracy': '0.586', 'f1score': '0.581'}, 'test_nn': {'loss': '0.972', 'confmat': '[2915  369  798  804 1926 1372 1002 1052 2050]', 'accuracy': '0.561', 'f1score': '0.557'}, 'train_ml': {'loss': '0.677', 'confmat': '[13527    12    61    90 13457   106    60     7 13640]', 'accuracy': '0.992', 'f1score': '0.992'}, 'test_ml': {'loss': '0.967', 'confmat': '[2900  463  745  668 2147 1296  835 1269 1965]', 'accuracy': '0.570', 'f1score': '0.568'}}.\n",
      "INFO:nlp:Epoch 8/49 started.\n"
     ]
    },
    {
     "name": "stdout",
     "output_type": "stream",
     "text": [
      "Adjusting learning rate of group 0 to 2.3162e-02.\n"
     ]
    },
    {
     "name": "stderr",
     "output_type": "stream",
     "text": [
      "INFO:nlp:Epoch 8 finished. Metrics: {'train_nn': {'loss': '0.933', 'confmat': '[10717  1198  1718  2617  7535  3533  3404  3701  6537]', 'accuracy': '0.605', 'f1score': '0.599'}, 'test_nn': {'loss': '0.962', 'confmat': '[2959  491  661  751 2215 1136  964 1312 1799]', 'accuracy': '0.568', 'f1score': '0.563'}, 'train_ml': {'loss': '0.677', 'confmat': '[13527    12    61    90 13457   106    60     7 13640]', 'accuracy': '0.992', 'f1score': '0.992'}, 'test_ml': {'loss': '0.967', 'confmat': '[2900  463  745  668 2147 1296  835 1269 1965]', 'accuracy': '0.570', 'f1score': '0.568'}}.\n",
      "INFO:nlp:Epoch 9/49 started.\n"
     ]
    },
    {
     "name": "stdout",
     "output_type": "stream",
     "text": [
      "Adjusting learning rate of group 0 to 1.9687e-02.\n"
     ]
    },
    {
     "name": "stderr",
     "output_type": "stream",
     "text": [
      "INFO:nlp:Epoch 9 finished. Metrics: {'train_nn': {'loss': '0.918', 'confmat': '[10725  1207  1743  2329  8053  3262  2952  3960  6729]', 'accuracy': '0.623', 'f1score': '0.617'}, 'test_nn': {'loss': '0.958', 'confmat': '[2947  495  639  720 2278 1114  938 1365 1792]', 'accuracy': '0.571', 'f1score': '0.566'}, 'train_ml': {'loss': '0.677', 'confmat': '[13527    12    61    90 13457   106    60     7 13640]', 'accuracy': '0.992', 'f1score': '0.992'}, 'test_ml': {'loss': '0.967', 'confmat': '[2900  463  745  668 2147 1296  835 1269 1965]', 'accuracy': '0.570', 'f1score': '0.568'}}.\n",
      "INFO:nlp:Epoch 10/49 started.\n"
     ]
    },
    {
     "name": "stdout",
     "output_type": "stream",
     "text": [
      "Adjusting learning rate of group 0 to 1.6734e-02.\n"
     ]
    },
    {
     "name": "stderr",
     "output_type": "stream",
     "text": [
      "INFO:nlp:ML part fitting. Best score: 0.5890340016084691, best params: {'classifier': 'XGBoost', 'n_estimators': 64, 'max_depth': 7}\n",
      "INFO:nlp:Epoch 10 finished. Metrics: {'train_nn': {'loss': '0.910', 'confmat': '[9953 1170 2527 1672 7711 4234 2036 3421 8236]', 'accuracy': '0.632', 'f1score': '0.633'}, 'test_nn': {'loss': '0.957', 'confmat': '[2756  415  920  563 2108 1443  716 1165 2202]', 'accuracy': '0.575', 'f1score': '0.576'}, 'train_ml': {'loss': '0.836', 'confmat': '[12321   385   965  1071 10733  1867  1259  1005 11354]', 'accuracy': '0.840', 'f1score': '0.840'}, 'test_ml': {'loss': '0.962', 'confmat': '[3053  400  669  597 2102 1362  828 1195 2082]', 'accuracy': '0.589', 'f1score': '0.586'}}.\n",
      "INFO:nlp:Epoch 11/49 started.\n"
     ]
    },
    {
     "name": "stdout",
     "output_type": "stream",
     "text": [
      "Adjusting learning rate of group 0 to 1.4224e-02.\n"
     ]
    },
    {
     "name": "stderr",
     "output_type": "stream",
     "text": [
      "INFO:nlp:Epoch 11 finished. Metrics: {'train_nn': {'loss': '0.897', 'confmat': '[10698  1101  1816  2000  8096  3584  2497  3406  7762]', 'accuracy': '0.649', 'f1score': '0.646'}, 'test_nn': {'loss': '0.961', 'confmat': '[2981  411  718  676 2116 1284  904 1247 1951]', 'accuracy': '0.574', 'f1score': '0.570'}, 'train_ml': {'loss': '0.836', 'confmat': '[12321   385   965  1071 10733  1867  1259  1005 11354]', 'accuracy': '0.840', 'f1score': '0.840'}, 'test_ml': {'loss': '0.962', 'confmat': '[3053  400  669  597 2102 1362  828 1195 2082]', 'accuracy': '0.589', 'f1score': '0.586'}}.\n",
      "INFO:nlp:Epoch 12/49 started.\n"
     ]
    },
    {
     "name": "stdout",
     "output_type": "stream",
     "text": [
      "Adjusting learning rate of group 0 to 1.2091e-02.\n"
     ]
    },
    {
     "name": "stderr",
     "output_type": "stream",
     "text": [
      "INFO:nlp:Epoch 12 finished. Metrics: {'train_nn': {'loss': '0.887', 'confmat': '[10874   995  1813  1981  8142  3536  2440  3244  7935]', 'accuracy': '0.658', 'f1score': '0.655'}, 'test_nn': {'loss': '0.958', 'confmat': '[3022  374  697  670 2096 1328  909 1199 1993]', 'accuracy': '0.579', 'f1score': '0.575'}, 'train_ml': {'loss': '0.836', 'confmat': '[12321   385   965  1071 10733  1867  1259  1005 11354]', 'accuracy': '0.840', 'f1score': '0.840'}, 'test_ml': {'loss': '0.962', 'confmat': '[3053  400  669  597 2102 1362  828 1195 2082]', 'accuracy': '0.589', 'f1score': '0.586'}}.\n",
      "INFO:nlp:Epoch 13/49 started.\n"
     ]
    },
    {
     "name": "stdout",
     "output_type": "stream",
     "text": [
      "Adjusting learning rate of group 0 to 1.0277e-02.\n"
     ]
    },
    {
     "name": "stderr",
     "output_type": "stream",
     "text": [
      "INFO:nlp:Epoch 13 finished. Metrics: {'train_nn': {'loss': '0.876', 'confmat': '[10903  1037  1758  1760  8436  3457  2133  3246  8230]', 'accuracy': '0.673', 'f1score': '0.671'}, 'test_nn': {'loss': '0.962', 'confmat': '[2964  429  713  611 2107 1321  862 1285 1996]', 'accuracy': '0.575', 'f1score': '0.573'}, 'train_ml': {'loss': '0.836', 'confmat': '[12321   385   965  1071 10733  1867  1259  1005 11354]', 'accuracy': '0.840', 'f1score': '0.840'}, 'test_ml': {'loss': '0.962', 'confmat': '[3053  400  669  597 2102 1362  828 1195 2082]', 'accuracy': '0.589', 'f1score': '0.586'}}.\n",
      "INFO:nlp:Epoch 14/49 started.\n"
     ]
    },
    {
     "name": "stdout",
     "output_type": "stream",
     "text": [
      "Adjusting learning rate of group 0 to 8.7354e-03.\n"
     ]
    },
    {
     "name": "stderr",
     "output_type": "stream",
     "text": [
      "INFO:nlp:Epoch 14 finished. Metrics: {'train_nn': {'loss': '0.871', 'confmat': '[10965   985  1717  1822  8386  3406  2138  3119  8422]', 'accuracy': '0.678', 'f1score': '0.676'}, 'test_nn': {'loss': '0.963', 'confmat': '[2975  388  723  668 2091 1325  884 1216 2018]', 'accuracy': '0.577', 'f1score': '0.574'}, 'train_ml': {'loss': '0.836', 'confmat': '[12321   385   965  1071 10733  1867  1259  1005 11354]', 'accuracy': '0.840', 'f1score': '0.840'}, 'test_ml': {'loss': '0.962', 'confmat': '[3053  400  669  597 2102 1362  828 1195 2082]', 'accuracy': '0.589', 'f1score': '0.586'}}.\n",
      "INFO:nlp:Epoch 15/49 started.\n"
     ]
    },
    {
     "name": "stdout",
     "output_type": "stream",
     "text": [
      "Adjusting learning rate of group 0 to 7.4251e-03.\n"
     ]
    },
    {
     "name": "stderr",
     "output_type": "stream",
     "text": [
      "INFO:nlp:ML part fitting. Best score: 0.5903372214813062, best params: {'classifier': 'XGBoost', 'n_estimators': 58, 'max_depth': 9}\n",
      "INFO:nlp:Epoch 15 finished. Metrics: {'train_nn': {'loss': '0.863', 'confmat': '[11070  1042  1554  1807  8796  3052  2127  3247  8265]', 'accuracy': '0.687', 'f1score': '0.684'}, 'test_nn': {'loss': '0.964', 'confmat': '[2974  454  663  666 2194 1249  894 1282 1912]', 'accuracy': '0.576', 'f1score': '0.573'}, 'train_ml': {'loss': '0.730', 'confmat': '[13301    74   268   351 12668   610   316   181 13191]', 'accuracy': '0.956', 'f1score': '0.956'}, 'test_ml': {'loss': '0.959', 'confmat': '[2995  419  670  596 2179 1312  804 1282 2031]', 'accuracy': '0.587', 'f1score': '0.584'}}.\n",
      "INFO:nlp:Epoch 16/49 started.\n"
     ]
    },
    {
     "name": "stdout",
     "output_type": "stream",
     "text": [
      "Adjusting learning rate of group 0 to 6.3113e-03.\n"
     ]
    },
    {
     "name": "stderr",
     "output_type": "stream",
     "text": [
      "INFO:nlp:Epoch 16 finished. Metrics: {'train_nn': {'loss': '0.856', 'confmat': '[11056  1026  1538  1760  8916  3026  2051  3118  8469]', 'accuracy': '0.695', 'f1score': '0.692'}, 'test_nn': {'loss': '0.964', 'confmat': '[2895  451  726  598 2209 1328  811 1285 1985]', 'accuracy': '0.577', 'f1score': '0.575'}, 'train_ml': {'loss': '0.730', 'confmat': '[13301    74   268   351 12668   610   316   181 13191]', 'accuracy': '0.956', 'f1score': '0.956'}, 'test_ml': {'loss': '0.959', 'confmat': '[2995  419  670  596 2179 1312  804 1282 2031]', 'accuracy': '0.587', 'f1score': '0.584'}}.\n",
      "INFO:nlp:Epoch 17/49 started.\n"
     ]
    },
    {
     "name": "stdout",
     "output_type": "stream",
     "text": [
      "Adjusting learning rate of group 0 to 5.3646e-03.\n"
     ]
    },
    {
     "name": "stderr",
     "output_type": "stream",
     "text": [
      "INFO:nlp:Epoch 17 finished. Metrics: {'train_nn': {'loss': '0.849', 'confmat': '[11139  1042  1567  1665  9047  2906  1925  3106  8563]', 'accuracy': '0.702', 'f1score': '0.700'}, 'test_nn': {'loss': '0.965', 'confmat': '[2913  486  703  597 2232 1292  782 1347 1936]', 'accuracy': '0.576', 'f1score': '0.574'}, 'train_ml': {'loss': '0.730', 'confmat': '[13301    74   268   351 12668   610   316   181 13191]', 'accuracy': '0.956', 'f1score': '0.956'}, 'test_ml': {'loss': '0.959', 'confmat': '[2995  419  670  596 2179 1312  804 1282 2031]', 'accuracy': '0.587', 'f1score': '0.584'}}.\n",
      "INFO:nlp:Epoch 18/49 started.\n"
     ]
    },
    {
     "name": "stdout",
     "output_type": "stream",
     "text": [
      "Adjusting learning rate of group 0 to 4.5599e-03.\n"
     ]
    },
    {
     "name": "stderr",
     "output_type": "stream",
     "text": [
      "INFO:nlp:Epoch 18 finished. Metrics: {'train_nn': {'loss': '0.845', 'confmat': '[11090   980  1589  1635  9011  3012  1917  2896  8830]', 'accuracy': '0.706', 'f1score': '0.705'}, 'test_nn': {'loss': '0.967', 'confmat': '[2946  434  733  605 2098 1354  832 1247 2039]', 'accuracy': '0.576', 'f1score': '0.574'}, 'train_ml': {'loss': '0.730', 'confmat': '[13301    74   268   351 12668   610   316   181 13191]', 'accuracy': '0.956', 'f1score': '0.956'}, 'test_ml': {'loss': '0.959', 'confmat': '[2995  419  670  596 2179 1312  804 1282 2031]', 'accuracy': '0.587', 'f1score': '0.584'}}.\n",
      "INFO:nlp:Epoch 19/49 started.\n"
     ]
    },
    {
     "name": "stdout",
     "output_type": "stream",
     "text": [
      "Adjusting learning rate of group 0 to 3.8760e-03.\n"
     ]
    },
    {
     "name": "stderr",
     "output_type": "stream",
     "text": [
      "INFO:nlp:Epoch 19 finished. Metrics: {'train_nn': {'loss': '0.840', 'confmat': '[11165   959  1516  1680  9123  2844  1975  2848  8850]', 'accuracy': '0.711', 'f1score': '0.710'}, 'test_nn': {'loss': '0.966', 'confmat': '[2996  424  694  658 2124 1301  864 1239 1988]', 'accuracy': '0.578', 'f1score': '0.575'}, 'train_ml': {'loss': '0.730', 'confmat': '[13301    74   268   351 12668   610   316   181 13191]', 'accuracy': '0.956', 'f1score': '0.956'}, 'test_ml': {'loss': '0.959', 'confmat': '[2995  419  670  596 2179 1312  804 1282 2031]', 'accuracy': '0.587', 'f1score': '0.584'}}.\n",
      "INFO:nlp:Epoch 20/49 started.\n"
     ]
    },
    {
     "name": "stdout",
     "output_type": "stream",
     "text": [
      "Adjusting learning rate of group 0 to 3.2946e-03.\n"
     ]
    },
    {
     "name": "stderr",
     "output_type": "stream",
     "text": [
      "INFO:nlp:ML part fitting. Best score: 0.5888323924052153, best params: {'classifier': 'XGBoost', 'n_estimators': 64, 'max_depth': 7}\n",
      "INFO:nlp:Epoch 20 finished. Metrics: {'train_nn': {'loss': '0.834', 'confmat': '[11171  1035  1436  1606  9344  2739  1884  2870  8875]', 'accuracy': '0.718', 'f1score': '0.716'}, 'test_nn': {'loss': '0.965', 'confmat': '[2958  421  727  615 2152 1345  826 1231 2013]', 'accuracy': '0.579', 'f1score': '0.578'}, 'train_ml': {'loss': '0.822', 'confmat': '[12381   396   921   949 10952  1761  1074   936 11590]', 'accuracy': '0.853', 'f1score': '0.852'}, 'test_ml': {'loss': '0.959', 'confmat': '[3032  398  670  611 2174 1336  808 1229 2030]', 'accuracy': '0.589', 'f1score': '0.586'}}.\n",
      "INFO:nlp:Epoch 21/49 started.\n"
     ]
    },
    {
     "name": "stdout",
     "output_type": "stream",
     "text": [
      "Adjusting learning rate of group 0 to 2.8004e-03.\n"
     ]
    },
    {
     "name": "stderr",
     "output_type": "stream",
     "text": [
      "INFO:nlp:Epoch 21 finished. Metrics: {'train_nn': {'loss': '0.830', 'confmat': '[11167  1007  1472  1622  9375  2672  1867  2764  9014]', 'accuracy': '0.722', 'f1score': '0.720'}, 'test_nn': {'loss': '0.966', 'confmat': '[2946  441  702  598 2190 1323  835 1281 1972]', 'accuracy': '0.579', 'f1score': '0.576'}, 'train_ml': {'loss': '0.822', 'confmat': '[12381   396   921   949 10952  1761  1074   936 11590]', 'accuracy': '0.853', 'f1score': '0.852'}, 'test_ml': {'loss': '0.959', 'confmat': '[3032  398  670  611 2174 1336  808 1229 2030]', 'accuracy': '0.589', 'f1score': '0.586'}}.\n",
      "INFO:nlp:Epoch 22/49 started.\n"
     ]
    },
    {
     "name": "stdout",
     "output_type": "stream",
     "text": [
      "Adjusting learning rate of group 0 to 2.3803e-03.\n"
     ]
    },
    {
     "name": "stderr",
     "output_type": "stream",
     "text": [
      "INFO:nlp:Epoch 22 finished. Metrics: {'train_nn': {'loss': '0.826', 'confmat': '[11190   975  1476  1620  9457  2571  1825  2729  9117]', 'accuracy': '0.727', 'f1score': '0.725'}, 'test_nn': {'loss': '0.966', 'confmat': '[2956  443  724  604 2194 1273  830 1296 1968]', 'accuracy': '0.579', 'f1score': '0.577'}, 'train_ml': {'loss': '0.822', 'confmat': '[12381   396   921   949 10952  1761  1074   936 11590]', 'accuracy': '0.853', 'f1score': '0.852'}, 'test_ml': {'loss': '0.959', 'confmat': '[3032  398  670  611 2174 1336  808 1229 2030]', 'accuracy': '0.589', 'f1score': '0.586'}}.\n",
      "INFO:nlp:Epoch 23/49 started.\n"
     ]
    },
    {
     "name": "stdout",
     "output_type": "stream",
     "text": [
      "Adjusting learning rate of group 0 to 2.0233e-03.\n"
     ]
    },
    {
     "name": "stderr",
     "output_type": "stream",
     "text": [
      "INFO:nlp:Epoch 23 finished. Metrics: {'train_nn': {'loss': '0.822', 'confmat': '[11249  1000  1388  1611  9540  2495  1830  2700  9147]', 'accuracy': '0.731', 'f1score': '0.730'}, 'test_nn': {'loss': '0.966', 'confmat': '[2964  462  683  613 2216 1255  850 1314 1931]', 'accuracy': '0.578', 'f1score': '0.576'}, 'train_ml': {'loss': '0.822', 'confmat': '[12381   396   921   949 10952  1761  1074   936 11590]', 'accuracy': '0.853', 'f1score': '0.852'}, 'test_ml': {'loss': '0.959', 'confmat': '[3032  398  670  611 2174 1336  808 1229 2030]', 'accuracy': '0.589', 'f1score': '0.586'}}.\n",
      "INFO:nlp:Epoch 24/49 started.\n"
     ]
    },
    {
     "name": "stdout",
     "output_type": "stream",
     "text": [
      "Adjusting learning rate of group 0 to 1.7198e-03.\n"
     ]
    },
    {
     "name": "stderr",
     "output_type": "stream",
     "text": [
      "INFO:nlp:Epoch 24 finished. Metrics: {'train_nn': {'loss': '0.820', 'confmat': '[11236   962  1434  1601  9602  2473  1847  2652  9153]', 'accuracy': '0.732', 'f1score': '0.731'}, 'test_nn': {'loss': '0.971', 'confmat': '[2944  459  700  610 2153 1340  822 1298 1962]', 'accuracy': '0.574', 'f1score': '0.572'}, 'train_ml': {'loss': '0.822', 'confmat': '[12381   396   921   949 10952  1761  1074   936 11590]', 'accuracy': '0.853', 'f1score': '0.852'}, 'test_ml': {'loss': '0.959', 'confmat': '[3032  398  670  611 2174 1336  808 1229 2030]', 'accuracy': '0.589', 'f1score': '0.586'}}.\n",
      "INFO:nlp:Epoch 25/49 started.\n"
     ]
    },
    {
     "name": "stdout",
     "output_type": "stream",
     "text": [
      "Adjusting learning rate of group 0 to 1.4618e-03.\n"
     ]
    },
    {
     "name": "stderr",
     "output_type": "stream",
     "text": [
      "INFO:nlp:ML part fitting. Best score: 0.5875646336305297, best params: {'classifier': 'XGBoost', 'n_estimators': 61, 'max_depth': 9}\n",
      "INFO:nlp:Epoch 25 finished. Metrics: {'train_nn': {'loss': '0.820', 'confmat': '[11221   980  1414  1622  9630  2445  1825  2663  9160]', 'accuracy': '0.733', 'f1score': '0.731'}, 'test_nn': {'loss': '0.968', 'confmat': '[2943  465  679  602 2207 1287  840 1319 1946]', 'accuracy': '0.578', 'f1score': '0.575'}, 'train_ml': {'loss': '0.720', 'confmat': '[13376    74   226   335 12774   525   295   137 13218]', 'accuracy': '0.961', 'f1score': '0.961'}, 'test_ml': {'loss': '0.957', 'confmat': '[3001  420  689  606 2185 1298  775 1299 2015]', 'accuracy': '0.586', 'f1score': '0.584'}}.\n",
      "INFO:nlp:Epoch 26/49 started.\n"
     ]
    },
    {
     "name": "stdout",
     "output_type": "stream",
     "text": [
      "Adjusting learning rate of group 0 to 1.2425e-03.\n"
     ]
    },
    {
     "name": "stderr",
     "output_type": "stream",
     "text": [
      "INFO:nlp:Epoch 26 finished. Metrics: {'train_nn': {'loss': '0.818', 'confmat': '[11247  1020  1394  1573  9696  2345  1832  2692  9161]', 'accuracy': '0.735', 'f1score': '0.734'}, 'test_nn': {'loss': '0.969', 'confmat': '[2938  476  659  604 2199 1299  858 1338 1917]', 'accuracy': '0.575', 'f1score': '0.572'}, 'train_ml': {'loss': '0.720', 'confmat': '[13376    74   226   335 12774   525   295   137 13218]', 'accuracy': '0.961', 'f1score': '0.961'}, 'test_ml': {'loss': '0.957', 'confmat': '[3001  420  689  606 2185 1298  775 1299 2015]', 'accuracy': '0.586', 'f1score': '0.584'}}.\n",
      "INFO:nlp:Epoch 27/49 started.\n"
     ]
    },
    {
     "name": "stdout",
     "output_type": "stream",
     "text": [
      "Adjusting learning rate of group 0 to 1.0562e-03.\n"
     ]
    },
    {
     "name": "stderr",
     "output_type": "stream",
     "text": [
      "INFO:nlp:Epoch 27 finished. Metrics: {'train_nn': {'loss': '0.816', 'confmat': '[11224   999  1386  1581  9696  2384  1813  2633  9244]', 'accuracy': '0.737', 'f1score': '0.735'}, 'test_nn': {'loss': '0.974', 'confmat': '[2886  462  698  614 2186 1317  840 1357 1928]', 'accuracy': '0.570', 'f1score': '0.568'}, 'train_ml': {'loss': '0.720', 'confmat': '[13376    74   226   335 12774   525   295   137 13218]', 'accuracy': '0.961', 'f1score': '0.961'}, 'test_ml': {'loss': '0.957', 'confmat': '[3001  420  689  606 2185 1298  775 1299 2015]', 'accuracy': '0.586', 'f1score': '0.584'}}.\n",
      "INFO:nlp:Epoch 28/49 started.\n"
     ]
    },
    {
     "name": "stdout",
     "output_type": "stream",
     "text": [
      "Adjusting learning rate of group 0 to 8.9774e-04.\n"
     ]
    },
    {
     "name": "stderr",
     "output_type": "stream",
     "text": [
      "INFO:nlp:Epoch 28 finished. Metrics: {'train_nn': {'loss': '0.814', 'confmat': '[11230  1008  1361  1585  9747  2337  1836  2580  9276]', 'accuracy': '0.739', 'f1score': '0.737'}, 'test_nn': {'loss': '0.969', 'confmat': '[2949  480  666  612 2233 1256  836 1386 1870]', 'accuracy': '0.574', 'f1score': '0.571'}, 'train_ml': {'loss': '0.720', 'confmat': '[13376    74   226   335 12774   525   295   137 13218]', 'accuracy': '0.961', 'f1score': '0.961'}, 'test_ml': {'loss': '0.957', 'confmat': '[3001  420  689  606 2185 1298  775 1299 2015]', 'accuracy': '0.586', 'f1score': '0.584'}}.\n",
      "INFO:nlp:Epoch 29/49 started.\n"
     ]
    },
    {
     "name": "stdout",
     "output_type": "stream",
     "text": [
      "Adjusting learning rate of group 0 to 7.6308e-04.\n"
     ]
    },
    {
     "name": "stderr",
     "output_type": "stream",
     "text": [
      "INFO:nlp:Epoch 29 finished. Metrics: {'train_nn': {'loss': '0.813', 'confmat': '[11255   992  1392  1586  9726  2310  1836  2579  9284]', 'accuracy': '0.739', 'f1score': '0.738'}, 'test_nn': {'loss': '0.974', 'confmat': '[2937  479  654  617 2157 1304  822 1425 1893]', 'accuracy': '0.569', 'f1score': '0.566'}, 'train_ml': {'loss': '0.720', 'confmat': '[13376    74   226   335 12774   525   295   137 13218]', 'accuracy': '0.961', 'f1score': '0.961'}, 'test_ml': {'loss': '0.957', 'confmat': '[3001  420  689  606 2185 1298  775 1299 2015]', 'accuracy': '0.586', 'f1score': '0.584'}}.\n",
      "INFO:nlp:Epoch 30/49 started.\n"
     ]
    },
    {
     "name": "stdout",
     "output_type": "stream",
     "text": [
      "Adjusting learning rate of group 0 to 6.4861e-04.\n"
     ]
    },
    {
     "name": "stderr",
     "output_type": "stream",
     "text": [
      "INFO:nlp:ML part fitting. Best score: 0.5867560690981585, best params: {'classifier': 'XGBoost', 'n_estimators': 45, 'max_depth': 10}\n",
      "INFO:nlp:Epoch 30 finished. Metrics: {'train_nn': {'loss': '0.813', 'confmat': '[11283   991  1405  1598  9749  2318  1817  2553  9246]', 'accuracy': '0.739', 'f1score': '0.738'}, 'test_nn': {'loss': '0.971', 'confmat': '[2950  461  673  605 2204 1275  862 1376 1882]', 'accuracy': '0.573', 'f1score': '0.570'}, 'train_ml': {'loss': '0.704', 'confmat': '[13445    42   137   217 13019   438   192    79 13391]', 'accuracy': '0.973', 'f1score': '0.973'}, 'test_ml': {'loss': '0.957', 'confmat': '[3005  422  712  594 2179 1277  821 1295 1983]', 'accuracy': '0.583', 'f1score': '0.581'}}.\n",
      "INFO:nlp:Epoch 31/49 started.\n"
     ]
    },
    {
     "name": "stdout",
     "output_type": "stream",
     "text": [
      "Adjusting learning rate of group 0 to 5.5132e-04.\n"
     ]
    },
    {
     "name": "stderr",
     "output_type": "stream",
     "text": [
      "INFO:nlp:Epoch 31 finished. Metrics: {'train_nn': {'loss': '0.811', 'confmat': '[11303   985  1395  1569  9777  2292  1818  2549  9272]', 'accuracy': '0.741', 'f1score': '0.740'}, 'test_nn': {'loss': '0.975', 'confmat': '[2923  493  681  623 2201 1274  842 1404 1847]', 'accuracy': '0.567', 'f1score': '0.565'}, 'train_ml': {'loss': '0.704', 'confmat': '[13445    42   137   217 13019   438   192    79 13391]', 'accuracy': '0.973', 'f1score': '0.973'}, 'test_ml': {'loss': '0.957', 'confmat': '[3005  422  712  594 2179 1277  821 1295 1983]', 'accuracy': '0.583', 'f1score': '0.581'}}.\n",
      "INFO:nlp:Epoch 32/49 started.\n"
     ]
    },
    {
     "name": "stdout",
     "output_type": "stream",
     "text": [
      "Adjusting learning rate of group 0 to 4.6862e-04.\n"
     ]
    },
    {
     "name": "stderr",
     "output_type": "stream",
     "text": [
      "INFO:nlp:Epoch 32 finished. Metrics: {'train_nn': {'loss': '0.812', 'confmat': '[11302   974  1420  1568  9774  2303  1802  2579  9238]', 'accuracy': '0.740', 'f1score': '0.739'}, 'test_nn': {'loss': '0.974', 'confmat': '[2933  485  668  609 2228 1285  843 1410 1827]', 'accuracy': '0.569', 'f1score': '0.566'}, 'train_ml': {'loss': '0.704', 'confmat': '[13445    42   137   217 13019   438   192    79 13391]', 'accuracy': '0.973', 'f1score': '0.973'}, 'test_ml': {'loss': '0.957', 'confmat': '[3005  422  712  594 2179 1277  821 1295 1983]', 'accuracy': '0.583', 'f1score': '0.581'}}.\n",
      "INFO:nlp:Epoch 33/49 started.\n"
     ]
    },
    {
     "name": "stdout",
     "output_type": "stream",
     "text": [
      "Adjusting learning rate of group 0 to 3.9833e-04.\n"
     ]
    },
    {
     "name": "stderr",
     "output_type": "stream",
     "text": [
      "INFO:nlp:Epoch 33 finished. Metrics: {'train_nn': {'loss': '0.811', 'confmat': '[11316   958  1399  1576  9762  2308  1817  2541  9283]', 'accuracy': '0.741', 'f1score': '0.740'}, 'test_nn': {'loss': '0.971', 'confmat': '[2937  477  680  611 2199 1313  812 1359 1900]', 'accuracy': '0.572', 'f1score': '0.570'}, 'train_ml': {'loss': '0.704', 'confmat': '[13445    42   137   217 13019   438   192    79 13391]', 'accuracy': '0.973', 'f1score': '0.973'}, 'test_ml': {'loss': '0.957', 'confmat': '[3005  422  712  594 2179 1277  821 1295 1983]', 'accuracy': '0.583', 'f1score': '0.581'}}.\n",
      "INFO:nlp:Epoch 34/49 started.\n"
     ]
    },
    {
     "name": "stdout",
     "output_type": "stream",
     "text": [
      "Adjusting learning rate of group 0 to 3.3858e-04.\n"
     ]
    },
    {
     "name": "stderr",
     "output_type": "stream",
     "text": [
      "INFO:nlp:Epoch 34 finished. Metrics: {'train_nn': {'loss': '0.811', 'confmat': '[11277   988  1393  1579  9783  2263  1812  2576  9289]', 'accuracy': '0.741', 'f1score': '0.740'}, 'test_nn': {'loss': '0.975', 'confmat': '[2934  479  671  599 2192 1314  835 1408 1856]', 'accuracy': '0.569', 'f1score': '0.566'}, 'train_ml': {'loss': '0.704', 'confmat': '[13445    42   137   217 13019   438   192    79 13391]', 'accuracy': '0.973', 'f1score': '0.973'}, 'test_ml': {'loss': '0.957', 'confmat': '[3005  422  712  594 2179 1277  821 1295 1983]', 'accuracy': '0.583', 'f1score': '0.581'}}.\n",
      "INFO:nlp:Epoch 35/49 started.\n"
     ]
    },
    {
     "name": "stdout",
     "output_type": "stream",
     "text": [
      "Adjusting learning rate of group 0 to 2.8779e-04.\n"
     ]
    },
    {
     "name": "stderr",
     "output_type": "stream",
     "text": [
      "INFO:nlp:ML part fitting. Best score: 0.58760836072604, best params: {'classifier': 'XGBoost', 'n_estimators': 63, 'max_depth': 7}\n",
      "INFO:nlp:Epoch 35 finished. Metrics: {'train_nn': {'loss': '0.809', 'confmat': '[11258   978  1388  1581  9846  2265  1795  2520  9329]', 'accuracy': '0.743', 'f1score': '0.742'}, 'test_nn': {'loss': '0.971', 'confmat': '[2944  508  673  596 2230 1272  834 1364 1867]', 'accuracy': '0.572', 'f1score': '0.570'}, 'train_ml': {'loss': '0.823', 'confmat': '[12354   367   921   970 10858  1823  1075  1001 11591]', 'accuracy': '0.850', 'f1score': '0.849'}, 'test_ml': {'loss': '0.960', 'confmat': '[3001  405  688  628 2134 1365  794 1211 2062]', 'accuracy': '0.586', 'f1score': '0.584'}}.\n",
      "INFO:nlp:Epoch 36/49 started.\n"
     ]
    },
    {
     "name": "stdout",
     "output_type": "stream",
     "text": [
      "Adjusting learning rate of group 0 to 2.4462e-04.\n"
     ]
    },
    {
     "name": "stderr",
     "output_type": "stream",
     "text": [
      "INFO:nlp:Epoch 36 finished. Metrics: {'train_nn': {'loss': '0.810', 'confmat': '[11305   993  1375  1575  9832  2279  1798  2536  9267]', 'accuracy': '0.742', 'f1score': '0.741'}, 'test_nn': {'loss': '0.973', 'confmat': '[2915  483  665  604 2195 1286  852 1378 1910]', 'accuracy': '0.572', 'f1score': '0.569'}, 'train_ml': {'loss': '0.823', 'confmat': '[12354   367   921   970 10858  1823  1075  1001 11591]', 'accuracy': '0.850', 'f1score': '0.849'}, 'test_ml': {'loss': '0.960', 'confmat': '[3001  405  688  628 2134 1365  794 1211 2062]', 'accuracy': '0.586', 'f1score': '0.584'}}.\n",
      "INFO:nlp:Epoch 37/49 started.\n"
     ]
    },
    {
     "name": "stdout",
     "output_type": "stream",
     "text": [
      "Adjusting learning rate of group 0 to 2.0793e-04.\n"
     ]
    },
    {
     "name": "stderr",
     "output_type": "stream",
     "text": [
      "INFO:nlp:Epoch 37 finished. Metrics: {'train_nn': {'loss': '0.810', 'confmat': '[11328   994  1398  1576  9797  2254  1783  2541  9289]', 'accuracy': '0.742', 'f1score': '0.741'}, 'test_nn': {'loss': '0.971', 'confmat': '[2924  463  670  600 2188 1280  851 1377 1935]', 'accuracy': '0.574', 'f1score': '0.572'}, 'train_ml': {'loss': '0.823', 'confmat': '[12354   367   921   970 10858  1823  1075  1001 11591]', 'accuracy': '0.850', 'f1score': '0.849'}, 'test_ml': {'loss': '0.960', 'confmat': '[3001  405  688  628 2134 1365  794 1211 2062]', 'accuracy': '0.586', 'f1score': '0.584'}}.\n",
      "INFO:nlp:Epoch 38/49 started.\n"
     ]
    },
    {
     "name": "stdout",
     "output_type": "stream",
     "text": [
      "Adjusting learning rate of group 0 to 1.7674e-04.\n"
     ]
    },
    {
     "name": "stderr",
     "output_type": "stream",
     "text": [
      "INFO:nlp:Epoch 38 finished. Metrics: {'train_nn': {'loss': '0.809', 'confmat': '[11294   965  1386  1569  9821  2262  1814  2539  9310]', 'accuracy': '0.743', 'f1score': '0.742'}, 'test_nn': {'loss': '0.972', 'confmat': '[2919  489  674  599 2181 1309  847 1352 1918]', 'accuracy': '0.571', 'f1score': '0.569'}, 'train_ml': {'loss': '0.823', 'confmat': '[12354   367   921   970 10858  1823  1075  1001 11591]', 'accuracy': '0.850', 'f1score': '0.849'}, 'test_ml': {'loss': '0.960', 'confmat': '[3001  405  688  628 2134 1365  794 1211 2062]', 'accuracy': '0.586', 'f1score': '0.584'}}.\n",
      "INFO:nlp:Epoch 39/49 started.\n"
     ]
    },
    {
     "name": "stdout",
     "output_type": "stream",
     "text": [
      "Adjusting learning rate of group 0 to 1.5023e-04.\n"
     ]
    },
    {
     "name": "stderr",
     "output_type": "stream",
     "text": [
      "INFO:nlp:Epoch 39 finished. Metrics: {'train_nn': {'loss': '0.810', 'confmat': '[11284  1001  1372  1572  9821  2271  1809  2533  9297]', 'accuracy': '0.742', 'f1score': '0.741'}, 'test_nn': {'loss': '0.971', 'confmat': '[2924  474  696  611 2190 1307  837 1305 1944]', 'accuracy': '0.574', 'f1score': '0.572'}, 'train_ml': {'loss': '0.823', 'confmat': '[12354   367   921   970 10858  1823  1075  1001 11591]', 'accuracy': '0.850', 'f1score': '0.849'}, 'test_ml': {'loss': '0.960', 'confmat': '[3001  405  688  628 2134 1365  794 1211 2062]', 'accuracy': '0.586', 'f1score': '0.584'}}.\n",
      "INFO:nlp:Epoch 40/49 started.\n"
     ]
    },
    {
     "name": "stdout",
     "output_type": "stream",
     "text": [
      "Adjusting learning rate of group 0 to 1.2770e-04.\n"
     ]
    },
    {
     "name": "stderr",
     "output_type": "stream",
     "text": [
      "INFO:nlp:ML part fitting. Best score: 0.5878062407520744, best params: {'classifier': 'XGBoost', 'n_estimators': 64, 'max_depth': 9}\n",
      "INFO:nlp:Epoch 40 finished. Metrics: {'train_nn': {'loss': '0.808', 'confmat': '[11279   978  1379  1585  9826  2260  1788  2505  9360]', 'accuracy': '0.744', 'f1score': '0.743'}, 'test_nn': {'loss': '0.972', 'confmat': '[2921  478  704  604 2179 1279  833 1382 1908]', 'accuracy': '0.570', 'f1score': '0.568'}, 'train_ml': {'loss': '0.720', 'confmat': '[13382    56   206   330 12692   610   278   140 13266]', 'accuracy': '0.960', 'f1score': '0.960'}, 'test_ml': {'loss': '0.955', 'confmat': '[2987  414  710  603 2177 1311  793 1232 2061]', 'accuracy': '0.588', 'f1score': '0.586'}}.\n",
      "INFO:nlp:Epoch 41/49 started.\n"
     ]
    },
    {
     "name": "stdout",
     "output_type": "stream",
     "text": [
      "Adjusting learning rate of group 0 to 1.0854e-04.\n"
     ]
    },
    {
     "name": "stderr",
     "output_type": "stream",
     "text": [
      "INFO:nlp:Epoch 41 finished. Metrics: {'train_nn': {'loss': '0.809', 'confmat': '[11268   979  1391  1564  9885  2257  1794  2548  9274]', 'accuracy': '0.743', 'f1score': '0.742'}, 'test_nn': {'loss': '0.972', 'confmat': '[2948  494  684  599 2153 1304  828 1356 1922]', 'accuracy': '0.571', 'f1score': '0.569'}, 'train_ml': {'loss': '0.720', 'confmat': '[13382    56   206   330 12692   610   278   140 13266]', 'accuracy': '0.960', 'f1score': '0.960'}, 'test_ml': {'loss': '0.955', 'confmat': '[2987  414  710  603 2177 1311  793 1232 2061]', 'accuracy': '0.588', 'f1score': '0.586'}}.\n",
      "INFO:nlp:Epoch 42/49 started.\n"
     ]
    },
    {
     "name": "stdout",
     "output_type": "stream",
     "text": [
      "Adjusting learning rate of group 0 to 9.2260e-05.\n"
     ]
    },
    {
     "name": "stderr",
     "output_type": "stream",
     "text": [
      "INFO:nlp:Epoch 42 finished. Metrics: {'train_nn': {'loss': '0.810', 'confmat': '[11288  1015  1367  1570  9761  2277  1780  2549  9353]', 'accuracy': '0.742', 'f1score': '0.741'}, 'test_nn': {'loss': '0.970', 'confmat': '[2898  471  688  609 2226 1295  813 1377 1911]', 'accuracy': '0.573', 'f1score': '0.571'}, 'train_ml': {'loss': '0.720', 'confmat': '[13382    56   206   330 12692   610   278   140 13266]', 'accuracy': '0.960', 'f1score': '0.960'}, 'test_ml': {'loss': '0.955', 'confmat': '[2987  414  710  603 2177 1311  793 1232 2061]', 'accuracy': '0.588', 'f1score': '0.586'}}.\n",
      "INFO:nlp:Epoch 43/49 started.\n"
     ]
    },
    {
     "name": "stdout",
     "output_type": "stream",
     "text": [
      "Adjusting learning rate of group 0 to 7.8421e-05.\n"
     ]
    },
    {
     "name": "stderr",
     "output_type": "stream",
     "text": [
      "INFO:nlp:Epoch 43 finished. Metrics: {'train_nn': {'loss': '0.809', 'confmat': '[11284   980  1390  1583  9786  2266  1802  2518  9351]', 'accuracy': '0.743', 'f1score': '0.742'}, 'test_nn': {'loss': '0.974', 'confmat': '[2898  476  711  620 2202 1317  810 1346 1908]', 'accuracy': '0.570', 'f1score': '0.568'}, 'train_ml': {'loss': '0.720', 'confmat': '[13382    56   206   330 12692   610   278   140 13266]', 'accuracy': '0.960', 'f1score': '0.960'}, 'test_ml': {'loss': '0.955', 'confmat': '[2987  414  710  603 2177 1311  793 1232 2061]', 'accuracy': '0.588', 'f1score': '0.586'}}.\n",
      "INFO:nlp:Epoch 44/49 started.\n"
     ]
    },
    {
     "name": "stdout",
     "output_type": "stream",
     "text": [
      "Adjusting learning rate of group 0 to 6.6658e-05.\n"
     ]
    },
    {
     "name": "stderr",
     "output_type": "stream",
     "text": [
      "INFO:nlp:Epoch 44 finished. Metrics: {'train_nn': {'loss': '0.809', 'confmat': '[11266  1018  1377  1573  9864  2239  1789  2520  9314]', 'accuracy': '0.743', 'f1score': '0.742'}, 'test_nn': {'loss': '0.976', 'confmat': '[2903  482  690  599 2161 1313  836 1377 1927]', 'accuracy': '0.569', 'f1score': '0.567'}, 'train_ml': {'loss': '0.720', 'confmat': '[13382    56   206   330 12692   610   278   140 13266]', 'accuracy': '0.960', 'f1score': '0.960'}, 'test_ml': {'loss': '0.955', 'confmat': '[2987  414  710  603 2177 1311  793 1232 2061]', 'accuracy': '0.588', 'f1score': '0.586'}}.\n",
      "INFO:nlp:Epoch 45/49 started.\n"
     ]
    },
    {
     "name": "stdout",
     "output_type": "stream",
     "text": [
      "Adjusting learning rate of group 0 to 5.6659e-05.\n"
     ]
    },
    {
     "name": "stderr",
     "output_type": "stream",
     "text": [
      "INFO:nlp:ML part fitting. Best score: 0.5873318447256887, best params: {'classifier': 'XGBoost', 'n_estimators': 58, 'max_depth': 12}\n",
      "INFO:nlp:Epoch 45 finished. Metrics: {'train_nn': {'loss': '0.809', 'confmat': '[11293   999  1385  1577  9845  2255  1798  2507  9301]', 'accuracy': '0.743', 'f1score': '0.742'}, 'test_nn': {'loss': '0.973', 'confmat': '[2911  503  675  610 2195 1275  817 1404 1898]', 'accuracy': '0.570', 'f1score': '0.568'}, 'train_ml': {'loss': '0.596', 'confmat': '[13682     0     0     0 13651     3     0     0 13624]', 'accuracy': '1.000', 'f1score': '1.000'}, 'test_ml': {'loss': '0.948', 'confmat': '[2975  454  668  577 2246 1300  819 1278 1971]', 'accuracy': '0.585', 'f1score': '0.583'}}.\n",
      "INFO:nlp:Epoch 46/49 started.\n"
     ]
    },
    {
     "name": "stdout",
     "output_type": "stream",
     "text": [
      "Adjusting learning rate of group 0 to 4.8160e-05.\n"
     ]
    },
    {
     "name": "stderr",
     "output_type": "stream",
     "text": [
      "INFO:nlp:Epoch 46 finished. Metrics: {'train_nn': {'loss': '0.808', 'confmat': '[11245   987  1366  1556  9855  2271  1796  2527  9357]', 'accuracy': '0.744', 'f1score': '0.743'}, 'test_nn': {'loss': '0.970', 'confmat': '[2937  507  671  594 2244 1269  808 1389 1869]', 'accuracy': '0.573', 'f1score': '0.571'}, 'train_ml': {'loss': '0.596', 'confmat': '[13682     0     0     0 13651     3     0     0 13624]', 'accuracy': '1.000', 'f1score': '1.000'}, 'test_ml': {'loss': '0.948', 'confmat': '[2975  454  668  577 2246 1300  819 1278 1971]', 'accuracy': '0.585', 'f1score': '0.583'}}.\n",
      "INFO:nlp:Epoch 47/49 started.\n"
     ]
    },
    {
     "name": "stdout",
     "output_type": "stream",
     "text": [
      "Adjusting learning rate of group 0 to 4.0936e-05.\n"
     ]
    },
    {
     "name": "stderr",
     "output_type": "stream",
     "text": [
      "INFO:nlp:Epoch 47 finished. Metrics: {'train_nn': {'loss': '0.808', 'confmat': '[11327  1003  1365  1574  9813  2245  1768  2539  9326]', 'accuracy': '0.744', 'f1score': '0.743'}, 'test_nn': {'loss': '0.975', 'confmat': '[2922  497  691  608 2177 1302  819 1377 1895]', 'accuracy': '0.569', 'f1score': '0.567'}, 'train_ml': {'loss': '0.596', 'confmat': '[13682     0     0     0 13651     3     0     0 13624]', 'accuracy': '1.000', 'f1score': '1.000'}, 'test_ml': {'loss': '0.948', 'confmat': '[2975  454  668  577 2246 1300  819 1278 1971]', 'accuracy': '0.585', 'f1score': '0.583'}}.\n",
      "INFO:nlp:Epoch 48/49 started.\n"
     ]
    },
    {
     "name": "stdout",
     "output_type": "stream",
     "text": [
      "Adjusting learning rate of group 0 to 3.4796e-05.\n"
     ]
    },
    {
     "name": "stderr",
     "output_type": "stream",
     "text": [
      "INFO:nlp:Epoch 48 finished. Metrics: {'train_nn': {'loss': '0.808', 'confmat': '[11297  1012  1374  1581  9828  2230  1782  2504  9352]', 'accuracy': '0.744', 'f1score': '0.743'}, 'test_nn': {'loss': '0.968', 'confmat': '[2932  485  686  590 2219 1307  814 1347 1908]', 'accuracy': '0.574', 'f1score': '0.572'}, 'train_ml': {'loss': '0.596', 'confmat': '[13682     0     0     0 13651     3     0     0 13624]', 'accuracy': '1.000', 'f1score': '1.000'}, 'test_ml': {'loss': '0.948', 'confmat': '[2975  454  668  577 2246 1300  819 1278 1971]', 'accuracy': '0.585', 'f1score': '0.583'}}.\n",
      "INFO:nlp:Epoch 49/49 started.\n"
     ]
    },
    {
     "name": "stdout",
     "output_type": "stream",
     "text": [
      "Adjusting learning rate of group 0 to 2.9576e-05.\n"
     ]
    },
    {
     "name": "stderr",
     "output_type": "stream",
     "text": [
      "INFO:nlp:ML part fitting. Best score: 0.5894493040897959, best params: {'classifier': 'XGBoost', 'n_estimators': 59, 'max_depth': 7}\n",
      "INFO:nlp:Epoch 49 finished. Metrics: {'train_nn': {'loss': '0.808', 'confmat': '[11280  1014  1369  1570  9856  2238  1785  2520  9328]', 'accuracy': '0.744', 'f1score': '0.743'}, 'test_nn': {'loss': '0.974', 'confmat': '[2909  491  692  607 2183 1289  836 1352 1929]', 'accuracy': '0.572', 'f1score': '0.569'}, 'train_ml': {'loss': '0.827', 'confmat': '[12346   381   890  1064 10890  1766  1105   979 11539]', 'accuracy': '0.849', 'f1score': '0.849'}, 'test_ml': {'loss': '0.960', 'confmat': '[3010  386  706  607 2192 1298  788 1239 2062]', 'accuracy': '0.591', 'f1score': '0.589'}}.\n"
     ]
    }
   ],
   "source": [
    "rnnml_model, rnnml_metrics, rnnml_studies = rnnml_train(rnnml_torch_train_data, rnnml_torch_train_extra, rnnml_torch_train_labels, rnnml_torch_test_data, rnnml_torch_test_extra,\n",
    "      rnnml_torch_test_labels, RNNMLModel, rnnml_embeddings, rnnml_epoch_count, rnnml_batch_size, rnnml_device, rnnml_compute_device, rnnml_dtype, rnnml_ml_fitting_freq,\n",
    "      title_size=rnnml_title_size, body_size=rnnml_body_size, fc_size1=rnnml_fc_size1, fc_size2=rnnml_fc_size2, hidden_dim=rnnml_hidden_dim, \n",
    "      embedding_dim=rnnml_embedding_dim, extra_size=rnnml_extra_size)"
   ]
  },
  {
   "cell_type": "code",
   "execution_count": 55,
   "metadata": {},
   "outputs": [],
   "source": [
    "rnnml_metrics_list = []\n",
    "rnnml_metrics_list.append({'test_nn' : rnnml_metrics['test_nn'], 'test_ml' : rnnml_metrics['test_ml']})\n",
    "rnnml_metrics_list.append({'train_nn' : rnnml_metrics['train_nn'], 'test_nn' : rnnml_metrics['test_nn']})\n",
    "rnnml_metrics_list.append({'train_ml' : rnnml_metrics['train_ml'], 'test_ml' : rnnml_metrics['test_ml']})\n",
    "metric_to_compare = 'f1score'\n",
    "titles = [f'Tests {metric_to_compare} NN vs ML', f'{metric_to_compare} NN', f'{metric_to_compare} ML']"
   ]
  },
  {
   "cell_type": "code",
   "execution_count": 56,
   "metadata": {},
   "outputs": [
    {
     "data": {
      "image/png": "[encoded data removed]",
      "text/plain": [
       "<Figure size 720x1296 with 3 Axes>"
      ]
     },
     "metadata": {
      "needs_background": "light"
     },
     "output_type": "display_data"
    }
   ],
   "source": [
    "plot_metrics(rnnml_metrics_list, titles, metric_to_compare, drop_last=False)"
   ]
  },
  {
   "cell_type": "markdown",
   "metadata": {},
   "source": [
    "# Summary"
   ]
  },
  {
   "cell_type": "markdown",
   "metadata": {},
   "source": [
    "- 1st place - Tfidf + LogisticRegression (Macro F1 score on test data 0.6652)\n",
    "- 2nd place - BOW + LogisticRegression (Macro F1 score on test data 0.6576)\n",
    "- 3rd place - GloVe + RNN with XGBoost in the head (Macro F1 score on test data 0.5889)\n",
    "- 4th place - GloVe + RNN with FC head (Macro F1 score on test data 0.5694)"
   ]
  },
  {
   "cell_type": "markdown",
   "metadata": {},
   "source": [
    "Glove embeddings from 'glove-twitter-100' collection can be reason of too low score on RNN+ML algorithms. Embeddings from this set are lightweight, don't contain much words and can be easy processed on desktop PC. Larger embeddings sets can improve metric on the algorithms."
   ]
  },
  {
   "cell_type": "code",
   "execution_count": null,
   "metadata": {},
   "outputs": [],
   "source": []
  }
 ],
 "metadata": {
  "kernelspec": {
   "display_name": "Python 3 (ipykernel)",
   "language": "python",
   "name": "python3"
  },
  "language_info": {
   "codemirror_mode": {
    "name": "ipython",
    "version": 3
   },
   "file_extension": ".py",
   "mimetype": "text/x-python",
   "name": "python",
   "nbconvert_exporter": "python",
   "pygments_lexer": "ipython3",
   "version": "3.9.7"
  }
 },
 "nbformat": 4,
 "nbformat_minor": 4
}
