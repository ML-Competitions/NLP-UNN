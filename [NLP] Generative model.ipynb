{
 "cells": [
  {
   "cell_type": "code",
   "execution_count": 1,
   "metadata": {},
   "outputs": [
    {
     "name": "stderr",
     "output_type": "stream",
     "text": [
      "[nltk_data] Downloading package punkt to /home/masdevas/nltk_data...\n",
      "[nltk_data]   Package punkt is already up-to-date!\n"
     ]
    }
   ],
   "source": [
    "import scrapy\n",
    "import scrapy.crawler as crawler\n",
    "from scrapy.utils.log import configure_logging\n",
    "from multiprocessing import Process, Queue\n",
    "from twisted.internet import reactor\n",
    "from collections import Counter\n",
    "import logging\n",
    "import json\n",
    "import re\n",
    "import os\n",
    "import pandas as pd\n",
    "import numpy as np\n",
    "import gc\n",
    "import copy\n",
    "\n",
    "from tqdm.auto import tqdm\n",
    "\n",
    "from datasets import load_dataset\n",
    "from datasets.arrow_dataset import Dataset\n",
    "from transformers import AutoTokenizer, AutoModelForCausalLM\n",
    "from transformers.models.gpt2.modeling_gpt2 import GPT2LMHeadModel\n",
    "from transformers import TrainingArguments, Trainer\n",
    "from transformers import pipeline\n",
    "\n",
    "import torch\n",
    "import torch.nn as nn\n",
    "from torch.nn import CrossEntropyLoss\n",
    "from torch.optim import AdamW\n",
    "from torch.optim.lr_scheduler import ExponentialLR\n",
    "from torch.utils.data import DataLoader\n",
    "from torch.utils.data import BatchSampler, RandomSampler\n",
    "\n",
    "from bs4 import BeautifulSoup\n",
    "from lyricsgenius import Genius\n",
    "import pickle\n",
    "\n",
    "import nltk\n",
    "from nltk.tokenize import wordpunct_tokenize\n",
    "nltk.download('punkt')\n",
    "\n",
    "import seaborn as sns\n",
    "import matplotlib.pyplot as plt\n",
    "from  matplotlib.ticker import FuncFormatter\n",
    "\n",
    "logging.basicConfig(level=logging.INFO)\n",
    "logger = logging.getLogger('nlp')\n",
    "logger.setLevel(logging.INFO)"
   ]
  },
  {
   "cell_type": "markdown",
   "metadata": {},
   "source": [
    "# Fetch sentences"
   ]
  },
  {
   "cell_type": "code",
   "execution_count": 2,
   "metadata": {},
   "outputs": [],
   "source": [
    "def get_web_data(function):\n",
    "    def f(q):\n",
    "        try:\n",
    "            json_data = function()\n",
    "            q.put(json.dumps(json_data))\n",
    "        except Exception as e:\n",
    "            q.put(e)\n",
    "    q = Queue()\n",
    "    p = Process(target=f, args=(q,))\n",
    "    p.start()\n",
    "    result = q.get()\n",
    "    p.join()\n",
    "    gc.collect()\n",
    "    try:\n",
    "        json_data = json.loads(result)\n",
    "    except:\n",
    "        raise result\n",
    "    return json_data"
   ]
  },
  {
   "cell_type": "markdown",
   "metadata": {},
   "source": [
    "## Rap texts parsing"
   ]
  },
  {
   "cell_type": "code",
   "execution_count": 3,
   "metadata": {},
   "outputs": [],
   "source": [
    "def read_genius_token():\n",
    "    with open('genius_token.txt', 'r') as f:\n",
    "        token = f.readline().strip()\n",
    "    return token"
   ]
  },
  {
   "cell_type": "code",
   "execution_count": 4,
   "metadata": {},
   "outputs": [],
   "source": [
    "def get_rap_data_extended():\n",
    "    genius = Genius(read_genius_token(), timeout=60)\n",
    "    storage = {}\n",
    "    try:\n",
    "        class RapExtendedSpider(scrapy.Spider):\n",
    "            name = \"rap_extended_checker\"\n",
    "            start_urls = [\n",
    "                'https://www.allmusic.com/style/gangsta-rap-ma0000002611/artists?1651103019828'\n",
    "            ]\n",
    "\n",
    "            def parse(self, response, depth=0):\n",
    "                resp = response.xpath(\"//div[@class='artist-highlight info-grid']//div[@class='artist']/text()\")\n",
    "                for item in resp:\n",
    "                    artist_name = item.get().strip()\n",
    "                    if len(artist_name) > 0:\n",
    "                        try:\n",
    "                            artist = genius.search_artist(artist_name, max_songs=150)\n",
    "                        except:\n",
    "                            continue\n",
    "                        storage[artist_name] = []\n",
    "                        for song in artist.songs:\n",
    "                            storage[artist_name].append(song.lyrics)\n",
    "                \n",
    "        runner = crawler.CrawlerRunner()\n",
    "        deferred = runner.crawl(RapExtendedSpider)\n",
    "        deferred.addBoth(lambda _: reactor.stop())\n",
    "        reactor.run()\n",
    "        return storage\n",
    "    except Exception as e:\n",
    "        return {'exception' : str(e)}"
   ]
  },
  {
   "cell_type": "code",
   "execution_count": 5,
   "metadata": {
    "scrolled": true
   },
   "outputs": [
    {
     "name": "stdout",
     "output_type": "stream",
     "text": [
      "LOADING\n"
     ]
    }
   ],
   "source": [
    "storage_file = 'storage.pkl'\n",
    "def is_rawdata_exist(storage_file):\n",
    "    return os.path.exists(storage_file)\n",
    "    # return False\n",
    "\n",
    "if is_rawdata_exist(storage_file):\n",
    "    print('LOADING')\n",
    "    with open(storage_file, 'rb') as f:\n",
    "        storage = pickle.load(f)\n",
    "else:\n",
    "    print('FROM WEB')\n",
    "    storage = {}  \n",
    "#     storage['usagov'] = get_web_data(get_usagov_rss_data)\n",
    "#     storage['joke'] = get_web_data(get_joke_rss_data)\n",
    "#     storage['rap'] = get_web_data(get_rap_data)\n",
    "    storage['rap'] = get_web_data(get_rap_data_extended)\n",
    "    with open(storage_file, 'wb') as f:\n",
    "        pickle.dump(storage, f)\n"
   ]
  },
  {
   "cell_type": "markdown",
   "metadata": {},
   "source": [
    "# Preprocess sentences for HuggingFace"
   ]
  },
  {
   "cell_type": "code",
   "execution_count": 6,
   "metadata": {},
   "outputs": [],
   "source": [
    "storage_to_process = copy.deepcopy(storage)\n",
    "\n",
    "map_labels = {'rap' : 0}\n",
    "\n",
    "words_limit = 22\n",
    "words_at_least = 10\n",
    "\n",
    "stop_symbols = set(['...', '.', '?', '!', '!!!', '?!', '?!'])\n",
    "\n",
    "def join_rap_sentences(local_lines, lines_in_group):\n",
    "    rap_sentences = []\n",
    "    idx = 0\n",
    "    while idx < len(local_lines):\n",
    "        line = local_lines[idx].strip().lower()\n",
    "        if len(line) == 0:\n",
    "            del local_lines[idx]\n",
    "            continue\n",
    "        if idx + lines_in_group > len(local_lines):\n",
    "            res_proc_item = line\n",
    "        else:\n",
    "            second_line = local_lines[idx + 1].strip().lower()\n",
    "            if len(second_line) == 0:\n",
    "                del local_lines[idx + 1]\n",
    "                continue\n",
    "            res_proc_item = line + ' ' + second_line\n",
    "        res_proc_item = res_proc_item.replace(',', '')\n",
    "        splitted = res_proc_item.split(' ')[:words_limit]\n",
    "        if len(splitted) >= words_at_least:\n",
    "            joined = ' '.join(splitted)\n",
    "            end_empty = True\n",
    "            for token in stop_symbols:\n",
    "                if joined.endswith(token):\n",
    "                    end_empty = False\n",
    "                    break\n",
    "            if end_empty:\n",
    "                joined += '.'\n",
    "            \n",
    "            rap_sentences.append(joined)\n",
    "        idx += lines_in_group\n",
    "    return rap_sentences\n",
    "\n",
    "# TODO how to have a deal with slang?\n",
    "def get_approx_sentences_from_lyrics(lyrics, local_processed_data):\n",
    "    couplets = re.split('\\[.*\\]' ,lyrics)\n",
    "    for couplet in couplets:\n",
    "        local_lines = couplet.split('\\n')\n",
    "        \n",
    "        if len(local_lines) == 1:\n",
    "            continue\n",
    "        lines_in_group = 2\n",
    "        rap_sentences = join_rap_sentences(local_lines, lines_in_group)\n",
    "        local_processed_data.extend(rap_sentences)\n",
    "\n",
    "def get_data_lyrics(substorage, topic_key):\n",
    "    local_processed_data = []\n",
    "    for lyrics_list in substorage.values():\n",
    "        for lyrics in lyrics_list:\n",
    "            get_approx_sentences_from_lyrics(lyrics, local_processed_data)\n",
    "    local_processed_labels = [map_labels[topic_key]] * len(local_processed_data)\n",
    "    with open(f'tmp_{topic_key}.json', 'w') as f:\n",
    "        json.dump({'section' : local_processed_data}, f, indent=4, sort_keys=True)\n",
    "    return local_processed_data, local_processed_labels\n",
    "\n",
    "processed_data = []\n",
    "processed_labels = []\n",
    "for topic_key in map_labels.keys():\n",
    "    if topic_key == 'rap':\n",
    "        local_processed_data, local_processed_labels = get_data_lyrics(storage_to_process[topic_key], topic_key)\n",
    "        processed_data.extend(local_processed_data)\n",
    "        processed_labels.extend(local_processed_labels)\n",
    "    else:\n",
    "        raise Exception(f'Unknown topic_key: {topic_key}')\n"
   ]
  },
  {
   "cell_type": "code",
   "execution_count": 7,
   "metadata": {},
   "outputs": [],
   "source": [
    "df_text_data = pd.DataFrame({'text' : processed_data, 'label' : processed_labels})"
   ]
  },
  {
   "cell_type": "code",
   "execution_count": 8,
   "metadata": {},
   "outputs": [
    {
     "data": {
      "text/html": [
       "<div>\n",
       "<style scoped>\n",
       "    .dataframe tbody tr th:only-of-type {\n",
       "        vertical-align: middle;\n",
       "    }\n",
       "\n",
       "    .dataframe tbody tr th {\n",
       "        vertical-align: top;\n",
       "    }\n",
       "\n",
       "    .dataframe thead th {\n",
       "        text-align: right;\n",
       "    }\n",
       "</style>\n",
       "<table border=\"1\" class=\"dataframe\">\n",
       "  <thead>\n",
       "    <tr style=\"text-align: right;\">\n",
       "      <th></th>\n",
       "      <th>text</th>\n",
       "      <th>label</th>\n",
       "    </tr>\n",
       "  </thead>\n",
       "  <tbody>\n",
       "    <tr>\n",
       "      <th>0</th>\n",
       "      <td>i am a nightmare walkin' psychopath talkin' ki...</td>\n",
       "      <td>0</td>\n",
       "    </tr>\n",
       "    <tr>\n",
       "      <th>1</th>\n",
       "      <td>livin' life like a firecracker quick is my fus...</td>\n",
       "      <td>0</td>\n",
       "    </tr>\n",
       "    <tr>\n",
       "      <th>2</th>\n",
       "      <td>red or blue cuz or blood it just don't matter ...</td>\n",
       "      <td>0</td>\n",
       "    </tr>\n",
       "    <tr>\n",
       "      <th>3</th>\n",
       "      <td>the gangs of l.a. will never die - just multiply.</td>\n",
       "      <td>0</td>\n",
       "    </tr>\n",
       "    <tr>\n",
       "      <th>4</th>\n",
       "      <td>you see they hit us then we hit them then we h...</td>\n",
       "      <td>0</td>\n",
       "    </tr>\n",
       "    <tr>\n",
       "      <th>...</th>\n",
       "      <td>...</td>\n",
       "      <td>...</td>\n",
       "    </tr>\n",
       "    <tr>\n",
       "      <th>138314</th>\n",
       "      <td>with they **** ***** attitudes why it's gotta ...</td>\n",
       "      <td>0</td>\n",
       "    </tr>\n",
       "    <tr>\n",
       "      <th>138315</th>\n",
       "      <td>i don't owe you chick you wasn't with me when ...</td>\n",
       "      <td>0</td>\n",
       "    </tr>\n",
       "    <tr>\n",
       "      <th>138316</th>\n",
       "      <td>even if you was you wouldn't shoot the stick w...</td>\n",
       "      <td>0</td>\n",
       "    </tr>\n",
       "    <tr>\n",
       "      <th>138317</th>\n",
       "      <td>know you a hatin lil **** always talking other...</td>\n",
       "      <td>0</td>\n",
       "    </tr>\n",
       "    <tr>\n",
       "      <th>138318</th>\n",
       "      <td>need to put a sock in it you speak facts alrig...</td>\n",
       "      <td>0</td>\n",
       "    </tr>\n",
       "  </tbody>\n",
       "</table>\n",
       "<p>138319 rows × 2 columns</p>\n",
       "</div>"
      ],
      "text/plain": [
       "                                                     text  label\n",
       "0       i am a nightmare walkin' psychopath talkin' ki...      0\n",
       "1       livin' life like a firecracker quick is my fus...      0\n",
       "2       red or blue cuz or blood it just don't matter ...      0\n",
       "3       the gangs of l.a. will never die - just multiply.      0\n",
       "4       you see they hit us then we hit them then we h...      0\n",
       "...                                                   ...    ...\n",
       "138314  with they **** ***** attitudes why it's gotta ...      0\n",
       "138315  i don't owe you chick you wasn't with me when ...      0\n",
       "138316  even if you was you wouldn't shoot the stick w...      0\n",
       "138317  know you a hatin lil **** always talking other...      0\n",
       "138318  need to put a sock in it you speak facts alrig...      0\n",
       "\n",
       "[138319 rows x 2 columns]"
      ]
     },
     "execution_count": 8,
     "metadata": {},
     "output_type": "execute_result"
    }
   ],
   "source": [
    "df_text_data"
   ]
  },
  {
   "cell_type": "code",
   "execution_count": 9,
   "metadata": {},
   "outputs": [
    {
     "data": {
      "text/plain": [
       "22    19892\n",
       "18    12911\n",
       "17    12609\n",
       "16    12526\n",
       "19    11595\n",
       "15    11168\n",
       "20    10220\n",
       "14     9938\n",
       "13     8425\n",
       "21     8292\n",
       "12     7880\n",
       "11     6694\n",
       "10     6169\n",
       "Name: text, dtype: int64"
      ]
     },
     "execution_count": 9,
     "metadata": {},
     "output_type": "execute_result"
    }
   ],
   "source": [
    "df_text_data['text'].apply(lambda x: len(x.split(' '))).value_counts()"
   ]
  },
  {
   "cell_type": "markdown",
   "metadata": {},
   "source": [
    "# Analyse common starts and continuations"
   ]
  },
  {
   "cell_type": "code",
   "execution_count": 10,
   "metadata": {},
   "outputs": [],
   "source": [
    "def analyse_subseqs(data, len_main_subseq, len_extra_subseq, count_main_seqs, count_extra_seqs):\n",
    "    set_main_seqs = {}\n",
    "    for line in data['text']:\n",
    "        splited_sentence = line[:-1].split(' ')\n",
    "        for word_idx in range(len(splited_sentence)):\n",
    "            if word_idx + len_main_subseq + len_extra_subseq > len(splited_sentence):\n",
    "                break\n",
    "            main_subseq = ' '.join(splited_sentence[word_idx:word_idx+len_main_subseq])\n",
    "            if main_subseq not in set_main_seqs.keys():\n",
    "                set_main_seqs[main_subseq] = 1\n",
    "            else:\n",
    "                set_main_seqs[main_subseq] += 1\n",
    "    sorted_main_seqs_counted = sorted(list(set_main_seqs.items()), key=lambda x: -x[1])\n",
    "    sorted_main_seqs = [sorted_main_seqs_counted[idx] for idx in range(count_main_seqs)]\n",
    "    \n",
    "    preresult = {key : [] for key in sorted_main_seqs}\n",
    "    for main_key, count in sorted_main_seqs:\n",
    "        splitted_main_key = main_key.split(' ')\n",
    "        for line in data['text']:\n",
    "            splited_sentence = line[:-1].split(' ')\n",
    "            for word_idx in range(len(splited_sentence)):\n",
    "                if word_idx + len_main_subseq + len_extra_subseq > len(splited_sentence):\n",
    "                    break\n",
    "                is_main_eq = True\n",
    "                for main_word, extra_word in zip(splitted_main_key, splited_sentence[word_idx:word_idx+len_main_subseq]):\n",
    "                    if main_word != extra_word:\n",
    "                        is_main_eq = False\n",
    "                        break\n",
    "                if not is_main_eq:\n",
    "                    continue\n",
    "                extra_subseq = ' '.join(splited_sentence[word_idx+len_main_subseq:word_idx+len_main_subseq+len_extra_subseq])\n",
    "                preresult[(main_key, count)].append(extra_subseq)\n",
    "    \n",
    "    result = {key : [] for key in sorted_main_seqs}\n",
    "    for key, collection in preresult.items():\n",
    "        common_extras = Counter(collection).most_common(count_extra_seqs)\n",
    "        result[key] = common_extras\n",
    "    return result\n",
    "        "
   ]
  },
  {
   "cell_type": "code",
   "execution_count": 11,
   "metadata": {},
   "outputs": [
    {
     "data": {
      "text/plain": [
       "{('in the', 11599): [('hood', 424),\n",
       "  ('back', 404),\n",
       "  ('house', 399),\n",
       "  ('air', 298),\n",
       "  ('game', 296)],\n",
       " ('on the', 6422): [('block', 280),\n",
       "  ('streets', 192),\n",
       "  ('floor', 156),\n",
       "  ('mic', 136),\n",
       "  ('corner', 125)],\n",
       " ('to the', 5550): [('top', 101),\n",
       "  ('beat', 96),\n",
       "  ('game', 74),\n",
       "  ('west', 72),\n",
       "  ('side', 67)],\n",
       " ('i got', 4540): [('a', 753),\n",
       "  ('the', 477),\n",
       "  ('my', 381),\n",
       "  ('to', 249),\n",
       "  ('it', 169)],\n",
       " ('you know', 4513): [('what', 693),\n",
       "  ('i', 464),\n",
       "  ('the', 332),\n",
       "  ('how', 258),\n",
       "  ('that', 227)]}"
      ]
     },
     "execution_count": 11,
     "metadata": {},
     "output_type": "execute_result"
    }
   ],
   "source": [
    "analyse_subseqs(df_text_data, 2, 1, 5, 5)"
   ]
  },
  {
   "cell_type": "code",
   "execution_count": 12,
   "metadata": {},
   "outputs": [
    {
     "data": {
      "text/html": [
       "<div>\n",
       "<style scoped>\n",
       "    .dataframe tbody tr th:only-of-type {\n",
       "        vertical-align: middle;\n",
       "    }\n",
       "\n",
       "    .dataframe tbody tr th {\n",
       "        vertical-align: top;\n",
       "    }\n",
       "\n",
       "    .dataframe thead th {\n",
       "        text-align: right;\n",
       "    }\n",
       "</style>\n",
       "<table border=\"1\" class=\"dataframe\">\n",
       "  <thead>\n",
       "    <tr style=\"text-align: right;\">\n",
       "      <th></th>\n",
       "      <th>text</th>\n",
       "      <th>label</th>\n",
       "    </tr>\n",
       "  </thead>\n",
       "  <tbody>\n",
       "    <tr>\n",
       "      <th>0</th>\n",
       "      <td>back and forth with the gangster glide started...</td>\n",
       "      <td>0</td>\n",
       "    </tr>\n",
       "    <tr>\n",
       "      <th>1</th>\n",
       "      <td>when i'm all alone 'cause you're not home (woo...</td>\n",
       "      <td>0</td>\n",
       "    </tr>\n",
       "    <tr>\n",
       "      <th>2</th>\n",
       "      <td>got cris' on pop henny wit no chaser and mami ...</td>\n",
       "      <td>0</td>\n",
       "    </tr>\n",
       "    <tr>\n",
       "      <th>3</th>\n",
       "      <td>and we got the workers choppin' rock fiends by...</td>\n",
       "      <td>0</td>\n",
       "    </tr>\n",
       "    <tr>\n",
       "      <th>4</th>\n",
       "      <td>on on on rollin on you better keep rollin on.</td>\n",
       "      <td>0</td>\n",
       "    </tr>\n",
       "    <tr>\n",
       "      <th>...</th>\n",
       "      <td>...</td>\n",
       "      <td>...</td>\n",
       "    </tr>\n",
       "    <tr>\n",
       "      <th>11885</th>\n",
       "      <td>i'm heavy in the hood 'cause i got that weight...</td>\n",
       "      <td>0</td>\n",
       "    </tr>\n",
       "    <tr>\n",
       "      <th>11886</th>\n",
       "      <td>i'm heavy in the hood 'cause i got that weight...</td>\n",
       "      <td>0</td>\n",
       "    </tr>\n",
       "    <tr>\n",
       "      <th>11887</th>\n",
       "      <td>(what up elder?) i'm heavy in the hood 'cause ...</td>\n",
       "      <td>0</td>\n",
       "    </tr>\n",
       "    <tr>\n",
       "      <th>11888</th>\n",
       "      <td>(they already know they can't keep up with you...</td>\n",
       "      <td>0</td>\n",
       "    </tr>\n",
       "    <tr>\n",
       "      <th>11889</th>\n",
       "      <td>see me pushin' through don't hate don't hate (...</td>\n",
       "      <td>0</td>\n",
       "    </tr>\n",
       "  </tbody>\n",
       "</table>\n",
       "<p>11890 rows × 2 columns</p>\n",
       "</div>"
      ],
      "text/plain": [
       "                                                    text  label\n",
       "0      back and forth with the gangster glide started...      0\n",
       "1      when i'm all alone 'cause you're not home (woo...      0\n",
       "2      got cris' on pop henny wit no chaser and mami ...      0\n",
       "3      and we got the workers choppin' rock fiends by...      0\n",
       "4          on on on rollin on you better keep rollin on.      0\n",
       "...                                                  ...    ...\n",
       "11885  i'm heavy in the hood 'cause i got that weight...      0\n",
       "11886  i'm heavy in the hood 'cause i got that weight...      0\n",
       "11887  (what up elder?) i'm heavy in the hood 'cause ...      0\n",
       "11888  (they already know they can't keep up with you...      0\n",
       "11889  see me pushin' through don't hate don't hate (...      0\n",
       "\n",
       "[11890 rows x 2 columns]"
      ]
     },
     "execution_count": 12,
     "metadata": {},
     "output_type": "execute_result"
    }
   ],
   "source": [
    "chosen_data = df_text_data[df_text_data['text'].str.contains('in the hood') | df_text_data['text'].str.contains('in the back') | df_text_data['text'].str.contains('in the house') | df_text_data['text'].str.contains('in the air') | df_text_data['text'].str.contains('in the game')]\n",
    "sampled_index = chosen_data.index\n",
    "subsamples_data = df_text_data.drop(index=sampled_index).sample(n=10000)\n",
    "subsamples_data = pd.concat([subsamples_data, chosen_data], ignore_index=True)\n",
    "subsamples_data"
   ]
  },
  {
   "cell_type": "code",
   "execution_count": 13,
   "metadata": {},
   "outputs": [
    {
     "data": {
      "text/plain": [
       "{('in the', 2831): [('hood', 424),\n",
       "  ('back', 404),\n",
       "  ('house', 399),\n",
       "  ('air', 298),\n",
       "  ('game', 296)],\n",
       " ('on the', 583): [('streets', 34),\n",
       "  ('block', 28),\n",
       "  ('street', 14),\n",
       "  ('mic', 14),\n",
       "  ('floor', 13)],\n",
       " ('to the', 451): [('top', 12),\n",
       "  ('beat', 8),\n",
       "  ('streets', 8),\n",
       "  ('head', 7),\n",
       "  ('side', 7)],\n",
       " ('i got', 413): [('a', 56),\n",
       "  ('the', 45),\n",
       "  ('my', 44),\n",
       "  ('that', 30),\n",
       "  ('to', 22)],\n",
       " ('the hood', 410): [(\"'cause\", 21),\n",
       "  ('i', 20),\n",
       "  ('they', 19),\n",
       "  ('and', 15),\n",
       "  ('are', 12)]}"
      ]
     },
     "execution_count": 13,
     "metadata": {},
     "output_type": "execute_result"
    }
   ],
   "source": [
    "analyse_subseqs(subsamples_data, 2, 1, 5, 5)"
   ]
  },
  {
   "cell_type": "code",
   "execution_count": 14,
   "metadata": {},
   "outputs": [],
   "source": [
    "generation_start = \"in the\""
   ]
  },
  {
   "cell_type": "markdown",
   "metadata": {},
   "source": [
    "# HuggingFace transformer is coming!"
   ]
  },
  {
   "cell_type": "markdown",
   "metadata": {},
   "source": [
    "## Prepare dataset"
   ]
  },
  {
   "cell_type": "code",
   "execution_count": 15,
   "metadata": {},
   "outputs": [],
   "source": [
    "hf_dataset = Dataset.from_pandas(chosen_data)"
   ]
  },
  {
   "cell_type": "code",
   "execution_count": 16,
   "metadata": {},
   "outputs": [
    {
     "data": {
      "text/plain": [
       "Dataset({\n",
       "    features: ['text', 'label', '__index_level_0__'],\n",
       "    num_rows: 1890\n",
       "})"
      ]
     },
     "execution_count": 16,
     "metadata": {},
     "output_type": "execute_result"
    }
   ],
   "source": [
    "hf_dataset"
   ]
  },
  {
   "cell_type": "code",
   "execution_count": 17,
   "metadata": {},
   "outputs": [
    {
     "data": {
      "text/plain": [
       "{'text': \"so you're in the back of me just listen and learn because you'll all get a chance or maybe a turn.\",\n",
       " 'label': 0,\n",
       " '__index_level_0__': 76418}"
      ]
     },
     "execution_count": 17,
     "metadata": {},
     "output_type": "execute_result"
    }
   ],
   "source": [
    "hf_dataset[1000]"
   ]
  },
  {
   "cell_type": "code",
   "execution_count": 18,
   "metadata": {},
   "outputs": [
    {
     "data": {
      "text/plain": [
       "transformers.models.gpt2.modeling_gpt2.GPT2LMHeadModel"
      ]
     },
     "execution_count": 18,
     "metadata": {},
     "output_type": "execute_result"
    }
   ],
   "source": [
    "model_name = 'gpt2'\n",
    "model = AutoModelForCausalLM.from_pretrained(model_name)\n",
    "type(model)"
   ]
  },
  {
   "cell_type": "code",
   "execution_count": 19,
   "metadata": {},
   "outputs": [
    {
     "data": {
      "application/vnd.jupyter.widget-view+json": {
       "model_id": "85f1d9d411e544238523e2a079fa8fe8",
       "version_major": 2,
       "version_minor": 0
      },
      "text/plain": [
       "  0%|          | 0/1890 [00:00<?, ?ex/s]"
      ]
     },
     "metadata": {},
     "output_type": "display_data"
    }
   ],
   "source": [
    "tokenizer = AutoTokenizer.from_pretrained(model_name)\n",
    "tokenizer.pad_token = tokenizer.eos_token\n",
    "def tokenize_function(examples):\n",
    "    return tokenizer(examples[\"text\"], padding='max_length', truncation=True, max_length=words_limit, return_tensors='pt')\n",
    "\n",
    "tokenized_datasets = hf_dataset.map(tokenize_function)\n",
    "gc.collect()\n",
    "torch.cuda.empty_cache()"
   ]
  },
  {
   "cell_type": "code",
   "execution_count": 20,
   "metadata": {},
   "outputs": [
    {
     "name": "stderr",
     "output_type": "stream",
     "text": [
      "Setting `pad_token_id` to `eos_token_id`:50256 for open-end generation.\n"
     ]
    },
    {
     "name": "stdout",
     "output_type": "stream",
     "text": [
      " Item #0: in the middle of the night, and I was just sitting there, and I was like, 'Oh my\n",
      " Item #1: in the middle of the night.\"I'm not sure if I'm going to be able to\n",
      " Item #2: in the middle of the night.\"I'm not sure if I'm going to be able to\n",
      " Item #3: in the middle of the night.\"I'm not going to be able to sleep tonight,\" he\n",
      " Item #4: in the middle of the night, and I was in the middle of the night. I was in the middle\n",
      " Item #5: in the middle of the night, and I was in the middle of the night. I was in the middle\n",
      " Item #6: in the middle of the night, and I was in the middle of the night, and I was in the\n",
      " Item #7: in the middle of the night, and I was in a state of shock. I was in a state of\n",
      " Item #8: in the middle of the night, and I was just sitting there, and I was like, 'Oh my\n",
      " Item #9: in the middle of the night.\"I'm not sure if I'm going to be able to\n"
     ]
    }
   ],
   "source": [
    "cpu = torch.device(\"cpu\")\n",
    "device = torch.device(\"cuda\")\n",
    "\n",
    "def generate_data(generation_start, model, tokenizer, num_return_sequences):\n",
    "    gc.collect()\n",
    "    torch.cuda.empty_cache()    \n",
    "    model_cpu = model.to(cpu)\n",
    "    generator = pipeline('text-generation', model=model_cpu, tokenizer=tokenizer, temperature=0.1)\n",
    "    generated = generator(generation_start, max_length=words_limit, num_return_sequences=num_return_sequences)\n",
    "    for idx, item in enumerate(generated):\n",
    "        print(f' Item #{idx}:', item['generated_text'].strip().replace('\\n',''))\n",
    "    gc.collect()\n",
    "    torch.cuda.empty_cache()\n",
    "    \n",
    "\n",
    "generate_data(generation_start, model, tokenizer, 10)"
   ]
  },
  {
   "cell_type": "code",
   "execution_count": 21,
   "metadata": {},
   "outputs": [
    {
     "data": {
      "text/plain": [
       "device(type='cpu')"
      ]
     },
     "execution_count": 21,
     "metadata": {},
     "output_type": "execute_result"
    }
   ],
   "source": [
    "model.save_pretrained(\"model_storage\")\n",
    "model.device"
   ]
  },
  {
   "cell_type": "code",
   "execution_count": 23,
   "metadata": {},
   "outputs": [
    {
     "data": {
      "application/vnd.jupyter.widget-view+json": {
       "model_id": "c9e311f08ce24c548acc63109e371366",
       "version_major": 2,
       "version_minor": 0
      },
      "text/plain": [
       "  0%|          | 0/20 [00:00<?, ?it/s]"
      ]
     },
     "metadata": {},
     "output_type": "display_data"
    },
    {
     "name": "stdout",
     "output_type": "stream",
     "text": [
      "Epoch 0 started. Eval on train: 20455.9453125. Cum norm: 9528.4931640625\n",
      "Epoch 1 started. Eval on train: 20455.61328125. Cum norm: 9528.5283203125\n",
      "Epoch 2 started. Eval on train: 20452.052734375. Cum norm: 9528.5703125\n",
      "Epoch 3 started. Eval on train: 20350.099609375. Cum norm: 9528.6025390625\n",
      "Epoch 4 started. Eval on train: 20179.2109375. Cum norm: 9528.6328125\n",
      "Epoch 5 started. Eval on train: 20291.38671875. Cum norm: 9528.671875\n",
      "Epoch 6 started. Eval on train: 20376.5546875. Cum norm: 9528.703125\n",
      "Epoch 7 started. Eval on train: 20407.05078125. Cum norm: 9528.73046875\n",
      "Epoch 8 started. Eval on train: 20407.998046875. Cum norm: 9528.7529296875\n",
      "Epoch 9 started. Eval on train: 20406.02734375. Cum norm: 9528.7734375\n",
      "Epoch 10 started. Eval on train: 20404.48828125. Cum norm: 9528.79296875\n",
      "Epoch 11 started. Eval on train: 20409.623046875. Cum norm: 9528.80859375\n",
      "Epoch 12 started. Eval on train: 20405.83203125. Cum norm: 9528.82421875\n",
      "Epoch 13 started. Eval on train: 20394.93359375. Cum norm: 9528.83203125\n",
      "Epoch 14 started. Eval on train: 20392.654296875. Cum norm: 9528.84375\n",
      "Epoch 15 started. Eval on train: 20393.94921875. Cum norm: 9528.853515625\n",
      "Epoch 16 started. Eval on train: 20380.94921875. Cum norm: 9528.859375\n",
      "Epoch 17 started. Eval on train: 20387.744140625. Cum norm: 9528.8662109375\n",
      "Epoch 18 started. Eval on train: 20383.115234375. Cum norm: 9528.8720703125\n",
      "Epoch 19 started. Eval on train: 20381.12890625. Cum norm: 9528.876953125\n"
     ]
    },
    {
     "name": "stderr",
     "output_type": "stream",
     "text": [
      "Setting `pad_token_id` to `eos_token_id`:50256 for open-end generation.\n"
     ]
    },
    {
     "name": "stdout",
     "output_type": "stream",
     "text": [
      " Item #0: in the the the the the the the the the the the the the the the the the the the the the\n",
      " Item #1: in the the the the the the the the the the the the the the the the the the the the the\n",
      " Item #2: in the the the the the the the the the the the the the the the the the the the the the\n",
      " Item #3: in the the the the the the the the the the the the the the the the the the the the the\n",
      " Item #4: in the the the the the the the the the the the the the the the the the the the the the\n",
      " Item #5: in the the the the the the the the the the the the the the the the the the the the the\n",
      " Item #6: in the the the the the the the the the the the the the the the the the the the the the\n",
      " Item #7: in the the the the the the the the the the the the the the the the the the the the the\n",
      " Item #8: in the the the the the the the the the the the the the the the the the the the the the\n",
      " Item #9: in the the the the the the the the the the the the the the the the the the the the the\n"
     ]
    }
   ],
   "source": [
    "trained_model = GPT2LMHeadModel.from_pretrained(\"model_storage\").to(device)\n",
    "\n",
    "gc.collect()\n",
    "torch.cuda.empty_cache()\n",
    "def train():\n",
    "    def check_weights_cum_norm(model):\n",
    "        cum_norm = 0\n",
    "        for name, W in model.named_parameters():\n",
    "            cum_norm += W.norm(2)\n",
    "        return cum_norm\n",
    "\n",
    "    def eval_on_loader(trained_model, loader):\n",
    "        with torch.no_grad():\n",
    "            losses = []\n",
    "            for batch in train_dataloader:\n",
    "                ids = torch.stack(batch['input_ids'][0]).to(device)\n",
    "                outputs = trained_model(input_ids=ids)\n",
    "                logits = outputs['logits']\n",
    "                sentences = logits.transpose(0, 1)\n",
    "                labels = ids.transpose(0, 1)\n",
    "\n",
    "                for sentence, label in zip(sentences, labels):\n",
    "                    sentence_cloned = sentence.clone()\n",
    "                    label_cloned = label.clone()\n",
    "                    torch.nn.functional.relu(sentence_cloned, inplace=True)\n",
    "                    losses.append(criterion(sentence_cloned, label_cloned))\n",
    "            return sum(losses)\n",
    "\n",
    "    batch_size = 32\n",
    "    train_dataloader = DataLoader(tokenized_datasets, shuffle=True, batch_size=batch_size)\n",
    "    optimizer = AdamW(trained_model.parameters(), lr=0.000001)\n",
    "    scheduler = ExponentialLR(optimizer, gamma=0.85)\n",
    "\n",
    "    criterion = CrossEntropyLoss()\n",
    "    num_epochs = 20\n",
    "    progress_bar_epoch = tqdm(range(num_epochs))\n",
    "\n",
    "    num_batches = len(tokenized_datasets) // batch_size\n",
    "    if len(tokenized_datasets) % batch_size:\n",
    "        num_batches += 1\n",
    "    gpt2_losses = []\n",
    "    for epoch in range(num_epochs):\n",
    "        train_loss = eval_on_loader(trained_model, train_dataloader)\n",
    "        print(f'Epoch {epoch} started. Eval on train: {train_loss}. Cum norm: {check_weights_cum_norm(trained_model)}')\n",
    "        gpt2_losses.append(train_loss.item())\n",
    "        for batch in train_dataloader:\n",
    "            optimizer.zero_grad()\n",
    "            ids = torch.stack(batch['input_ids'][0]).to(device)\n",
    "            outputs = trained_model(input_ids=ids)\n",
    "            logits = outputs['logits']\n",
    "            sentences = logits.transpose(0, 1)\n",
    "            labels = ids.transpose(0, 1)\n",
    "            losses = []\n",
    "            for sentence, label in zip(sentences, labels):\n",
    "                sentence_cloned = sentence.clone()\n",
    "                label_cloned = label.clone()\n",
    "                with torch.no_grad():\n",
    "                    torch.nn.functional.relu(sentence_cloned, inplace=True)\n",
    "                losses.append(criterion(sentence_cloned, label_cloned))\n",
    "\n",
    "            res_loss = sum(losses) / len(losses)\n",
    "\n",
    "            res_loss.backward()\n",
    "            torch.nn.utils.clip_grad_norm_(trained_model.parameters(), 0.25)\n",
    "            optimizer.step()\n",
    "            del ids, outputs, logits, sentences, labels\n",
    "            gc.collect()\n",
    "            torch.cuda.empty_cache()\n",
    "        progress_bar_epoch.update(1)\n",
    "        scheduler.step()\n",
    "    generate_data(generation_start, trained_model, tokenizer, 10)\n",
    "    return gpt2_losses\n",
    "\n",
    "gpt2_losses = train()"
   ]
  },
  {
   "cell_type": "code",
   "execution_count": 24,
   "metadata": {},
   "outputs": [
    {
     "data": {
      "text/plain": [
       "Text(0.5, 1.0, 'Loss for epoch')"
      ]
     },
     "execution_count": 24,
     "metadata": {},
     "output_type": "execute_result"
    },
    {
     "data": {
      "image/png": "[encoded data removed]",
      "text/plain": [
       "<Figure size 720x432 with 1 Axes>"
      ]
     },
     "metadata": {
      "needs_background": "light"
     },
     "output_type": "display_data"
    }
   ],
   "source": [
    "num_epochs = 20\n",
    "fig, axes = plt.subplots(1, 1, figsize=(10, 6))\n",
    "metrics_df = pd.DataFrame({'Loss' : gpt2_losses, 'Epoch' : [idx for idx in range(num_epochs)]})\n",
    "axes.xaxis.set_major_formatter(FuncFormatter(lambda x, _: int(x)))\n",
    "sns.lineplot(data=metrics_df, y='Loss', x='Epoch', ax=axes)\n",
    "axes.set_title('Loss for epoch')"
   ]
  },
  {
   "cell_type": "code",
   "execution_count": 25,
   "metadata": {},
   "outputs": [],
   "source": [
    "del trained_model\n",
    "gc.collect()\n",
    "torch.cuda.empty_cache()"
   ]
  },
  {
   "cell_type": "markdown",
   "metadata": {},
   "source": [
    "## Summary"
   ]
  },
  {
   "cell_type": "markdown",
   "metadata": {},
   "source": [
    "Need to git into fine-fitting GPT2 deeper. Results are not good for now."
   ]
  },
  {
   "cell_type": "markdown",
   "metadata": {},
   "source": [
    "# RNN-based network"
   ]
  },
  {
   "cell_type": "code",
   "execution_count": 26,
   "metadata": {},
   "outputs": [],
   "source": [
    "cpu = torch.device(\"cpu\")\n",
    "device = torch.device(\"cuda\")\n",
    "dtype = torch.float32"
   ]
  },
  {
   "cell_type": "code",
   "execution_count": 27,
   "metadata": {},
   "outputs": [],
   "source": [
    "class RNNModel(nn.Module):\n",
    "    def __init__(self, dataset):\n",
    "        super().__init__()\n",
    "        self.lstm_size = 128\n",
    "        self.embedding_dim = 128\n",
    "        self.num_layers = 3\n",
    "\n",
    "        n_vocab = len(dataset.uniq_words)\n",
    "        self.embedding = nn.Embedding(\n",
    "            num_embeddings=n_vocab,\n",
    "            embedding_dim=self.embedding_dim,\n",
    "        )\n",
    "        self.lstm = nn.LSTM(\n",
    "            input_size=self.lstm_size,\n",
    "            hidden_size=self.lstm_size,\n",
    "            num_layers=self.num_layers,\n",
    "            dropout=0.2,\n",
    "        )\n",
    "        self.fc = nn.Linear(self.lstm_size, n_vocab)\n",
    "\n",
    "    def forward(self, x, prev_state):\n",
    "        embed = self.embedding(x)\n",
    "        output, state = self.lstm(embed, prev_state)\n",
    "        logits = self.fc(output)\n",
    "        return logits, state\n",
    "\n",
    "    def init_state(self, sequence_length):\n",
    "        return (torch.zeros(self.num_layers, sequence_length, self.lstm_size, dtype=dtype, device=device),\n",
    "                torch.zeros(self.num_layers, sequence_length, self.lstm_size, dtype=dtype, device=device))"
   ]
  },
  {
   "cell_type": "code",
   "execution_count": 28,
   "metadata": {},
   "outputs": [],
   "source": [
    "class Dataset(torch.utils.data.Dataset):\n",
    "    def __init__(\n",
    "        self,\n",
    "        data,\n",
    "        sequence_length\n",
    "    ):\n",
    "        self.train_df = data\n",
    "        self.sequence_length = sequence_length\n",
    "        self.words = self.load_words()\n",
    "        self.uniq_words = self.get_uniq_words()\n",
    "        \n",
    "        self.index_to_word = {index: word for index, word in enumerate(self.uniq_words)}\n",
    "        self.word_to_index = {word: index for index, word in enumerate(self.uniq_words)}\n",
    "\n",
    "        self.words_indexes = [self.word_to_index[w] for w in self.words]\n",
    "\n",
    "    def load_words(self):\n",
    "        text = self.train_df['text'].str.cat(sep=' ')\n",
    "        return text.split(' ')\n",
    "\n",
    "    def get_uniq_words(self):\n",
    "        word_counts = Counter(self.words)\n",
    "        return sorted(word_counts, key=word_counts.get, reverse=True)\n",
    "\n",
    "    def __len__(self):\n",
    "        return len(self.words_indexes) - self.sequence_length\n",
    "\n",
    "    def __getitem__(self, index):\n",
    "        return (\n",
    "            torch.tensor(self.words_indexes[index:index+self.sequence_length], dtype=torch.long, device=device),\n",
    "            torch.tensor(self.words_indexes[index+1:index+self.sequence_length+1], dtype=torch.long, device=device),\n",
    "        )"
   ]
  },
  {
   "cell_type": "code",
   "execution_count": 38,
   "metadata": {},
   "outputs": [],
   "source": [
    "def train(dataset, model, batch_size, sequence_length, max_epochs):\n",
    "    model.train()\n",
    "    dataloader = DataLoader(dataset, batch_size=batch_size)\n",
    "    criterion = nn.CrossEntropyLoss()\n",
    "    optimizer = AdamW(model.parameters(), lr=0.001)\n",
    "    losses = []\n",
    "    progress_bar_epoch = tqdm(range(max_epochs))\n",
    "    for epoch in range(max_epochs):\n",
    "        state_h, state_c = model.init_state(sequence_length)\n",
    "\n",
    "        for batch, (x, y) in enumerate(dataloader):\n",
    "            optimizer.zero_grad()\n",
    "\n",
    "            y_pred, (state_h, state_c) = model(x, (state_h, state_c))\n",
    "            loss = criterion(y_pred.transpose(1, 2), y)\n",
    "\n",
    "            state_h = state_h.detach()\n",
    "            state_c = state_c.detach()\n",
    "\n",
    "            loss.backward()\n",
    "            optimizer.step()\n",
    "        progress_bar_epoch.update(1)\n",
    "        \n",
    "        # Eval\n",
    "        with torch.no_grad():\n",
    "            local_losses = []\n",
    "            for batch, (x, y) in enumerate(dataloader):\n",
    "                y_pred, (state_h, state_c) = model(x, (state_h, state_c))\n",
    "                loss = criterion(y_pred.transpose(1, 2), y).detach().item()\n",
    "                state_h = state_h.detach()\n",
    "                state_c = state_c.detach()\n",
    "                local_losses.append(loss)\n",
    "            losses.append(sum(local_losses) / len(local_losses))\n",
    "            print('Loss:', losses[-1])\n",
    "        gc.collect()\n",
    "        torch.cuda.empty_cache()\n",
    "    return losses\n"
   ]
  },
  {
   "cell_type": "code",
   "execution_count": 39,
   "metadata": {},
   "outputs": [],
   "source": [
    "def predict(dataset, model, text, next_words=10, sentences_count=10):\n",
    "    model.eval()\n",
    "\n",
    "    sentences = []\n",
    "    for sentence_number in range(sentences_count):\n",
    "        words = text.split(' ')\n",
    "        state_h, state_c = model.init_state(len(words))        \n",
    "        for i in range(0, next_words):\n",
    "            x = torch.tensor([[dataset.word_to_index[w] for w in words[i:]]], device=device)\n",
    "            y_pred, (state_h, state_c) = model(x, (state_h, state_c))\n",
    "\n",
    "            last_word_logits = y_pred[0][-1]\n",
    "            p = torch.nn.functional.softmax(last_word_logits, dim=0).detach().cpu().numpy()\n",
    "            word_index = np.random.choice(len(last_word_logits), p=p)\n",
    "            words.append(dataset.index_to_word[word_index])\n",
    "        sentences.append(' '.join(words))\n",
    "    return sentences"
   ]
  },
  {
   "cell_type": "code",
   "execution_count": 40,
   "metadata": {},
   "outputs": [
    {
     "data": {
      "application/vnd.jupyter.widget-view+json": {
       "model_id": "5e0d0900625647388f3b6ddc7e0c7f45",
       "version_major": 2,
       "version_minor": 0
      },
      "text/plain": [
       "  0%|          | 0/50 [00:00<?, ?it/s]"
      ]
     },
     "metadata": {},
     "output_type": "display_data"
    },
    {
     "name": "stdout",
     "output_type": "stream",
     "text": [
      "Loss: 7.022284302009544\n",
      "Loss: 6.809778588677421\n",
      "Loss: 6.629134669521738\n",
      "Loss: 6.513660735890345\n",
      "Loss: 6.42966286543057\n",
      "Loss: 6.373067394731009\n",
      "Loss: 6.315290740298741\n",
      "Loss: 6.247657624598082\n",
      "Loss: 6.161425924543197\n",
      "Loss: 6.101483059413542\n",
      "Loss: 6.047153238112552\n",
      "Loss: 5.980212228552339\n",
      "Loss: 5.937773416490119\n",
      "Loss: 5.96207544404238\n",
      "Loss: 5.8754516041218325\n",
      "Loss: 5.847995290296332\n",
      "Loss: 5.815798257208113\n",
      "Loss: 5.791129127371735\n",
      "Loss: 5.718700500914288\n",
      "Loss: 5.692583308002066\n",
      "Loss: 5.674070111386062\n",
      "Loss: 5.653235460901018\n",
      "Loss: 5.626087978406606\n",
      "Loss: 5.6209270857312355\n",
      "Loss: 5.619382070405834\n",
      "Loss: 5.641821304553656\n",
      "Loss: 5.566472973315244\n",
      "Loss: 5.537402569945089\n",
      "Loss: 5.458705756264894\n",
      "Loss: 5.470052897022461\n",
      "Loss: 5.456377739833696\n",
      "Loss: 5.454246841711441\n",
      "Loss: 5.445400017167106\n",
      "Loss: 5.44966743561217\n",
      "Loss: 5.441196030166549\n",
      "Loss: 5.475529805052704\n",
      "Loss: 5.486502378725159\n",
      "Loss: 5.464949283503034\n",
      "Loss: 5.455759821809488\n",
      "Loss: 5.423226798246355\n",
      "Loss: 5.475510696469224\n",
      "Loss: 5.473018140357158\n",
      "Loss: 5.297500553469972\n",
      "Loss: 5.194313068075228\n",
      "Loss: 5.205753052295162\n",
      "Loss: 5.2559645829467\n",
      "Loss: 5.183197025115115\n",
      "Loss: 5.210912805523364\n",
      "Loss: 5.191279550494277\n",
      "Loss: 5.111647770489533\n"
     ]
    }
   ],
   "source": [
    "batch_size = 512\n",
    "sequence_length = 7\n",
    "max_epochs = 50\n",
    "\n",
    "dataset = Dataset(subsamples_data, sequence_length)\n",
    "model = RNNModel(dataset).to(device)\n",
    "rnnmodel_losses = train(dataset, model, batch_size, sequence_length, max_epochs)"
   ]
  },
  {
   "cell_type": "code",
   "execution_count": 51,
   "metadata": {},
   "outputs": [
    {
     "name": "stdout",
     "output_type": "stream",
     "text": [
      "in the mcdonald's  ho snort wack streiht lactose. hate in on\n",
      "in the worry thirsty travel test day boot inside you at? everybody\n",
      "in the cards didn't rob dogg or real man they still down?\n"
     ]
    }
   ],
   "source": [
    "gc.collect()\n",
    "torch.cuda.empty_cache()\n",
    "generated_sentences = predict(dataset, model, text=generation_start, sentences_count=3)\n",
    "for sentence in generated_sentences:\n",
    "    print(sentence)"
   ]
  },
  {
   "cell_type": "code",
   "execution_count": 44,
   "metadata": {},
   "outputs": [
    {
     "data": {
      "text/plain": [
       "Text(0.5, 1.0, 'Loss for epoch')"
      ]
     },
     "execution_count": 44,
     "metadata": {},
     "output_type": "execute_result"
    },
    {
     "data": {
      "image/png": "[encoded data removed]",
      "text/plain": [
       "<Figure size 720x432 with 1 Axes>"
      ]
     },
     "metadata": {
      "needs_background": "light"
     },
     "output_type": "display_data"
    }
   ],
   "source": [
    "fig, axes = plt.subplots(1, 1, figsize=(10, 6))\n",
    "metrics_df = pd.DataFrame({'Loss' : rnnmodel_losses, 'Epoch' : [idx for idx in range(max_epochs)]})\n",
    "axes.xaxis.set_major_formatter(FuncFormatter(lambda x, _: int(x)))\n",
    "sns.lineplot(data=metrics_df, y='Loss', x='Epoch', ax=axes)\n",
    "axes.set_title('Loss for epoch')"
   ]
  },
  {
   "cell_type": "markdown",
   "metadata": {},
   "source": [
    "## Summary"
   ]
  },
  {
   "cell_type": "markdown",
   "metadata": {},
   "source": [
    "Works well :)"
   ]
  },
  {
   "cell_type": "code",
   "execution_count": 52,
   "metadata": {},
   "outputs": [],
   "source": [
    "torch.save(model.state_dict(), 'gangsta-nn')"
   ]
  },
  {
   "cell_type": "code",
   "execution_count": null,
   "metadata": {},
   "outputs": [],
   "source": []
  }
 ],
 "metadata": {
  "kernelspec": {
   "display_name": "Python 3 (ipykernel)",
   "language": "python",
   "name": "python3"
  },
  "language_info": {
   "codemirror_mode": {
    "name": "ipython",
    "version": 3
   },
   "file_extension": ".py",
   "mimetype": "text/x-python",
   "name": "python",
   "nbconvert_exporter": "python",
   "pygments_lexer": "ipython3",
   "version": "3.9.7"
  }
 },
 "nbformat": 4,
 "nbformat_minor": 4
}
