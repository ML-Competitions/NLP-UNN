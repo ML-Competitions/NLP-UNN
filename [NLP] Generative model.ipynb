{
 "cells": [
  {
   "cell_type": "code",
   "execution_count": 1,
   "metadata": {},
   "outputs": [],
   "source": [
    "import scrapy\n",
    "import scrapy.crawler as crawler\n",
    "from scrapy.utils.log import configure_logging\n",
    "from multiprocessing import Process, Queue\n",
    "from twisted.internet import reactor\n",
    "from pydispatch import dispatcher\n",
    "import logging\n",
    "import json\n",
    "\n",
    "logging.basicConfig(level=logging.ERROR)\n",
    "logger = logging.getLogger('nlp')\n",
    "logger.setLevel(logging.INFO)"
   ]
  },
  {
   "cell_type": "markdown",
   "metadata": {},
   "source": [
    "# Fetch sentences"
   ]
  },
  {
   "cell_type": "markdown",
   "metadata": {},
   "source": [
    "## USA goverment RSS channels"
   ]
  },
  {
   "cell_type": "code",
   "execution_count": 2,
   "metadata": {},
   "outputs": [
    {
     "data": {
      "text/plain": [
       "{'links': ['https://www.state.gov/rss-feed/africa/feed/',\n",
       "  'https://www.state.gov/rss-feed/arms-control-and-international-security/feed/',\n",
       "  'https://www.state.gov/rss-feed/climate-environment-and-conservation/feed/',\n",
       "  'https://www.state.gov/rss-feed/collected-department-releases/feed/',\n",
       "  'https://www.state.gov/rss-feed/counterterrorism/feed/',\n",
       "  'https://www.state.gov/rss-feed/democracy-human-rights-and-labor/feed/',\n",
       "  'https://www.state.gov/rss-feed/department-press-briefings/feed/',\n",
       "  'https://www.state.gov/rss-feed/diplomatic-security/feed/',\n",
       "  'https://www.state.gov/rss-feed/direct-line-to-american-business/feed/',\n",
       "  'https://www.state.gov/rss-feed/east-asia-and-the-pacific/feed/',\n",
       "  'https://www.state.gov/rss-feed/economic-energy-agricultural-and-trade-issues/feed/',\n",
       "  'https://www.state.gov/rss-feed/europe-and-eurasia/feed/',\n",
       "  'https://www.state.gov/rss-feed/international-expositions/feed/',\n",
       "  'https://www.state.gov/rss-feed/international-health-issues/feed/',\n",
       "  'https://www.state.gov/rss-feed/international-organizations/feed/',\n",
       "  'https://www.state.gov/rss-feed/law-enforcement-narcotics-anti-corruption/feed/',\n",
       "  'https://www.state.gov/rss-feed/near-east/feed/',\n",
       "  'https://www.state.gov/rss-feed/population-refugees-and-migration/feed/',\n",
       "  'https://www.state.gov/rss-feed/press-releases/feed/',\n",
       "  'https://www.state.gov/rss-feed/public-schedule/feed/',\n",
       "  'https://www.state.gov/rss-feed/secretarys-remarks/feed/',\n",
       "  'https://www.state.gov/rss-feed/south-and-central-asia/feed/',\n",
       "  'https://www.state.gov/rss-feed/trafficking-in-persons/feed/',\n",
       "  'https://travel.state.gov/_res/rss/TAsTWs.xml',\n",
       "  'https://www.state.gov/rss-feed/treaties-new/feed/',\n",
       "  'https://www.state.gov/rss-feed/western-hemisphere/feed/',\n",
       "  'https://www.state.gov/rss-feed/womens-issues/feed/']}"
      ]
     },
     "execution_count": 2,
     "metadata": {},
     "output_type": "execute_result"
    }
   ],
   "source": [
    "def fetch_rss_links():\n",
    "    def f(q):\n",
    "        try:\n",
    "            links_storage = {'links' : []}\n",
    "            class LinkCheckerSpider2(scrapy.Spider):\n",
    "                name = \"link_checker2\"\n",
    "                start_urls = ['https://www.state.gov/rss-feeds/']\n",
    "                def parse(self, response):\n",
    "                    a_selectors = response.xpath(\"//a\")\n",
    "                    for selector in a_selectors:\n",
    "                        link = selector.xpath(\"@href\").extract_first()\n",
    "                        if 'rss' in link:\n",
    "                            links_storage['links'].append(link)\n",
    "            runner = crawler.CrawlerRunner()\n",
    "            deferred = runner.crawl(LinkCheckerSpider2)\n",
    "            deferred.addBoth(lambda _: reactor.stop())\n",
    "            reactor.run()\n",
    "            q.put(json.dumps(links_storage))\n",
    "        except Exception as e:\n",
    "            q.put(e)\n",
    "\n",
    "    q = Queue()\n",
    "    p = Process(target=f, args=(q,))\n",
    "    p.start()\n",
    "    result = q.get()\n",
    "    p.join()\n",
    "    try:\n",
    "        links_storage = json.loads(result)\n",
    "    except:\n",
    "        raise result\n",
    "    return links_storage\n",
    "#     print(links_storage)\n",
    "\n",
    "# def get_data_from_links(links_storage):\n",
    "    \n",
    "\n",
    "usa_links_storage = fetch_rss_links()"
   ]
  },
  {
   "cell_type": "code",
   "execution_count": 3,
   "metadata": {},
   "outputs": [],
   "source": [
    "# class QuotesSpider(scrapy.Spider):\n",
    "#     name = \"quotes\"\n",
    "#     start_urls = ['https://www.state.gov/rss-feeds/']\n",
    "\n",
    "#     def parse(self, response):\n",
    "#         for quote in response.css('div.quote'):\n",
    "#             print(quote.css('span.text::text').extract_first())"
   ]
  },
  {
   "cell_type": "code",
   "execution_count": 4,
   "metadata": {
    "scrolled": true
   },
   "outputs": [],
   "source": [
    "# runner = crawler.CrawlerRunner()\n",
    "# deferred = runner.crawl(LinkCheckerSpider2)\n",
    "# deferred.addBoth(lambda _: reactor.stop())\n",
    "# reactor.run()\n",
    "# q.put(None)"
   ]
  },
  {
   "cell_type": "code",
   "execution_count": 5,
   "metadata": {},
   "outputs": [],
   "source": [
    "# intr = runner\n",
    "# print(intr.settings)\n",
    "# dir(intr)"
   ]
  },
  {
   "cell_type": "code",
   "execution_count": null,
   "metadata": {},
   "outputs": [],
   "source": []
  }
 ],
 "metadata": {
  "kernelspec": {
   "display_name": "Python 3 (ipykernel)",
   "language": "python",
   "name": "python3"
  },
  "language_info": {
   "codemirror_mode": {
    "name": "ipython",
    "version": 3
   },
   "file_extension": ".py",
   "mimetype": "text/x-python",
   "name": "python",
   "nbconvert_exporter": "python",
   "pygments_lexer": "ipython3",
   "version": "3.9.7"
  }
 },
 "nbformat": 4,
 "nbformat_minor": 4
}
