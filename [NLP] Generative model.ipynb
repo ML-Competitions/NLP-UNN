{
 "cells": [
  {
   "cell_type": "code",
   "execution_count": 1,
   "metadata": {},
   "outputs": [],
   "source": [
    "import scrapy\n",
    "import scrapy.crawler as crawler\n",
    "from scrapy.utils.log import configure_logging\n",
    "from multiprocessing import Process, Queue\n",
    "from twisted.internet import reactor\n",
    "import logging\n",
    "\n",
    "# logging.basicConfig(level=logging.ERROR)\n",
    "logger = logging.getLogger('nlp')\n",
    "logger.setLevel(logging.INFO)\n",
    "configure_logging()"
   ]
  },
  {
   "cell_type": "code",
   "execution_count": 2,
   "metadata": {},
   "outputs": [],
   "source": [
    "# class LinkCheckerSpider(scrapy.Spider):\n",
    "#     name = 'link_checker'\n",
    "#     start_urls = ['https://www.state.gov/rss-feeds/']\n",
    "\n",
    "#     def __init__(self, links_storage):\n",
    "#         super().__init__()\n",
    "#         self.links_storage = {'links' : []}\n",
    "    \n",
    "#     def parse(self, response):\n",
    "#         \"\"\" Main function that parses downloaded pages \"\"\"\n",
    "#         a_selectors = response.xpath(\"//a\")\n",
    "#         for selector in a_selectors:\n",
    "#             # Extract the link href\n",
    "#             link = selector.xpath(\"@href\").extract_first()\n",
    "#             print('&&&')\n",
    "#             if 'rss' in link:\n",
    "#                 links_storage['links'].append(link)\n",
    "#             # Create a new Request object\n",
    "# #             request = response.follow(link, callback=self.parse)\n",
    "# #             # Return it thanks to a generator\n",
    "# #             yield request\n",
    "\n",
    "# # the wrapper to make it run more times\n",
    "\n",
    "    \n",
    "#     else:\n",
    "#         logger.info('Links were fetched.')\n",
    "#         print(links_storage)"
   ]
  },
  {
   "cell_type": "code",
   "execution_count": 3,
   "metadata": {},
   "outputs": [],
   "source": [
    "# print('first run:')\n",
    "# run_spider(LinkCheckerSpider)\n"
   ]
  },
  {
   "cell_type": "code",
   "execution_count": 10,
   "metadata": {},
   "outputs": [
    {
     "name": "stderr",
     "output_type": "stream",
     "text": [
      "2022-04-26 20:06:13 [scrapy.crawler] INFO: Overridden settings:\n",
      "{}\n",
      "2022-04-26 20:06:13 [scrapy.extensions.telnet] INFO: Telnet Password: 90ef181eef89fa05\n",
      "2022-04-26 20:06:13 [scrapy.middleware] INFO: Enabled extensions:\n",
      "['scrapy.extensions.corestats.CoreStats',\n",
      " 'scrapy.extensions.telnet.TelnetConsole',\n",
      " 'scrapy.extensions.memusage.MemoryUsage',\n",
      " 'scrapy.extensions.logstats.LogStats']\n",
      "2022-04-26 20:06:13 [scrapy.middleware] INFO: Enabled downloader middlewares:\n",
      "['scrapy.downloadermiddlewares.httpauth.HttpAuthMiddleware',\n",
      " 'scrapy.downloadermiddlewares.downloadtimeout.DownloadTimeoutMiddleware',\n",
      " 'scrapy.downloadermiddlewares.defaultheaders.DefaultHeadersMiddleware',\n",
      " 'scrapy.downloadermiddlewares.useragent.UserAgentMiddleware',\n",
      " 'scrapy.downloadermiddlewares.retry.RetryMiddleware',\n",
      " 'scrapy.downloadermiddlewares.redirect.MetaRefreshMiddleware',\n",
      " 'scrapy.downloadermiddlewares.httpcompression.HttpCompressionMiddleware',\n",
      " 'scrapy.downloadermiddlewares.redirect.RedirectMiddleware',\n",
      " 'scrapy.downloadermiddlewares.cookies.CookiesMiddleware',\n",
      " 'scrapy.downloadermiddlewares.httpproxy.HttpProxyMiddleware',\n",
      " 'scrapy.downloadermiddlewares.stats.DownloaderStats']\n",
      "2022-04-26 20:06:13 [scrapy.middleware] INFO: Enabled spider middlewares:\n",
      "['scrapy.spidermiddlewares.httperror.HttpErrorMiddleware',\n",
      " 'scrapy.spidermiddlewares.offsite.OffsiteMiddleware',\n",
      " 'scrapy.spidermiddlewares.referer.RefererMiddleware',\n",
      " 'scrapy.spidermiddlewares.urllength.UrlLengthMiddleware',\n",
      " 'scrapy.spidermiddlewares.depth.DepthMiddleware']\n",
      "2022-04-26 20:06:13 [scrapy.middleware] INFO: Enabled item pipelines:\n",
      "[]\n",
      "2022-04-26 20:06:13 [scrapy.core.engine] INFO: Spider opened\n",
      "2022-04-26 20:06:13 [scrapy.extensions.logstats] INFO: Crawled 0 pages (at 0 pages/min), scraped 0 items (at 0 items/min)\n",
      "2022-04-26 20:06:13 [scrapy.extensions.telnet] INFO: Telnet console listening on 127.0.0.1:6023\n",
      "2022-04-26 20:06:13 [scrapy.core.engine] DEBUG: Crawled (200) <GET https://www.state.gov/rss-feeds/> (referer: None)\n"
     ]
    },
    {
     "name": "stdout",
     "output_type": "stream",
     "text": [
      "https://www.state.gov/rss-feed/africa/feed/\n",
      "https://www.state.gov/rss-feed/arms-control-and-international-security/feed/\n",
      "https://www.state.gov/rss-feed/climate-environment-and-conservation/feed/\n",
      "https://www.state.gov/rss-feed/collected-department-releases/feed/\n",
      "https://www.state.gov/rss-feed/counterterrorism/feed/\n",
      "https://www.state.gov/rss-feed/democracy-human-rights-and-labor/feed/\n",
      "https://www.state.gov/rss-feed/department-press-briefings/feed/\n",
      "https://www.state.gov/rss-feed/diplomatic-security/feed/\n",
      "https://www.state.gov/rss-feed/direct-line-to-american-business/feed/\n",
      "https://www.state.gov/rss-feed/east-asia-and-the-pacific/feed/\n",
      "https://www.state.gov/rss-feed/economic-energy-agricultural-and-trade-issues/feed/\n",
      "https://www.state.gov/rss-feed/europe-and-eurasia/feed/\n",
      "https://www.state.gov/rss-feed/international-expositions/feed/\n",
      "https://www.state.gov/rss-feed/international-health-issues/feed/\n",
      "https://www.state.gov/rss-feed/international-organizations/feed/\n",
      "https://www.state.gov/rss-feed/law-enforcement-narcotics-anti-corruption/feed/\n",
      "https://www.state.gov/rss-feed/near-east/feed/\n",
      "https://www.state.gov/rss-feed/population-refugees-and-migration/feed/\n",
      "https://www.state.gov/rss-feed/press-releases/feed/\n",
      "https://www.state.gov/rss-feed/public-schedule/feed/\n",
      "https://www.state.gov/rss-feed/secretarys-remarks/feed/\n",
      "https://www.state.gov/rss-feed/south-and-central-asia/feed/\n",
      "https://www.state.gov/rss-feed/trafficking-in-persons/feed/\n",
      "https://travel.state.gov/_res/rss/TAsTWs.xml\n",
      "https://www.state.gov/rss-feed/treaties-new/feed/\n",
      "https://www.state.gov/rss-feed/western-hemisphere/feed/\n",
      "https://www.state.gov/rss-feed/womens-issues/feed/\n"
     ]
    },
    {
     "name": "stderr",
     "output_type": "stream",
     "text": [
      "2022-04-26 20:06:14 [scrapy.core.engine] INFO: Closing spider (finished)\n",
      "2022-04-26 20:06:14 [scrapy.statscollectors] INFO: Dumping Scrapy stats:\n",
      "{'downloader/request_bytes': 223,\n",
      " 'downloader/request_count': 1,\n",
      " 'downloader/request_method_count/GET': 1,\n",
      " 'downloader/response_bytes': 25311,\n",
      " 'downloader/response_count': 1,\n",
      " 'downloader/response_status_count/200': 1,\n",
      " 'elapsed_time_seconds': 0.528409,\n",
      " 'finish_reason': 'finished',\n",
      " 'finish_time': datetime.datetime(2022, 4, 26, 17, 6, 14, 160182),\n",
      " 'httpcompression/response_bytes': 140135,\n",
      " 'httpcompression/response_count': 1,\n",
      " 'log_count/DEBUG': 1,\n",
      " 'log_count/INFO': 10,\n",
      " 'memusage/max': 101806080,\n",
      " 'memusage/startup': 101806080,\n",
      " 'response_received_count': 1,\n",
      " 'scheduler/dequeued': 1,\n",
      " 'scheduler/dequeued/memory': 1,\n",
      " 'scheduler/enqueued': 1,\n",
      " 'scheduler/enqueued/memory': 1,\n",
      " 'start_time': datetime.datetime(2022, 4, 26, 17, 6, 13, 631773)}\n",
      "2022-04-26 20:06:14 [scrapy.core.engine] INFO: Spider closed (finished)\n"
     ]
    },
    {
     "name": "stdout",
     "output_type": "stream",
     "text": [
      "None\n",
      "{'links': []}\n"
     ]
    }
   ],
   "source": [
    "def fetch_rss_links():\n",
    "    links_storage = {'links' : []}\n",
    "    \n",
    "    class LinkCheckerSpider2(scrapy.Spider):\n",
    "        name = \"link_checker2\"\n",
    "        start_urls = ['https://www.state.gov/rss-feeds/']\n",
    "        \n",
    "        def parse(self, response):\n",
    "            a_selectors = response.xpath(\"//a\")\n",
    "            for selector in a_selectors:\n",
    "                # Extract the link href\n",
    "                link = selector.xpath(\"@href\").extract_first()\n",
    "                if 'rss' in link:\n",
    "                    links_storage['links'].append(link)\n",
    "                    print(link)\n",
    "    def run_spider(spider):\n",
    "        def f(q):\n",
    "            try:\n",
    "                runner = crawler.CrawlerRunner()\n",
    "                deferred = runner.crawl(spider)\n",
    "                deferred.addBoth(lambda _: reactor.stop())\n",
    "                reactor.run()\n",
    "                q.put(None)\n",
    "            except Exception as e:\n",
    "                q.put(e)\n",
    "\n",
    "        q = Queue()\n",
    "        p = Process(target=f, args=(q,))\n",
    "        p.start()\n",
    "        result = q.get()\n",
    "        p.join()\n",
    "        print(result)\n",
    "        if result is not None:\n",
    "            raise result\n",
    "    run_spider(LinkCheckerSpider2)\n",
    "    print(links_storage)\n",
    "\n",
    "fetch_rss_links()"
   ]
  },
  {
   "cell_type": "code",
   "execution_count": 5,
   "metadata": {},
   "outputs": [],
   "source": [
    "# class QuotesSpider(scrapy.Spider):\n",
    "#     name = \"quotes\"\n",
    "#     start_urls = ['https://www.state.gov/rss-feeds/']\n",
    "\n",
    "#     def parse(self, response):\n",
    "#         for quote in response.css('div.quote'):\n",
    "#             print(quote.css('span.text::text').extract_first())"
   ]
  },
  {
   "cell_type": "code",
   "execution_count": 6,
   "metadata": {
    "scrolled": true
   },
   "outputs": [],
   "source": [
    "# runner = crawler.CrawlerRunner()\n",
    "# deferred = runner.crawl(LinkCheckerSpider2)\n",
    "# deferred.addBoth(lambda _: reactor.stop())\n",
    "# reactor.run()\n",
    "# q.put(None)"
   ]
  },
  {
   "cell_type": "code",
   "execution_count": 7,
   "metadata": {},
   "outputs": [],
   "source": [
    "# intr = runner\n",
    "# print(intr.settings)\n",
    "# dir(intr)"
   ]
  },
  {
   "cell_type": "code",
   "execution_count": null,
   "metadata": {},
   "outputs": [],
   "source": []
  }
 ],
 "metadata": {
  "kernelspec": {
   "display_name": "Python 3 (ipykernel)",
   "language": "python",
   "name": "python3"
  },
  "language_info": {
   "codemirror_mode": {
    "name": "ipython",
    "version": 3
   },
   "file_extension": ".py",
   "mimetype": "text/x-python",
   "name": "python",
   "nbconvert_exporter": "python",
   "pygments_lexer": "ipython3",
   "version": "3.9.7"
  }
 },
 "nbformat": 4,
 "nbformat_minor": 4
}
