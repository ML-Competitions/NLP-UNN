{
 "cells": [
  {
   "cell_type": "code",
   "execution_count": 1,
   "metadata": {},
   "outputs": [
    {
     "name": "stderr",
     "output_type": "stream",
     "text": [
      "[nltk_data] Downloading package punkt to /home/masdevas/nltk_data...\n",
      "[nltk_data]   Package punkt is already up-to-date!\n"
     ]
    }
   ],
   "source": [
    "import scrapy\n",
    "import scrapy.crawler as crawler\n",
    "from scrapy.utils.log import configure_logging\n",
    "from multiprocessing import Process, Queue\n",
    "from twisted.internet import reactor\n",
    "from collections import Counter\n",
    "import logging\n",
    "import json\n",
    "import re\n",
    "import os\n",
    "import pandas as pd\n",
    "import numpy as np\n",
    "import gc\n",
    "import copy\n",
    "\n",
    "from tqdm.auto import tqdm\n",
    "\n",
    "from datasets import load_dataset\n",
    "from datasets.arrow_dataset import Dataset\n",
    "from transformers import AutoTokenizer, AutoModelForCausalLM\n",
    "from transformers.models.gpt2.modeling_gpt2 import GPT2LMHeadModel\n",
    "from transformers import TrainingArguments, Trainer\n",
    "from transformers import pipeline\n",
    "\n",
    "import torch\n",
    "import torch.nn as nn\n",
    "from torch.nn import CrossEntropyLoss\n",
    "from torch.optim import AdamW\n",
    "from torch.optim.lr_scheduler import ExponentialLR\n",
    "from torch.utils.data import DataLoader\n",
    "from torch.utils.data import BatchSampler, RandomSampler\n",
    "\n",
    "from bs4 import BeautifulSoup\n",
    "from lyricsgenius import Genius\n",
    "import pickle\n",
    "\n",
    "import nltk\n",
    "from nltk.tokenize import wordpunct_tokenize\n",
    "nltk.download('punkt')\n",
    "\n",
    "import seaborn as sns\n",
    "import matplotlib.pyplot as plt\n",
    "from  matplotlib.ticker import FuncFormatter\n",
    "\n",
    "logging.basicConfig(level=logging.INFO)\n",
    "logger = logging.getLogger('nlp')\n",
    "logger.setLevel(logging.INFO)"
   ]
  },
  {
   "cell_type": "markdown",
   "metadata": {},
   "source": [
    "# Fetch sentences"
   ]
  },
  {
   "cell_type": "code",
   "execution_count": 2,
   "metadata": {},
   "outputs": [],
   "source": [
    "def get_web_data(function):\n",
    "    def f(q):\n",
    "        try:\n",
    "            json_data = function()\n",
    "            q.put(json.dumps(json_data))\n",
    "        except Exception as e:\n",
    "            q.put(e)\n",
    "    q = Queue()\n",
    "    p = Process(target=f, args=(q,))\n",
    "    p.start()\n",
    "    result = q.get()\n",
    "    p.join()\n",
    "    gc.collect()\n",
    "    try:\n",
    "        json_data = json.loads(result)\n",
    "    except:\n",
    "        raise result\n",
    "    return json_data"
   ]
  },
  {
   "cell_type": "markdown",
   "metadata": {},
   "source": [
    "## Rap texts parsing"
   ]
  },
  {
   "cell_type": "code",
   "execution_count": 3,
   "metadata": {},
   "outputs": [],
   "source": [
    "def read_genius_token():\n",
    "    with open('genius_token.txt', 'r') as f:\n",
    "        token = f.readline().strip()\n",
    "    return token"
   ]
  },
  {
   "cell_type": "code",
   "execution_count": 4,
   "metadata": {},
   "outputs": [],
   "source": [
    "def get_rap_data_extended():\n",
    "    genius = Genius(read_genius_token(), timeout=60)\n",
    "    storage = {}\n",
    "    try:\n",
    "        class RapExtendedSpider(scrapy.Spider):\n",
    "            name = \"rap_extended_checker\"\n",
    "            start_urls = [\n",
    "                'https://www.allmusic.com/style/gangsta-rap-ma0000002611/artists?1651103019828'\n",
    "            ]\n",
    "\n",
    "            def parse(self, response, depth=0):\n",
    "                resp = response.xpath(\"//div[@class='artist-highlight info-grid']//div[@class='artist']/text()\")\n",
    "                for item in resp:\n",
    "                    artist_name = item.get().strip()\n",
    "                    if len(artist_name) > 0:\n",
    "                        try:\n",
    "                            artist = genius.search_artist(artist_name, max_songs=150)\n",
    "                        except:\n",
    "                            continue\n",
    "                        storage[artist_name] = []\n",
    "                        for song in artist.songs:\n",
    "                            storage[artist_name].append(song.lyrics)\n",
    "                \n",
    "        runner = crawler.CrawlerRunner()\n",
    "        deferred = runner.crawl(RapExtendedSpider)\n",
    "        deferred.addBoth(lambda _: reactor.stop())\n",
    "        reactor.run()\n",
    "        return storage\n",
    "    except Exception as e:\n",
    "        return {'exception' : str(e)}"
   ]
  },
  {
   "cell_type": "code",
   "execution_count": 5,
   "metadata": {
    "scrolled": true
   },
   "outputs": [
    {
     "name": "stdout",
     "output_type": "stream",
     "text": [
      "LOADING\n"
     ]
    }
   ],
   "source": [
    "storage_file = 'storage.pkl'\n",
    "def is_rawdata_exist(storage_file):\n",
    "    return os.path.exists(storage_file)\n",
    "    # return False\n",
    "\n",
    "if is_rawdata_exist(storage_file):\n",
    "    print('LOADING')\n",
    "    with open(storage_file, 'rb') as f:\n",
    "        storage = pickle.load(f)\n",
    "else:\n",
    "    print('FROM WEB')\n",
    "    storage = {}  \n",
    "#     storage['usagov'] = get_web_data(get_usagov_rss_data)\n",
    "#     storage['joke'] = get_web_data(get_joke_rss_data)\n",
    "#     storage['rap'] = get_web_data(get_rap_data)\n",
    "    storage['rap'] = get_web_data(get_rap_data_extended)\n",
    "    with open(storage_file, 'wb') as f:\n",
    "        pickle.dump(storage, f)\n"
   ]
  },
  {
   "cell_type": "markdown",
   "metadata": {},
   "source": [
    "# Preprocess sentences for HuggingFace"
   ]
  },
  {
   "cell_type": "code",
   "execution_count": 6,
   "metadata": {},
   "outputs": [],
   "source": [
    "storage_to_process = copy.deepcopy(storage)\n",
    "\n",
    "map_labels = {'rap' : 0}\n",
    "\n",
    "words_limit = 22\n",
    "words_at_least = 10\n",
    "\n",
    "# def split_sentence_to_approproate_length(res_proc_item):\n",
    "#     sentences = []\n",
    "#     splitted = res_proc_item.split(' ')\n",
    "#     for idx in range(0, len(splitted), words_limit):\n",
    "#         part_of_words = splitted[idx:idx+words_limit]\n",
    "#         if len(part_of_words) < words_at_least:\n",
    "#             continue\n",
    "#         else:\n",
    "#             sentences.append(' '.join(part_of_words))\n",
    "#     return sentences\n",
    "\n",
    "stop_symbols = set(['...', '.', '?', '!', '!!!', '?!', '?!'])\n",
    "\n",
    "def join_rap_sentences(local_lines, lines_in_group):\n",
    "    rap_sentences = []\n",
    "    idx = 0\n",
    "    while idx < len(local_lines):\n",
    "        line = local_lines[idx].strip().lower()\n",
    "        if len(line) == 0:\n",
    "            del local_lines[idx]\n",
    "            continue\n",
    "        if idx + lines_in_group > len(local_lines):\n",
    "            res_proc_item = line\n",
    "        else:\n",
    "            second_line = local_lines[idx + 1].strip().lower()\n",
    "            if len(second_line) == 0:\n",
    "                del local_lines[idx + 1]\n",
    "                continue\n",
    "            res_proc_item = line + ' ' + second_line\n",
    "        res_proc_item = res_proc_item.replace(',', '')\n",
    "        splitted = res_proc_item.split(' ')[:words_limit]\n",
    "        if len(splitted) >= words_at_least:\n",
    "            joined = ' '.join(splitted)\n",
    "            end_empty = True\n",
    "            for token in stop_symbols:\n",
    "                if joined.endswith(token):\n",
    "                    end_empty = False\n",
    "                    break\n",
    "            if end_empty:\n",
    "                joined += '.'\n",
    "            \n",
    "            rap_sentences.append(joined)\n",
    "        idx += lines_in_group\n",
    "    return rap_sentences\n",
    "\n",
    "# TODO how to have a deal with slang?\n",
    "def get_approx_sentences_from_lyrics(lyrics, local_processed_data):\n",
    "    couplets = re.split('\\[.*\\]' ,lyrics)\n",
    "    for couplet in couplets:\n",
    "        local_lines = couplet.split('\\n')\n",
    "        \n",
    "        if len(local_lines) == 1:\n",
    "            continue\n",
    "        lines_in_group = 2\n",
    "        rap_sentences = join_rap_sentences(local_lines, lines_in_group)\n",
    "        local_processed_data.extend(rap_sentences)\n",
    "\n",
    "def get_data_lyrics(substorage, topic_key):\n",
    "    local_processed_data = []\n",
    "    for lyrics_list in substorage.values():\n",
    "        for lyrics in lyrics_list:\n",
    "            get_approx_sentences_from_lyrics(lyrics, local_processed_data)\n",
    "    local_processed_labels = [map_labels[topic_key]] * len(local_processed_data)\n",
    "    with open(f'tmp_{topic_key}.json', 'w') as f:\n",
    "        json.dump({'section' : local_processed_data}, f, indent=4, sort_keys=True)\n",
    "    return local_processed_data, local_processed_labels\n",
    "\n",
    "processed_data = []\n",
    "processed_labels = []\n",
    "for topic_key in map_labels.keys():\n",
    "    if topic_key == 'rap':\n",
    "        local_processed_data, local_processed_labels = get_data_lyrics(storage_to_process[topic_key], topic_key)\n",
    "        processed_data.extend(local_processed_data)\n",
    "        processed_labels.extend(local_processed_labels)\n",
    "    else:\n",
    "        raise Exception(f'Unknown topic_key: {topic_key}')\n"
   ]
  },
  {
   "cell_type": "code",
   "execution_count": 7,
   "metadata": {},
   "outputs": [],
   "source": [
    "df_text_data = pd.DataFrame({'text' : processed_data, 'label' : processed_labels})"
   ]
  },
  {
   "cell_type": "code",
   "execution_count": 8,
   "metadata": {},
   "outputs": [
    {
     "data": {
      "text/html": [
       "<div>\n",
       "<style scoped>\n",
       "    .dataframe tbody tr th:only-of-type {\n",
       "        vertical-align: middle;\n",
       "    }\n",
       "\n",
       "    .dataframe tbody tr th {\n",
       "        vertical-align: top;\n",
       "    }\n",
       "\n",
       "    .dataframe thead th {\n",
       "        text-align: right;\n",
       "    }\n",
       "</style>\n",
       "<table border=\"1\" class=\"dataframe\">\n",
       "  <thead>\n",
       "    <tr style=\"text-align: right;\">\n",
       "      <th></th>\n",
       "      <th>text</th>\n",
       "      <th>label</th>\n",
       "    </tr>\n",
       "  </thead>\n",
       "  <tbody>\n",
       "    <tr>\n",
       "      <th>0</th>\n",
       "      <td>i am a nightmare walkin' psychopath talkin' ki...</td>\n",
       "      <td>0</td>\n",
       "    </tr>\n",
       "    <tr>\n",
       "      <th>1</th>\n",
       "      <td>livin' life like a firecracker quick is my fus...</td>\n",
       "      <td>0</td>\n",
       "    </tr>\n",
       "    <tr>\n",
       "      <th>2</th>\n",
       "      <td>red or blue cuz or blood it just don't matter ...</td>\n",
       "      <td>0</td>\n",
       "    </tr>\n",
       "    <tr>\n",
       "      <th>3</th>\n",
       "      <td>the gangs of l.a. will never die - just multiply.</td>\n",
       "      <td>0</td>\n",
       "    </tr>\n",
       "    <tr>\n",
       "      <th>4</th>\n",
       "      <td>you see they hit us then we hit them then we h...</td>\n",
       "      <td>0</td>\n",
       "    </tr>\n",
       "    <tr>\n",
       "      <th>...</th>\n",
       "      <td>...</td>\n",
       "      <td>...</td>\n",
       "    </tr>\n",
       "    <tr>\n",
       "      <th>138314</th>\n",
       "      <td>with they **** ***** attitudes why it's gotta ...</td>\n",
       "      <td>0</td>\n",
       "    </tr>\n",
       "    <tr>\n",
       "      <th>138315</th>\n",
       "      <td>i don't owe you chick you wasn't with me when ...</td>\n",
       "      <td>0</td>\n",
       "    </tr>\n",
       "    <tr>\n",
       "      <th>138316</th>\n",
       "      <td>even if you was you wouldn't shoot the stick w...</td>\n",
       "      <td>0</td>\n",
       "    </tr>\n",
       "    <tr>\n",
       "      <th>138317</th>\n",
       "      <td>know you a hatin lil **** always talking other...</td>\n",
       "      <td>0</td>\n",
       "    </tr>\n",
       "    <tr>\n",
       "      <th>138318</th>\n",
       "      <td>need to put a sock in it you speak facts alrig...</td>\n",
       "      <td>0</td>\n",
       "    </tr>\n",
       "  </tbody>\n",
       "</table>\n",
       "<p>138319 rows × 2 columns</p>\n",
       "</div>"
      ],
      "text/plain": [
       "                                                     text  label\n",
       "0       i am a nightmare walkin' psychopath talkin' ki...      0\n",
       "1       livin' life like a firecracker quick is my fus...      0\n",
       "2       red or blue cuz or blood it just don't matter ...      0\n",
       "3       the gangs of l.a. will never die - just multiply.      0\n",
       "4       you see they hit us then we hit them then we h...      0\n",
       "...                                                   ...    ...\n",
       "138314  with they **** ***** attitudes why it's gotta ...      0\n",
       "138315  i don't owe you chick you wasn't with me when ...      0\n",
       "138316  even if you was you wouldn't shoot the stick w...      0\n",
       "138317  know you a hatin lil **** always talking other...      0\n",
       "138318  need to put a sock in it you speak facts alrig...      0\n",
       "\n",
       "[138319 rows x 2 columns]"
      ]
     },
     "execution_count": 8,
     "metadata": {},
     "output_type": "execute_result"
    }
   ],
   "source": [
    "df_text_data"
   ]
  },
  {
   "cell_type": "code",
   "execution_count": 9,
   "metadata": {},
   "outputs": [
    {
     "data": {
      "text/plain": [
       "22    19892\n",
       "18    12911\n",
       "17    12609\n",
       "16    12526\n",
       "19    11595\n",
       "15    11168\n",
       "20    10220\n",
       "14     9938\n",
       "13     8425\n",
       "21     8292\n",
       "12     7880\n",
       "11     6694\n",
       "10     6169\n",
       "Name: text, dtype: int64"
      ]
     },
     "execution_count": 9,
     "metadata": {},
     "output_type": "execute_result"
    }
   ],
   "source": [
    "df_text_data['text'].apply(lambda x: len(x.split(' '))).value_counts()"
   ]
  },
  {
   "cell_type": "markdown",
   "metadata": {},
   "source": [
    "# Analyse common starts and continuations"
   ]
  },
  {
   "cell_type": "code",
   "execution_count": 10,
   "metadata": {},
   "outputs": [],
   "source": [
    "def analyse_subseqs(data, len_main_subseq, len_extra_subseq, count_main_seqs, count_extra_seqs):\n",
    "    set_main_seqs = {}\n",
    "    for line in data['text']:\n",
    "        splited_sentence = line[:-1].split(' ')\n",
    "        for word_idx in range(len(splited_sentence)):\n",
    "            if word_idx + len_main_subseq + len_extra_subseq > len(splited_sentence):\n",
    "                break\n",
    "            main_subseq = ' '.join(splited_sentence[word_idx:word_idx+len_main_subseq])\n",
    "            if main_subseq not in set_main_seqs.keys():\n",
    "                set_main_seqs[main_subseq] = 1\n",
    "            else:\n",
    "                set_main_seqs[main_subseq] += 1\n",
    "    sorted_main_seqs_counted = sorted(list(set_main_seqs.items()), key=lambda x: -x[1])\n",
    "    sorted_main_seqs = [sorted_main_seqs_counted[idx] for idx in range(count_main_seqs)]\n",
    "    \n",
    "    preresult = {key : [] for key in sorted_main_seqs}\n",
    "    for main_key, count in sorted_main_seqs:\n",
    "        splitted_main_key = main_key.split(' ')\n",
    "        for line in data['text']:\n",
    "            splited_sentence = line[:-1].split(' ')\n",
    "            for word_idx in range(len(splited_sentence)):\n",
    "                if word_idx + len_main_subseq + len_extra_subseq > len(splited_sentence):\n",
    "                    break\n",
    "                is_main_eq = True\n",
    "                for main_word, extra_word in zip(splitted_main_key, splited_sentence[word_idx:word_idx+len_main_subseq]):\n",
    "                    if main_word != extra_word:\n",
    "                        is_main_eq = False\n",
    "                        break\n",
    "                if not is_main_eq:\n",
    "                    continue\n",
    "                extra_subseq = ' '.join(splited_sentence[word_idx+len_main_subseq:word_idx+len_main_subseq+len_extra_subseq])\n",
    "                preresult[(main_key, count)].append(extra_subseq)\n",
    "    \n",
    "    result = {key : [] for key in sorted_main_seqs}\n",
    "    for key, collection in preresult.items():\n",
    "        common_extras = Counter(collection).most_common(count_extra_seqs)\n",
    "        result[key] = common_extras\n",
    "    return result\n",
    "        "
   ]
  },
  {
   "cell_type": "code",
   "execution_count": 11,
   "metadata": {},
   "outputs": [
    {
     "data": {
      "text/plain": [
       "{('in the', 11599): [('hood', 424),\n",
       "  ('back', 404),\n",
       "  ('house', 399),\n",
       "  ('air', 298),\n",
       "  ('game', 296)],\n",
       " ('on the', 6422): [('block', 280),\n",
       "  ('streets', 192),\n",
       "  ('floor', 156),\n",
       "  ('mic', 136),\n",
       "  ('corner', 125)],\n",
       " ('to the', 5550): [('top', 101),\n",
       "  ('beat', 96),\n",
       "  ('game', 74),\n",
       "  ('west', 72),\n",
       "  ('side', 67)],\n",
       " ('i got', 4540): [('a', 753),\n",
       "  ('the', 477),\n",
       "  ('my', 381),\n",
       "  ('to', 249),\n",
       "  ('it', 169)],\n",
       " ('you know', 4513): [('what', 693),\n",
       "  ('i', 464),\n",
       "  ('the', 332),\n",
       "  ('how', 258),\n",
       "  ('that', 227)]}"
      ]
     },
     "execution_count": 11,
     "metadata": {},
     "output_type": "execute_result"
    }
   ],
   "source": [
    "analyse_subseqs(df_text_data, 2, 1, 5, 5)"
   ]
  },
  {
   "cell_type": "code",
   "execution_count": 12,
   "metadata": {},
   "outputs": [
    {
     "data": {
      "text/html": [
       "<div>\n",
       "<style scoped>\n",
       "    .dataframe tbody tr th:only-of-type {\n",
       "        vertical-align: middle;\n",
       "    }\n",
       "\n",
       "    .dataframe tbody tr th {\n",
       "        vertical-align: top;\n",
       "    }\n",
       "\n",
       "    .dataframe thead th {\n",
       "        text-align: right;\n",
       "    }\n",
       "</style>\n",
       "<table border=\"1\" class=\"dataframe\">\n",
       "  <thead>\n",
       "    <tr style=\"text-align: right;\">\n",
       "      <th></th>\n",
       "      <th>text</th>\n",
       "      <th>label</th>\n",
       "    </tr>\n",
       "  </thead>\n",
       "  <tbody>\n",
       "    <tr>\n",
       "      <th>101</th>\n",
       "      <td>but this year i went down to miami and got my ...</td>\n",
       "      <td>0</td>\n",
       "    </tr>\n",
       "    <tr>\n",
       "      <th>339</th>\n",
       "      <td>or a cop shot your kid in the back yard shit w...</td>\n",
       "      <td>0</td>\n",
       "    </tr>\n",
       "    <tr>\n",
       "      <th>344</th>\n",
       "      <td>yo ernie c take these motherfuckers home yeah ...</td>\n",
       "      <td>0</td>\n",
       "    </tr>\n",
       "    <tr>\n",
       "      <th>511</th>\n",
       "      <td>you gotta get your cash right to get in the ga...</td>\n",
       "      <td>0</td>\n",
       "    </tr>\n",
       "    <tr>\n",
       "      <th>644</th>\n",
       "      <td>in the house boy i got my one and only afrika ...</td>\n",
       "      <td>0</td>\n",
       "    </tr>\n",
       "    <tr>\n",
       "      <th>...</th>\n",
       "      <td>...</td>\n",
       "      <td>...</td>\n",
       "    </tr>\n",
       "    <tr>\n",
       "      <th>138192</th>\n",
       "      <td>i'm heavy in the hood 'cause i got that weight...</td>\n",
       "      <td>0</td>\n",
       "    </tr>\n",
       "    <tr>\n",
       "      <th>138193</th>\n",
       "      <td>i'm heavy in the hood 'cause i got that weight...</td>\n",
       "      <td>0</td>\n",
       "    </tr>\n",
       "    <tr>\n",
       "      <th>138194</th>\n",
       "      <td>(what up elder?) i'm heavy in the hood 'cause ...</td>\n",
       "      <td>0</td>\n",
       "    </tr>\n",
       "    <tr>\n",
       "      <th>138196</th>\n",
       "      <td>(they already know they can't keep up with you...</td>\n",
       "      <td>0</td>\n",
       "    </tr>\n",
       "    <tr>\n",
       "      <th>138197</th>\n",
       "      <td>see me pushin' through don't hate don't hate (...</td>\n",
       "      <td>0</td>\n",
       "    </tr>\n",
       "  </tbody>\n",
       "</table>\n",
       "<p>1605 rows × 2 columns</p>\n",
       "</div>"
      ],
      "text/plain": [
       "                                                     text  label\n",
       "101     but this year i went down to miami and got my ...      0\n",
       "339     or a cop shot your kid in the back yard shit w...      0\n",
       "344     yo ernie c take these motherfuckers home yeah ...      0\n",
       "511     you gotta get your cash right to get in the ga...      0\n",
       "644     in the house boy i got my one and only afrika ...      0\n",
       "...                                                   ...    ...\n",
       "138192  i'm heavy in the hood 'cause i got that weight...      0\n",
       "138193  i'm heavy in the hood 'cause i got that weight...      0\n",
       "138194  (what up elder?) i'm heavy in the hood 'cause ...      0\n",
       "138196  (they already know they can't keep up with you...      0\n",
       "138197  see me pushin' through don't hate don't hate (...      0\n",
       "\n",
       "[1605 rows x 2 columns]"
      ]
     },
     "execution_count": 12,
     "metadata": {},
     "output_type": "execute_result"
    }
   ],
   "source": [
    "df_text_data_red = df_text_data[df_text_data['text'].str.contains('in the hood') | df_text_data['text'].str.contains('in the back') | df_text_data['text'].str.contains('in the house') | df_text_data['text'].str.contains('in the game')]\n",
    "df_text_data_red"
   ]
  },
  {
   "cell_type": "markdown",
   "metadata": {},
   "source": [
    "# HuggingFace transformer is coming!"
   ]
  },
  {
   "cell_type": "markdown",
   "metadata": {},
   "source": [
    "## Prepare dataset"
   ]
  },
  {
   "cell_type": "code",
   "execution_count": 13,
   "metadata": {},
   "outputs": [],
   "source": [
    "hf_dataset = Dataset.from_pandas(df_text_data_red)"
   ]
  },
  {
   "cell_type": "code",
   "execution_count": 14,
   "metadata": {},
   "outputs": [
    {
     "data": {
      "text/plain": [
       "Dataset({\n",
       "    features: ['text', 'label', '__index_level_0__'],\n",
       "    num_rows: 1605\n",
       "})"
      ]
     },
     "execution_count": 14,
     "metadata": {},
     "output_type": "execute_result"
    }
   ],
   "source": [
    "hf_dataset"
   ]
  },
  {
   "cell_type": "code",
   "execution_count": 15,
   "metadata": {},
   "outputs": [
    {
     "data": {
      "text/plain": [
       "{'text': \"i got respect cause his baby mama looks good (that's right) she rolling a blue s-class all up in the hood.\",\n",
       " 'label': 0,\n",
       " '__index_level_0__': 91221}"
      ]
     },
     "execution_count": 15,
     "metadata": {},
     "output_type": "execute_result"
    }
   ],
   "source": [
    "hf_dataset[1000]"
   ]
  },
  {
   "cell_type": "code",
   "execution_count": 16,
   "metadata": {},
   "outputs": [
    {
     "data": {
      "text/plain": [
       "transformers.models.gpt2.modeling_gpt2.GPT2LMHeadModel"
      ]
     },
     "execution_count": 16,
     "metadata": {},
     "output_type": "execute_result"
    }
   ],
   "source": [
    "model_name = 'gpt2'\n",
    "model = AutoModelForCausalLM.from_pretrained(model_name)\n",
    "type(model)"
   ]
  },
  {
   "cell_type": "code",
   "execution_count": 17,
   "metadata": {},
   "outputs": [
    {
     "data": {
      "application/vnd.jupyter.widget-view+json": {
       "model_id": "2bfa76c636ff4e2cac4ad24a8955b09b",
       "version_major": 2,
       "version_minor": 0
      },
      "text/plain": [
       "  0%|          | 0/1605 [00:00<?, ?ex/s]"
      ]
     },
     "metadata": {},
     "output_type": "display_data"
    }
   ],
   "source": [
    "tokenizer = AutoTokenizer.from_pretrained(model_name)\n",
    "tokenizer.pad_token = tokenizer.eos_token\n",
    "def tokenize_function(examples):\n",
    "    return tokenizer(examples[\"text\"], padding='max_length', truncation=True, max_length=words_limit, return_tensors='pt')\n",
    "\n",
    "tokenized_datasets = hf_dataset.map(tokenize_function)\n",
    "gc.collect()\n",
    "torch.cuda.empty_cache()"
   ]
  },
  {
   "cell_type": "code",
   "execution_count": 18,
   "metadata": {},
   "outputs": [
    {
     "name": "stderr",
     "output_type": "stream",
     "text": [
      "Setting `pad_token_id` to `eos_token_id`:50256 for open-end generation.\n"
     ]
    },
    {
     "name": "stdout",
     "output_type": "stream",
     "text": [
      " Item #0: in the middle of the night.\"I'm not sure what to do,\" he said. \"\n",
      " Item #1: in the middle of the night, and I was in the middle of the night, and I was in the\n",
      " Item #2: in the middle of the night.\"I'm not sure if I'm going to be able to\n",
      " Item #3: in the middle of the night.\"I'm not going to be able to sleep,\" he said\n",
      " Item #4: in the middle of the night.\"I'm not sure if I'm going to be able to\n",
      " Item #5: in the middle of the night, and I was like, 'Oh my God, I'm so sorry.'\n",
      " Item #6: in the middle of the night, and I was in the middle of the night, and I was in the\n",
      " Item #7: in the middle of the night, and I was like, 'Oh my God, I'm so sorry.\n",
      " Item #8: in the middle of the night, and I was in the middle of the night. I was in the middle\n",
      " Item #9: in the middle of the night, and I was just like, 'Oh my God, I can't believe\n"
     ]
    },
    {
     "data": {
      "text/plain": [
       "GPT2LMHeadModel(\n",
       "  (transformer): GPT2Model(\n",
       "    (wte): Embedding(50257, 768)\n",
       "    (wpe): Embedding(1024, 768)\n",
       "    (drop): Dropout(p=0.1, inplace=False)\n",
       "    (h): ModuleList(\n",
       "      (0): GPT2Block(\n",
       "        (ln_1): LayerNorm((768,), eps=1e-05, elementwise_affine=True)\n",
       "        (attn): GPT2Attention(\n",
       "          (c_attn): Conv1D()\n",
       "          (c_proj): Conv1D()\n",
       "          (attn_dropout): Dropout(p=0.1, inplace=False)\n",
       "          (resid_dropout): Dropout(p=0.1, inplace=False)\n",
       "        )\n",
       "        (ln_2): LayerNorm((768,), eps=1e-05, elementwise_affine=True)\n",
       "        (mlp): GPT2MLP(\n",
       "          (c_fc): Conv1D()\n",
       "          (c_proj): Conv1D()\n",
       "          (act): NewGELUActivation()\n",
       "          (dropout): Dropout(p=0.1, inplace=False)\n",
       "        )\n",
       "      )\n",
       "      (1): GPT2Block(\n",
       "        (ln_1): LayerNorm((768,), eps=1e-05, elementwise_affine=True)\n",
       "        (attn): GPT2Attention(\n",
       "          (c_attn): Conv1D()\n",
       "          (c_proj): Conv1D()\n",
       "          (attn_dropout): Dropout(p=0.1, inplace=False)\n",
       "          (resid_dropout): Dropout(p=0.1, inplace=False)\n",
       "        )\n",
       "        (ln_2): LayerNorm((768,), eps=1e-05, elementwise_affine=True)\n",
       "        (mlp): GPT2MLP(\n",
       "          (c_fc): Conv1D()\n",
       "          (c_proj): Conv1D()\n",
       "          (act): NewGELUActivation()\n",
       "          (dropout): Dropout(p=0.1, inplace=False)\n",
       "        )\n",
       "      )\n",
       "      (2): GPT2Block(\n",
       "        (ln_1): LayerNorm((768,), eps=1e-05, elementwise_affine=True)\n",
       "        (attn): GPT2Attention(\n",
       "          (c_attn): Conv1D()\n",
       "          (c_proj): Conv1D()\n",
       "          (attn_dropout): Dropout(p=0.1, inplace=False)\n",
       "          (resid_dropout): Dropout(p=0.1, inplace=False)\n",
       "        )\n",
       "        (ln_2): LayerNorm((768,), eps=1e-05, elementwise_affine=True)\n",
       "        (mlp): GPT2MLP(\n",
       "          (c_fc): Conv1D()\n",
       "          (c_proj): Conv1D()\n",
       "          (act): NewGELUActivation()\n",
       "          (dropout): Dropout(p=0.1, inplace=False)\n",
       "        )\n",
       "      )\n",
       "      (3): GPT2Block(\n",
       "        (ln_1): LayerNorm((768,), eps=1e-05, elementwise_affine=True)\n",
       "        (attn): GPT2Attention(\n",
       "          (c_attn): Conv1D()\n",
       "          (c_proj): Conv1D()\n",
       "          (attn_dropout): Dropout(p=0.1, inplace=False)\n",
       "          (resid_dropout): Dropout(p=0.1, inplace=False)\n",
       "        )\n",
       "        (ln_2): LayerNorm((768,), eps=1e-05, elementwise_affine=True)\n",
       "        (mlp): GPT2MLP(\n",
       "          (c_fc): Conv1D()\n",
       "          (c_proj): Conv1D()\n",
       "          (act): NewGELUActivation()\n",
       "          (dropout): Dropout(p=0.1, inplace=False)\n",
       "        )\n",
       "      )\n",
       "      (4): GPT2Block(\n",
       "        (ln_1): LayerNorm((768,), eps=1e-05, elementwise_affine=True)\n",
       "        (attn): GPT2Attention(\n",
       "          (c_attn): Conv1D()\n",
       "          (c_proj): Conv1D()\n",
       "          (attn_dropout): Dropout(p=0.1, inplace=False)\n",
       "          (resid_dropout): Dropout(p=0.1, inplace=False)\n",
       "        )\n",
       "        (ln_2): LayerNorm((768,), eps=1e-05, elementwise_affine=True)\n",
       "        (mlp): GPT2MLP(\n",
       "          (c_fc): Conv1D()\n",
       "          (c_proj): Conv1D()\n",
       "          (act): NewGELUActivation()\n",
       "          (dropout): Dropout(p=0.1, inplace=False)\n",
       "        )\n",
       "      )\n",
       "      (5): GPT2Block(\n",
       "        (ln_1): LayerNorm((768,), eps=1e-05, elementwise_affine=True)\n",
       "        (attn): GPT2Attention(\n",
       "          (c_attn): Conv1D()\n",
       "          (c_proj): Conv1D()\n",
       "          (attn_dropout): Dropout(p=0.1, inplace=False)\n",
       "          (resid_dropout): Dropout(p=0.1, inplace=False)\n",
       "        )\n",
       "        (ln_2): LayerNorm((768,), eps=1e-05, elementwise_affine=True)\n",
       "        (mlp): GPT2MLP(\n",
       "          (c_fc): Conv1D()\n",
       "          (c_proj): Conv1D()\n",
       "          (act): NewGELUActivation()\n",
       "          (dropout): Dropout(p=0.1, inplace=False)\n",
       "        )\n",
       "      )\n",
       "      (6): GPT2Block(\n",
       "        (ln_1): LayerNorm((768,), eps=1e-05, elementwise_affine=True)\n",
       "        (attn): GPT2Attention(\n",
       "          (c_attn): Conv1D()\n",
       "          (c_proj): Conv1D()\n",
       "          (attn_dropout): Dropout(p=0.1, inplace=False)\n",
       "          (resid_dropout): Dropout(p=0.1, inplace=False)\n",
       "        )\n",
       "        (ln_2): LayerNorm((768,), eps=1e-05, elementwise_affine=True)\n",
       "        (mlp): GPT2MLP(\n",
       "          (c_fc): Conv1D()\n",
       "          (c_proj): Conv1D()\n",
       "          (act): NewGELUActivation()\n",
       "          (dropout): Dropout(p=0.1, inplace=False)\n",
       "        )\n",
       "      )\n",
       "      (7): GPT2Block(\n",
       "        (ln_1): LayerNorm((768,), eps=1e-05, elementwise_affine=True)\n",
       "        (attn): GPT2Attention(\n",
       "          (c_attn): Conv1D()\n",
       "          (c_proj): Conv1D()\n",
       "          (attn_dropout): Dropout(p=0.1, inplace=False)\n",
       "          (resid_dropout): Dropout(p=0.1, inplace=False)\n",
       "        )\n",
       "        (ln_2): LayerNorm((768,), eps=1e-05, elementwise_affine=True)\n",
       "        (mlp): GPT2MLP(\n",
       "          (c_fc): Conv1D()\n",
       "          (c_proj): Conv1D()\n",
       "          (act): NewGELUActivation()\n",
       "          (dropout): Dropout(p=0.1, inplace=False)\n",
       "        )\n",
       "      )\n",
       "      (8): GPT2Block(\n",
       "        (ln_1): LayerNorm((768,), eps=1e-05, elementwise_affine=True)\n",
       "        (attn): GPT2Attention(\n",
       "          (c_attn): Conv1D()\n",
       "          (c_proj): Conv1D()\n",
       "          (attn_dropout): Dropout(p=0.1, inplace=False)\n",
       "          (resid_dropout): Dropout(p=0.1, inplace=False)\n",
       "        )\n",
       "        (ln_2): LayerNorm((768,), eps=1e-05, elementwise_affine=True)\n",
       "        (mlp): GPT2MLP(\n",
       "          (c_fc): Conv1D()\n",
       "          (c_proj): Conv1D()\n",
       "          (act): NewGELUActivation()\n",
       "          (dropout): Dropout(p=0.1, inplace=False)\n",
       "        )\n",
       "      )\n",
       "      (9): GPT2Block(\n",
       "        (ln_1): LayerNorm((768,), eps=1e-05, elementwise_affine=True)\n",
       "        (attn): GPT2Attention(\n",
       "          (c_attn): Conv1D()\n",
       "          (c_proj): Conv1D()\n",
       "          (attn_dropout): Dropout(p=0.1, inplace=False)\n",
       "          (resid_dropout): Dropout(p=0.1, inplace=False)\n",
       "        )\n",
       "        (ln_2): LayerNorm((768,), eps=1e-05, elementwise_affine=True)\n",
       "        (mlp): GPT2MLP(\n",
       "          (c_fc): Conv1D()\n",
       "          (c_proj): Conv1D()\n",
       "          (act): NewGELUActivation()\n",
       "          (dropout): Dropout(p=0.1, inplace=False)\n",
       "        )\n",
       "      )\n",
       "      (10): GPT2Block(\n",
       "        (ln_1): LayerNorm((768,), eps=1e-05, elementwise_affine=True)\n",
       "        (attn): GPT2Attention(\n",
       "          (c_attn): Conv1D()\n",
       "          (c_proj): Conv1D()\n",
       "          (attn_dropout): Dropout(p=0.1, inplace=False)\n",
       "          (resid_dropout): Dropout(p=0.1, inplace=False)\n",
       "        )\n",
       "        (ln_2): LayerNorm((768,), eps=1e-05, elementwise_affine=True)\n",
       "        (mlp): GPT2MLP(\n",
       "          (c_fc): Conv1D()\n",
       "          (c_proj): Conv1D()\n",
       "          (act): NewGELUActivation()\n",
       "          (dropout): Dropout(p=0.1, inplace=False)\n",
       "        )\n",
       "      )\n",
       "      (11): GPT2Block(\n",
       "        (ln_1): LayerNorm((768,), eps=1e-05, elementwise_affine=True)\n",
       "        (attn): GPT2Attention(\n",
       "          (c_attn): Conv1D()\n",
       "          (c_proj): Conv1D()\n",
       "          (attn_dropout): Dropout(p=0.1, inplace=False)\n",
       "          (resid_dropout): Dropout(p=0.1, inplace=False)\n",
       "        )\n",
       "        (ln_2): LayerNorm((768,), eps=1e-05, elementwise_affine=True)\n",
       "        (mlp): GPT2MLP(\n",
       "          (c_fc): Conv1D()\n",
       "          (c_proj): Conv1D()\n",
       "          (act): NewGELUActivation()\n",
       "          (dropout): Dropout(p=0.1, inplace=False)\n",
       "        )\n",
       "      )\n",
       "    )\n",
       "    (ln_f): LayerNorm((768,), eps=1e-05, elementwise_affine=True)\n",
       "  )\n",
       "  (lm_head): Linear(in_features=768, out_features=50257, bias=False)\n",
       ")"
      ]
     },
     "execution_count": 18,
     "metadata": {},
     "output_type": "execute_result"
    }
   ],
   "source": [
    "generation_start = \"in the\"\n",
    "cpu = torch.device(\"cpu\")\n",
    "device = torch.device(\"cuda\")\n",
    "\n",
    "def generate_data(generation_start, model, tokenizer, num_return_sequences):\n",
    "    gc.collect()\n",
    "    torch.cuda.empty_cache()    \n",
    "    model_cpu = model.to(cpu)\n",
    "    generator = pipeline('text-generation', model=model_cpu, tokenizer=tokenizer, temperature=0.1)\n",
    "    generated = generator(generation_start, max_length=words_limit, num_return_sequences=num_return_sequences)\n",
    "    for idx, item in enumerate(generated):\n",
    "        print(f' Item #{idx}:', item['generated_text'].strip().replace('\\n',''))\n",
    "    gc.collect()\n",
    "    torch.cuda.empty_cache()\n",
    "    return model\n",
    "    \n",
    "\n",
    "generate_data(generation_start, model, tokenizer, 10)"
   ]
  },
  {
   "cell_type": "code",
   "execution_count": 19,
   "metadata": {},
   "outputs": [
    {
     "data": {
      "text/plain": [
       "device(type='cpu')"
      ]
     },
     "execution_count": 19,
     "metadata": {},
     "output_type": "execute_result"
    }
   ],
   "source": [
    "model.save_pretrained(\"model_storage\")\n",
    "model.device"
   ]
  },
  {
   "cell_type": "code",
   "execution_count": 20,
   "metadata": {},
   "outputs": [
    {
     "data": {
      "application/vnd.jupyter.widget-view+json": {
       "model_id": "213c25ffc97848e69a645624e8162729",
       "version_major": 2,
       "version_minor": 0
      },
      "text/plain": [
       "  0%|          | 0/20 [00:00<?, ?it/s]"
      ]
     },
     "metadata": {},
     "output_type": "display_data"
    },
    {
     "name": "stdout",
     "output_type": "stream",
     "text": [
      "Epoch 0 started. Eval on train: 17372.158203125. Cum norm: 9528.4931640625\n"
     ]
    },
    {
     "data": {
      "application/vnd.jupyter.widget-view+json": {
       "model_id": "385ac96d30f6456daa8567d238d4fc82",
       "version_major": 2,
       "version_minor": 0
      },
      "text/plain": [
       "  0%|          | 0/51 [00:00<?, ?it/s]"
      ]
     },
     "metadata": {},
     "output_type": "display_data"
    },
    {
     "name": "stdout",
     "output_type": "stream",
     "text": [
      "Epoch 1 started. Eval on train: 17368.9609375. Cum norm: 9528.5244140625\n"
     ]
    },
    {
     "data": {
      "application/vnd.jupyter.widget-view+json": {
       "model_id": "3bcf507d20004783a4d0ee8e4f3501ef",
       "version_major": 2,
       "version_minor": 0
      },
      "text/plain": [
       "  0%|          | 0/51 [00:00<?, ?it/s]"
      ]
     },
     "metadata": {},
     "output_type": "display_data"
    },
    {
     "name": "stdout",
     "output_type": "stream",
     "text": [
      "Epoch 2 started. Eval on train: 17369.955078125. Cum norm: 9528.5556640625\n"
     ]
    },
    {
     "data": {
      "application/vnd.jupyter.widget-view+json": {
       "model_id": "9e075b61f59745eb9d3de5851f480312",
       "version_major": 2,
       "version_minor": 0
      },
      "text/plain": [
       "  0%|          | 0/51 [00:00<?, ?it/s]"
      ]
     },
     "metadata": {},
     "output_type": "display_data"
    },
    {
     "name": "stdout",
     "output_type": "stream",
     "text": [
      "Epoch 3 started. Eval on train: 17355.388671875. Cum norm: 9528.5869140625\n"
     ]
    },
    {
     "data": {
      "application/vnd.jupyter.widget-view+json": {
       "model_id": "6e15088f29be4cce95307f7f9074faa8",
       "version_major": 2,
       "version_minor": 0
      },
      "text/plain": [
       "  0%|          | 0/51 [00:00<?, ?it/s]"
      ]
     },
     "metadata": {},
     "output_type": "display_data"
    },
    {
     "name": "stdout",
     "output_type": "stream",
     "text": [
      "Epoch 4 started. Eval on train: 17227.53515625. Cum norm: 9528.6083984375\n"
     ]
    },
    {
     "data": {
      "application/vnd.jupyter.widget-view+json": {
       "model_id": "1f152fa5c45d46c09888bd39237db640",
       "version_major": 2,
       "version_minor": 0
      },
      "text/plain": [
       "  0%|          | 0/51 [00:00<?, ?it/s]"
      ]
     },
     "metadata": {},
     "output_type": "display_data"
    },
    {
     "name": "stdout",
     "output_type": "stream",
     "text": [
      "Epoch 5 started. Eval on train: 17140.59765625. Cum norm: 9528.6318359375\n"
     ]
    },
    {
     "data": {
      "application/vnd.jupyter.widget-view+json": {
       "model_id": "03ce7aff7a2043fb97c6a430a7f9b757",
       "version_major": 2,
       "version_minor": 0
      },
      "text/plain": [
       "  0%|          | 0/51 [00:00<?, ?it/s]"
      ]
     },
     "metadata": {},
     "output_type": "display_data"
    },
    {
     "name": "stdout",
     "output_type": "stream",
     "text": [
      "Epoch 6 started. Eval on train: 17208.685546875. Cum norm: 9528.66015625\n"
     ]
    },
    {
     "data": {
      "application/vnd.jupyter.widget-view+json": {
       "model_id": "d1029c8518a245b9a1906c61573e0fb7",
       "version_major": 2,
       "version_minor": 0
      },
      "text/plain": [
       "  0%|          | 0/51 [00:00<?, ?it/s]"
      ]
     },
     "metadata": {},
     "output_type": "display_data"
    },
    {
     "name": "stdout",
     "output_type": "stream",
     "text": [
      "Epoch 7 started. Eval on train: 17265.462890625. Cum norm: 9528.685546875\n"
     ]
    },
    {
     "data": {
      "application/vnd.jupyter.widget-view+json": {
       "model_id": "f5a02f97b3e24baba20f1861fa081052",
       "version_major": 2,
       "version_minor": 0
      },
      "text/plain": [
       "  0%|          | 0/51 [00:00<?, ?it/s]"
      ]
     },
     "metadata": {},
     "output_type": "display_data"
    },
    {
     "name": "stdout",
     "output_type": "stream",
     "text": [
      "Epoch 8 started. Eval on train: 17303.18359375. Cum norm: 9528.701171875\n"
     ]
    },
    {
     "data": {
      "application/vnd.jupyter.widget-view+json": {
       "model_id": "6f77f00c38b54510a7d8b60bbb5652f0",
       "version_major": 2,
       "version_minor": 0
      },
      "text/plain": [
       "  0%|          | 0/51 [00:00<?, ?it/s]"
      ]
     },
     "metadata": {},
     "output_type": "display_data"
    },
    {
     "name": "stdout",
     "output_type": "stream",
     "text": [
      "Epoch 9 started. Eval on train: 17304.990234375. Cum norm: 9528.71484375\n"
     ]
    },
    {
     "data": {
      "application/vnd.jupyter.widget-view+json": {
       "model_id": "9ac16ece48024cad9813abf45b8104c8",
       "version_major": 2,
       "version_minor": 0
      },
      "text/plain": [
       "  0%|          | 0/51 [00:00<?, ?it/s]"
      ]
     },
     "metadata": {},
     "output_type": "display_data"
    },
    {
     "name": "stdout",
     "output_type": "stream",
     "text": [
      "Epoch 10 started. Eval on train: 17326.810546875. Cum norm: 9528.7294921875\n"
     ]
    },
    {
     "data": {
      "application/vnd.jupyter.widget-view+json": {
       "model_id": "13cfc7487dcf473aad7299f75c0d4403",
       "version_major": 2,
       "version_minor": 0
      },
      "text/plain": [
       "  0%|          | 0/51 [00:00<?, ?it/s]"
      ]
     },
     "metadata": {},
     "output_type": "display_data"
    },
    {
     "name": "stdout",
     "output_type": "stream",
     "text": [
      "Epoch 11 started. Eval on train: 17330.521484375. Cum norm: 9528.7431640625\n"
     ]
    },
    {
     "data": {
      "application/vnd.jupyter.widget-view+json": {
       "model_id": "f5c0e176c10447138c5ee5e841163d84",
       "version_major": 2,
       "version_minor": 0
      },
      "text/plain": [
       "  0%|          | 0/51 [00:00<?, ?it/s]"
      ]
     },
     "metadata": {},
     "output_type": "display_data"
    },
    {
     "name": "stdout",
     "output_type": "stream",
     "text": [
      "Epoch 12 started. Eval on train: 17327.111328125. Cum norm: 9528.7529296875\n"
     ]
    },
    {
     "data": {
      "application/vnd.jupyter.widget-view+json": {
       "model_id": "2abc74ab8cbc42a18e1e6bc8dfefb2cf",
       "version_major": 2,
       "version_minor": 0
      },
      "text/plain": [
       "  0%|          | 0/51 [00:00<?, ?it/s]"
      ]
     },
     "metadata": {},
     "output_type": "display_data"
    },
    {
     "name": "stdout",
     "output_type": "stream",
     "text": [
      "Epoch 13 started. Eval on train: 17326.25. Cum norm: 9528.7587890625\n"
     ]
    },
    {
     "data": {
      "application/vnd.jupyter.widget-view+json": {
       "model_id": "7936df63f1064dee80304ed910cf75b5",
       "version_major": 2,
       "version_minor": 0
      },
      "text/plain": [
       "  0%|          | 0/51 [00:00<?, ?it/s]"
      ]
     },
     "metadata": {},
     "output_type": "display_data"
    },
    {
     "name": "stdout",
     "output_type": "stream",
     "text": [
      "Epoch 14 started. Eval on train: 17334.32421875. Cum norm: 9528.76953125\n"
     ]
    },
    {
     "data": {
      "application/vnd.jupyter.widget-view+json": {
       "model_id": "703ee517099b44e9982261cd819b1646",
       "version_major": 2,
       "version_minor": 0
      },
      "text/plain": [
       "  0%|          | 0/51 [00:00<?, ?it/s]"
      ]
     },
     "metadata": {},
     "output_type": "display_data"
    },
    {
     "name": "stdout",
     "output_type": "stream",
     "text": [
      "Epoch 15 started. Eval on train: 17332.431640625. Cum norm: 9528.775390625\n"
     ]
    },
    {
     "data": {
      "application/vnd.jupyter.widget-view+json": {
       "model_id": "b7d20d91b94c4ebb804fc70cdfa9fb92",
       "version_major": 2,
       "version_minor": 0
      },
      "text/plain": [
       "  0%|          | 0/51 [00:00<?, ?it/s]"
      ]
     },
     "metadata": {},
     "output_type": "display_data"
    },
    {
     "name": "stdout",
     "output_type": "stream",
     "text": [
      "Epoch 16 started. Eval on train: 17334.2578125. Cum norm: 9528.7802734375\n"
     ]
    },
    {
     "data": {
      "application/vnd.jupyter.widget-view+json": {
       "model_id": "0fe5a3bf49ad43bb8f90721313cfe0ef",
       "version_major": 2,
       "version_minor": 0
      },
      "text/plain": [
       "  0%|          | 0/51 [00:00<?, ?it/s]"
      ]
     },
     "metadata": {},
     "output_type": "display_data"
    },
    {
     "name": "stdout",
     "output_type": "stream",
     "text": [
      "Epoch 17 started. Eval on train: 17322.3125. Cum norm: 9528.78515625\n"
     ]
    },
    {
     "data": {
      "application/vnd.jupyter.widget-view+json": {
       "model_id": "8e4ccde7697142f8ac4fe19b483e4d41",
       "version_major": 2,
       "version_minor": 0
      },
      "text/plain": [
       "  0%|          | 0/51 [00:00<?, ?it/s]"
      ]
     },
     "metadata": {},
     "output_type": "display_data"
    },
    {
     "name": "stdout",
     "output_type": "stream",
     "text": [
      "Epoch 18 started. Eval on train: 17335.82421875. Cum norm: 9528.7900390625\n"
     ]
    },
    {
     "data": {
      "application/vnd.jupyter.widget-view+json": {
       "model_id": "2e9255010ccb44c6bbc8eb9e3a1cb69c",
       "version_major": 2,
       "version_minor": 0
      },
      "text/plain": [
       "  0%|          | 0/51 [00:00<?, ?it/s]"
      ]
     },
     "metadata": {},
     "output_type": "display_data"
    },
    {
     "name": "stdout",
     "output_type": "stream",
     "text": [
      "Epoch 19 started. Eval on train: 17322.447265625. Cum norm: 9528.79296875\n"
     ]
    },
    {
     "data": {
      "application/vnd.jupyter.widget-view+json": {
       "model_id": "23e6495524f64a67be852d1fa22fa3d4",
       "version_major": 2,
       "version_minor": 0
      },
      "text/plain": [
       "  0%|          | 0/51 [00:00<?, ?it/s]"
      ]
     },
     "metadata": {},
     "output_type": "display_data"
    },
    {
     "name": "stderr",
     "output_type": "stream",
     "text": [
      "Setting `pad_token_id` to `eos_token_id`:50256 for open-end generation.\n"
     ]
    },
    {
     "name": "stdout",
     "output_type": "stream",
     "text": [
      " Item #0: in the the the the the the the the the the the the the the the the the the the the the\n",
      " Item #1: in the in in in in in in in in in in in in in in in in in in in in\n",
      " Item #2: in the in in in in in in in in in in in in in in in in in in in in\n",
      " Item #3: in the in in in in in in in in in in in in in in in in in in in in\n",
      " Item #4: in the in in in in in in in in in in in in in in in in in in in in\n",
      " Item #5: in the in in in in in in in in in in in in in in in in in in in in\n",
      " Item #6: in the in in in in in in in in in in in in in in in in in in in in\n",
      " Item #7: in the in in in in in in in in in in in in in in in in in in in in\n",
      " Item #8: in the in in in in in in in in in in in in in in in in in in in in\n",
      " Item #9: in the in in in in in in in in in in in in in in in in in in in in\n"
     ]
    }
   ],
   "source": [
    "trained_model = GPT2LMHeadModel.from_pretrained(\"model_storage\").to(device)\n",
    "\n",
    "gc.collect()\n",
    "torch.cuda.empty_cache()\n",
    "\n",
    "def check_weights_cum_norm(model):\n",
    "    cum_norm = 0\n",
    "    for name, W in model.named_parameters():\n",
    "        cum_norm += W.norm(2)\n",
    "    return cum_norm\n",
    "\n",
    "def eval_on_loader(trained_model, loader):\n",
    "    with torch.no_grad():\n",
    "        losses = []\n",
    "        for batch in train_dataloader:\n",
    "            ids = torch.stack(batch['input_ids'][0]).to(device)\n",
    "            outputs = trained_model(input_ids=ids)\n",
    "            logits = outputs['logits']\n",
    "            sentences = logits.transpose(0, 1)\n",
    "            labels = ids.transpose(0, 1)\n",
    "            \n",
    "            for sentence, label in zip(sentences, labels):\n",
    "                sentence_cloned = sentence.clone()\n",
    "                label_cloned = label.clone()\n",
    "                torch.nn.functional.relu(sentence_cloned, inplace=True)\n",
    "                losses.append(criterion(sentence_cloned, label_cloned))\n",
    "        return sum(losses)\n",
    "\n",
    "batch_size = 32\n",
    "train_dataloader = DataLoader(tokenized_datasets, shuffle=True, batch_size=batch_size)\n",
    "optimizer = AdamW(trained_model.parameters(), lr=0.000001)\n",
    "scheduler = ExponentialLR(optimizer, gamma=0.85)\n",
    "\n",
    "criterion = CrossEntropyLoss()\n",
    "num_epochs = 20\n",
    "progress_bar_epoch = tqdm(range(num_epochs))\n",
    "\n",
    "num_batches = len(tokenized_datasets) // batch_size\n",
    "if len(tokenized_datasets) % batch_size:\n",
    "    num_batches += 1\n",
    "gpt2_losses = []\n",
    "for epoch in range(num_epochs):\n",
    "    train_loss = eval_on_loader(trained_model, train_dataloader)\n",
    "    print(f'Epoch {epoch} started. Eval on train: {train_loss}. Cum norm: {check_weights_cum_norm(trained_model)}')\n",
    "    gpt2_losses.append(train_loss.item())\n",
    "    progress_bar_batch = tqdm(range(num_batches))\n",
    "    for batch in train_dataloader:\n",
    "        optimizer.zero_grad()\n",
    "        ids = torch.stack(batch['input_ids'][0]).to(device)\n",
    "        outputs = trained_model(input_ids=ids)\n",
    "        logits = outputs['logits']\n",
    "        sentences = logits.transpose(0, 1)\n",
    "        labels = ids.transpose(0, 1)\n",
    "        losses = []\n",
    "        for sentence, label in zip(sentences, labels):\n",
    "            sentence_cloned = sentence.clone()\n",
    "            label_cloned = label.clone()\n",
    "            with torch.no_grad():\n",
    "                torch.nn.functional.relu(sentence_cloned, inplace=True)\n",
    "            losses.append(criterion(sentence_cloned, label_cloned))\n",
    "        \n",
    "        res_loss = sum(losses) / len(losses)\n",
    "        \n",
    "        res_loss.backward()\n",
    "        torch.nn.utils.clip_grad_norm_(trained_model.parameters(), 0.25)\n",
    "        optimizer.step()\n",
    "        progress_bar_batch.update(1)\n",
    "        del ids, outputs, logits, sentences, labels\n",
    "        gc.collect()\n",
    "        torch.cuda.empty_cache()\n",
    "    progress_bar_epoch.update(1)\n",
    "    scheduler.step()\n",
    "trained_model = generate_data(generation_start, trained_model, tokenizer, 10).to(device)"
   ]
  },
  {
   "cell_type": "code",
   "execution_count": 31,
   "metadata": {},
   "outputs": [
    {
     "data": {
      "text/plain": [
       "Text(0.5, 1.0, 'Loss for epoch')"
      ]
     },
     "execution_count": 31,
     "metadata": {},
     "output_type": "execute_result"
    },
    {
     "data": {
      "image/png": "[encoded data removed]",
      "text/plain": [
       "<Figure size 720x432 with 1 Axes>"
      ]
     },
     "metadata": {
      "needs_background": "light"
     },
     "output_type": "display_data"
    }
   ],
   "source": [
    "fig, axes = plt.subplots(1, 1, figsize=(10, 6))\n",
    "metrics_df = pd.DataFrame({'Loss' : gpt2_losses, 'Epoch' : [idx for idx in range(num_epochs)]})\n",
    "axes.xaxis.set_major_formatter(FuncFormatter(lambda x, _: int(x)))\n",
    "sns.lineplot(data=metrics_df, y='Loss', x='Epoch', ax=axes)\n",
    "axes.set_title('Loss for epoch')"
   ]
  },
  {
   "cell_type": "code",
   "execution_count": 24,
   "metadata": {},
   "outputs": [],
   "source": [
    "del trained_model\n",
    "gc.collect()\n",
    "torch.cuda.empty_cache()"
   ]
  },
  {
   "cell_type": "markdown",
   "metadata": {},
   "source": [
    "# Own RNN-based network"
   ]
  },
  {
   "cell_type": "code",
   "execution_count": 13,
   "metadata": {},
   "outputs": [],
   "source": [
    "cpu = torch.device(\"cpu\")\n",
    "device = torch.device(\"cuda\")\n",
    "dtype = torch.float32\n",
    "max_len = 22"
   ]
  },
  {
   "cell_type": "markdown",
   "metadata": {},
   "source": [
    "## Tokenizer"
   ]
  },
  {
   "cell_type": "code",
   "execution_count": 14,
   "metadata": {},
   "outputs": [],
   "source": [
    "def get_vocabulary(df_data):\n",
    "    vocab = set()\n",
    "    for line in df_data['text']:\n",
    "        words = wordpunct_tokenize(line)\n",
    "        for word in words:\n",
    "            if word.isdigit():\n",
    "                continue\n",
    "            word = ''.join(word.replace('\\'', ''))\n",
    "            if len(word) == 0:\n",
    "                continue\n",
    "            vocab.add(word)\n",
    "    return vocab\n",
    "\n",
    "class RnnTokenizer:\n",
    "    def __init__(self):\n",
    "        self.pad_word = '<pad>'\n",
    "        self.pad_token = 0\n",
    "    \n",
    "    def _enumerate_internal(self, vocab):\n",
    "        idx_shift = 1\n",
    "        return {word : idx + idx_shift for idx, word in enumerate(vocab)}\n",
    "    \n",
    "    def set_vocabulary(self, vocab):\n",
    "        self.vocab = vocab\n",
    "        self.vocab.add(self.pad_word)\n",
    "        self.word_to_token = self._enumerate_internal(vocab)\n",
    "        self.word_to_token[self.pad_word] = self.pad_token\n",
    "        self.token_to_word = {v : k for k, v in self.word_to_token.items()}\n",
    "    \n",
    "    def encode(self, sentence, max_len):\n",
    "        words = wordpunct_tokenize(sentence)\n",
    "        encoded = []\n",
    "        idx = 0\n",
    "        while idx < max_len:\n",
    "            if idx >= len(words):\n",
    "                word = self.pad_word\n",
    "            else:\n",
    "                word = words[idx]\n",
    "            idx += 1\n",
    "            word = ''.join(word.replace('\\'', ''))\n",
    "            if len(word) == 0:\n",
    "                continue\n",
    "            if word.isdigit():\n",
    "                continue\n",
    "            encoded.append(self.word_to_token[word])\n",
    "        while len(encoded) < max_len:\n",
    "            encoded.append(self.pad_token)\n",
    "            idx += 1\n",
    "        return encoded\n",
    "    \n",
    "    def decode(self, tokens):\n",
    "        decoded = []\n",
    "        for token in tokens:\n",
    "            if token != self.pad_token:\n",
    "                decoded.append(self.token_to_word[token])\n",
    "        return ' '.join(decoded)\n",
    "    \n",
    "    "
   ]
  },
  {
   "cell_type": "code",
   "execution_count": 15,
   "metadata": {},
   "outputs": [],
   "source": [
    "df_for_rnngen = df_text_data_red\n",
    "vocab = get_vocabulary(df_for_rnngen)"
   ]
  },
  {
   "cell_type": "code",
   "execution_count": 16,
   "metadata": {},
   "outputs": [
    {
     "name": "stdout",
     "output_type": "stream",
     "text": [
      "3346\n"
     ]
    }
   ],
   "source": [
    "print(len(vocab))"
   ]
  },
  {
   "cell_type": "code",
   "execution_count": 17,
   "metadata": {},
   "outputs": [
    {
     "data": {
      "text/plain": [
       "\"but this year i went down to miami and got my nigga from 2 live brother marquis in the house! (yeah i'm.\""
      ]
     },
     "execution_count": 17,
     "metadata": {},
     "output_type": "execute_result"
    }
   ],
   "source": [
    "df_for_rnngen.iloc[0].text"
   ]
  },
  {
   "cell_type": "code",
   "execution_count": 18,
   "metadata": {},
   "outputs": [],
   "source": [
    "tokenizer = RnnTokenizer()\n",
    "tokenizer.set_vocabulary(vocab)"
   ]
  },
  {
   "cell_type": "code",
   "execution_count": 19,
   "metadata": {},
   "outputs": [
    {
     "data": {
      "text/plain": [
       "[2753,\n",
       " 171,\n",
       " 29,\n",
       " 2759,\n",
       " 1532,\n",
       " 1398,\n",
       " 3217,\n",
       " 384,\n",
       " 1695,\n",
       " 3211,\n",
       " 527,\n",
       " 1287,\n",
       " 292,\n",
       " 824,\n",
       " 2286,\n",
       " 3073,\n",
       " 2241,\n",
       " 1576,\n",
       " 37,\n",
       " 2279,\n",
       " 1217,\n",
       " 1148,\n",
       " 2759,\n",
       " 3265,\n",
       " 122,\n",
       " 0,\n",
       " 0,\n",
       " 0,\n",
       " 0,\n",
       " 0,\n",
       " 0,\n",
       " 0,\n",
       " 0,\n",
       " 0,\n",
       " 0,\n",
       " 0,\n",
       " 0,\n",
       " 0,\n",
       " 0,\n",
       " 0,\n",
       " 0,\n",
       " 0,\n",
       " 0,\n",
       " 0,\n",
       " 0,\n",
       " 0,\n",
       " 0,\n",
       " 0,\n",
       " 0,\n",
       " 0]"
      ]
     },
     "execution_count": 19,
     "metadata": {},
     "output_type": "execute_result"
    }
   ],
   "source": [
    "encoded = tokenizer.encode(df_for_rnngen.iloc[0].text, 50)\n",
    "encoded"
   ]
  },
  {
   "cell_type": "code",
   "execution_count": 20,
   "metadata": {},
   "outputs": [
    {
     "data": {
      "text/plain": [
       "'but this year i went down to miami and got my nigga from live brother marquis in the house ! ( yeah i m .'"
      ]
     },
     "execution_count": 20,
     "metadata": {},
     "output_type": "execute_result"
    }
   ],
   "source": [
    "tokenizer.decode(encoded)"
   ]
  },
  {
   "cell_type": "markdown",
   "metadata": {},
   "source": [
    "## Prepare dataset"
   ]
  },
  {
   "cell_type": "code",
   "execution_count": 21,
   "metadata": {},
   "outputs": [],
   "source": [
    "data_list = []\n",
    "for line in df_for_rnngen['text']:\n",
    "    encoded = tokenizer.encode(line, max_len=max_len)\n",
    "    data_list.append(encoded)\n",
    "torch_dataset = torch.tensor(data_list, dtype=torch.long, device=cpu)"
   ]
  },
  {
   "cell_type": "code",
   "execution_count": 22,
   "metadata": {},
   "outputs": [
    {
     "data": {
      "text/plain": [
       "tensor([1715,  851, 2665,  924, 2475,  996, 2362, 1148, 1715,  725,  649, 2241,\n",
       "        1576,   37, 3192, 1355, 2883, 3045,  122,    0,    0,    0])"
      ]
     },
     "execution_count": 22,
     "metadata": {},
     "output_type": "execute_result"
    }
   ],
   "source": [
    "torch_dataset[2]"
   ]
  },
  {
   "cell_type": "markdown",
   "metadata": {},
   "source": [
    "## Let's define NN arch"
   ]
  },
  {
   "cell_type": "code",
   "execution_count": 23,
   "metadata": {},
   "outputs": [],
   "source": [
    "class RnnTextGenerator(nn.Module):\n",
    "    def __init__(self, tokenizer, device):\n",
    "        super().__init__()\n",
    "        self.embedding_dim = 128\n",
    "        self.hidden_dim = 256\n",
    "        self.num_layers = 3\n",
    "\n",
    "        n_vocab = len(tokenizer.vocab)\n",
    "        self.embedding = nn.Embedding(\n",
    "            num_embeddings=n_vocab,\n",
    "            embedding_dim=self.embedding_dim,\n",
    "            padding_idx=0\n",
    "        )\n",
    "        self.lstm = nn.LSTMCell(\n",
    "            input_size=self.embedding_dim,\n",
    "            hidden_size=self.hidden_dim\n",
    "        )\n",
    "        self.fc1 = nn.Linear(self.hidden_dim, n_vocab // 2)\n",
    "        self.fc2 = nn.Linear(n_vocab // 2, n_vocab)\n",
    "\n",
    "    def forward(self, x):\n",
    "        embed = self.embedding(x)\n",
    "#         print('*', embed.shape)\n",
    "        transrosed_embed = embed.transpose(0, 1)\n",
    "        print('!', transrosed_embed.shape)\n",
    "        hx, cx = self._init_state(embed.shape[0])\n",
    "#         hx_storage = [hx]\n",
    "        for words_batch in transrosed_embed:\n",
    "#             print('words batch', words_batch.shape)\n",
    "#             print('hx', hx.shape)\n",
    "            hx, cx = self.lstm(words_batch, (hx, cx))\n",
    "#             hx_storage.append(hx)\n",
    "#         unpulled = torch.stack(hx_storage, dim=2)\n",
    "#         pooled = self.maxpool(backward_pass).view(-1, self.hidden_dim)\n",
    "        print('TO CHECK', )\n",
    "#         print('#', output.shape, state.shape)\n",
    "        output = self.fc1(hx)\n",
    "        logits = self.fc2(output)\n",
    "        print('LOGITS', logits.shape)\n",
    "        return logits\n",
    "\n",
    "    def _init_state(self, batch_size):\n",
    "        return (torch.zeros(batch_size, self.hidden_dim, dtype=dtype, device=device),\n",
    "                torch.zeros(batch_size, self.hidden_dim, dtype=dtype, device=device))"
   ]
  },
  {
   "cell_type": "code",
   "execution_count": 26,
   "metadata": {},
   "outputs": [
    {
     "name": "stdout",
     "output_type": "stream",
     "text": [
      "Epoch 0/49 started.\n",
      "BATCH DATA torch.Size([16, 22])\n",
      "! torch.Size([22, 16, 128])\n",
      "TO CHECK\n",
      "LOGITS torch.Size([16, 3347])\n"
     ]
    },
    {
     "ename": "RuntimeError",
     "evalue": "0D or 1D target tensor expected, multi-target not supported",
     "output_type": "error",
     "traceback": [
      "\u001b[0;31m---------------------------------------------------------------------------\u001b[0m",
      "\u001b[0;31mRuntimeError\u001b[0m                              Traceback (most recent call last)",
      "\u001b[0;32m/tmp/ipykernel_236702/1054864731.py\u001b[0m in \u001b[0;36m<module>\u001b[0;34m\u001b[0m\n\u001b[1;32m     16\u001b[0m         \u001b[0mprint\u001b[0m\u001b[0;34m(\u001b[0m\u001b[0;34m'BATCH DATA'\u001b[0m\u001b[0;34m,\u001b[0m \u001b[0mbatch_data\u001b[0m\u001b[0;34m.\u001b[0m\u001b[0mshape\u001b[0m\u001b[0;34m)\u001b[0m\u001b[0;34m\u001b[0m\u001b[0;34m\u001b[0m\u001b[0m\n\u001b[1;32m     17\u001b[0m         \u001b[0mpredicted\u001b[0m \u001b[0;34m=\u001b[0m \u001b[0mrnn_model\u001b[0m\u001b[0;34m.\u001b[0m\u001b[0mforward\u001b[0m\u001b[0;34m(\u001b[0m\u001b[0mbatch_data\u001b[0m\u001b[0;34m)\u001b[0m\u001b[0;34m\u001b[0m\u001b[0;34m\u001b[0m\u001b[0m\n\u001b[0;32m---> 18\u001b[0;31m         \u001b[0mloss\u001b[0m \u001b[0;34m=\u001b[0m \u001b[0mcriterion\u001b[0m\u001b[0;34m(\u001b[0m\u001b[0mpredicted\u001b[0m\u001b[0;34m,\u001b[0m \u001b[0mbatch_data\u001b[0m\u001b[0;34m)\u001b[0m\u001b[0;34m\u001b[0m\u001b[0;34m\u001b[0m\u001b[0m\n\u001b[0m\u001b[1;32m     19\u001b[0m         \u001b[0mloss\u001b[0m\u001b[0;34m.\u001b[0m\u001b[0mbackward\u001b[0m\u001b[0;34m(\u001b[0m\u001b[0;34m)\u001b[0m\u001b[0;34m\u001b[0m\u001b[0;34m\u001b[0m\u001b[0m\n\u001b[1;32m     20\u001b[0m         \u001b[0mtorch\u001b[0m\u001b[0;34m.\u001b[0m\u001b[0mnn\u001b[0m\u001b[0;34m.\u001b[0m\u001b[0mutils\u001b[0m\u001b[0;34m.\u001b[0m\u001b[0mclip_grad_norm_\u001b[0m\u001b[0;34m(\u001b[0m\u001b[0mrnn_model\u001b[0m\u001b[0;34m.\u001b[0m\u001b[0mparameters\u001b[0m\u001b[0;34m(\u001b[0m\u001b[0;34m)\u001b[0m\u001b[0;34m,\u001b[0m \u001b[0;36m10\u001b[0m\u001b[0;34m)\u001b[0m\u001b[0;34m\u001b[0m\u001b[0;34m\u001b[0m\u001b[0m\n",
      "\u001b[0;32m~/.anaconda3/envs/nlp-unn/lib/python3.9/site-packages/torch/nn/modules/module.py\u001b[0m in \u001b[0;36m_call_impl\u001b[0;34m(self, *input, **kwargs)\u001b[0m\n\u001b[1;32m   1108\u001b[0m         if not (self._backward_hooks or self._forward_hooks or self._forward_pre_hooks or _global_backward_hooks\n\u001b[1;32m   1109\u001b[0m                 or _global_forward_hooks or _global_forward_pre_hooks):\n\u001b[0;32m-> 1110\u001b[0;31m             \u001b[0;32mreturn\u001b[0m \u001b[0mforward_call\u001b[0m\u001b[0;34m(\u001b[0m\u001b[0;34m*\u001b[0m\u001b[0minput\u001b[0m\u001b[0;34m,\u001b[0m \u001b[0;34m**\u001b[0m\u001b[0mkwargs\u001b[0m\u001b[0;34m)\u001b[0m\u001b[0;34m\u001b[0m\u001b[0;34m\u001b[0m\u001b[0m\n\u001b[0m\u001b[1;32m   1111\u001b[0m         \u001b[0;31m# Do not call functions when jit is used\u001b[0m\u001b[0;34m\u001b[0m\u001b[0;34m\u001b[0m\u001b[0m\n\u001b[1;32m   1112\u001b[0m         \u001b[0mfull_backward_hooks\u001b[0m\u001b[0;34m,\u001b[0m \u001b[0mnon_full_backward_hooks\u001b[0m \u001b[0;34m=\u001b[0m \u001b[0;34m[\u001b[0m\u001b[0;34m]\u001b[0m\u001b[0;34m,\u001b[0m \u001b[0;34m[\u001b[0m\u001b[0;34m]\u001b[0m\u001b[0;34m\u001b[0m\u001b[0;34m\u001b[0m\u001b[0m\n",
      "\u001b[0;32m~/.anaconda3/envs/nlp-unn/lib/python3.9/site-packages/torch/nn/modules/loss.py\u001b[0m in \u001b[0;36mforward\u001b[0;34m(self, input, target)\u001b[0m\n\u001b[1;32m   1161\u001b[0m \u001b[0;34m\u001b[0m\u001b[0m\n\u001b[1;32m   1162\u001b[0m     \u001b[0;32mdef\u001b[0m \u001b[0mforward\u001b[0m\u001b[0;34m(\u001b[0m\u001b[0mself\u001b[0m\u001b[0;34m,\u001b[0m \u001b[0minput\u001b[0m\u001b[0;34m:\u001b[0m \u001b[0mTensor\u001b[0m\u001b[0;34m,\u001b[0m \u001b[0mtarget\u001b[0m\u001b[0;34m:\u001b[0m \u001b[0mTensor\u001b[0m\u001b[0;34m)\u001b[0m \u001b[0;34m->\u001b[0m \u001b[0mTensor\u001b[0m\u001b[0;34m:\u001b[0m\u001b[0;34m\u001b[0m\u001b[0;34m\u001b[0m\u001b[0m\n\u001b[0;32m-> 1163\u001b[0;31m         return F.cross_entropy(input, target, weight=self.weight,\n\u001b[0m\u001b[1;32m   1164\u001b[0m                                \u001b[0mignore_index\u001b[0m\u001b[0;34m=\u001b[0m\u001b[0mself\u001b[0m\u001b[0;34m.\u001b[0m\u001b[0mignore_index\u001b[0m\u001b[0;34m,\u001b[0m \u001b[0mreduction\u001b[0m\u001b[0;34m=\u001b[0m\u001b[0mself\u001b[0m\u001b[0;34m.\u001b[0m\u001b[0mreduction\u001b[0m\u001b[0;34m,\u001b[0m\u001b[0;34m\u001b[0m\u001b[0;34m\u001b[0m\u001b[0m\n\u001b[1;32m   1165\u001b[0m                                label_smoothing=self.label_smoothing)\n",
      "\u001b[0;32m~/.anaconda3/envs/nlp-unn/lib/python3.9/site-packages/torch/nn/functional.py\u001b[0m in \u001b[0;36mcross_entropy\u001b[0;34m(input, target, weight, size_average, ignore_index, reduce, reduction, label_smoothing)\u001b[0m\n\u001b[1;32m   2994\u001b[0m     \u001b[0;32mif\u001b[0m \u001b[0msize_average\u001b[0m \u001b[0;32mis\u001b[0m \u001b[0;32mnot\u001b[0m \u001b[0;32mNone\u001b[0m \u001b[0;32mor\u001b[0m \u001b[0mreduce\u001b[0m \u001b[0;32mis\u001b[0m \u001b[0;32mnot\u001b[0m \u001b[0;32mNone\u001b[0m\u001b[0;34m:\u001b[0m\u001b[0;34m\u001b[0m\u001b[0;34m\u001b[0m\u001b[0m\n\u001b[1;32m   2995\u001b[0m         \u001b[0mreduction\u001b[0m \u001b[0;34m=\u001b[0m \u001b[0m_Reduction\u001b[0m\u001b[0;34m.\u001b[0m\u001b[0mlegacy_get_string\u001b[0m\u001b[0;34m(\u001b[0m\u001b[0msize_average\u001b[0m\u001b[0;34m,\u001b[0m \u001b[0mreduce\u001b[0m\u001b[0;34m)\u001b[0m\u001b[0;34m\u001b[0m\u001b[0;34m\u001b[0m\u001b[0m\n\u001b[0;32m-> 2996\u001b[0;31m     \u001b[0;32mreturn\u001b[0m \u001b[0mtorch\u001b[0m\u001b[0;34m.\u001b[0m\u001b[0m_C\u001b[0m\u001b[0;34m.\u001b[0m\u001b[0m_nn\u001b[0m\u001b[0;34m.\u001b[0m\u001b[0mcross_entropy_loss\u001b[0m\u001b[0;34m(\u001b[0m\u001b[0minput\u001b[0m\u001b[0;34m,\u001b[0m \u001b[0mtarget\u001b[0m\u001b[0;34m,\u001b[0m \u001b[0mweight\u001b[0m\u001b[0;34m,\u001b[0m \u001b[0m_Reduction\u001b[0m\u001b[0;34m.\u001b[0m\u001b[0mget_enum\u001b[0m\u001b[0;34m(\u001b[0m\u001b[0mreduction\u001b[0m\u001b[0;34m)\u001b[0m\u001b[0;34m,\u001b[0m \u001b[0mignore_index\u001b[0m\u001b[0;34m,\u001b[0m \u001b[0mlabel_smoothing\u001b[0m\u001b[0;34m)\u001b[0m\u001b[0;34m\u001b[0m\u001b[0;34m\u001b[0m\u001b[0m\n\u001b[0m\u001b[1;32m   2997\u001b[0m \u001b[0;34m\u001b[0m\u001b[0m\n\u001b[1;32m   2998\u001b[0m \u001b[0;34m\u001b[0m\u001b[0m\n",
      "\u001b[0;31mRuntimeError\u001b[0m: 0D or 1D target tensor expected, multi-target not supported"
     ]
    }
   ],
   "source": [
    "epoch_count = 50\n",
    "rnn_model = RnnTextGenerator(tokenizer, device).to(device)\n",
    "optimizer = AdamW(rnn_model.parameters(), lr=0.000001)\n",
    "scheduler = ExponentialLR(optimizer, gamma=0.85)\n",
    "criterion = CrossEntropyLoss()\n",
    "batch_size = 16\n",
    "for epoch in range(epoch_count):\n",
    "    print(f'Epoch {epoch}/{epoch_count-1} started.')\n",
    "\n",
    "    # Train loop\n",
    "    perm_indices = list(BatchSampler(RandomSampler(range(torch_dataset.shape[0])), \n",
    "                                     batch_size=batch_size, drop_last=False))\n",
    "    for batch_idx, batch_indices in enumerate(perm_indices):\n",
    "        batch_data = torch_dataset[batch_indices].to(device)\n",
    "        optimizer.zero_grad()\n",
    "        print('BATCH DATA', batch_data.shape)\n",
    "        predicted = rnn_model.forward(batch_data)\n",
    "        loss = criterion(predicted, batch_data)\n",
    "        loss.backward()\n",
    "        torch.nn.utils.clip_grad_norm_(rnn_model.parameters(), 10)\n",
    "        optimizer.step()\n",
    "        del batch_data, batch_labels, batch_extra, predicted, loss\n",
    "        gc.collect()\n",
    "        torch.cuda.empty_cache()\n",
    "    scheduler.step()\n"
   ]
  },
  {
   "cell_type": "code",
   "execution_count": null,
   "metadata": {},
   "outputs": [],
   "source": []
  }
 ],
 "metadata": {
  "kernelspec": {
   "display_name": "Python 3 (ipykernel)",
   "language": "python",
   "name": "python3"
  },
  "language_info": {
   "codemirror_mode": {
    "name": "ipython",
    "version": 3
   },
   "file_extension": ".py",
   "mimetype": "text/x-python",
   "name": "python",
   "nbconvert_exporter": "python",
   "pygments_lexer": "ipython3",
   "version": "3.9.7"
  }
 },
 "nbformat": 4,
 "nbformat_minor": 4
}
